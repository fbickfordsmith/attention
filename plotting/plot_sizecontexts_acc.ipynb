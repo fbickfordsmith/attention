{
 "cells": [
  {
   "cell_type": "code",
   "execution_count": 1,
   "metadata": {},
   "outputs": [],
   "source": [
    "import numpy as np\n",
    "import pandas as pd\n",
    "import matplotlib.pyplot as plt\n",
    "import csv"
   ]
  },
  {
   "cell_type": "code",
   "execution_count": 2,
   "metadata": {},
   "outputs": [],
   "source": [
    "path = '/Users/fbickfordsmith/Google Drive/Project/attention/'\n",
    "path_baseline = path+'results/baseline_classwise_acc.csv'\n",
    "path_trained = path+'results/sizecontexts_trained_metrics.csv'\n",
    "path_contexts = path+'contexts/sizecontexts_wnids.csv'\n",
    "path_synsets = path+'metadata/synsets.txt'"
   ]
  },
  {
   "cell_type": "code",
   "execution_count": 3,
   "metadata": {},
   "outputs": [],
   "source": [
    "wnids = [line.rstrip('\\n') for line in open(path_synsets)]\n",
    "wnid2ind = {wnid:ind for ind, wnid in enumerate(wnids)}"
   ]
  },
  {
   "cell_type": "code",
   "execution_count": 4,
   "metadata": {},
   "outputs": [],
   "source": [
    "with open(path_contexts) as f:\n",
    "    contexts = [row for row in csv.reader(f, delimiter=',')]"
   ]
  },
  {
   "cell_type": "code",
   "execution_count": 5,
   "metadata": {},
   "outputs": [],
   "source": [
    "context_sizes = np.array([int(1.4**i) for i in range(2, 20)])"
   ]
  },
  {
   "cell_type": "code",
   "execution_count": 19,
   "metadata": {},
   "outputs": [],
   "source": [
    "df0 = pd.read_csv(path_baseline, index_col=0)"
   ]
  },
  {
   "cell_type": "code",
   "execution_count": 62,
   "metadata": {},
   "outputs": [],
   "source": [
    "acc0 = []\n",
    "for c in contexts:\n",
    "    inds_in = [wnid2ind[w] for w in c]\n",
    "    inds_out = list(set(range(1000)) - set(inds_in))\n",
    "    acc0.append([np.mean(df0['accuracy'][inds_in]), np.mean(df0['accuracy'][inds_out])])\n",
    "acc0 = np.array(acc0)\n",
    "acc0_all = df0['num_correct'].sum() / df0['num_examples'].sum()"
   ]
  },
  {
   "cell_type": "code",
   "execution_count": 48,
   "metadata": {},
   "outputs": [
    {
     "data": {
      "text/html": [
       "<div>\n",
       "<style scoped>\n",
       "    .dataframe tbody tr th:only-of-type {\n",
       "        vertical-align: middle;\n",
       "    }\n",
       "\n",
       "    .dataframe tbody tr th {\n",
       "        vertical-align: top;\n",
       "    }\n",
       "\n",
       "    .dataframe thead th {\n",
       "        text-align: right;\n",
       "    }\n",
       "</style>\n",
       "<table border=\"1\" class=\"dataframe\">\n",
       "  <thead>\n",
       "    <tr style=\"text-align: right;\">\n",
       "      <th></th>\n",
       "      <th>incontext_loss</th>\n",
       "      <th>incontext_acc</th>\n",
       "      <th>incontext_top5_acc</th>\n",
       "      <th>outofcontext_loss</th>\n",
       "      <th>outofcontext_acc</th>\n",
       "      <th>outofcontext_top5_acc</th>\n",
       "      <th>all_acc</th>\n",
       "    </tr>\n",
       "  </thead>\n",
       "  <tbody>\n",
       "    <tr>\n",
       "      <th>0</th>\n",
       "      <td>0.053912</td>\n",
       "      <td>0.973684</td>\n",
       "      <td>1.000000</td>\n",
       "      <td>2.315398</td>\n",
       "      <td>0.517783</td>\n",
       "      <td>0.791735</td>\n",
       "      <td>0.518239</td>\n",
       "    </tr>\n",
       "    <tr>\n",
       "      <th>1</th>\n",
       "      <td>0.837919</td>\n",
       "      <td>0.775510</td>\n",
       "      <td>0.928571</td>\n",
       "      <td>1.485296</td>\n",
       "      <td>0.650080</td>\n",
       "      <td>0.863138</td>\n",
       "      <td>0.650331</td>\n",
       "    </tr>\n",
       "    <tr>\n",
       "      <th>2</th>\n",
       "      <td>1.608164</td>\n",
       "      <td>0.684564</td>\n",
       "      <td>0.859060</td>\n",
       "      <td>1.447491</td>\n",
       "      <td>0.656045</td>\n",
       "      <td>0.865007</td>\n",
       "      <td>0.656131</td>\n",
       "    </tr>\n",
       "    <tr>\n",
       "      <th>3</th>\n",
       "      <td>1.097224</td>\n",
       "      <td>0.741525</td>\n",
       "      <td>0.902542</td>\n",
       "      <td>1.462691</td>\n",
       "      <td>0.654881</td>\n",
       "      <td>0.865024</td>\n",
       "      <td>0.655314</td>\n",
       "    </tr>\n",
       "    <tr>\n",
       "      <th>4</th>\n",
       "      <td>1.358967</td>\n",
       "      <td>0.676012</td>\n",
       "      <td>0.862928</td>\n",
       "      <td>1.468449</td>\n",
       "      <td>0.655065</td>\n",
       "      <td>0.864295</td>\n",
       "      <td>0.655211</td>\n",
       "    </tr>\n",
       "    <tr>\n",
       "      <th>5</th>\n",
       "      <td>1.193719</td>\n",
       "      <td>0.708333</td>\n",
       "      <td>0.891667</td>\n",
       "      <td>1.479246</td>\n",
       "      <td>0.655016</td>\n",
       "      <td>0.862721</td>\n",
       "      <td>0.655549</td>\n",
       "    </tr>\n",
       "    <tr>\n",
       "      <th>6</th>\n",
       "      <td>1.404261</td>\n",
       "      <td>0.667158</td>\n",
       "      <td>0.874816</td>\n",
       "      <td>1.468776</td>\n",
       "      <td>0.653162</td>\n",
       "      <td>0.863029</td>\n",
       "      <td>0.653358</td>\n",
       "    </tr>\n",
       "    <tr>\n",
       "      <th>7</th>\n",
       "      <td>1.288620</td>\n",
       "      <td>0.695697</td>\n",
       "      <td>0.891393</td>\n",
       "      <td>1.477870</td>\n",
       "      <td>0.652186</td>\n",
       "      <td>0.862334</td>\n",
       "      <td>0.653056</td>\n",
       "    </tr>\n",
       "    <tr>\n",
       "      <th>8</th>\n",
       "      <td>1.205577</td>\n",
       "      <td>0.688379</td>\n",
       "      <td>0.904515</td>\n",
       "      <td>1.473370</td>\n",
       "      <td>0.654759</td>\n",
       "      <td>0.861742</td>\n",
       "      <td>0.655701</td>\n",
       "    </tr>\n",
       "    <tr>\n",
       "      <th>9</th>\n",
       "      <td>1.356528</td>\n",
       "      <td>0.676210</td>\n",
       "      <td>0.876627</td>\n",
       "      <td>1.459271</td>\n",
       "      <td>0.653643</td>\n",
       "      <td>0.863777</td>\n",
       "      <td>0.654546</td>\n",
       "    </tr>\n",
       "    <tr>\n",
       "      <th>10</th>\n",
       "      <td>1.438705</td>\n",
       "      <td>0.656273</td>\n",
       "      <td>0.868226</td>\n",
       "      <td>1.453096</td>\n",
       "      <td>0.654189</td>\n",
       "      <td>0.863917</td>\n",
       "      <td>0.654306</td>\n",
       "    </tr>\n",
       "    <tr>\n",
       "      <th>11</th>\n",
       "      <td>1.399726</td>\n",
       "      <td>0.662981</td>\n",
       "      <td>0.875197</td>\n",
       "      <td>1.463253</td>\n",
       "      <td>0.656231</td>\n",
       "      <td>0.864516</td>\n",
       "      <td>0.656764</td>\n",
       "    </tr>\n",
       "    <tr>\n",
       "      <th>12</th>\n",
       "      <td>1.370547</td>\n",
       "      <td>0.671060</td>\n",
       "      <td>0.873282</td>\n",
       "      <td>1.444759</td>\n",
       "      <td>0.656171</td>\n",
       "      <td>0.865157</td>\n",
       "      <td>0.657824</td>\n",
       "    </tr>\n",
       "    <tr>\n",
       "      <th>13</th>\n",
       "      <td>1.284377</td>\n",
       "      <td>0.691887</td>\n",
       "      <td>0.882306</td>\n",
       "      <td>1.427235</td>\n",
       "      <td>0.662006</td>\n",
       "      <td>0.869164</td>\n",
       "      <td>0.666638</td>\n",
       "    </tr>\n",
       "    <tr>\n",
       "      <th>14</th>\n",
       "      <td>1.329080</td>\n",
       "      <td>0.682087</td>\n",
       "      <td>0.877718</td>\n",
       "      <td>1.415529</td>\n",
       "      <td>0.663119</td>\n",
       "      <td>0.866258</td>\n",
       "      <td>0.667235</td>\n",
       "    </tr>\n",
       "    <tr>\n",
       "      <th>15</th>\n",
       "      <td>1.316764</td>\n",
       "      <td>0.687616</td>\n",
       "      <td>0.878962</td>\n",
       "      <td>1.427999</td>\n",
       "      <td>0.660388</td>\n",
       "      <td>0.866495</td>\n",
       "      <td>0.668666</td>\n",
       "    </tr>\n",
       "    <tr>\n",
       "      <th>16</th>\n",
       "      <td>1.363839</td>\n",
       "      <td>0.671933</td>\n",
       "      <td>0.875510</td>\n",
       "      <td>1.418593</td>\n",
       "      <td>0.667456</td>\n",
       "      <td>0.867063</td>\n",
       "      <td>0.669363</td>\n",
       "    </tr>\n",
       "    <tr>\n",
       "      <th>17</th>\n",
       "      <td>1.356273</td>\n",
       "      <td>0.675398</td>\n",
       "      <td>0.876644</td>\n",
       "      <td>1.381317</td>\n",
       "      <td>0.672593</td>\n",
       "      <td>0.872869</td>\n",
       "      <td>0.674268</td>\n",
       "    </tr>\n",
       "  </tbody>\n",
       "</table>\n",
       "</div>"
      ],
      "text/plain": [
       "    incontext_loss  incontext_acc  incontext_top5_acc  outofcontext_loss  \\\n",
       "0         0.053912       0.973684            1.000000           2.315398   \n",
       "1         0.837919       0.775510            0.928571           1.485296   \n",
       "2         1.608164       0.684564            0.859060           1.447491   \n",
       "3         1.097224       0.741525            0.902542           1.462691   \n",
       "4         1.358967       0.676012            0.862928           1.468449   \n",
       "5         1.193719       0.708333            0.891667           1.479246   \n",
       "6         1.404261       0.667158            0.874816           1.468776   \n",
       "7         1.288620       0.695697            0.891393           1.477870   \n",
       "8         1.205577       0.688379            0.904515           1.473370   \n",
       "9         1.356528       0.676210            0.876627           1.459271   \n",
       "10        1.438705       0.656273            0.868226           1.453096   \n",
       "11        1.399726       0.662981            0.875197           1.463253   \n",
       "12        1.370547       0.671060            0.873282           1.444759   \n",
       "13        1.284377       0.691887            0.882306           1.427235   \n",
       "14        1.329080       0.682087            0.877718           1.415529   \n",
       "15        1.316764       0.687616            0.878962           1.427999   \n",
       "16        1.363839       0.671933            0.875510           1.418593   \n",
       "17        1.356273       0.675398            0.876644           1.381317   \n",
       "\n",
       "    outofcontext_acc  outofcontext_top5_acc   all_acc  \n",
       "0           0.517783               0.791735  0.518239  \n",
       "1           0.650080               0.863138  0.650331  \n",
       "2           0.656045               0.865007  0.656131  \n",
       "3           0.654881               0.865024  0.655314  \n",
       "4           0.655065               0.864295  0.655211  \n",
       "5           0.655016               0.862721  0.655549  \n",
       "6           0.653162               0.863029  0.653358  \n",
       "7           0.652186               0.862334  0.653056  \n",
       "8           0.654759               0.861742  0.655701  \n",
       "9           0.653643               0.863777  0.654546  \n",
       "10          0.654189               0.863917  0.654306  \n",
       "11          0.656231               0.864516  0.656764  \n",
       "12          0.656171               0.865157  0.657824  \n",
       "13          0.662006               0.869164  0.666638  \n",
       "14          0.663119               0.866258  0.667235  \n",
       "15          0.660388               0.866495  0.668666  \n",
       "16          0.667456               0.867063  0.669363  \n",
       "17          0.672593               0.872869  0.674268  "
      ]
     },
     "execution_count": 48,
     "metadata": {},
     "output_type": "execute_result"
    }
   ],
   "source": [
    "df1 = pd.read_csv(path+'results/sizecontexts_trained_metrics.csv', index_col=0)\n",
    "df1['all_acc'] = ((context_sizes*df1['incontext_acc']) + ((1000-context_sizes)*df1['outofcontext_acc'])) / 1000\n",
    "df1"
   ]
  },
  {
   "cell_type": "code",
   "execution_count": 89,
   "metadata": {},
   "outputs": [
    {
     "data": {
      "image/png": "[encoded data removed]",
      "text/plain": [
       "<Figure size 432x288 with 1 Axes>"
      ]
     },
     "metadata": {
      "needs_background": "light"
     },
     "output_type": "display_data"
    }
   ],
   "source": [
    "plt.scatter(context_sizes, df1['incontext_acc']-acc0[:, 0], label='in context', marker='o', facecolors='none', edgecolors='k')\n",
    "plt.scatter(context_sizes, df1['outofcontext_acc']-acc0[:, 1], label='out of context', c='r', marker='x')\n",
    "plt.xlabel('Number of classes in context')\n",
    "plt.ylabel('Change in top-1 accuracy')\n",
    "plt.legend(title='Source of test examples')\n",
    "# plt.xlim((-10, 100))\n",
    "plt.savefig('sizecontexts_acc_change_br.png', dpi=600)\n",
    "plt.show()"
   ]
  },
  {
   "cell_type": "code",
   "execution_count": 66,
   "metadata": {},
   "outputs": [
    {
     "data": {
      "image/png": "[encoded data removed]",
      "text/plain": [
       "<Figure size 432x288 with 1 Axes>"
      ]
     },
     "metadata": {
      "needs_background": "light"
     },
     "output_type": "display_data"
    }
   ],
   "source": [
    "plt.scatter(context_sizes, df1['incontext_acc']-acc0[:, 0], label='in context')\n",
    "plt.scatter(context_sizes, df1['outofcontext_acc']-acc0[:, 1], label='out of context')\n",
    "plt.xlabel('Number of classes in context')\n",
    "plt.ylabel('Change in top-1 accuracy')\n",
    "plt.legend(title='Source of test examples')\n",
    "plt.xlim((-10, 50))\n",
    "plt.show()"
   ]
  },
  {
   "cell_type": "code",
   "execution_count": 67,
   "metadata": {},
   "outputs": [
    {
     "data": {
      "image/png": "[encoded data removed]",
      "text/plain": [
       "<Figure size 432x288 with 1 Axes>"
      ]
     },
     "metadata": {
      "needs_background": "light"
     },
     "output_type": "display_data"
    }
   ],
   "source": [
    "plt.scatter(context_sizes, df1['all_acc']-acc0_all, label='whole dataset')\n",
    "plt.xlabel('Number of classes in context')\n",
    "plt.ylabel('Change in top-1 accuracy')\n",
    "plt.legend(title='Source of test examples')\n",
    "plt.show()"
   ]
  },
  {
   "cell_type": "code",
   "execution_count": 71,
   "metadata": {},
   "outputs": [
    {
     "data": {
      "text/plain": [
       "[1000, 7, 4, 15, 4, 3, 3, 2, 3, 4, 3, 2, 3, 5, 3, 3, 2, 3]"
      ]
     },
     "execution_count": 71,
     "metadata": {},
     "output_type": "execute_result"
    }
   ],
   "source": [
    "path_training = '/Users/fbickfordsmith/Google Drive/Project/attention/training/'\n",
    "num_epochs = [len(pd.read_csv(path_training+f'sizecontext{i:02}_training.csv', index_col=0)) for i in range(18)]\n",
    "num_epochs"
   ]
  },
  {
   "cell_type": "code",
   "execution_count": 86,
   "metadata": {},
   "outputs": [
    {
     "data": {
      "image/png": "[encoded data removed]",
      "text/plain": [
       "<Figure size 432x288 with 1 Axes>"
      ]
     },
     "metadata": {
      "needs_background": "light"
     },
     "output_type": "display_data"
    }
   ],
   "source": [
    "plt.scatter(num_epochs, (df1['incontext_acc']-acc0[:, 0]))\n",
    "plt.xlabel('Number of epochs')\n",
    "plt.ylabel('Change in top-1 accuracy')\n",
    "plt.xlim((0, 8))\n",
    "plt.ylim((0, 0.15))\n",
    "plt.show()"
   ]
  },
  {
   "cell_type": "code",
   "execution_count": null,
   "metadata": {},
   "outputs": [],
   "source": []
  }
 ],
 "metadata": {
  "kernelspec": {
   "display_name": "Python 3",
   "language": "python",
   "name": "python3"
  },
  "language_info": {
   "codemirror_mode": {
    "name": "ipython",
    "version": 3
   },
   "file_extension": ".py",
   "mimetype": "text/x-python",
   "name": "python",
   "nbconvert_exporter": "python",
   "pygments_lexer": "ipython3",
   "version": "3.7.0"
  }
 },
 "nbformat": 4,
 "nbformat_minor": 2
}
