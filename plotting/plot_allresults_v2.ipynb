{
 "cells": [
  {
   "cell_type": "code",
   "execution_count": 1,
   "metadata": {},
   "outputs": [],
   "source": [
    "import sys\n",
    "sys.path.insert(0, '/Users/fbickfordsmith/Google Drive/Project/attention')\n",
    "from contexts_statistics import *"
   ]
  },
  {
   "cell_type": "code",
   "execution_count": 2,
   "metadata": {},
   "outputs": [],
   "source": [
    """"\n",
    "IPython extension to reload modules before executing user code.\n",
    "https://ipython.readthedocs.io/en/stable/config/extensions/autoreload.html\n",
    """"\n",
    "%load_ext autoreload\n",
    "%autoreload 2"
   ]
  },
  {
   "cell_type": "code",
   "execution_count": 464,
   "metadata": {},
   "outputs": [],
   "source": [
    "import matplotlib\n",
    "import matplotlib.pyplot as plt\n",
    "plt.style.use('seaborn-bright')\n",
    "colors = plt.rcParams['axes.prop_cycle'].by_key()['color']\n",
    "cfills = [matplotlib.colors.colorConverter.to_rgba(c, alpha=0.5) for c in colors]\n",
    "markers = ['o', 'D', 's', 'X']\n",
    "styles = {\n",
    "    '0': dict(marker=markers[0], color=colors[0]),# cfill=cfills[0]),\n",
    "    '1': dict(marker=markers[1], color=colors[1]),# cfill=cfills[1]),\n",
    "    '2': dict(marker=markers[2], color=colors[2]),# cfill=cfills[2]),\n",
    "    '3': dict(marker=markers[3], color=colors[3]),# cfill=cfills[3]),\n",
    "    'in': dict(label='in-set categories', marker=markers[0], color=colors[0]),# cfill=cfills[0]),\n",
    "    'out': dict(label='out-of-set categories', marker=markers[1], color=colors[1])}#, cfill=cfills[1])}"
   ]
  },
  {
   "cell_type": "code",
   "execution_count": 467,
   "metadata": {},
   "outputs": [],
   "source": [
    "def scatter_line(ax, x, y, style):\n",
    "    ax.scatter(x, y, **style)#marker=style['marker'], color=style['color'])#edgecolors=style['color'], facecolors=style['cfill'])\n",
    "    ax.vlines(x, ymin=0, ymax=y, color=style['color'])"
   ]
  },
  {
   "cell_type": "code",
   "execution_count": 5,
   "metadata": {},
   "outputs": [],
   "source": [
    "def plot_change_acc(df, x):\n",
    "    fig, ax = plt.subplots()\n",
    "    scatter_line(ax, x, df['acc_change_in'], styles['in'])\n",
    "    scatter_line(ax, x, df['acc_change_out'], styles['out'])\n",
    "    plt.ylabel('Accuracy change')\n",
    "    plt.legend(title='Source of test examples')\n",
    "    plt.axhline(y=0, color='k', linestyle='--', linewidth=0.8)\n",
    "    plt.tight_layout()\n",
    "    return fig, ax"
   ]
  },
  {
   "cell_type": "markdown",
   "metadata": {},
   "source": [
    "### Semantic contexts"
   ]
  },
  {
   "cell_type": "code",
   "execution_count": 33,
   "metadata": {},
   "outputs": [
    {
     "data": {
      "text/html": [
       "<div>\n",
       "<style scoped>\n",
       "    .dataframe tbody tr th:only-of-type {\n",
       "        vertical-align: middle;\n",
       "    }\n",
       "\n",
       "    .dataframe tbody tr th {\n",
       "        vertical-align: top;\n",
       "    }\n",
       "\n",
       "    .dataframe thead th {\n",
       "        text-align: right;\n",
       "    }\n",
       "</style>\n",
       "<table border=\"1\" class=\"dataframe\">\n",
       "  <thead>\n",
       "    <tr style=\"text-align: right;\">\n",
       "      <th></th>\n",
       "      <th>label</th>\n",
       "      <th>size</th>\n",
       "      <th>similarity</th>\n",
       "      <th>acc_base_in</th>\n",
       "      <th>acc_base_out</th>\n",
       "      <th>acc_trained_in</th>\n",
       "      <th>acc_trained_out</th>\n",
       "      <th>acc_change_in</th>\n",
       "      <th>acc_change_out</th>\n",
       "      <th>num_epochs</th>\n",
       "    </tr>\n",
       "  </thead>\n",
       "  <tbody>\n",
       "    <tr>\n",
       "      <th>0</th>\n",
       "      <td>kitchen</td>\n",
       "      <td>35</td>\n",
       "      <td>0.446404</td>\n",
       "      <td>0.512884</td>\n",
       "      <td>0.650968</td>\n",
       "      <td>0.670401</td>\n",
       "      <td>0.527051</td>\n",
       "      <td>0.157517</td>\n",
       "      <td>-0.123917</td>\n",
       "      <td>92</td>\n",
       "    </tr>\n",
       "    <tr>\n",
       "      <th>1</th>\n",
       "      <td>dogs</td>\n",
       "      <td>129</td>\n",
       "      <td>0.553892</td>\n",
       "      <td>0.661100</td>\n",
       "      <td>0.643919</td>\n",
       "      <td>0.684884</td>\n",
       "      <td>0.621002</td>\n",
       "      <td>0.023784</td>\n",
       "      <td>-0.022917</td>\n",
       "      <td>31</td>\n",
       "    </tr>\n",
       "    <tr>\n",
       "      <th>2</th>\n",
       "      <td>cats</td>\n",
       "      <td>13</td>\n",
       "      <td>0.854177</td>\n",
       "      <td>0.708477</td>\n",
       "      <td>0.645314</td>\n",
       "      <td>0.782407</td>\n",
       "      <td>0.582139</td>\n",
       "      <td>0.073930</td>\n",
       "      <td>-0.063175</td>\n",
       "      <td>134</td>\n",
       "    </tr>\n",
       "    <tr>\n",
       "      <th>3</th>\n",
       "      <td>wearable</td>\n",
       "      <td>56</td>\n",
       "      <td>0.432272</td>\n",
       "      <td>0.535303</td>\n",
       "      <td>0.652710</td>\n",
       "      <td>0.660537</td>\n",
       "      <td>0.543158</td>\n",
       "      <td>0.125234</td>\n",
       "      <td>-0.109552</td>\n",
       "      <td>71</td>\n",
       "    </tr>\n",
       "    <tr>\n",
       "      <th>4</th>\n",
       "      <td>transport</td>\n",
       "      <td>45</td>\n",
       "      <td>0.428524</td>\n",
       "      <td>0.715678</td>\n",
       "      <td>0.642858</td>\n",
       "      <td>0.773848</td>\n",
       "      <td>0.599449</td>\n",
       "      <td>0.058171</td>\n",
       "      <td>-0.043409</td>\n",
       "      <td>65</td>\n",
       "    </tr>\n",
       "    <tr>\n",
       "      <th>5</th>\n",
       "      <td>birds</td>\n",
       "      <td>60</td>\n",
       "      <td>0.534972</td>\n",
       "      <td>0.824636</td>\n",
       "      <td>0.634741</td>\n",
       "      <td>0.863222</td>\n",
       "      <td>0.605363</td>\n",
       "      <td>0.038586</td>\n",
       "      <td>-0.029379</td>\n",
       "      <td>53</td>\n",
       "    </tr>\n",
       "  </tbody>\n",
       "</table>\n",
       "</div>"
      ],
      "text/plain": [
       "       label  size  similarity  acc_base_in  acc_base_out  acc_trained_in  \\\n",
       "0    kitchen    35    0.446404     0.512884      0.650968        0.670401   \n",
       "1       dogs   129    0.553892     0.661100      0.643919        0.684884   \n",
       "2       cats    13    0.854177     0.708477      0.645314        0.782407   \n",
       "3   wearable    56    0.432272     0.535303      0.652710        0.660537   \n",
       "4  transport    45    0.428524     0.715678      0.642858        0.773848   \n",
       "5      birds    60    0.534972     0.824636      0.634741        0.863222   \n",
       "\n",
       "   acc_trained_out  acc_change_in  acc_change_out  num_epochs  \n",
       "0         0.527051       0.157517       -0.123917          92  \n",
       "1         0.621002       0.023784       -0.022917          31  \n",
       "2         0.582139       0.073930       -0.063175         134  \n",
       "3         0.543158       0.125234       -0.109552          71  \n",
       "4         0.599449       0.058171       -0.043409          65  \n",
       "5         0.605363       0.038586       -0.029379          53  "
      ]
     },
     "execution_count": 33,
     "metadata": {},
     "output_type": "execute_result"
    }
   ],
   "source": [
    "sem_labels = ['kitchen', 'dogs', 'cats', 'wearable', 'transport', 'birds']\n",
    "sem_labels_plot = ['', 'kitchen\\nitems', 'dogs', 'cats', 'wearable\\nitems', 'land\\ntransport', 'birds']\n",
    "df_sem = context_summary(type_context='sem', version_wnids=2, version_weights=9)\n",
    "df_sem.insert(0, 'label', sem_labels)\n",
    "df_sem"
   ]
  },
  {
   "cell_type": "code",
   "execution_count": 468,
   "metadata": {},
   "outputs": [
    {
     "data": {
      "image/png": "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\n",
      "text/plain": [
       "<Figure size 432x288 with 1 Axes>"
      ]
     },
     "metadata": {
      "needs_background": "light"
     },
     "output_type": "display_data"
    }
   ],
   "source": [
    "fig, ax = plot_change_acc(df_sem, range(len(df_sem)))\n",
    "ax.set_xticklabels(sem_labels_plot)\n",
    "plt.xlabel('Context')\n",
    "# plt.savefig('semcontexts_acc_change.png', dpi=200)\n",
    "plt.show()"
   ]
  },
  {
   "cell_type": "code",
   "execution_count": 241,
   "metadata": {},
   "outputs": [
    {
     "data": {
      "image/png": "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\n",
      "text/plain": [
       "<Figure size 864x216 with 3 Axes>"
      ]
     },
     "metadata": {
      "needs_background": "light"
     },
     "output_type": "display_data"
    }
   ],
   "source": [
    "fig, ax = plt.subplots(1, 3, figsize=(12, 3))\n",
    "\n",
    "scatter_line(ax[0], range(len(df_sem)), df_sem['size'], styles['in'])\n",
    "scatter_line(ax[1], range(len(df_sem)), 1-df_sem['acc_base_in'], styles['in'])\n",
    "scatter_line(ax[2], range(len(df_sem)), df_sem['similarity'], styles['in'])\n",
    "\n",
    "# ax[0].bar(range(len(df_sem)), df_sem['size'], alpha=0.7)\n",
    "# ax[1].bar(range(len(df_sem)), df_sem['incontext_base'], alpha=0.7)\n",
    "# ax[2].bar(range(len(df_sem)), df_sem['similarity'], alpha=0.7)\n",
    "\n",
    "ax[0].set_ylabel('Size')\n",
    "ax[1].set_ylabel('Difficulty')\n",
    "ax[2].set_ylabel('Similarity')\n",
    "\n",
    "for a in ax:\n",
    "    a.set_xticklabels(sem_labels_plot)\n",
    "    a.set_xlabel('Context')\n",
    "    a.set_ylim(bottom=0)\n",
    "    \n",
    "plt.tight_layout()\n",
    "# plt.savefig('semcontexts_stats.png', dpi=200)\n",
    "plt.show()"
   ]
  },
  {
   "cell_type": "code",
   "execution_count": 9,
   "metadata": {},
   "outputs": [],
   "source": [
    "df_sem_sorted = df_sem.sort_values(by='acc_change_in', ascending=False)"
   ]
  },
  {
   "cell_type": "code",
   "execution_count": 480,
   "metadata": {},
   "outputs": [],
   "source": [
    "SMALL_SIZE = 8\n",
    "MEDIUM_SIZE = 10\n",
    "BIGGER_SIZE = 12\n",
    "\n",
    "plt.rc('font', size=MEDIUM_SIZE)          # controls default text sizes\n",
    "plt.rc('axes', titlesize=BIGGER_SIZE)     # fontsize of the axes title\n",
    "plt.rc('axes', labelsize=BIGGER_SIZE)    # fontsize of the x and y labels\n",
    "plt.rc('xtick', labelsize=BIGGER_SIZE)    # fontsize of the tick labels\n",
    "plt.rc('ytick', labelsize=BIGGER_SIZE)    # fontsize of the tick labels\n",
    "plt.rc('legend', fontsize=MEDIUM_SIZE)    # legend fontsize\n",
    "# plt.rc('figure', titlesize=BIGGER_SIZE)  # fontsize of the figure title"
   ]
  },
  {
   "cell_type": "code",
   "execution_count": 512,
   "metadata": {},
   "outputs": [],
   "source": [
    "from matplotlib.ticker import FormatStrFormatter"
   ]
  },
  {
   "cell_type": "code",
   "execution_count": 514,
   "metadata": {},
   "outputs": [
    {
     "data": {
      "image/png": "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\n",
      "text/plain": [
       "<Figure size 432x288 with 1 Axes>"
      ]
     },
     "metadata": {
      "needs_background": "light"
     },
     "output_type": "display_data"
    }
   ],
   "source": [
    "fig, ax = plot_change_acc(df_sem_sorted, range(len(df_sem_sorted)))\n",
    "labels_sorted = list(df_sem_sorted['label'])\n",
    "# labels_sorted.insert(0, '')\n",
    "labels_sorted_plot = ['', 'kitchen\\nitems', 'wearable\\nitems', 'cats', 'land\\ntransport', 'birds', 'dogs']\n",
    "# labels_sorted_plot = ['', 'kitchen', 'wearable', 'cats', 'transport', 'birds', 'dogs']\n",
    "ax.set_xticklabels(labels_sorted_plot)\n",
    "plt.xlabel('Category set', labelpad=10)\n",
    "ax.yaxis.set_major_formatter(FormatStrFormatter('%.1f'))\n",
    "plt.tight_layout()\n",
    "# plt.savefig('semcontexts_acc_change_sorted.png', dpi=200)\n",
    "plt.savefig('sem_acc.pdf')\n",
    "plt.show()"
   ]
  },
  {
   "cell_type": "code",
   "execution_count": 50,
   "metadata": {},
   "outputs": [
    {
     "data": {
      "text/plain": [
       "0.04733281561612179"
      ]
     },
     "execution_count": 50,
     "metadata": {},
     "output_type": "execute_result"
    }
   ],
   "source": [
    "np.std(df_sem['acc_change_in'])"
   ]
  },
  {
   "cell_type": "code",
   "execution_count": 542,
   "metadata": {},
   "outputs": [
    {
     "data": {
      "image/png": "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\n",
      "text/plain": [
       "<Figure size 1008x252 with 3 Axes>"
      ]
     },
     "metadata": {
      "needs_background": "light"
     },
     "output_type": "display_data"
    }
   ],
   "source": [
    "fig, ax = plt.subplots(1, 3, figsize=(14, 3.5))\n",
    "\n",
    "scatter_line(ax[1], range(len(df_sem_sorted)), df_sem_sorted['size'], styles['in'])\n",
    "scatter_line(ax[0], range(len(df_sem_sorted)), 1-df_sem_sorted['acc_base_in'], styles['in'])\n",
    "scatter_line(ax[2], range(len(df_sem_sorted)), df_sem_sorted['similarity'], styles['in'])\n",
    "\n",
    "# ax[0].bar(range(len(df_sem_sorted)), df_sem_sorted['size'], alpha=0.7)\n",
    "# ax[1].bar(range(len(df_sem_sorted)), df_sem_sorted['incontext_base'], alpha=0.7)\n",
    "# ax[2].bar(range(len(df_sem_sorted)), df_sem_sorted['similarity'], alpha=0.7)\n",
    "\n",
    "size_lims = (0, 150)\n",
    "diff_lims = (0, 0.6)\n",
    "sim_lims = (0, 1)\n",
    "\n",
    "ax[1].set_ylabel('Size', labelpad=-15)\n",
    "ax[1].set_yticks(size_lims)\n",
    "ax[1].set_ylim(size_lims)\n",
    "ax[0].set_ylabel('Difficulty', labelpad=-15)\n",
    "ax[0].set_yticks(diff_lims)\n",
    "ax[0].set_ylim(diff_lims)\n",
    "ax[2].set_ylabel('Similarity', labelpad=-5)\n",
    "ax[2].set_yticks(sim_lims)\n",
    "ax[2].set_ylim(sim_lims)\n",
    "\n",
    "for a in ax:\n",
    "    a.set_xticklabels(labels_sorted_plot)\n",
    "    a.set_xlabel('Category set', labelpad=10)\n",
    "#     a.set_ylim(bottom=0)\n",
    "    \n",
    "plt.tight_layout()\n",
    "# plt.savefig('semcontexts_stats_sorted.png', dpi=200)#, bbox_inches = 'tight')\n",
    "plt.savefig('sem_stats.pdf')\n",
    "plt.show()"
   ]
  },
  {
   "cell_type": "markdown",
   "metadata": {},
   "source": [
    "### Difficulty contexts"
   ]
  },
  {
   "cell_type": "code",
   "execution_count": 9,
   "metadata": {},
   "outputs": [
    {
     "data": {
      "image/png": "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\n",
      "text/plain": [
       "<Figure size 432x288 with 1 Axes>"
      ]
     },
     "metadata": {
      "needs_background": "light"
     },
     "output_type": "display_data"
    }
   ],
   "source": [
    "fig, ax = plt.subplots()\n",
    "plt.plot(range(1000), sorted(df_base['accuracy']))\n",
    "plt.xticks((0, 999))\n",
    "ax.set_xticklabels((1, 1000))\n",
    "# plt.ylim((0, 1))\n",
    "plt.ylim(bottom=0)\n",
    "plt.xlabel('Category')\n",
    "plt.ylabel('Accuracy')\n",
    "plt.tight_layout()\n",
    "# plt.savefig('baseline_classwise_acc_line.png', dpi=200)\n",
    "plt.show()"
   ]
  },
  {
   "cell_type": "code",
   "execution_count": 10,
   "metadata": {},
   "outputs": [
    {
     "data": {
      "image/png": "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\n",
      "text/plain": [
       "<Figure size 432x288 with 1 Axes>"
      ]
     },
     "metadata": {
      "needs_background": "light"
     },
     "output_type": "display_data"
    }
   ],
   "source": [
    "plt.hist(df_base['accuracy'], bins=20, alpha=0.7)#, color='w', edgecolor='black') #alpha=0.5)\n",
    "plt.axvline(mean_acc, color='k', linestyle='--', label='mean')#, linewidth=1.2)\n",
    "# plt.axvline(mean_acc-std_acc, color='r', linestyle='--')\n",
    "# plt.axvline(mean_acc+std_acc, color='r', linestyle='--')\n",
    "plt.xlim((0, 1))\n",
    "plt.xlabel('Baseline accuracy')\n",
    "plt.ylabel('Number of categories')\n",
    "plt.legend()\n",
    "plt.tight_layout()\n",
    "# plt.savefig('baseline_classwise_acc_hist.png', dpi=200)\n",
    "plt.show()"
   ]
  },
  {
   "cell_type": "code",
   "execution_count": 11,
   "metadata": {},
   "outputs": [
    {
     "data": {
      "image/png": "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\n",
      "text/plain": [
       "<Figure size 432x288 with 1 Axes>"
      ]
     },
     "metadata": {
      "needs_background": "light"
     },
     "output_type": "display_data"
    }
   ],
   "source": [
    "plt.hist(1-df_base['accuracy'], bins=20, alpha=0.7)#, color='w', edgecolor='black') #alpha=0.5)\n",
    "plt.axvline(np.mean(1-df_base['accuracy']), color='k', linestyle='--', label='mean')#, linewidth=1.2)\n",
    "# plt.axvline(mean_acc-std_acc, color='r', linestyle='--')\n",
    "# plt.axvline(mean_acc+std_acc, color='r', linestyle='--')\n",
    "plt.xlim((0, 1))\n",
    "plt.xlabel('Difficulty')\n",
    "plt.ylabel('Number of categories')\n",
    "plt.legend()\n",
    "plt.tight_layout()\n",
    "# plt.savefig('baseline_classwise_acc_hist.png', dpi=200)\n",
    "plt.show()"
   ]
  },
  {
   "cell_type": "code",
   "execution_count": 34,
   "metadata": {},
   "outputs": [],
   "source": [
    "df_diff = context_summary(type_context='diff', version_wnids=2, version_weights=3)\n",
    "# df_diff.sort_values('incontext_base', inplace=True)"
   ]
  },
  {
   "cell_type": "code",
   "execution_count": 488,
   "metadata": {},
   "outputs": [
    {
     "data": {
      "image/png": "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\n",
      "text/plain": [
       "<Figure size 324x180 with 1 Axes>"
      ]
     },
     "metadata": {
      "needs_background": "light"
     },
     "output_type": "display_data"
    }
   ],
   "source": [
    "fig, ax = plt.subplots(figsize=(4.5, 2.5))\n",
    "plt.scatter(\n",
    "    1-df_diff['acc_base_in'][:20],\n",
    "    np.ones(20),\n",
    "    **styles['0'],\n",
    "#     facecolors=c0, edgecolors=colors[0],\n",
    "    label=r'$\\mathcal{A}_1, \\dots, \\mathcal{A}_{20}$')\n",
    "plt.scatter(\n",
    "    1-df_diff['acc_base_in'][20:],\n",
    "    2*np.ones(5),\n",
    "    **styles['1'],\n",
    "#     facecolors=c1, edgecolors=colors[1], marker=markers[1],\n",
    "    label=r'$\\mathcal{A}_{21}, \\dots, \\mathcal{A}_{25}$')\n",
    "plt.xlim(left=0)\n",
    "plt.ylim((0, 3))\n",
    "plt.xlabel('Difficulty')\n",
    "plt.gca().axes.get_yaxis().set_visible(False)\n",
    "plt.legend(loc='upper left')#title='Contexts')\n",
    "plt.tight_layout()\n",
    "# plt.savefig('diffcontexts_baseline.png', dpi=200)\n",
    "plt.savefig('diff_coverage.pdf')\n",
    "plt.show()"
   ]
  },
  {
   "cell_type": "code",
   "execution_count": 455,
   "metadata": {},
   "outputs": [
    {
     "data": {
      "image/png": "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\n",
      "text/plain": [
       "<Figure size 432x288 with 1 Axes>"
      ]
     },
     "metadata": {
      "needs_background": "light"
     },
     "output_type": "display_data"
    }
   ],
   "source": [
    "fig, ax = plot_change_acc(df_diff, list(1-df_diff['acc_base_in']))\n",
    "plt.xlabel('Difficulty')\n",
    "plt.xlim(left=0)\n",
    "plt.ylim(top=0.3)\n",
    "plt.tight_layout()\n",
    "# plt.savefig('diffcontexts_acc_change.png', dpi=200)\n",
    "# plt.savefig('diff_acc.pdf')\n",
    "plt.show()"
   ]
  },
  {
   "cell_type": "code",
   "execution_count": 543,
   "metadata": {},
   "outputs": [
    {
     "data": {
      "image/png": "iVBORw0KGgoAAAANSUhEUgAAAxAAAAEYCAYAAADMNRC5AAAABHNCSVQICAgIfAhkiAAAAAlwSFlzAAALEgAACxIB0t1+/AAAADl0RVh0U29mdHdhcmUAbWF0cGxvdGxpYiB2ZXJzaW9uIDIuMi4zLCBodHRwOi8vbWF0cGxvdGxpYi5vcmcvIxREBQAAIABJREFUeJzs3Xl8VOX1+PHPISxBFhW1aEUWW0EgG5AEEENAjaK1KCIqRRYVUbBq9SdKXSmCRaWiuAIiW1ERFNz7xQUUBJRFqMqmIKtUAyISCFtyfn/czBgmM8mdyWxJzvv1mldmbu7yJHOTO+c+z3OOqCrGGGOMMcYY40a1WDfAGGOMMcYYU3FYAGGMMcYYY4xxzQIIY4wxxhhjjGsWQBhjjDHGGGNcswDCGGOMMcYY45oFEMYYY4wxxhjXLIAwxhhjjDHGuGYBhDHGGGOMMcY1CyCMMcYYY4wxrlWPdQPC5eSTT9amTZvGuhnGGFMhrFixYpeqnhLrdkSaXRuMMcY9t9eGqAUQIvJXYACQDLyiqgNKWfcO4B7gOGA2MFhVD5W2/6ZNm7J8+fKwtdcYYyozEdkS6zZEg10bjDHGPbfXhmgOYfoBGAm8VNpKInIRMAw4H2gCnAn8I+KtM8YYY4wxxpQpagGEqr6hqnOB3WWs2h+YpKrfqOoe4GGcngtjjDHGGGNMjMXjJOrWwOpir1cDDUXkpBi1xxhjjDHGGFMkHidR1wX2FnvteV4Pn94LERkEDAJo3LhxVBpnTFV25MgRtm/fzsGDB2PdFONSYmIijRo1okaNGrFuStyw89i4ZX8/xvgXjwFEHlC/2GvP832+K6rqBGACQHp6uka+acZUbdu3b6devXo0bdoUEYl1c0wZVJXdu3ezfft2mjVrFuvmxA07j40b9vdjTGDxOITpGyC12OtU4EdVLWvuRMRsKtgRq0MbE1cOHjzISSedZB+6KggR4aSTTrI77T7sPDZu2N+PMYFFLYAQkeoikggkAAkikigi/npApgE3iEgrETkBuB+YEq12+hqdP43me69idP60WDXBmLhiH7oqFnu//LPfi3HDzhNj/ItmD8T9QD5OitZri57fLyKNRSRPRBoDqOp/gMeA+cBWYAvwUBTb6TU6fxqP5E8B4JH8KRZEGGOMMcaYKi+aaVyHq6r4PIar6lZVrauqW4ut+4SqNlTV+qp6XVlF5CLBEzwcwDn0AQ5ZEGFMjG3evJmkpKSgtlm3bh1paWm0adOGjRs3hrU9U6ZM4Ycffgh6uxdeeIFp00r/X7J8+XJuu+22UJtmwmTUqFG0bt2alJQU0tLS+Pzzz2PdpIByc3Np3749bdq0YeHChcd878knn+TAgQMh7Xfu3LmsWbMmHE2MmOHDhzNmzJhYN8OYKiMe50DEnG/w4GFBhDHBmfEBNL0aqnV1vs74IPptmDt3LldeeSVffvklf/jDH8pcX1UpLCx0te/SAoiCgoKA2918883069ev1H2np6czbtw4V+0wkbFkyRLeeecdVq5cyX//+18+/PBDzjjjjHLv9+jRo2FoXUkfffQRycnJfPnll2RlZR3zvcoeQBhjossCCB+bCnZwf/74EsGDxwEOcX/+eJtYbUwZZnwAg8bAlh9B1fk6aEz5g4ijR4/Sp08fWrZsyZVXXun9ULRixQqys7Np164dF110ETt37uS9997jySef5Pnnn6dr164APPHEEyQlJZGUlMSTTz4JOD0bLVq0oF+/fiQlJbFt2zbmzZtHx44dadu2Lb169SIvL++YdsyePZvly5fTp08f0tLSyM/Pp2nTptxzzz20bduWWbNmMXHiRDIyMkhNTaVnz57etha/W9qlSxfuueceMjMzad68uffO8YIFC7j00ku9619//fV06dKFM88885jA4uGHH6ZFixace+659O7d2+7ChtHOnTs5+eSTqVWrFgAnn3wyv//97wHnw3qbNm1ITk7m+uuv59Ah55rRtGlTdu3aBTi9SF26dAGc97Bv37506tSJvn37UlBQwF133UVSUhIpKSk8/fTTgP/z2NfmzZs577zzSElJ4fzzz2fr1q2sWrWKu+++mzfffNN7PnqMGzeOH374ga5du3r/DgKd38OGDaNVq1akpKRw1113sXjxYt566y2GDh1KWlpaiV683NxcevbsSUZGBhkZGXz22WcA3H777YwYMQKA//u//6Nz584UFhby9ttve3tJLrjgAn788Ufv76d///5kZWXRpEkT3njjDe6++26Sk5Pp1q0bR44c8f5+PcszMzP57rvvSvx+Nm7cSLdu3WjXrh1ZWVmsW7cOgFmzZpGUlERqaiqdO3d2fyIYY0pS1UrxaNeunYbLPw9M1Xq7u2rC7nNKPOrt7qr/PDA15H1vPLo9bO00JtrWrFnjet0mV6mSXfLR5KrQj//9998roIsWLVJV1euuu04ff/xxPXz4sHbs2FF/+uknVVV99dVX9brrrlNV1Yceekgff/xxVVVdvny5JiUlaV5enu7bt09btWqlK1eu1O+//15FRJcsWaKqqrm5uZqVlaV5eXmqqjp69Gj9xz/+UaI92dnZumzZst9+5iZN9NFHH/W+3rVrl/f5fffdp+PGjSvRpuzsbL3zzjtVVfXdd9/V888/X1VV58+fr3/605+863fs2FEPHjyoubm52qBBAz18+LB+8cUXmpqaqvn5+frrr7/qH//4R+9+i/P3vgHLNQ7+d0f64e/a4PY83rdvn6ampupZZ52lgwcP1gULFqiqan5+vjZq1EjXr1+vqqp9+/bVsWPHqqpzDuTm5qqq6rJlyzQ7O1tVnfewbdu2euDAAVVVfe6557Rnz5565MgRVVXdvXt3qedxcZdeeqlOmTJFVVUnTZqkl112maqqTp48WW+55Ra/P0vxdgU6v3ft2qXNmzfXwsJCVVXds2ePqqr2799fZ82a5Xe/vXv31oULF6qq6pYtW/Tss89WVdX9+/drq1at9OOPP9bmzZvrd999p6qqP//8s3f/EydO9J77Dz30kHbq1EkPHz6sq1at0tq1a+t7772nqqqXX365zpkzx/tzjBw5UlVVp06deszfiOfcP++883TDhg2qqrp06VLt2rWrqqomJSXp9u3bj/nZ3Ajm/54xFZ3ba0M81oGIuWG1naEFI/KmcDjht56ImgW1uLfuAO/3gzU6fxr3549nZO2bQt6HMRXF1p+CW+7WGWecQadOnQC49tprGTduHN26dePrr78mJycHcIYPnXbaaSW2XbRoET169KBOnToAXHHFFSxcuJDu3bvTpEkTOnToAMDSpUtZs2aN9ziHDx+mY8eOrtp39dVXe59//fXX3H///fzyyy/k5eVx0UUX+d3miiuuAKBdu3Zs3rzZ7zp/+tOfqFWrFrVq1eJ3v/sdP/74I5999hmXXXYZiYmJJCYm8uc//9lVG407devWZcWKFSxcuJD58+dz9dVXM3r0aNq0aUOzZs1o3rw5AP379+fZZ5/lb3/7W6n76969O7Vr1wbgww8/5Oabb6Z6decy3KBBA77++mtX5/GSJUt44403AOjbty933313UD9XoPP7+OOPJzExkRtuuIFLL73U2wNWmg8//PCY4U2//voreXl51K1bl4kTJ9K5c2fGjh3rHT64fft2rr76anbu3Mnhw4ePqa9w8cUXU6NGDZKTkykoKKBbt24AJCcnH/N30bt3b+/XO+6445j25OXlsXjxYnr16uVd5ukd6tSpEwMGDOCqq67y/s2Z6JrxAdz3onMdaPw7GDUQ+uTEulUmFBZABHDGon4UbADtMQVJPIQerEXBnAGc0bwfhHCy+2Z0AkIKIjYV7ODMhNODb4AxUdb4d86wJX/Ly8M3raKIoKq0bt2aJUuWhLxfT1ABTs9sTk4Or7zySrn2M2DAAObOnUtqaipTpkxhwYIFfrfxDJFJSEgIOD7es05Z65nwSkhIoEuXLnTp0oXk5GSmTp1KmzZtAq5fvXp17xwa3/oBxc8Nf8JxHrtR2vn9xRdf8NFHHzF79myeeeYZPv7441L3VVhYyNKlS0lMTCzxva+++oqTTjrpmHlCt956K3feeSfdu3dnwYIFDB8+3Ps9zzlerVo1atSo4f1br1at2jHne/H/Ab7/DwoLCznhhBNYtWpVifa88MILfP7557z77ru0a9eOFStWcNJJJ5X685nw8QxrPVB0X9YzrBUqRxBR1YIjmwMRwH0vwuFZ/dBZAwDQWQM4PKsf970Y/L7CldHJalKYimTUQDiu1rHLjqvlLC+PrVu3ej9gvfzyy5x77rm0aNGC3Nxc7/IjR47wzTfflNg2KyuLuXPncuDAAfbv38+cOXNKTDYF6NChA5999pl3fPX+/fvZsGFDifXq1avHvn37ArZ13759nHbaaRw5coQZM2aE9POWplOnTrz99tscPHiQvLw83nnnnbAfoypbv3493377rff1qlWraNKkCS1atGDz5s3e82P69OlkZ2cDzhj9FStWAPD6668H3HdOTg7jx4/3fjD++eefXZ/H55xzDq+++ioAM2bM8HsO+yp+rgY6v/Py8ti7dy+XXHIJY8eOZfXq1SW29XXhhRd65294fkcAW7Zs4V//+hdffvkl77//vjd71d69ezn9dOcm2NSpU8tstz8zZ870fvXtGaxfvz7NmjVj1qxZgBMseX6OjRs30r59e0aMGMEpp5zCtm3bQjq+Cc19L/4WPHgcOERIn6sgPpJ0FG9LJOb8xTMLIALwDLPQOf0oGPwaOqffMcvdCldGJ6tJYSqaPjkw4S5o0hBEnK8T7ir/HZkWLVrw7LPP0rJlS/bs2cPgwYOpWbMms2fP5p577iE1NZW0tDQWL15cYtu2bdsyYMAAMjMzad++PQMHDvR7N/mUU05hypQp9O7dm5SUFDp27OidiFncgAEDuPnmm0tMWvV4+OGHad++PZ06deLss88u3w/uR0ZGBt27dyclJYWLL76Y5ORkjj/++LAfp6rKy8ujf//+3knFa9asYfjw4SQmJjJ58mR69epFcnIy1apV4+abbwbgoYce4vbbbyc9PZ2EhISA+x44cCCNGzcmJSWF1NRUXn75Zdfn8dNPP83kyZNJSUlh+vTpPPXUU2X+LIMGDaJbt2507do14Pm9b98+Lr30UlJSUjj33HN54oknALjmmmt4/PHH/aZCHjduHMuXLyclJYVWrVrxwgsvoKrccMMNjBkzht///vdMmjSJgQMHcvDgQYYPH06vXr1o164dJ598cjBvh9eePXtISUnhqaeeYuzYsSW+P2PGDCZNmkRqaiqtW7fmzTffBGDo0KEkJyeTlJTEOeecQ2pqakjHN6EJ57DWePvAHu7gyI1YB1DizJeo+NLT03X58uVh21/Tq/0Pv2jSEDbPdLePTQU7aL73qjLX23D8a6UOS/IXhBxHLe6tHfp8DGNCsXbtWlq2bBnrZphiPOPNDxw4QOfOnZkwYQJt27Y9Zh1/75uIrFDV9Gi2NRb8XRvsPK64mjZtyvLly0MOPkJh50t4hONzVST2FQ7VujqBjC8RKJwf/P7KGg7lOxwMnB7+cNykc3ttsB6IAMIx/OLMhNMZWfsmjqOW3+8fRy1G1r4p6OABrCaFMcYxaNAg0tLSaNu2LT179iwRPBhjTDwI57DWcCfpKO/d/EBz+0KZ8+emdyUWPR6+bBJ1AJ4IrrwTYjw9BKH0IHhqUgTiqUlxVc3zbWK1MVXUyy+/HOsmGBM1gbKUmfjn+fx0w2Nw6IjTWxDqRONwJukIx+TuUQP99wiEEhyVFhx42hOpLIfBsB6IUvTJcbrCCuc7X0PtFhpWux/31h7g7YlwO/woHD0YVvDOGGOMMfGgTw50aAXZqeX7XBXO3oxw3M33zPmrVcN5XZ45f26Cg3D2eITKAogo8QQRQFBzF3yDDw83QYhlbTLGGGNMZeP2A7uboUnhupsfruDITXAQqSyHwbAhTFE0rHa/kIYb+Q6Dchs8hKPuhDHGGGNMvOmTAxOLMlcv8JOIzO3QpEjVLAqVm+FQ4RwOFirrgYgSTxT8xwtOD2mCTjA9GKHWnbDhTiZS7NwyxhgTTW6HJsXD3fzi3PauhKvHI1QWQERBuPIVD6vdjw3HvxZU8OBRVhBhw51MpETr3Jo1axYtW7aka9eurFq1ivfee69c+/vll1947rnnQtr2kksu4Zdffil1nQcffJAPP/wwpP2biu+cc86J6P6ffPJJDhw4UO79bN68OWoT9e1vwoST26FJ4Zy/EC6xDg7csAAiCsKZbqusCdP3548vETx4j1mUtcn3brAVqTOREs1za9KkSUycOJH58+eHFEB4KgJ7lBZA+K7r67333uOEE04odZ0RI0ZwwQUXBNVGExuRKNjkr0BcOFW0AKKgoMD+JkxYBTPRuCJ8YI83FkBEQbTSbYWStSnU4U7GlCVS59bll19Ou3btaN26NRMmTACcD+OLFi3ihhtu4I477uDBBx9k5syZpKWlMXPmTPbv38/1119PZmYmbdq08VamnTJlCt27d+e8887j/PPPP+Y4w4YNY+PGjaSlpTF06FAWLFhAVlYW3bt3p1WrVgHbAk6xq127drF582ZatmzJjTfeSOvWrbnwwgu9FasHDBjA7Nmzves/9NBDtG3bluTkZG/V69zcXHJycmjdujUDBw6kSZMm7Nq1q1y/PxOcSFW8rVu3LgALFiygS5cuXHnllZx99tn06dMHfwVed+7cSefOnUlLSyMpKYmFCxcCMG/ePDp27Ejbtm3p1asXeXl5jBs3jh9++IGuXbvStWvXEvtatmyZtxJzZmYm+/btY/PmzWRlZdG2bVvatm3rDXCGDRvGwoULSUtLY+zYsRQUFDB06FAyMjJISUlh/Hgn1XhhYSFDhgzh7LPPJicnh0suucR7fn/00Ue0adOG5ORkrr/+eg4dcv4nNG3alHvuuYe2bdsya9asY/4mVqxYQXZ2Nu3ateOiiy5i586dgFP52lMZ/Jprrinfm2AqtXgbmlTpqGqleLRr107jVZOrVMku+WhyVWSO988DU7Xe7q6asPsc76Pe7q76zwNTy1yvtPU9Nh7dHpmGm7i3Zs0aV+uFem65sXv3blVVPXDggLZu3Vp37dqlqqrZ2dm6bNkyVVWdPHmy3nLLLd5t/v73v+v06dNVVXXPnj161llnaV5enk6ePFlPP/107z6L+/7777V169be1/Pnz9fjjjtON23aVGZbmjRporm5ufr9999rQkKCfvnll6qq2qtXL287+vfvr7NmzfKuP27cOFVVffbZZ/WGG25QVdVbbrlFH3nkEVVVff/99xXQ3NzcoH9n/t43YLnGwf/uSD/8XRvcnseqkfv/XadOHVV1zqv69evrtm3btKCgQDt06KALFy4ssf6YMWN05MiRqqp69OhR/fXXXzU3N1ezsrI0Ly9PVVVHjx6t//jHP5x2F52Dvg4dOqTNmjXTL774QlVV9+7dq0eOHNH9+/drfn6+qqpu2LBBPb+3+fPn65/+9Cfv9uPHj9eHH35YVVUPHjyo7dq1002bNumsWbP04osv1oKCAt25c6eecMIJOmvWLM3Pz9dGjRrp+vXrVVW1b9++OnbsWG8bH330Ue++PX8Thw8f1o4dO+pPP/2kqqqvvvqqXnfddaqqetppp+nBgwdV1flbjoZgzhdTtuzbnEc09vXveaq1Lvjtb/bf8yLbrmj+bOE+nofba4P1QERBtKNgN3UnyjPcye14dps4WzWFem65NW7cOFJTU+nQoQPbtm3j22+/LXObefPmMXr0aNLS0ujSpQsHDx5k69atAOTk5NCgQQNXx87MzKRZs2ZBtaVZs2akpaUB0K5du4CFsK644ooS6yxatMh7l7Vbt26ceOKJrtppwicaPciZmZk0atSIatWqkZaW5vccycjIYPLkyQwfPpyvvvqKevXqsXTpUtasWUOnTp1IS0tj6tSpbNmypdRjrV+/ntNOO42MjAwA6tevT/Xq1Tly5Ag33ngjycnJ9OrVizVr1vjdft68eUybNo20tDTat2/P7t27+fbbb1m0aBG9evWiWrVqnHrqqd6ej/Xr19OsWTOaN28OQP/+/fn000+9+7v66qv9tvHrr78mJyeHtLQ0Ro4cyfbt2wFISUmhT58+/Pvf/6Z6dUskGYpIDMmLVzY0KXIsgIgCzwSdJg1BJDoTdMrK2lSe4U5Q9nh2CzSqrnAUQAxkwYIFfPjhhyxZsoTVq1fTpk0bDh48WOZ2qsrrr7/OqlWrWLVqFVu3bqVly5YA1KlTx/Xxi6/rti21av32e0hISAg4f8KzXmnrmOiLRsEmf+fI559/TlpaGmlpabz11lt07tyZTz/9lNNPP50BAwYwbdo0VJWcnBzveb1mzRomTZoUUhvGjh1Lw4YNWb16NcuXL+fw4cN+11NVnn76ae8xv//+ey688MKQjgn+//5UldatW3uP8dVXXzFv3jwA3n33XW655RZWrlxJRkaG/a0EKVJD8kzVU2oAISIni8idIvKRiOwSkSNFXz8SkbtE5JRoNbSiC1dV62CUlbUpmCJ1wYxnj1SgYSqO8hRALM3evXs58cQTOe6441i3bh1Lly71u169evXYt2+f9/VFF13E008/7R1b/uWXX5Z5LN99hNqW8ujUqROvvfYa4Nz53bNnT9iPYUoXq3HU7du3936A7t69O1u2bKFhw4bceOONDBw4kJUrV9KhQwc+++wzvvvuOwD279/Phg0bgMDnb4sWLdi5cyfLli0DYN++fRw9epS9e/dy2mmnUa1aNaZPn05BQYHf/Vx00UU8//zzHDlyBIANGzawf/9+OnXqxOuvv05hYSE//vgjCxYs8B5v8+bN3jZOnz6d7OzsUn/2Fi1akJuby5IlSwA4cuQI33zzDYWFhWzbto2uXbvy6KOPsnfvXvLy8kL9FVdJ4UzqYqq2gAGEiIwGvgRaAJOAHKBl0ddJwFnAyqL1TJwq6y6vm+FOwaSGjVSgYSoeN+dWsLp168bRo0dp2bIlw4YNo0OHDn7X69q1K2vWrPFOon7ggQc4cuQIKSkptG7dmgceeKDMY5100kl06tSJpKQkhg4dGnJbyuOhhx5i3rx5JCUlMWvWLE499VTq1asX9uOYwGLRg+zPggULSE1NpU2bNsycOZPbb7+dU045hSlTptC7d29SUlLo2LGjdwL+oEGD6NatW4lJ1DVr1mTmzJnceuutpKamkpOTw8GDBxkyZAhTp04lNTWVdevWeXsGUlJSSEhIIDU1lbFjxzJw4EBatWpF27ZtSUpK4qabbuLo0aP07NmTRo0a0apVK6699lratm3L8ccfT2JiIpMnT6ZXr14kJydTrVo1br755lJ/1po1azJ79mzuueceUlNTSUtLY/HixRQUFHDttdeSnJxMmzZtuO2228rMdmaOFa2kLsGoSkOqKhPx3JEr8Q2RvwITVdX/QGZnnURgoKo+E6H2uZaenq7Lly+PdTMqrNH507g/fzwja99UYq5E871Xlbn9huNf47XDH/kNNKDkh0d/QUk4PmCayFq7dq136I9bgc4tU7ZDhw6RkJBA9erVWbJkCYMHD2bVqlVB78ff+yYiK1Q1PVxtjVf+rg2hnMembHl5edStW5fdu3eTmZnJZ599xqmnnhrrZpVbZTpfml7tv+pyk4bO6Iho6HK783XBUyWrRYPTw+c2SC++r/KsE8x6kd5HMPsK5/E83F4bAvZAqOozpQUPRescjIfgoSqIdIQeaLiT2/HsgOuJs6EWuzMVk5sCiMa/rVu3kpGRQWpqKrfddhsTJ06MdZPCTkQaiMgcEdkvIltE5C8B1hsqIl+LyD4R+V5ESnYLmZi69NJLSUtLIysriwceeKBSBA+VTbylNrUhVRWXqxQGItIV2Kyq34vIacBooBD4u6r+L5INNCUjdM+kJwhvN3qg4U6eD35l9RiMrH1TmT0Q4AQagXgCjatqnh/SJFsTn+y9DM1ZZ53lar5GBfcscBhoCKQB74rIalX9xmc9AfoB/wX+AMwTkW2q+mpUW2sC8sx7MPHL85nhhsfg0BGn52HUwNhlJ4rHIVXGHbdZmJ4DCoqe/wuogRNATAi4hQmbeIjQ3YxndzNxtrwZeixjU+wFGvZo4lM8v18iUgfoCTygqnmqugh4C+jru66qPqaqK1X1qKquB94EOkW3xcZUfKGmNo3ESIhoZDkzkeE2gDhdVbeKSHXgImAQMBg4J2ItM17xEqGXlRq2+DrlDTT8sYxNsZeYmMju3bvj+kOp+Y2qsnv3bhITE2PdlECaA0dVdUOxZauB1qVtJCICZAG+vRSe7w8SkeUisjw3NzdsjTWmqopU+td4G1Jl3HNbheVXEWkIJAFrVDVPRGri9ESYCGv8O/+TnmIRoQ+r3a/M4UWeAOD+/PGlBhrw27AoN8FD8YxNxfdhoqdRo0Zs374d+1BWcSQmJtKoUaNYNyOQusCvPsv2AmWlmhqOcwNssr9vquoEinrI09PTLdo1ppxKGwlRnuFP8TakyrjnNoB4GlgG1AT+VrSsE7AuEo0yxxo10H+WglhF6G7Gs4cr0IDAqWGL78PXpoIdNu4+AmrUqHFMJWZjyikPqO+zrD4QsABHUYbAfkBWWYk+ws3+r5hQzPjA+aC99Sfnxl9F/IAcyZEQfXJg4jvO83BmEzKR5WoIk6o+ClwAdCo2YW0HYJ1MURBKHvJ4yKvsNtAoLUNPKBmbbKiTMRXGBqC6iJxVbFkqgYcmXQ8MA85X1e1RaJ9XrP+vTJkyhR9++CHo7YYOHUrr1q391jIJxty5c1mzZk259uHxyCOPhGU/ZXnrrbcYPTq2paoqS+Vnm6tgfLmdAwHwPfB7Ebm66PUOYFP4m2T8CaaSdUX7h1XahGm3qWE9rDidMRWHqu4H3gBGiEgdEekEXAZM911XRPoAjwA5qhrVa088/F8JNYCYMGEC//3vf3n88cfLdfyKFkAcPXqU7t27M2zYsIgfqzTxkAQlHGyugvHlKoAQkWScO0UTcapQA2QDL0WoXaYcKss/rGAzNgVTBdsYEzeGALWBn4BXgMGq+o2IZIlIXrH1RgInActEJK/o8UKkGxep/ytPPPEESUlJJCURsX+dAAAgAElEQVQl8eSTTwKwefNmkpKSvOuMGTOG4cOHM3v2bJYvX06fPn1IS0sjPz//mH2pKkOHDiUpKYnk5GRmznQqgnXv3p28vDzatWvnXeZRUFDAgAEDvNuMHTsWgI0bN9KtWzfatWtHVlYW69atY/Hixbz11lsMHTqUtLQ0Nm7ceMy+fvzxR3r06EFqaiqpqaksXrwYgMsvv5x27drRunVrJkxwkjYOGzaM/Px80tLS6NOnDwD//ve/yczMJC0tjZtuuomCAifp46RJk2jevDmZmZnceOON/PWvf/X+ns477zxSUlI4//zz2bp1KwADBgzg5ptvpn379tx9991MmTLFu01ubi49e/YkIyODjIwMPvvsMwA++eQT0tLSSEtLo02bNuzbF3D0XEjiJQlKeXlGQtQqmvkaq4rsJn64nQPxPPCgqk4XkT1Fyz7BCShMnKks/7DAfQ2KsoY6Fd+XMSZ+qOrPwOV+li/EmWTteR31yTeR+r+yYsUKJk+ezOeff46q0r59e7KzsznxxBP9rn/llVfyzDPPMGbMGNLTSxaIfeONN1i1ahWrV69m165dZGRk0LlzZ9566y3q1q3rt3r5qlWr2LFjB19//TUAv/zyCwCDBg3ihRde4KyzzuLzzz9nyJAhfPzxx3Tv3p1LL72UK6+8ssS+brvtNrKzs5kzZw4FBQXk5Tlx30svvUSDBg3Iz88nIyODnj17Mnr0aJ555hlvm9auXcvMmTP57LPPqFGjBkOGDGHGjBlccMEFPPzww6xcuZJ69epx3nnnkZqaCsCtt95K//796d+/Py+99BK33XYbc+fOBWD79u0sXryYhIQEpkyZ4m3j7bffzh133MG5557L1q1bueiii1i7di1jxozh2WefpVOnTuTl5YU9Y1k8JUEpL5urYIpzO4SpNfDvoucK3q7n2pFolCmfyjZWsazUsKEMdQqF1aAwpuqI5P+VRYsW0aNHD+rUqUPdunW54oorWLhwYchtXbRoEb179yYhIYGGDRuSnZ3NsmXLSt3mzDPPZNOmTdx666385z//oX79+uTl5bF48WJ69erl7Q3YuXNnmcf/+OOPGTx4MAAJCQkcf/zxAIwbN47U1FQ6dOjAtm3b+Pbbb0ts+9FHH7FixQoyMjJIS0vjo48+YtOmTXzxxRdkZ2fToEEDatSoQa9evbzbLFmyhL/8xSlY3rdvXxYtWuT9Xq9evUhISChxnA8//JC//vWvpKWl0b17d3799Vfy8vLo1KkTd955J+PGjeOXX36henW391XdsaE/prJyG0BsBtoVXyAimcB34W6QKb/K+A+rtBoUoRanC+bCH+sJlMaY6Cpv0ctQVK9encLCQu/rgwcP+l3v888/9w67eeutt1ztu6CgwLvNgw8+yIknnsjq1avp0qULL7zwAgMHDqSwsJATTjiBVatWeR9r164N6WdZsGABH374IUuWLGH16tW0adPG78+jqvTv3997vPXr1zN8+PCQjglQp04dv8sLCwtZunSp9zg7duygbt26DBs2jBdffJH8/Hw6derEunXuk0u6SVZiQ39MZeU2gHgAeFdE/gHUFJG/A7OA+90eSEQaiMgcEdkvIltE5C8B1qslIi+IyI8i8rOIvC0iljcvCMFmbYqHjE1ulJaxKdjidMEEBMFOoLSeCmMqh1CLXpYlKyuLuXPncuDAAfbv38+cOXPIysqiYcOG/PTTT+zevZtDhw7xzjvveLepV6+ed3x++/btvR+Eu3fvTlZWFjNnzqSgoIDc3Fw+/fRTMjMzjzlmQkKCd5sRI0awa9cuCgsL6dmzJyNHjmTlypXUr1+fZs2aMWvWLMD5cL969eoSx/d1/vnn8/zzzwNOoLJ371727t3LiSeeyHHHHce6detYunSpd/0aNWpw5MgR77azZ8/mp5+cMbY///wzW7ZsISMjg08++YQ9e/Zw9OhRXn/9de/255xzDq++6iSEnDFjBllZWWX+zi+88EKefvpp72vPEKqNGzeSnJzMPffcQ0ZGhusAIphkJW4rP1eUa7Ex4D6N6ztAN+AUnLkPTYArVHVeEMd6FjgMNAT6AM+LiL9qo7cDHYEU4PfAHpw6FCYIbrM2VZaMTeCuCjYEFxAEO4HSeiqMqVzc/l8JRtu2bRkwYACZmZm0b9+egQMH0qZNG2rUqMGDDz5IZmYmOTk5nH322d5tPBOE/U2i7tGjBykpKaSmpnLeeefx2GOPceqpp5bahh07dtClSxfS0tK49tpr+ec//wk4H8gnTZpEamoqrVu35s033wTgmmuu4fHHH6dNmzYlJlE/9dRTzJ8/n+TkZNq1a8eaNWvo1q0bR48epWXLlgwbNowOHTp41x80aBApKSn06dOHVq1aMXLkSC688EJSUlLIyclh586dnH766dx7771kZmbSqVMnmjZt6h0a9fTTTzN58mRSUlKYPn06Tz1V9oD8cePGsXz5clJSUmjVqhUvvODMv3/yySdJSkoiJSWFGjVqcPHFF5e5Lwh/spJgr8UWbJhYE9XIF+kUkTo4gUCSqm4oWjYd2KGqw3zWfR7Yp6p3F73+E/CEqrYo7Rjp6em6fPnyiLS/Mmt6tf8JXk0aOoFHRTQ6fxr3549nZO2bAgYPpU3ILm3d0rYpvn44PmQYE0kiskJVS87IrWT8XRvWrl1Ly5Ytg9pPaf9XTGTk5eVRt25djh49So8ePbj++uvp0aNH1Nvh73yp1tX5oO9LxLlx56vL7c7XQJOPg7kWe4IN3+KywQyNKqs94d6urH1Esj1u9x2pny2S+wrn8TzcXhsCzhYSkftUdVTR8xGB1lPVB120pzlw1BM8FFmNkwrW1yTgKRH5PfALTm/F+wHaOAgYBNC4cWMXzTC+KlPGJo9AVbCDyajimUAZiGcCpec4oVTLNsZUHIH+r5jIGT58OB9++CEHDx7kwgsv5PLLSyTriplwZ1cK5lpcWu+Hza0w0VJauoFGxZ6fEWAdt90XdYFffZbtBer5WfdbYBtOoboC4Cvgr34PrjoBmADOXSaXbTHFVKYUc8X5mzAdTEDgmUBZVg+Ev+Ch+D4tiDCm8rDgIbrGjBkT6yYENGqg/16AUJOVBHMtrow3/kzFE3AOhKoOBhCRajhVQW9W1et8Hte7PE4eUN9nWX3A34ysZ4FaOAWD6uBUKfXbA2HKrzJmbPInlIwqbiZQRiuFrDEmvKIxfNdUfIHOk3BnVwrmWlzZUrWbiqnMSdSqWgi8qar+PyG5swGoLiJnFVuWCnzjZ900YIqq/lx0zKeBTBE5uRzHNwEEk7Gpok/aCiWjSlkTKGOR6tEYUz6JiYns3r3bgghTKlVl9+7dAYvLuc2u5EYwAUlVufFn4pvbiimfikgHVV1a9qolqep+EXkDGCEiA3GChMuAc/ysvgzoJyILgAPAEOAHVd0VyrFN2frklP2Pz3fSlidDhGf7isK3srWbyc6e792fP97vum6rZRtj4kOjRo3Yvn07ubm5sW6KiXOJiYk0atSo7BXDwG2lZ88194bH4NARJ9gYNbBiXYtNxec2gNgCvC8ib+LMT/DetnE5iRqcQOAl4CdgNzBYVb8RkSzgfVWtW7TeXcA4nLkQNYGvgeinXTDHqEyTtsoKCAJtU9oEylACE2NMbNSoUYNmzZrFuhnGhMxtsGFMpLgNIGoDc4ueFw/FXff/qurPQIkUCqq6EGeStef1bpzMSyaOVLZJW6FkVClr3WADk00FO2xokzHGGGMqHFcBhKpeF+mGmPhWGbM1ReLDu9vAxHLKG2OMMaaiclWJGkBEzhKRB0VkfNHXs8reylQWwUzaquiTrcvLTfDgthK2McYYY0y8cRVAiMifgRXA2cDPQAtguYh0j2DbTBxxm63JM9l6y49OlU7PZOuqFkQEEqjgnAURxhhjjKko3M6BeAS4TFW9BdpFpAvwDPBWBNpl4pCbbE2VabJ1uFnBOWOMiY0ZHzjXoa0/OUNvLWuRMeXjdghTI2Chz7JFHDuh2phKN9k6XKzgnDHGxEYwPeNVfQiuMW65DSBWAf/PZ9mdRcuN8bIKmf5ZwTljjImN0nrGi7MhuMa45zaAGAwMFJEfRORzEfkBGFS03Bgvm2wdWCiVsD3K0zNhvRrGmKrMbc+420DDGOMygFDVdUBL4GrgX8BVQEtVXRvBtpkKyCZbl843iHATPIzOn0bzvVeFNNG6PNsaUxYROUlE+orI3UWvfy8iNrTVRI2bG1Fue8ZtCK4x7rlO46qqR1V1oaq+pqqLVPVIJBtmKq4+ObB5JhTOd776m6hWle/0eIIIwFXwEGrKV0sXayJJRLKB9TiFPx8oWnwW8HzMGmUqBbe9025vRLntGbchuMa45zaN6zYR2ern8a2IzBeRW0XEbUYnY6r8nZ5htfux4fjXXAUPoaR8tXSxJgqeBK5W1W7A0aJlnwOZsWuSqeiC6Z12eyPK0zNeq4bzOlDPeDBDcI2p6tz2QIwD9gD/AAYCI4DdwGRgJnAbTqpXY1yxOz2lF5wrK+VraYFAebY1JghNVfWjouda9PUw7tODG1NCML3TwdyI6pMDHVpBdmrgnnG3gYYxxn0AMQC4WFUnqeo8VX0RuBToo6ovFD3vHaE2mkrI7vQEVp6Ur5Yu1kTRGhG5yGfZBcBXsWiMqRyCCQoicSPKTaBhjHEfQJwG5Pks2w/8vuj5BuCEcDXKVH5uJ1t7VKWMTeVJ+WrpYk0U/T9ghohMBWqLyHhgCjA0pq0yFVowQYHdiDImdtx2Nb8NvCkio4DtOAXk/l60HKAjsDnsrTOVmpvK1vDbmFhPt7ZnTKxnH5WRZ26E71AkN1mbyrOtMW6p6lIRScWZRP0SsA3IVNXtsW2ZqchGDTz2/z0EDgo8//9veAwOHXFuRFmFaWOiw20AcRMwHBiP0+vwAzALZy4EwCbgT+FunDFQ+pjYynyh8A0EggkAyrOtMW6p6g7gsVi3w1QewQYFfXJg4jvO8wVPRaeNxhiXAYSqHgSGFT38ff9/4WyUMcVV5YxNng/89+ePDzoAKM+24bKpYIcNl6qkRGQ6v02eLu4QTk/1XFVdHd1WmcrAggJj4p/rOhAikiMik0Tk7aLX6SJyXuSaZoyjqmdscpPyNRLblpcVsav09gKXAYITMAjQHSjAKTy6RESsy8sYYyoht3UgbsUpDvQt0LlocT4wMkLtMsbLJsqVnvI1UtuWJ1OTFbGrEpoDl6hqX1W9V1X7AhcDf1DVa4ArgHtj2kITV6pSMgxjKju3PRB/Ay5Q1dFAYdGydUCLiLTKmGKCydhkF6jwKE/vgRWxqzLa4xSOK245vxWS+z+chBvGBFUgzhgT/9xOoq6Hk2EDfhvzWgOnaJAxEecmY1NVzNYUCb69B4DrIVBlFbELZl8m7q0CRonIQ6p6UEQScZJteOY9NAN+jlXjTHypqskwjKms3PZAfErJCdS3AfPD2xxjQhdMBVPjX3l6D6yIXZXTH8gCfhWR/wG/4gxx7V/0/QbAkBi1zcSZqpwMw5jKyG0AcSvQQ0Q2A/VEZD1wFXBnpBpmTLDsAlU+ZfUelBVEWBG7qkVVN6vqOcAfcCZT/1FVz1HV74u+v1xV34lpI03cqOrJMIypbFwFEKq6E8jACRr+gnOHKdPSt5p4Yheo0IWr92BY7X7cW3tAiSDC6lBUaoeAXKC6iJwpImfGukEm/lgyDGMqF7dZmN5UxxeqOktVl6pqoYi8EekGGuOW2wuUTbQuKZy9B75BhAUPlZOIdBORHcD/gO+KPb6NacNMXPIkw6hVw3ldWjIMY0z8czuJumuA5V3C1A5jys1zIbrvRWfYUuPflaxgahOtA/OtXu0RSgAQD0XsTMQ9CzwMTFXV/Fg3xsQ/KxBnTOVRagAhIiOKntYs9tzjTGBLRFplTIjKytZkmUBK5xtElKf3YFjtflxV83yb81B5nQiMV1V/1aiNMcZUYmUNYTqj6FGt2PMzcHJ7bwN6RbR1xoSZTbQum2cIElDu3gMLHiq1ScB15d2JiDQQkTkisl9EtojIXwKs11VE5ovI3qKEHsYYY2Kk1B4IVb0OQEQWq+rE6DTJmMhp/Dtn2JK/5eY3kew92FSwI6T9hrqdiZgOwG0iMgxnHoSXqnYOYj/P4tQUagikAe+KyGpV/cZnvf3AS8ArWIXruDLjg9KHjhpjKh+3WZgmAohIPRFp5sm0Ydk2TEVjmUDci8SH9VArXJenMraJmBeBQcAonN6I4g9XRKQO0BN4QFXzVHUR8BbQ13fdoiQe04FNYWi7CROrMG1M1eRqErWItAReBlJxKlELv1WkTohM04wJPzcTrX3Z3bXwCLXCdXkqY5vIUdWpYdhNc+Coqm4otmw1kF2enYrIIJzghsaNG5dnV6YMNq/MmKrJbRam53GqTncFvgeaAv8EFkemWcZETlkTrYuzrE3hEajCNZQeDIS6nYkOEWkIZAIn49xYAkBVX3K5i7o4FayL2wvUK0+7VHUCMAEgPT3dJnlHkM0rM6ZqcluJOhW4R1V/AURV9wJDcVL4GVNplXZ3zbgTaoXr8lbGNpElIpcDG4ERwHjg1qKvJYYflSIPqO+zrD6wLxxtNOXjpmaOFfA0pmpyG0AcBIrKv7BLRBoXbXtSRFplTJywu2vlE2qF63BVxjYRNRK4TlXbAPuLvg4CVgSxjw04FazPKrYsFfCdQG2izO3cBptXZkzV5DaAWAhcVfR8NvA+8AnwcSQaZUy8sLtr5RNqhetwVsY2EdNYVWf5LJsKuB5bpqr7gTeAESJSR0Q6AZcB033XFZFqIpKIczNLRCRRRGqG3nxTGre9r1Zh2piqyW0WpqtUdUrRy3tx5j9MBPq4PZDbXN9F67YVkU9FJE9EfhSR290ex5hwsrtr5eepK+EbDJRVpC7U7UzU/FQ0BwJgs4h0BP5A8Ik1hgC1gZ9wUrQOVtVvRCRLRPKKrdcZyAfeAxoXPZ9Xnh/ABBZM72ufHOjQCrJTYfNMCx6MqQpcBRAiUktEagCoaqGq/hsnVd/RII5VPNd3H+B5EWnt51gnA//BGUt7EvBH7CJhYsRzd61JQxAp/e6am/HCVZVvMOA2CAh2OxvSFFUTgXOLno/FSbSxGngumJ2o6s+qermq1lHVxqr6ctHyhapat9h6C1RVfB5dwvOjGF/W+2qMKY3bIUwfAO18lrUF/s/NxsHk+gbuBP5PVWeo6iFV3aeqa12205iw65Pj3FUrnB/47prlQi9bqBWu3W5ntSKiS1UfVdXXi55Pw0nJ2k5VH4hty0w4WO+rMaY0bgOIZOBzn2Vf4Ex2cyNQru8SPRA41U1/FpHFIvKTiLxdNGm7BBEZJCLLRWR5bm6uy6YYE36WrcmdYbX7seH414IeflTWdr61IiyIiC4RqQZsB9YXPTcVnM1tMMaUxu0/+r04Q4+Kawjsd7l9MLm+GwH9gdtxxrl+jzMutgRVnaCq6aqafsopp7hsijHhZ9ma3At14nOg7QLVirAgIrKK5qotEZH9wJGix9Gir6YSsLkNxphA3AYQrwMvi0iSiBwnIsnANOA1l9sHk+s7H5ijqstU9SDwD+AcETne5bGMiTobLxwbodaKsLkSYTEVZ95DOnBm0aNZ0VcTRcHMv7K5WsaYcHAbQNwHrMUZtrQPWAqsA/7ucvtgcn3/FyheOdSqiJq4F8x4YbuAh0eotSJsrkTYNAHuU9W1qrql+CPWDatKgpl/ZXO1jDHh4jaN60FVvQWoA5wK1FXVW1XV/5W75Pauc30Dk4EeIpJWlPnpAWBRUfVrY+KS22xNdgEPn1BqRdhcibCaA1wY60ZUdcHMv7K5WsaYcKkezMqqqkCos5WHAC/h5PreTbFc38D7nnR9qvqxiNwLvAscBywCAtaMMCZe9Mkpe4xwaRdwG18cPM+kat9hTP7SvQaaK1F8P6Z0IjKd33qFawFzRGQR8L/i66mq/UKjJJj5VzZXyxgTLkEFEOWhqj8Dl/tZvhBnknXxZc8Dz0epacZEjV3Aw883iHATPHhYEBG073xer4lJK4xX4985PZn+lpdnXWOMKU3UAghjjF3AI8Xz4f/+/PElggfPXIlAPHMlrqp5fsgZoqoKVf1HrNtgjjVqoDMMsnjPZqD5V8Gsa4wxpXFbifrUYJYbY/yz4kyRE6hWRChzJUzZRGSYiGT4LMsUkbtj1aaqKJh6DVbbwRgTLm6zMG0IsNy6r40JgtvJ1h6WsSk4gYIATzVr3yDC33AntywVLLdT8hqwBvhbDNpSpQVTr8FqOxhjwsHtECYpsUCkPlAY3uYYU/m5mWwNv2Vs8gw38GRs8uzDBMfNXAm3RudP4/788YysfVNVnjtRk5JF4w4DiTFoizHGmCgqtQdCRLaJyFagtohsLf4AdgJzo9JKY6ogS7kYfp6eCKBcwYOlggVgBU52veJuBlbGoC3GGGOiqKweiGtxeh/eA/oWW67Aj6q6PlINM6aqs4xNkTGsdr+QJ0xbKthj3AF8ICJ9gY3AH3DqBFn/mDHGVHKlBhCq+gmAiJysqgei0yRjDFjGpkgKR/DgUVWDiKI6Ps2BS4EzcIqFvqOqebFtmTHGmEhzO4m6QERGicgmEdkLICIXishfI9g2Y6o0y9gUPzypYH2DBw9PKtiqNrFaVfNU9VVVfbzoqwUPxhhTBbgNIJ4EkoA+/FaF9BtgcCQaZYwJPmOTiRxLBWuMMcb8xm0WpsuBP6rqfhEpBFDVHSJiV0tjIshtxiYTeb5ZnDzKk83JmBkfOIkRtv7kDE8cNdD+5o0x8c9tAHHYd10ROQXYHfYWGWNMnApnKlhjLFWzMaaicjuEaRYwVUSaAYjIacAzwKuRapgxpnysCF1khCMVbGUgIreLyMmxbkdFZqmajTEVldsA4l7ge+Ar4ATgW+AH4B8Rapcxphw8dza3/Aiqv93ZtCAiPIbV7seG41+rssFDkfOAzSLyjohcLSL+J4iYgCxVszGmonIVQKjqYVW9Q1XrAg2BekWvD0e2ecaYUNidzcir6hOmVfUyoAnwPvA34H8i8qKIdI5tyyqOQCmZLVWzMSbeuQogRKSViDQsepkPDBeRh0TkuMg1zRgTKruzWbFU1PSvqrpbVZ9V1Y5ANpABzBeRzSJyn4jUjXET45qlajbGVFRuhzC9gjN0CWAM0BnoAIyPRKOMMeVjdzYrjtH502i+9ypG50+LdVNCIiLni8hkYAHwI9AP6Au0wemdMAF4UjXXquG8tlTNxpiKwm0Wpqaqul5EBLgCaIXTE/F9xFpmjAnZqIHHZncBu7MZjzzVrYEKV81aRMYA1wB7gWnA/aq6o9j3lwJ7YtS8CqNPDkx8x3m+4KnYtsUYY9xyG0AcFJF6OIHDVlXdJSLVgcTINc0YEyrPHUzLLx+/PMGDp6bEAQ5VtCAiEeihqsv8fVNVj4hIepTbZIwxJgrcBhAvAx8D9XDStwK0xXogjIlboRahs8JWkecbPHhUsCDin8CB4gtE5ESgtqr+AKCq62LRMGOMMZHlNgvTHcB9wGBV9QQQhcAdkWqYMSb6LP1r5G0q2MH9+eNLBA8eBzjE/fnjS0ysjsOJ1nOBRj7LGgFzYtCWqLIaK8aYqs7tJGpUdZ6qzheRTkWvl6vqx5FrmjEm2iz9a+SdmXA6I2vfxHH4L5twHLUYWfumY9LExulE6xaq+lXxBUWvz45Re6LCgmxjjAkigCjGsmoYU0lZ+tfo8FSz9g0ijqNWierWvhOt4yiI+ElE/lh8QdHr3TFqT1RYkG2MMaEFEBL2Vhhj4oKlf40e3yCitODBd6J1nAQRLwGvi8ilRbWC/gzMBir1R2kLso0xJrQAYkvYW2GMiQtW2Cq6PEEEUGbw4BFHQcRo4N84tYGWAY8XvR4dy0ZFmgXZxhgTQgChqkmRaIgxJvY8ha2aNAQRK2wVDcNq92PD8a8dEzyEOtE6mlS1UFUfV9WzVbVO0dcxqloYs0ZFgQXZxhjjPo0rInIhkAbULb5cVR8Md6OMMbETavpXE7riE6Y9r0fWvslvDwT8NtzJd7toE5GaQAvgZIoNb63MCTY8fxs3PAaHjjhBtqU6NsZUNa4CCBF5BrgKmM+xeb81Eo0yxpiqztMj4RtE+JsrEQsici4wC6gF1Ad+xakVtA04M4ZNizirHm2Mqerc9kD8BUhV1W2RbIwxpnKwYnTh4RtExEvwUGQs8JiqjhWRParaQEQexKe4nDHGmMrH7RyIXcAvkWyIMaZysDz54VXaROsYaw743n8fjRUYNcaYSs9tAPEvYIaIdBSRM4s/Itk4Y0zFY3nyw8/fROs4sBdn6BLAThFpBZyIzzw5Y4wxlY/bAOJ54FLgM+C7Yo9vI9QuY0wFFSgf/pYfoenVUK2r89V6JIIT6wnTfrwBXFL0/CWcOXIrcGpBuCYiDURkjojsF5EtIvKXAOuJiDwqIruLHo+KiNUlMsaYGHA1B0JVQ6kXYYypghr/zgkWfAm/LfcMawKbG1FRqerfij0fIyJLcSZR/1+Qu3oWOAw0xMn0966IrFbVb3zWGwRcDqTiJPD4APgeeCG0n8AYY0yoLDAwxoSVvzz5QsmUbTasqeISkQQR2Sgi3ndaVRep6vvB1IEQkTpAT+ABVc1T1UXAW0BfP6v3B/6lqttVdQfO0NoB5fpBjDHGhCRgD4SI/EdVuxU9X0iAlK2q2jlCbTPGVECeHoXiWZj89UhA4OFOJr6paoGIFACJEKDanTvNgaOquqHYstVAtp91Wxd9r/h6rf3tVEQG4fRY0KBBA9LT0wG49dZbadmyJUOGDAEgKyuLxx9/nA4dOgBQp04dPvnkEwYMGMDXX38NwCuvvML777/PtGlO5e+hQ4dy2mmnsfLTKwH4+99v4L777qNLly4AnHzyyfznP//hmmuu4bvvvgNgzpw5vPLKK7z22msAPPjggyQmJnLvvfcCsPvCapw+MJn0dJH0VrUAAB8FSURBVOfHa9SoEXPnzuXyyy9n+/btALz//vs899xzvP322wA88sgjHDx4kBEjRgCwp3tNGl55FunpTsfNH//4R1599VW6devGrl27AFiwYAGjRo1i5aeTAPj009ns3LmTxx9/HIB+/fpx8cUX07t3bwCSkpKoNq4uKy+ZQ3r6aQAsXbqUoUOHsnDhQgCee+451q5dy8pPhwIwYcJIOnbsyHXXXQdARkYGzz//PO3bt6egoIANbCP9414MHlzAsmXLAJg8eTJLlixhwoQJ3vcp7/J32HDnJ6SnNy7zfdpQsJVWL13IuHGZJd6nO++8E4CcnBwK79nNqj/NJT29canv08pPne7Rt9568Zj36c9//jNDhgzh4osv9r5P1aY14qu/vEd6eoNS36eVnzqVBh977C569+5Njx49/L5PGwq2kvbu5fz97yfxwQfOOM8nnnjC7/u08tNOAAwYcAlTpkwhOzub/fv3l/o+Pf300wDk9a1H/cxTSU//1u/7lJCQwOeff87gwYOPeZ/+d+Zt/DDlG9LTG4f89/TD6dfzv1fWk57euNx/TxsKttL0ngzmzbs94Pu05dSfSX75Ei6/fHupf08/d3yKzY8uIz29MVdddVWp71Pxv6fi71Nu2ii2jfuS9PTGfv+egnmfNhRs5fcDWvPVV+PK/fcU7Pvkhqj6L+UgIn9R1ZeLnvcPtANVnerqQCINgEnAhThZnf7u2X+A9WviXCDqqWqjsvafnp6uy5cvd9MUY0yUNb3afxDRpCFsnhn99hgQkRWqml6O7YcAlwGPANspdpNJVTe53EcWMEtVTy227Eagj6p28Vm3AGitquuKXp8FbACqaaALGZG7Npz3618B+Lj+M3Gxr2D2EYl1Y7WeHTu08ybUbSN1rkayPZH43UdyH8HsK5zH83B7bQjYA1H8w73bIKEMbse5egwFcnHG1BpjKrBRA505D8WzMx1Xy1luKizPFct3FosCCS73kcdvmZw86gP7XKxbH8grLXgwxhgTGQHnQIhIdzc7cLNekONcEZFmwLXAP920wRgT3/rkwIS7nB4HEefrhLtsAnVFpqrVAjzcBg/g9CBUL+pN8EgF/N1Y+qboe2WtZ4wxJsJKy8J0jYg8AswAPgHW49wVqoczbjUb50P+KpxgoDTBjHMFeBq4F8gvbafFx7k2bty4jCYYY2KpT44FDOZYqrpfRN4ARojIQJze6cuAc/ysPg24U0Tew+nl+H841wpjjDFRFrAHQlX/AvQGTgem4wwnygd+AqYCpwJXq+q1Lo5TF/jVZ9le/AxPEpEeQIKqzilrp6o6QVXTVTX9lFNOcdEMY0xFM+MDqx8Rj0RkoYh86u8R5K6GALVxri2vAINV9RsRyRKRvGLrjQfeBr4CvgbeLVpmjDEmykqtA6GqXwF/BRCR44ATgF9U9UCQx3E1zrVoqNNj/FacyBhThc344Ni5E1Y/Iq74JuE9FbgB+HcwO1HVn3HqO/guX0ixqtZFcx3uLnoYY4yJIVeF5ACKgoZgAwcP7zhXVfVUr/Y3fvUsoCmwsKjAaE3geBH5H9BBVTeHeHxjTAV034vHTryG3+pHWAARW/6Sa4jI68BkYET0W2SMMSZaXAcQ5RHEONevgTOKvT4HJ9NHW5whVMaYKiRQnQirHxG3dgApsW6EMcaYyIpKAFFkCPASzjjX3RQb5wq8r6p1VfUo8D/PBiLyM1Coqv/zu0djTKUWqAhd499Fvy3mWCJyvc+i44ArgKUxaI4xxpgoiloA4Xacq8/3FgBlFpEzxlRObutHzPjg2MrXowbaEKco8E3DvR9YDIyNQVuMMcZEkasAQkRuB2ao6q4It8cYY7w8QUBpwYFNtI4NVe0a6zYYY4yJjYBpXH2cB2wWkXdE5GoRqRXJRhljjEef/9/evUfLVdZnHP8+QgghMXIRQ0XBgtAqYFpRagvYaMpqrbVKqTciwbYIXlCsorIAWyqUhnirtVrIQsFgoaCAhaUsayusmloL6ioqUEKFcAkEESQkIQSS/PrH3qdMJnPOvHv2ZfbMeT5rzUrOPvvMPGefk7z7N7/97vcoWHU5bL0++7O7KJhqorXVR9JiSS/p2jZfUs8FQs3MbHwkFRAR8XpgX+A64P3AGkkXSnplneHMzPrxROuhORu4t2vbvcA5Q8hiZmYNSu1AEBEPR8TnIuI3yVaQfjlwvaRVks6Q1HMeg5lZnSabUO2J1rWbS+8FQncdQhYzM2tQcgEBIGmhpIuAG4AHgcVkE+l+naw7YWbWqL8+IZtY3anXRGvwqtYVuxU4pmvb0cBtQ8hiZmYNSp1E/QngLWTvLi0HzoyI1R2f/x7wi1oSmplNIWWiNXiydQ0+AnxD0puBnwIvBBYCvz/UVGZmVrvU27juDBwdETf1+mREPCXpZdXFMjNLt+io/kWAV7WuVkSskHQwcCzZAqA3AqdERPe8CDMzGzOpBcTfAI93bpC0GzArIu4HiIj/qTibmVllPNm6Wvnd+B6IiCUd22ZImhkRm6b4UjMzG3GpcyC+xvYLuj0PuLraOGZm9fBk68p9Czi0a9uhwDeHkMXMzBqUWkD8SkT8uHND/vGvVh/JzKx6RSZbW5JDgP/q2nYjMH8IWczMrEGpBcTPJL2wc0P+8cPVRzIzq96io2DZqbDvPJCyP5ed6vkPJawF5nVtmwdsGEIWMzNrUOociC8CV0o6A7gT2J9sESGv9WpmIyNlsrUluxK4VNL7eHpc+BRwxVBTmZlZ7VILiCXAU8AnyO62cS9Z8fCpmnKZmVm7nQF8kuyypZnAE8BFwOnDDGVmZvVLKiAiYivw8fxhZmbTXEQ8AbxH0snAs4GfR0RIKrRAqZmZjZ7k/+gl7STpEEmvkvTqiUed4czM2sarWW8rMg8BB0v6OHDfsDOZmVm9UleiPgL4Clmbei7wGPBMskuZ9qstnZlZi3g1621J2pNsIbnjye6+tAI4ZaihzMysdqkdiE8DSyNid2Bd/ufZwOdrS2Zm1jJTrWY9XeSLxR0j6VpgNXAS2ZpAjwJvjIivDDWgmZnVLrWAOBD4TNe2JcCfVxvHzKy9vJo1AA8CFwC3A6+IiBdHxNnAk8ONZWZmTUktINaSXboE8ICkFwO7AXNqSWVm1kJezRqAHwG7Ar8BvFzSbkPOY2ZmDUstIK4Cfj//+xeB64EfAF+tI5SZWRt5NWuIiAVkaz78C3AqsCa/nGk2MGOI0czMrCFJBUREvD8iLs3//gngGOAd+cPMbFrwataZiLg7Is6OiAOAhcADwFbgZklLh5vOzMzq1vcuTJJ2AFYCL46ITQARsaLuYGZmbeTVrLeVjwcr8hWpjwYWDzmSmZnVrG8HIiK2AFuAneuPY2ZmoyginoiIyyLiNcPOYmZm9UpaBwL4W+AKSeeSLRIUE5+IiDvrCGZmZmZmZu2TOon674GjyCZP3wH8b/64o6ZcZmZjz6tam5nZKErqQEREaqFhZmYJvKq1mZmNKhcGZmZD4FWtzcxsVCV1ICR9h455D50i4pWVJjIzmwa8qrWZmY2q1EnU3e+J7QX8GfDlauOYmU0P+zwnu2yp13YzM7M2S11I7ktdj/PIVqb2lbpmZgNIXdXaE63NzKxtUjsQvawGXlJVEDOz6WRiovQZF2aXLe3znKx46JxA7YnWVpcnYlP/nczMJpE6B+JPuzbtAvwR8L3KE5mZTRP9VrWeaqK1Cwgb1D1b17Bq6wMs2bic02Z54XAzKy61A3Fc18cbgO8Cn642jpmZTfBE63YbxXfxl2xczj1b1wBw7saLAVxEmFlhqetAvKruIGZmti1PtG6vUXwXf8nG5Zy78WK25jdVfJxNLiLMbCBJk6glLZb0kq5t8yV1dyameo7dJV0taYOkuyUdO8l+H5L0E0nrJN0l6UOpr2FmNk5SJ1qPqtRxId/3VZKul7RW0qoGY26n+138JRuXDzNOkoni4XG27ZpMFBFVfA+pHZlR7NyY2bZSF5I7G7i3a9u9wDkFXutzwJPAPGAR8A+SDuqxn4DFwG7A7wEnS3pLgdcxMxsLi46CZafCvvNAyv5cdupYzX9IHRcgu3T2i8BQ31Sa7F38NhcRd25ZzZkbL9iueJjwOJs4c+MF3Lll9cCvcc/WNdy45da+xyF1PzNrt9QCYi7wWNe2tcCuKV8saTZwDPDRiFgfESuAa9h+bgURsTQifhgRmyPiduCfgcMTc5qZjZVFR8Gqy2Hr9dmf41I8FBkXACLixoi4BLizwZjbaOJd/Drst8PenDPrJHZhZs/P78JMzpl1EvvtsHfPz/frGKR2ZEaxc2NmvaUWELeS/Uff6WjgtsSvPxDYHBErO7bdDEz2ThMAkgQcCdyS+DpmZjYaBhoXUkg6UdL3JX3/oYceKvt0QDPv4tfptFmLOX3W27crInZhJqfPevukcyD6dQxSOzJt6dz48imzaqQWEB8BLpR0paSlkq4CvgB8MPHr59C7g/HMPl93Vp7xol6frGOQMDOzRgw6LvQVEcsi4mUR8bI999yz7NMB5d/Fb4PuIqJf8dCvY5DakWlL52ZULp9ykWOjIHUl6hXAwcBNwGzgRuDgiPiPxNdZT3YZVKe5wLrJvkDSyWRzIV4b0ftfUx2DhJmZlSfpBkkxyWMFA4wLwzbou/gpmjppnPgegL7Fw1Qdg9SOzA1P/bAVnZtRuXxqVIocs9S7MM0EHoiIJRHxnohYAqzJt6dYCewo6YCObfOZ5NKkfOG604CFEXFf4muYmVlLRMSCiNAkjyMoOC60RdF38VM0fdJ42qzFrHzWFX2Lh6k6BqkdmQUzXtpI52aqAmyQy6eG0QUYlSLHDNIvYfoWcGjXtkOBb6Z8cURsAK4CPiZptqTDgdcDl3TvK2kRcC5wVEQMbbKcmZnVp8i4ACDpGZJ2BmZkH2pnSTs1l/hpqe/ip6jypLHISe9kJ+xF5nqkdmTq7NzA1AXYIJdPDaML0JY5ImapUguIQ4D/6tp2I9m7RaneDcwCfgZcBrwrIm6RdKSk9R37nQPsAdwkaX3+OL/A65iZ2WjoOS4A9BgbXglsBL4B7JP//V+ajfu0fu/ip6jypLGqk96icz1SOzJ1dG5g6gJskInvw+gCtGWOyLB57sdoSS0g1pLdp7vTPLL7cieJiEci4g0RMTsi9omIS/Pt34mIOR37/XJEzIiIOR2Pd6a+jpmZjYbJxoX8c91jww09LoVaMJTguTKX3VR50lj1SW/RjkFqR6bKzg30L8CKFkODFnRlTnzL3t1rXE66Pfdj9KQWEFcCl0o6WNIukg4BlgNX1BfNzMxs/FR5S9i6Ln0p2jFI7cgU6dykzGvoV4ClFkODFnRlT3zL3N1rXE66PfdjNKUWEGeQrflwI9kdMr4H3A6cXlMuMzOzsVTVLWHrvvSlaMcgtSOTst9UJ8dFC7B+xdCgBV1VJ76DzBEZl5Nuz/0YXam3cX0iIt5DdgvXvYA5EXEy8GSd4czMzMZR2YnFTS1sV8Vcj6L6nRwPUoBNVQwN8nxVn/gW6fiMw0n3E7HJcz9GXGoHAoDIPAQcLOnjgG+xamZmNoAyE4ubXNiuycXxUk+OBynApiqGijxfXSe+KR2fcTjpnuguVVUAj8s8kFGTXEBI2lPSKZJ+CPw3cBhwSm3JzMzMxlyZicV13x61aUVPjgcpwKYqhlKer+7Oz1RFTlNdpzp1dpd2ZAdmsGPP/VIL4HGZBzKKpiwgJM2QdIyka4HVwEnA1cCjwBsj4isNZDQzMxtbZS4Tquv2qE0b9OS46js79Xu+Jjo/k31tk12nOnR3lzazhSC2KyJSf4fHZR7IqOpd+j3tQWArcDHwlxHxQwBJ7645l5mZ2bRR5qRv4kTrzI0XjGTxAE+fHPfqQMDTJ5W9jtNpsxbzpp0WVnbi3O/5Jo5vd9Z+J75VXGoz6GsP22Tdpc1s+f9OxFNsLlQ89LrUDWjtMRg3/S5h+hGwK/AbwMsl7VZ/JDMzMytiGJOdq1bmkqyq33Xv93xFOz9VXmoz7K5T0UKoX3dpM1t4is1AWhepznkgnk+RbsoCIl+kZ3+y1T5PBdbklzPNBmbUns7MzMyStPXSlSKGfXJcROrlU3VcalP1pVupBimEUi+9SimA65wH4vkUxfSdRB0Rd0fE2RFxALAQeIDssqabJS2tO6CZmZlNH8M6OR5Ev85PnbdcbbrrVKYQSukupRTAg84D6ddZ8HyK4orexnVFRJxIthbEe4FDakllZmZm09YoXZI12YlvE7dcbarrVEUhVFV3qeilbv06C+OwrsYwFCogJuQLy10WEa+pOpCZmZnZKF+SNQ63XJ1QZSFUVXcptRjp11kYh3U1hmWgAsLMzMzMehv1W65OqKMQqqq71K8Y6ddZGKcibxhcQJiZmZlVbBwW+qurEKrylru9ipGUzsK4FHnD4gLCzMzMrAajdFepybS9EOo+wS/SWWj799ZmLiDMzMzMatLWu0oVWfNglAqhop2FUfre2sQFhJmZmVmN2nZXqUHWPGhrIdRL0c7CKH1vbbHjsAOYmZmZjbu2XEvffWciIPmE+bRZi3nTTgtb871MZeJ7mpgL0a+zUNX31vRq1sNaPdsdCDMzM7NpoIo1D0aheJhQtLNQ9ntrejXrYa6e7Q6EmZmZ2Zjrd2ciSO9EjJKmuiZlOjuj8Hrd3IEwMzMzG2PTfc2DJoqHOlaznuzypDasnu0CwszMzGyMec2D+tS1mvVklye1ZfVsFxBmZmZmY85rHlSvrs5O9+VJbVw92wWEmZmZ2TTgNQ+qVUdnZ6rLk9rUSfIkajMzM7NpYqJYOHPjBS4eKtB9u9gJgxRnRSa6V/F6ZbiAMDMzM5tGRmk9h1FQdM2JXiYuT5rMxOVJb9ppYSWvV5YvYTIzMzObZlw8VKvsatZFL08a9urZ7kCYmZmZmZVUtrNT9PKkYXaS3IEwMzMzM6tA2ZP5ohPdh9VJcgFhZmZmZtYSw748KYUvYTIzMzMza5G2T3R3B8LMzMzMrGXaWjyACwgzMzMzMyvABYSZmZmZmSVzAWFmZmZmZskaKyAk7S7pakkbJN0t6dhJ9pOk8yQ9nD/Ok6SmcpqZmZmZ2eSavAvT54AngXnArwFfl3RzRNzStd+JwBuA+UAA3wLuAs5vMKuZmZmZmfXQSAdC0mzgGOCjEbE+IlYA1wDH9dj9eOCTEXFfRKwGPgm8vYmcZmZmZmY2taY6EAcCmyNiZce2m4Hf7rHvQfnnOvc7qNeTSjqRrGMBsEnSTyrIWqdnAz8fdogpOF95bc/ofOW1PWNqvn3rDtIGP/jBD9ZLun3YOfoYl9+pYWl7Pmh/Rucrr+0ZKx0bmiog5gCPdW1bCzxzkn3Xdu03R5IiIjp3jIhlwDIASd+PiJdVF7l6bc/ofOW1PaPzldf2jG3PNwS3t/14tP1n5nzltT2j85XX9oxV52tqEvV6YG7XtrnAuoR95wLru4sHMzMzMzNrXlMFxEpgR0kHdGybD3RPoCbfNj9hPzMzMzMza1gjBUREbACuAj4mabakw4HXA5f02H058AFJe0t6LvBB4OKEl1lWVd4atT2j85XX9ozOV17bM7Y9X9NG4Xi0PaPzldf2jM5XXtszVppPTV0ZJGl34IvAUcDDwGkRcamkI4HrImJOvp+A84AT8i+9EPiIL2EyMzMzMxu+xgoIMzMzMzMbfY2tRG1mZmZmZqPPBYSZmZmZmSUbqQJC0u6Srpa0QdLdko6dZD9JOk/Sw/njvHxuRVvyvUrS9ZLWSlpVd64B8n1I0k8krZN0l6QPtTDjn0u6U9Jjku6X9GlJta9rkpqvY/+dJN0m6b66sxXJJ+ksSU9JWt/x2K9NGfN9Xyrp3/N8D0o6pS35JF3XdfyelPTjFuWbKen8/Lg9IulaSXvXnW8YPDY0ls9jQ8l8Hft7bBgwY76vx4bB81UzNkTEyDyAy4DLyRabO4JskbmDeux3EnA78Dxgb+BW4J0tyncYcBzZKtqrWnj8Pgy8lGyhwV8B7gbe0rKM+wO75n/fHfg28IG25OvY/wzg34H7Wnb8zgK+3NTv3oAZnw38DFgEzCRbePJFbcnX4+tuAP6iLfnyf8c3A/OAncnucHfVMH7mLTomHhvK/055bCiRr2N/jw2DZ/TYUO74VTI2NP4LUuLAzAaeBA7s2HYJsKTHvt8FTuz4+M+A77UlX8fnf6epQWKQfB37/R3w2bZmBPYA/hX4fJvyAb8M3Aa8polBouC/kaEMEgUzngtc0tZ8XV/3AmAL8IK25AP+AVja8fFryVZlbvRn3qafmceGavJ17OexYYB8HhtKZ/TYUO74VTI2jNIlTAcCmyNiZce2m4GDeux7UP65fvtVqUi+YRgoX97eP5JmFvMrlFHSsZIeA35OtuDgBW3KB3wWOB3YWHOuCUXzvS5vX94i6V31xwOKZXwF8Iik70r6Wd5m3adF+TotBr4TEavqCpYrku8LwOGSnitpF7J3666rOd8weGwox2NDw/nw2NCLx4ZyGh8bRqmAmAM81rVtLVnrqte+a7v2m1Pzta5F8g3DoPnOIvs9uaiGTN0KZYyISyNiLtk/nPOBB+uNl55P0tHADhFxdc2ZOhU5flcALwL2BN4B/IWkt9YbDyiW8XnA8cApwD7AXWQt2joN+u9kMWkLXpZVJN8dwL3A6vxrXgR8rNZ0w+GxoRyPDeV5bCjPY0M5jY8No1RArAfmdm2bC6xL2HcusD7yXk1NiuQbhsL5JJ1M9sv/2ojYVGO2CQMdw4i4g+xdsM/XlGtCUj5Js4GlwPtqztMt+fhFxK0RcX9EbImI7wKfAf64TRnJ3p27OiJuiogngL8CfkvSs1qSDwBJRwB7AV+tMdeEIvk+R3Z98B5k7e2rGM8OhMeGcjw2lOexocGMeGzopfGxYZQKiJXAjpIO6Ng2n97t01vyz/Xbr0pF8g1DoXyS/hQ4DVgYEY3cJYJyx3BHsslzdUrNdwDZdY/fkbSG7B/nL0laI+kFLcjXSwC1342GYhl/lOea0MSql4Mcw+PJJqCtrzVZpki+XwMujohH8pO8zwKHSXp2Azmb5LGhHI8N5XlsKM9jQznNjw11TuqoYZLIP5G1qWYDhzP5DPN3kk1Q2ht4bn4Am7jTRmq+Z5DNfH8N2V0sdgZ2alG+RcAaGrirQYmMJwDPyf/+4vxn/Kk25CMbsPbqePwRcH/+9x2GnS/f7/XAbmQDw2FkrczjW/YzfjXwC7L/7GYAnya7lrQV+fJ9Z+Wff3UTx67g8bsIuBJ4Vn78TgdWN5WzyYfHhsbyeWwokc9jQ2UZPTaUO36VjA2NfFMVHpzdga8BG4B7gGPz7UeStaEn9hNZm/CR/LEUUIvyLSCrmDsfN7Qo313AU2QtsYnH+S37GV9Edl3rBmAV8HFg57bk6/qaBTR3q77U43cZ8HD+s/0f4H1N5Ct6DIF3kQ1gvwCuBZ7fsnxvJTvRq/3/lwF+xnsA/0h2u8NHgRXAYU3lbPJR4Jh4bCiXz2NDyXxdX7MAjw0DHUM8NpT5GVcyNih/MjMzMzMzs75GaQ6EmZmZmZkNmQsIMzMzMzNL5gLCzMzMzMySuYAwMzMzM7NkLiDMzMzMzCyZCwgzMzMzM0vmAsJsEpLOl/TRjo/fJelBSesl7SHpcEl35B+/QdJ1ko4v+ZoLJDW1uquZmRXkscEMrwNh05ekVcA8YDOwBbgVWA4si4itXfvOAB4DXhERN+fb/g24JiI+U2GmBcCXI+J5HRlPiIh/reo1zMxsch4bzPpzB8Kmu9dFxDOBfYElwEeAL/TYbx6wM3BLx7Z9uz42M7Px4LHBbAouIMyAiFgbEdcAbwaOl3SwpIslnSPpQOD2fNdHJX1b0k+B/YBr8zb1TEk3SDph4jklvUPSbZLWSbpV0kvz7SHphR37XSzpnO5Mki4B9ul4jQ9L+rqk93bt9yNJR1d9TMzMpjuPDWa9uYAw6xARNwL3AUd2bFsJHJR/uGtEvDoi9gfuIXuXak5EbOp8HklvBM4CFgNzgT8EHi6Y5biu11gKfAl4W8frzAf2Br5e5LnNzCydxwazbbmAMNve/cDuJZ/jBGBpRNwUmf+NiLsryHYNcKCkA/KPjwMuj4gnK3huMzObnMcGs5wLCLPt7Q08UvI5ng/8tIIs24iIJ4DLgbdJegbwVuCSql/HzMy247HBLOcCwqyDpJeTDRIrSj7VvcD+k3zucWCXjo/3muJ5et0m7UvAImAh8HhE/OdACc3MLInHBrNtuYAwAyTNlfQHwD+R3SrvxyWf8kLgVEmHKvNCSfvmn/tv4FhJO0j6PeC3p3ieB8km5P2/fFDYCnwSv8NkZlYbjw1mvbmAsOnuWknryN4VOgP4FPAnZZ80Ir4C/DVwKbAO+BpPXzt7CvA64FGyd4u+NsVT/Q1wpqRHJZ3asX05cAjw5bJZzcxsOx4bzKbgheTMRpCkxcCJEXHEsLOYmVk7eGywprgDYTZiJO0CvBtYNuwsZmbWDh4brEkuIMxGiKTfBR4iu/710iHHMTOzFvDYYE3zJUxmZmZmZpbMHQgzMzMzM0vmAsLMzMzMzJK5gDAzMzMzs2QuIMzMzMzMLJkLCDMzMzMzS/Z/Jl87M2Zz0lQAAAAASUVORK5CYII=\n",
      "text/plain": [
       "<Figure size 792x288 with 2 Axes>"
      ]
     },
     "metadata": {
      "needs_background": "light"
     },
     "output_type": "display_data"
    }
   ],
   "source": [
    "fig, ax = plt.subplots(1, 2, figsize=(11, 4))\n",
    "\n",
    "# difficulty = 1-df_diff['acc_base_in']\n",
    "x = list(1-df_diff['acc_base_in'])\n",
    "\n",
    "ax[0].scatter(x, df_diff['acc_base_in'], **styles['0'], label='before training')\n",
    "ax[0].scatter(x, df_diff['acc_trained_in'], **styles['1'], label='after training')\n",
    "scatter_line(ax[1], x, df_diff['acc_change_in'], styles['in'])\n",
    "scatter_line(ax[1], x, df_diff['acc_change_out'], styles['out'])\n",
    "# scatter_line(ax[1], x, df_diff['acc_trained_in'], styles['in'])\n",
    "# scatter_line(ax[1], x, df_diff['acc_trained_out'], styles['out'])\n",
    "\n",
    "ax[1].set_ylabel('Accuracy change', labelpad=-5)\n",
    "ax[0].set_ylabel('Accuracy (in-set categories)')\n",
    "ax[1].legend(title='Source of test examples')\n",
    "ax[0].legend()\n",
    "# ax[1].legend(title='Source of test examples')\n",
    "ax[1].axhline(y=0, color='k', linestyle='--', linewidth=0.8)\n",
    "# ax[1].set_ylim(top=0.3)\n",
    "ax[0].set_ylim(bottom=0)\n",
    "# ax[1].axhline(y=0, color='k', linestyle='--', linewidth=0.8)\n",
    "\n",
    "# fig, ax = plot_change_acc(df_diff, list(1-df_diff['incontext_base']))\n",
    "\n",
    "for a in ax:\n",
    "    a.set_xlabel('Difficulty')\n",
    "    a.set_xlim(left=0)\n",
    "    \n",
    "plt.tight_layout()\n",
    "# plt.savefig('diff_v3_change_beforeafter.png', dpi=200)\n",
    "plt.savefig('diff_acc.pdf')\n",
    "plt.show()"
   ]
  },
  {
   "cell_type": "code",
   "execution_count": 529,
   "metadata": {},
   "outputs": [],
   "source": [
    "# fig, ax = plt.subplots(1, 2, figsize=(10, 4))\n",
    "\n",
    "# difficulty = 1-df_diff['incontext_base']\n",
    "# x = list(1-df_diff['incontext_base'])\n",
    "\n",
    "# scatter_line(ax[0], x, df_diff['incontext_change'], styles['in'])\n",
    "# scatter_line(ax[0], x, df_diff['outofcontext_change'], styles['out'])\n",
    "# scatter_line(ax[1], x, df_diff['incontext_change']/difficulty, styles['in'])\n",
    "# scatter_line(ax[1], x, df_diff['outofcontext_change']/difficulty, styles['out'])\n",
    "\n",
    "# ax[0].yaxis.set_major_formatter(FormatStrFormatter('%.1f'))\n",
    "# ax[0].set_ylabel('Accuracy change (unnormalised)')\n",
    "# ax[1].set_ylabel('Accuracy change (normalised)')\n",
    "# ax[0].legend(title='Source of test examples')\n",
    "# ax[1].legend(title='Source of test examples')\n",
    "# ax[0].axhline(y=0, color='k', linestyle='--', linewidth=0.8)\n",
    "# ax[1].axhline(y=0, color='k', linestyle='--', linewidth=0.8)\n",
    "\n",
    "# # fig, ax = plot_change_acc(df_diff, list(1-df_diff['incontext_base']))\n",
    "\n",
    "# for a in ax:\n",
    "#     a.set_xlabel('Difficulty')\n",
    "#     a.set_xlim(left=0)\n",
    "    \n",
    "# plt.tight_layout()\n",
    "# # plt.savefig('diffcontexts_acc_change_norm.png', dpi=200)\n",
    "# plt.show()"
   ]
  },
  {
   "cell_type": "markdown",
   "metadata": {},
   "source": [
    "### Size contexts"
   ]
  },
  {
   "cell_type": "code",
   "execution_count": 304,
   "metadata": {},
   "outputs": [
    {
     "data": {
      "text/html": [
       "<div>\n",
       "<style scoped>\n",
       "    .dataframe tbody tr th:only-of-type {\n",
       "        vertical-align: middle;\n",
       "    }\n",
       "\n",
       "    .dataframe tbody tr th {\n",
       "        vertical-align: top;\n",
       "    }\n",
       "\n",
       "    .dataframe thead th {\n",
       "        text-align: right;\n",
       "    }\n",
       "</style>\n",
       "<table border=\"1\" class=\"dataframe\">\n",
       "  <thead>\n",
       "    <tr style=\"text-align: right;\">\n",
       "      <th></th>\n",
       "      <th>size</th>\n",
       "      <th>similarity</th>\n",
       "      <th>acc_base_in</th>\n",
       "      <th>acc_base_out</th>\n",
       "      <th>acc_trained_in</th>\n",
       "      <th>acc_trained_out</th>\n",
       "      <th>acc_change_in</th>\n",
       "      <th>acc_change_out</th>\n",
       "      <th>num_epochs</th>\n",
       "    </tr>\n",
       "  </thead>\n",
       "  <tbody>\n",
       "    <tr>\n",
       "      <th>1</th>\n",
       "      <td>2</td>\n",
       "      <td>0.471780</td>\n",
       "      <td>0.627551</td>\n",
       "      <td>0.646172</td>\n",
       "      <td>0.949495</td>\n",
       "      <td>0.586551</td>\n",
       "      <td>0.321944</td>\n",
       "      <td>-0.059621</td>\n",
       "      <td>300</td>\n",
       "    </tr>\n",
       "    <tr>\n",
       "      <th>2</th>\n",
       "      <td>4</td>\n",
       "      <td>0.460416</td>\n",
       "      <td>0.628451</td>\n",
       "      <td>0.646206</td>\n",
       "      <td>0.973545</td>\n",
       "      <td>0.517930</td>\n",
       "      <td>0.345094</td>\n",
       "      <td>-0.128276</td>\n",
       "      <td>300</td>\n",
       "    </tr>\n",
       "    <tr>\n",
       "      <th>3</th>\n",
       "      <td>8</td>\n",
       "      <td>0.402342</td>\n",
       "      <td>0.645502</td>\n",
       "      <td>0.646140</td>\n",
       "      <td>0.951872</td>\n",
       "      <td>0.387327</td>\n",
       "      <td>0.306370</td>\n",
       "      <td>-0.258814</td>\n",
       "      <td>300</td>\n",
       "    </tr>\n",
       "    <tr>\n",
       "      <th>4</th>\n",
       "      <td>16</td>\n",
       "      <td>0.382833</td>\n",
       "      <td>0.664092</td>\n",
       "      <td>0.645843</td>\n",
       "      <td>0.898417</td>\n",
       "      <td>0.444692</td>\n",
       "      <td>0.234324</td>\n",
       "      <td>-0.201151</td>\n",
       "      <td>174</td>\n",
       "    </tr>\n",
       "    <tr>\n",
       "      <th>5</th>\n",
       "      <td>32</td>\n",
       "      <td>0.424631</td>\n",
       "      <td>0.655852</td>\n",
       "      <td>0.645814</td>\n",
       "      <td>0.845651</td>\n",
       "      <td>0.469524</td>\n",
       "      <td>0.189798</td>\n",
       "      <td>-0.176290</td>\n",
       "      <td>137</td>\n",
       "    </tr>\n",
       "  </tbody>\n",
       "</table>\n",
       "</div>"
      ],
      "text/plain": [
       "   size  similarity  acc_base_in  acc_base_out  acc_trained_in  \\\n",
       "1     2    0.471780     0.627551      0.646172        0.949495   \n",
       "2     4    0.460416     0.628451      0.646206        0.973545   \n",
       "3     8    0.402342     0.645502      0.646140        0.951872   \n",
       "4    16    0.382833     0.664092      0.645843        0.898417   \n",
       "5    32    0.424631     0.655852      0.645814        0.845651   \n",
       "\n",
       "   acc_trained_out  acc_change_in  acc_change_out  num_epochs  \n",
       "1         0.586551       0.321944       -0.059621         300  \n",
       "2         0.517930       0.345094       -0.128276         300  \n",
       "3         0.387327       0.306370       -0.258814         300  \n",
       "4         0.444692       0.234324       -0.201151         174  \n",
       "5         0.469524       0.189798       -0.176290         137  "
      ]
     },
     "execution_count": 304,
     "metadata": {},
     "output_type": "execute_result"
    }
   ],
   "source": [
    "df_size_v6 = context_summary(type_context='size', version_wnids=4, version_weights=6).iloc[1:]\n",
    "df_size_v6.head()"
   ]
  },
  {
   "cell_type": "code",
   "execution_count": 305,
   "metadata": {},
   "outputs": [
    {
     "data": {
      "text/html": [
       "<div>\n",
       "<style scoped>\n",
       "    .dataframe tbody tr th:only-of-type {\n",
       "        vertical-align: middle;\n",
       "    }\n",
       "\n",
       "    .dataframe tbody tr th {\n",
       "        vertical-align: top;\n",
       "    }\n",
       "\n",
       "    .dataframe thead th {\n",
       "        text-align: right;\n",
       "    }\n",
       "</style>\n",
       "<table border=\"1\" class=\"dataframe\">\n",
       "  <thead>\n",
       "    <tr style=\"text-align: right;\">\n",
       "      <th></th>\n",
       "      <th>size</th>\n",
       "      <th>similarity</th>\n",
       "      <th>acc_base_in</th>\n",
       "      <th>acc_base_out</th>\n",
       "      <th>acc_trained_in</th>\n",
       "      <th>acc_trained_out</th>\n",
       "      <th>acc_change_in</th>\n",
       "      <th>acc_change_out</th>\n",
       "      <th>num_epochs</th>\n",
       "    </tr>\n",
       "  </thead>\n",
       "  <tbody>\n",
       "    <tr>\n",
       "      <th>1</th>\n",
       "      <td>2</td>\n",
       "      <td>0.298697</td>\n",
       "      <td>0.670000</td>\n",
       "      <td>0.646087</td>\n",
       "      <td>0.940000</td>\n",
       "      <td>0.589368</td>\n",
       "      <td>0.270000</td>\n",
       "      <td>-0.056719</td>\n",
       "      <td>300</td>\n",
       "    </tr>\n",
       "    <tr>\n",
       "      <th>2</th>\n",
       "      <td>4</td>\n",
       "      <td>0.345680</td>\n",
       "      <td>0.620833</td>\n",
       "      <td>0.646237</td>\n",
       "      <td>0.956989</td>\n",
       "      <td>0.455257</td>\n",
       "      <td>0.336156</td>\n",
       "      <td>-0.190980</td>\n",
       "      <td>300</td>\n",
       "    </tr>\n",
       "    <tr>\n",
       "      <th>3</th>\n",
       "      <td>8</td>\n",
       "      <td>0.473047</td>\n",
       "      <td>0.659316</td>\n",
       "      <td>0.646029</td>\n",
       "      <td>0.945736</td>\n",
       "      <td>0.461182</td>\n",
       "      <td>0.286421</td>\n",
       "      <td>-0.184847</td>\n",
       "      <td>300</td>\n",
       "    </tr>\n",
       "    <tr>\n",
       "      <th>4</th>\n",
       "      <td>16</td>\n",
       "      <td>0.441069</td>\n",
       "      <td>0.657371</td>\n",
       "      <td>0.645952</td>\n",
       "      <td>0.886889</td>\n",
       "      <td>0.425643</td>\n",
       "      <td>0.229519</td>\n",
       "      <td>-0.220310</td>\n",
       "      <td>197</td>\n",
       "    </tr>\n",
       "    <tr>\n",
       "      <th>5</th>\n",
       "      <td>32</td>\n",
       "      <td>0.440449</td>\n",
       "      <td>0.658734</td>\n",
       "      <td>0.645719</td>\n",
       "      <td>0.847413</td>\n",
       "      <td>0.476740</td>\n",
       "      <td>0.188679</td>\n",
       "      <td>-0.168979</td>\n",
       "      <td>127</td>\n",
       "    </tr>\n",
       "  </tbody>\n",
       "</table>\n",
       "</div>"
      ],
      "text/plain": [
       "   size  similarity  acc_base_in  acc_base_out  acc_trained_in  \\\n",
       "1     2    0.298697     0.670000      0.646087        0.940000   \n",
       "2     4    0.345680     0.620833      0.646237        0.956989   \n",
       "3     8    0.473047     0.659316      0.646029        0.945736   \n",
       "4    16    0.441069     0.657371      0.645952        0.886889   \n",
       "5    32    0.440449     0.658734      0.645719        0.847413   \n",
       "\n",
       "   acc_trained_out  acc_change_in  acc_change_out  num_epochs  \n",
       "1         0.589368       0.270000       -0.056719         300  \n",
       "2         0.455257       0.336156       -0.190980         300  \n",
       "3         0.461182       0.286421       -0.184847         300  \n",
       "4         0.425643       0.229519       -0.220310         197  \n",
       "5         0.476740       0.188679       -0.168979         127  "
      ]
     },
     "execution_count": 305,
     "metadata": {},
     "output_type": "execute_result"
    }
   ],
   "source": [
    "df_size_v7 = context_summary(type_context='size', version_wnids=5, version_weights=7).iloc[1:]\n",
    "df_size_v7.head()"
   ]
  },
  {
   "cell_type": "code",
   "execution_count": 170,
   "metadata": {},
   "outputs": [],
   "source": [
    "# fig, ax = plot_change_acc(df_size_v6, list(df_size_v6['size']))\n",
    "# plt.xlabel('Size')\n",
    "# plt.tight_layout()\n",
    "# # plt.savefig('sizecontexts_acc_change.png', dpi=200)\n",
    "# plt.show()"
   ]
  },
  {
   "cell_type": "code",
   "execution_count": 531,
   "metadata": {},
   "outputs": [
    {
     "data": {
      "image/png": "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\n",
      "text/plain": [
       "<Figure size 792x288 with 2 Axes>"
      ]
     },
     "metadata": {
      "needs_background": "light"
     },
     "output_type": "display_data"
    }
   ],
   "source": [
    "fig, ax = plt.subplots(1, 2, sharey=True, figsize=(11, 4))\n",
    "\n",
    "x = list(df_size_v6['size'])\n",
    "\n",
    "scatter_line(ax[0], x, df_size_v6['acc_change_in'], styles['in'])\n",
    "scatter_line(ax[0], x, df_size_v6['acc_change_out'], styles['out'])\n",
    "scatter_line(ax[1], x, df_size_v7['acc_change_in'], styles['in'])\n",
    "scatter_line(ax[1], x, df_size_v7['acc_change_out'], styles['out'])\n",
    "\n",
    "ax[0].set_ylabel('Accuracy change')\n",
    "# ax[1].set_ylabel('Accuracy change')\n",
    "ax[0].legend(title='Source of test examples')\n",
    "ax[1].legend(title='Source of test examples')\n",
    "ax[0].axhline(y=0, color='k', linestyle='--', linewidth=0.8)\n",
    "ax[1].axhline(y=0, color='k', linestyle='--', linewidth=0.8)\n",
    "\n",
    "for a in ax:\n",
    "    a.set_xlabel('Size')\n",
    "#     a.set_xlim(left=0)\n",
    "    \n",
    "plt.tight_layout()\n",
    "# plt.savefig('size_v6-7_change.png', dpi=200)\n",
    "plt.savefig('size_acc.pdf')\n",
    "plt.show()"
   ]
  },
  {
   "cell_type": "markdown",
   "metadata": {},
   "source": [
    "### Similarity contexts"
   ]
  },
  {
   "cell_type": "code",
   "execution_count": 291,
   "metadata": {},
   "outputs": [
    {
     "data": {
      "text/html": [
       "<div>\n",
       "<style scoped>\n",
       "    .dataframe tbody tr th:only-of-type {\n",
       "        vertical-align: middle;\n",
       "    }\n",
       "\n",
       "    .dataframe tbody tr th {\n",
       "        vertical-align: top;\n",
       "    }\n",
       "\n",
       "    .dataframe thead th {\n",
       "        text-align: right;\n",
       "    }\n",
       "</style>\n",
       "<table border=\"1\" class=\"dataframe\">\n",
       "  <thead>\n",
       "    <tr style=\"text-align: right;\">\n",
       "      <th></th>\n",
       "      <th>size</th>\n",
       "      <th>similarity</th>\n",
       "      <th>acc_base_in</th>\n",
       "      <th>acc_base_out</th>\n",
       "      <th>acc_trained_in</th>\n",
       "      <th>acc_trained_out</th>\n",
       "      <th>acc_change_in</th>\n",
       "      <th>acc_change_out</th>\n",
       "      <th>num_epochs</th>\n",
       "    </tr>\n",
       "  </thead>\n",
       "  <tbody>\n",
       "    <tr>\n",
       "      <th>0</th>\n",
       "      <td>50</td>\n",
       "      <td>0.716746</td>\n",
       "      <td>0.600097</td>\n",
       "      <td>0.648558</td>\n",
       "      <td>0.760448</td>\n",
       "      <td>0.525034</td>\n",
       "      <td>0.160351</td>\n",
       "      <td>-0.123524</td>\n",
       "      <td>89</td>\n",
       "    </tr>\n",
       "    <tr>\n",
       "      <th>1</th>\n",
       "      <td>50</td>\n",
       "      <td>0.512130</td>\n",
       "      <td>0.611801</td>\n",
       "      <td>0.647942</td>\n",
       "      <td>0.802811</td>\n",
       "      <td>0.507715</td>\n",
       "      <td>0.191010</td>\n",
       "      <td>-0.140227</td>\n",
       "      <td>93</td>\n",
       "    </tr>\n",
       "    <tr>\n",
       "      <th>2</th>\n",
       "      <td>50</td>\n",
       "      <td>0.453881</td>\n",
       "      <td>0.648754</td>\n",
       "      <td>0.645997</td>\n",
       "      <td>0.802083</td>\n",
       "      <td>0.536498</td>\n",
       "      <td>0.153329</td>\n",
       "      <td>-0.109499</td>\n",
       "      <td>90</td>\n",
       "    </tr>\n",
       "    <tr>\n",
       "      <th>3</th>\n",
       "      <td>50</td>\n",
       "      <td>0.427748</td>\n",
       "      <td>0.674334</td>\n",
       "      <td>0.644651</td>\n",
       "      <td>0.832715</td>\n",
       "      <td>0.516972</td>\n",
       "      <td>0.158382</td>\n",
       "      <td>-0.127679</td>\n",
       "      <td>93</td>\n",
       "    </tr>\n",
       "    <tr>\n",
       "      <th>4</th>\n",
       "      <td>50</td>\n",
       "      <td>0.671111</td>\n",
       "      <td>0.686732</td>\n",
       "      <td>0.643998</td>\n",
       "      <td>0.800494</td>\n",
       "      <td>0.524112</td>\n",
       "      <td>0.113761</td>\n",
       "      <td>-0.119886</td>\n",
       "      <td>94</td>\n",
       "    </tr>\n",
       "  </tbody>\n",
       "</table>\n",
       "</div>"
      ],
      "text/plain": [
       "   size  similarity  acc_base_in  acc_base_out  acc_trained_in  \\\n",
       "0    50    0.716746     0.600097      0.648558        0.760448   \n",
       "1    50    0.512130     0.611801      0.647942        0.802811   \n",
       "2    50    0.453881     0.648754      0.645997        0.802083   \n",
       "3    50    0.427748     0.674334      0.644651        0.832715   \n",
       "4    50    0.671111     0.686732      0.643998        0.800494   \n",
       "\n",
       "   acc_trained_out  acc_change_in  acc_change_out  num_epochs  \n",
       "0         0.525034       0.160351       -0.123524          89  \n",
       "1         0.507715       0.191010       -0.140227          93  \n",
       "2         0.536498       0.153329       -0.109499          90  \n",
       "3         0.516972       0.158382       -0.127679          93  \n",
       "4         0.524112       0.113761       -0.119886          94  "
      ]
     },
     "execution_count": 291,
     "metadata": {},
     "output_type": "execute_result"
    }
   ],
   "source": [
    "df_sim_v3 = context_summary(type_context='sim', version_wnids=3, version_weights=3)\n",
    "df_sim_v3.head()"
   ]
  },
  {
   "cell_type": "code",
   "execution_count": 292,
   "metadata": {},
   "outputs": [
    {
     "data": {
      "text/html": [
       "<div>\n",
       "<style scoped>\n",
       "    .dataframe tbody tr th:only-of-type {\n",
       "        vertical-align: middle;\n",
       "    }\n",
       "\n",
       "    .dataframe tbody tr th {\n",
       "        vertical-align: top;\n",
       "    }\n",
       "\n",
       "    .dataframe thead th {\n",
       "        text-align: right;\n",
       "    }\n",
       "</style>\n",
       "<table border=\"1\" class=\"dataframe\">\n",
       "  <thead>\n",
       "    <tr style=\"text-align: right;\">\n",
       "      <th></th>\n",
       "      <th>size</th>\n",
       "      <th>similarity</th>\n",
       "      <th>acc_base_in</th>\n",
       "      <th>acc_base_out</th>\n",
       "      <th>acc_trained_in</th>\n",
       "      <th>acc_trained_out</th>\n",
       "      <th>acc_change_in</th>\n",
       "      <th>acc_change_out</th>\n",
       "      <th>num_epochs</th>\n",
       "    </tr>\n",
       "  </thead>\n",
       "  <tbody>\n",
       "    <tr>\n",
       "      <th>0</th>\n",
       "      <td>50</td>\n",
       "      <td>0.719259</td>\n",
       "      <td>0.584325</td>\n",
       "      <td>0.649388</td>\n",
       "      <td>0.745228</td>\n",
       "      <td>0.510016</td>\n",
       "      <td>0.160903</td>\n",
       "      <td>-0.139373</td>\n",
       "      <td>88</td>\n",
       "    </tr>\n",
       "    <tr>\n",
       "      <th>1</th>\n",
       "      <td>50</td>\n",
       "      <td>0.568134</td>\n",
       "      <td>0.664104</td>\n",
       "      <td>0.645189</td>\n",
       "      <td>0.814936</td>\n",
       "      <td>0.521299</td>\n",
       "      <td>0.150832</td>\n",
       "      <td>-0.123891</td>\n",
       "      <td>94</td>\n",
       "    </tr>\n",
       "    <tr>\n",
       "      <th>2</th>\n",
       "      <td>50</td>\n",
       "      <td>0.489926</td>\n",
       "      <td>0.661631</td>\n",
       "      <td>0.645319</td>\n",
       "      <td>0.817018</td>\n",
       "      <td>0.512321</td>\n",
       "      <td>0.155387</td>\n",
       "      <td>-0.132999</td>\n",
       "      <td>99</td>\n",
       "    </tr>\n",
       "    <tr>\n",
       "      <th>3</th>\n",
       "      <td>50</td>\n",
       "      <td>0.425019</td>\n",
       "      <td>0.649648</td>\n",
       "      <td>0.645950</td>\n",
       "      <td>0.796205</td>\n",
       "      <td>0.519950</td>\n",
       "      <td>0.146557</td>\n",
       "      <td>-0.126000</td>\n",
       "      <td>98</td>\n",
       "    </tr>\n",
       "    <tr>\n",
       "      <th>4</th>\n",
       "      <td>50</td>\n",
       "      <td>0.811888</td>\n",
       "      <td>0.714175</td>\n",
       "      <td>0.642554</td>\n",
       "      <td>0.778363</td>\n",
       "      <td>0.572821</td>\n",
       "      <td>0.064188</td>\n",
       "      <td>-0.069733</td>\n",
       "      <td>74</td>\n",
       "    </tr>\n",
       "  </tbody>\n",
       "</table>\n",
       "</div>"
      ],
      "text/plain": [
       "   size  similarity  acc_base_in  acc_base_out  acc_trained_in  \\\n",
       "0    50    0.719259     0.584325      0.649388        0.745228   \n",
       "1    50    0.568134     0.664104      0.645189        0.814936   \n",
       "2    50    0.489926     0.661631      0.645319        0.817018   \n",
       "3    50    0.425019     0.649648      0.645950        0.796205   \n",
       "4    50    0.811888     0.714175      0.642554        0.778363   \n",
       "\n",
       "   acc_trained_out  acc_change_in  acc_change_out  num_epochs  \n",
       "0         0.510016       0.160903       -0.139373          88  \n",
       "1         0.521299       0.150832       -0.123891          94  \n",
       "2         0.512321       0.155387       -0.132999          99  \n",
       "3         0.519950       0.146557       -0.126000          98  \n",
       "4         0.572821       0.064188       -0.069733          74  "
      ]
     },
     "execution_count": 292,
     "metadata": {},
     "output_type": "execute_result"
    }
   ],
   "source": [
    "df_sim_v4 = context_summary(type_context='sim', version_wnids=4, version_weights=4)\n",
    "df_sim_v4.head()"
   ]
  },
  {
   "cell_type": "code",
   "execution_count": 533,
   "metadata": {},
   "outputs": [
    {
     "data": {
      "image/png": "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\n",
      "text/plain": [
       "<Figure size 432x288 with 1 Axes>"
      ]
     },
     "metadata": {
      "needs_background": "light"
     },
     "output_type": "display_data"
    }
   ],
   "source": [
    "fig, ax = plot_change_acc(df_sim_v4, list(df_sim_v4['similarity']))\n",
    "plt.xlabel('Similarity')\n",
    "plt.tight_layout()\n",
    "plt.ylim(top=0.3)\n",
    "# plt.savefig('sim_v3_change.png', dpi=200)\n",
    "plt.show()"
   ]
  },
  {
   "cell_type": "code",
   "execution_count": 536,
   "metadata": {},
   "outputs": [
    {
     "data": {
      "image/png": "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\n",
      "text/plain": [
       "<Figure size 792x288 with 2 Axes>"
      ]
     },
     "metadata": {
      "needs_background": "light"
     },
     "output_type": "display_data"
    }
   ],
   "source": [
    "fig, ax = plt.subplots(1, 2, sharex=True, sharey=True, figsize=(11, 4))\n",
    "\n",
    "x3 = list(df_sim_v3['similarity'])\n",
    "x4 = list(df_sim_v4['similarity'])\n",
    "\n",
    "scatter_line(ax[0], x3, df_sim_v3['acc_change_in'], styles['in'])\n",
    "scatter_line(ax[0], x3, df_sim_v3['acc_change_out'], styles['out'])\n",
    "scatter_line(ax[1], x4, df_sim_v4['acc_change_in'], styles['in'])\n",
    "scatter_line(ax[1], x4, df_sim_v4['acc_change_out'], styles['out'])\n",
    "\n",
    "ax[0].set_ylabel('Accuracy change')\n",
    "# ax[1].set_ylabel('Accuracy change')\n",
    "ax[0].legend(title='Source of test examples')\n",
    "ax[1].legend(title='Source of test examples')\n",
    "ax[0].axhline(y=0, color='k', linestyle='--', linewidth=0.8)\n",
    "ax[1].axhline(y=0, color='k', linestyle='--', linewidth=0.8)\n",
    "\n",
    "for a in ax:\n",
    "    a.set_xlabel('Similarity')\n",
    "    a.set_ylim(top=0.3)\n",
    "#     a.set_xlim(left=0)\n",
    "    \n",
    "plt.tight_layout()\n",
    "# plt.savefig('sim_v3-4_change.png', dpi=200)\n",
    "plt.savefig('sim_acc.pdf')\n",
    "plt.show()"
   ]
  },
  {
   "cell_type": "markdown",
   "metadata": {},
   "source": [
    "### Regression"
   ]
  },
  {
   "cell_type": "code",
   "execution_count": 361,
   "metadata": {},
   "outputs": [],
   "source": [
    "import statsmodels.api as sm\n",
    "from sklearn.linear_model import LinearRegression\n",
    "\n",
    "def regression(x, y):\n",
    "    x0 = np.array(x)[:, None]\n",
    "    x1 = sm.add_constant(x0)\n",
    "    y = np.array(y)[:, None]\n",
    "    lr_skl = LinearRegression().fit(x0, y)\n",
    "    lr_sm = sm.OLS(y, x1).fit()\n",
    "    \n",
    "    print('SKL: beta0, beta1, R2')\n",
    "    print([round(a, 4) for a in [lr_skl.intercept_[0], lr_skl.coef_[0][0], lr_skl.score(x0, y)]])\n",
    "\n",
    "    print('SM: beta0, beta1, R2')\n",
    "    print([round(a, 4) for a in lr_sm.params], round(lr_sm.rsquared, 4))\n",
    "    \n",
    "    print('SM: p0, p1')\n",
    "    print([f'{a:.5f}' for a in lr_sm.pvalues])\n",
    "    \n",
    "    return lr_sm"
   ]
  },
  {
   "cell_type": "code",
   "execution_count": 362,
   "metadata": {},
   "outputs": [
    {
     "name": "stdout",
     "output_type": "stream",
     "text": [
      "SKL: beta0, beta1, R2\n",
      "[0.0373, 0.3026, 0.9162]\n",
      "SM: beta0, beta1, R2\n",
      "[0.0373, 0.3026] 0.9162\n",
      "SM: p0, p1\n",
      "['0.00033', '0.00000']\n"
     ]
    },
    {
     "data": {
      "text/html": [
       "<table class=\"simpletable\">\n",
       "<caption>OLS Regression Results</caption>\n",
       "<tr>\n",
       "  <th>Dep. Variable:</th>            <td>y</td>        <th>  R-squared:         </th> <td>   0.916</td>\n",
       "</tr>\n",
       "<tr>\n",
       "  <th>Model:</th>                   <td>OLS</td>       <th>  Adj. R-squared:    </th> <td>   0.913</td>\n",
       "</tr>\n",
       "<tr>\n",
       "  <th>Method:</th>             <td>Least Squares</td>  <th>  F-statistic:       </th> <td>   251.3</td>\n",
       "</tr>\n",
       "<tr>\n",
       "  <th>Date:</th>             <td>Mon, 02 Sep 2019</td> <th>  Prob (F-statistic):</th> <td>7.14e-14</td>\n",
       "</tr>\n",
       "<tr>\n",
       "  <th>Time:</th>                 <td>19:07:19</td>     <th>  Log-Likelihood:    </th> <td>  63.745</td>\n",
       "</tr>\n",
       "<tr>\n",
       "  <th>No. Observations:</th>      <td>    25</td>      <th>  AIC:               </th> <td>  -123.5</td>\n",
       "</tr>\n",
       "<tr>\n",
       "  <th>Df Residuals:</th>          <td>    23</td>      <th>  BIC:               </th> <td>  -121.1</td>\n",
       "</tr>\n",
       "<tr>\n",
       "  <th>Df Model:</th>              <td>     1</td>      <th>                     </th>     <td> </td>   \n",
       "</tr>\n",
       "<tr>\n",
       "  <th>Covariance Type:</th>      <td>nonrobust</td>    <th>                     </th>     <td> </td>   \n",
       "</tr>\n",
       "</table>\n",
       "<table class=\"simpletable\">\n",
       "<tr>\n",
       "    <td></td>       <th>coef</th>     <th>std err</th>      <th>t</th>      <th>P>|t|</th>  <th>[0.025</th>    <th>0.975]</th>  \n",
       "</tr>\n",
       "<tr>\n",
       "  <th>const</th> <td>    0.0373</td> <td>    0.009</td> <td>    4.214</td> <td> 0.000</td> <td>    0.019</td> <td>    0.056</td>\n",
       "</tr>\n",
       "<tr>\n",
       "  <th>x1</th>    <td>    0.3026</td> <td>    0.019</td> <td>   15.854</td> <td> 0.000</td> <td>    0.263</td> <td>    0.342</td>\n",
       "</tr>\n",
       "</table>\n",
       "<table class=\"simpletable\">\n",
       "<tr>\n",
       "  <th>Omnibus:</th>       <td> 0.305</td> <th>  Durbin-Watson:     </th> <td>   0.951</td>\n",
       "</tr>\n",
       "<tr>\n",
       "  <th>Prob(Omnibus):</th> <td> 0.859</td> <th>  Jarque-Bera (JB):  </th> <td>   0.477</td>\n",
       "</tr>\n",
       "<tr>\n",
       "  <th>Skew:</th>          <td>-0.046</td> <th>  Prob(JB):          </th> <td>   0.788</td>\n",
       "</tr>\n",
       "<tr>\n",
       "  <th>Kurtosis:</th>      <td> 2.330</td> <th>  Cond. No.          </th> <td>    5.71</td>\n",
       "</tr>\n",
       "</table><br/><br/>Warnings:<br/>[1] Standard Errors assume that the covariance matrix of the errors is correctly specified."
      ],
      "text/plain": [
       "<class 'statsmodels.iolib.summary.Summary'>\n",
       "\"\"\"\n",
       "                            OLS Regression Results                            \n",
       "==============================================================================\n",
       "Dep. Variable:                      y   R-squared:                       0.916\n",
       "Model:                            OLS   Adj. R-squared:                  0.913\n",
       "Method:                 Least Squares   F-statistic:                     251.3\n",
       "Date:                Mon, 02 Sep 2019   Prob (F-statistic):           7.14e-14\n",
       "Time:                        19:07:19   Log-Likelihood:                 63.745\n",
       "No. Observations:                  25   AIC:                            -123.5\n",
       "Df Residuals:                      23   BIC:                            -121.1\n",
       "Df Model:                           1                                         \n",
       "Covariance Type:            nonrobust                                         \n",
       "==============================================================================\n",
       "                 coef    std err          t      P>|t|      [0.025      0.975]\n",
       "------------------------------------------------------------------------------\n",
       "const          0.0373      0.009      4.214      0.000       0.019       0.056\n",
       "x1             0.3026      0.019     15.854      0.000       0.263       0.342\n",
       "==============================================================================\n",
       "Omnibus:                        0.305   Durbin-Watson:                   0.951\n",
       "Prob(Omnibus):                  0.859   Jarque-Bera (JB):                0.477\n",
       "Skew:                          -0.046   Prob(JB):                        0.788\n",
       "Kurtosis:                       2.330   Cond. No.                         5.71\n",
       "==============================================================================\n",
       "\n",
       "Warnings:\n",
       "[1] Standard Errors assume that the covariance matrix of the errors is correctly specified.\n",
       "\"\"\""
      ]
     },
     "execution_count": 362,
     "metadata": {},
     "output_type": "execute_result"
    }
   ],
   "source": [
    "lr_diff = regression(\n",
    "    x=1-df_diff['acc_base_in'],\n",
    "    y=df_diff['acc_change_in'])\n",
    "lr_diff.summary()"
   ]
  },
  {
   "cell_type": "code",
   "execution_count": 363,
   "metadata": {},
   "outputs": [
    {
     "name": "stdout",
     "output_type": "stream",
     "text": [
      "SKL: beta0, beta1, R2\n",
      "[0.3945, -0.0429, 0.9371]\n",
      "SM: beta0, beta1, R2\n",
      "[0.3945, -0.0429] 0.9371\n",
      "SM: p0, p1\n",
      "['0.00000', '0.00000']\n"
     ]
    },
    {
     "data": {
      "text/html": [
       "<table class=\"simpletable\">\n",
       "<caption>OLS Regression Results</caption>\n",
       "<tr>\n",
       "  <th>Dep. Variable:</th>            <td>y</td>        <th>  R-squared:         </th> <td>   0.937</td>\n",
       "</tr>\n",
       "<tr>\n",
       "  <th>Model:</th>                   <td>OLS</td>       <th>  Adj. R-squared:    </th> <td>   0.934</td>\n",
       "</tr>\n",
       "<tr>\n",
       "  <th>Method:</th>             <td>Least Squares</td>  <th>  F-statistic:       </th> <td>   268.0</td>\n",
       "</tr>\n",
       "<tr>\n",
       "  <th>Date:</th>             <td>Mon, 02 Sep 2019</td> <th>  Prob (F-statistic):</th> <td>2.96e-12</td>\n",
       "</tr>\n",
       "<tr>\n",
       "  <th>Time:</th>                 <td>19:10:00</td>     <th>  Log-Likelihood:    </th> <td>  44.906</td>\n",
       "</tr>\n",
       "<tr>\n",
       "  <th>No. Observations:</th>      <td>    20</td>      <th>  AIC:               </th> <td>  -85.81</td>\n",
       "</tr>\n",
       "<tr>\n",
       "  <th>Df Residuals:</th>          <td>    18</td>      <th>  BIC:               </th> <td>  -83.82</td>\n",
       "</tr>\n",
       "<tr>\n",
       "  <th>Df Model:</th>              <td>     1</td>      <th>                     </th>     <td> </td>   \n",
       "</tr>\n",
       "<tr>\n",
       "  <th>Covariance Type:</th>      <td>nonrobust</td>    <th>                     </th>     <td> </td>   \n",
       "</tr>\n",
       "</table>\n",
       "<table class=\"simpletable\">\n",
       "<tr>\n",
       "    <td></td>       <th>coef</th>     <th>std err</th>      <th>t</th>      <th>P>|t|</th>  <th>[0.025</th>    <th>0.975]</th>  \n",
       "</tr>\n",
       "<tr>\n",
       "  <th>const</th> <td>    0.3945</td> <td>    0.014</td> <td>   27.285</td> <td> 0.000</td> <td>    0.364</td> <td>    0.425</td>\n",
       "</tr>\n",
       "<tr>\n",
       "  <th>x1</th>    <td>   -0.0429</td> <td>    0.003</td> <td>  -16.371</td> <td> 0.000</td> <td>   -0.048</td> <td>   -0.037</td>\n",
       "</tr>\n",
       "</table>\n",
       "<table class=\"simpletable\">\n",
       "<tr>\n",
       "  <th>Omnibus:</th>       <td>13.171</td> <th>  Durbin-Watson:     </th> <td>   1.921</td>\n",
       "</tr>\n",
       "<tr>\n",
       "  <th>Prob(Omnibus):</th> <td> 0.001</td> <th>  Jarque-Bera (JB):  </th> <td>  12.470</td>\n",
       "</tr>\n",
       "<tr>\n",
       "  <th>Skew:</th>          <td>-1.289</td> <th>  Prob(JB):          </th> <td> 0.00196</td>\n",
       "</tr>\n",
       "<tr>\n",
       "  <th>Kurtosis:</th>      <td> 5.885</td> <th>  Cond. No.          </th> <td>    13.6</td>\n",
       "</tr>\n",
       "</table><br/><br/>Warnings:<br/>[1] Standard Errors assume that the covariance matrix of the errors is correctly specified."
      ],
      "text/plain": [
       "<class 'statsmodels.iolib.summary.Summary'>\n",
       "\"\"\"\n",
       "                            OLS Regression Results                            \n",
       "==============================================================================\n",
       "Dep. Variable:                      y   R-squared:                       0.937\n",
       "Model:                            OLS   Adj. R-squared:                  0.934\n",
       "Method:                 Least Squares   F-statistic:                     268.0\n",
       "Date:                Mon, 02 Sep 2019   Prob (F-statistic):           2.96e-12\n",
       "Time:                        19:10:00   Log-Likelihood:                 44.906\n",
       "No. Observations:                  20   AIC:                            -85.81\n",
       "Df Residuals:                      18   BIC:                            -83.82\n",
       "Df Model:                           1                                         \n",
       "Covariance Type:            nonrobust                                         \n",
       "==============================================================================\n",
       "                 coef    std err          t      P>|t|      [0.025      0.975]\n",
       "------------------------------------------------------------------------------\n",
       "const          0.3945      0.014     27.285      0.000       0.364       0.425\n",
       "x1            -0.0429      0.003    -16.371      0.000      -0.048      -0.037\n",
       "==============================================================================\n",
       "Omnibus:                       13.171   Durbin-Watson:                   1.921\n",
       "Prob(Omnibus):                  0.001   Jarque-Bera (JB):               12.470\n",
       "Skew:                          -1.289   Prob(JB):                      0.00196\n",
       "Kurtosis:                       5.885   Cond. No.                         13.6\n",
       "==============================================================================\n",
       "\n",
       "Warnings:\n",
       "[1] Standard Errors assume that the covariance matrix of the errors is correctly specified.\n",
       "\"\"\""
      ]
     },
     "execution_count": 363,
     "metadata": {},
     "output_type": "execute_result"
    }
   ],
   "source": [
    "lr_size = regression(\n",
    "    x=np.log2(np.concatenate((df_size_v6['size'], df_size_v7['size']))),\n",
    "    y=np.concatenate((df_size_v6['acc_change_in'], df_size_v7['acc_change_in'])))\n",
    "lr_size.summary()"
   ]
  },
  {
   "cell_type": "code",
   "execution_count": 364,
   "metadata": {
    "scrolled": false
   },
   "outputs": [
    {
     "name": "stdout",
     "output_type": "stream",
     "text": [
      "SKL: beta0, beta1, R2\n",
      "[0.2087, -0.1119, 0.3656]\n",
      "SM: beta0, beta1, R2\n",
      "[0.2087, -0.1119] 0.3656\n",
      "SM: p0, p1\n",
      "['0.00000', '0.00004']\n"
     ]
    },
    {
     "data": {
      "text/html": [
       "<table class=\"simpletable\">\n",
       "<caption>OLS Regression Results</caption>\n",
       "<tr>\n",
       "  <th>Dep. Variable:</th>            <td>y</td>        <th>  R-squared:         </th> <td>   0.366</td>\n",
       "</tr>\n",
       "<tr>\n",
       "  <th>Model:</th>                   <td>OLS</td>       <th>  Adj. R-squared:    </th> <td>   0.349</td>\n",
       "</tr>\n",
       "<tr>\n",
       "  <th>Method:</th>             <td>Least Squares</td>  <th>  F-statistic:       </th> <td>   21.90</td>\n",
       "</tr>\n",
       "<tr>\n",
       "  <th>Date:</th>             <td>Mon, 02 Sep 2019</td> <th>  Prob (F-statistic):</th> <td>3.59e-05</td>\n",
       "</tr>\n",
       "<tr>\n",
       "  <th>Time:</th>                 <td>19:13:09</td>     <th>  Log-Likelihood:    </th> <td>  99.727</td>\n",
       "</tr>\n",
       "<tr>\n",
       "  <th>No. Observations:</th>      <td>    40</td>      <th>  AIC:               </th> <td>  -195.5</td>\n",
       "</tr>\n",
       "<tr>\n",
       "  <th>Df Residuals:</th>          <td>    38</td>      <th>  BIC:               </th> <td>  -192.1</td>\n",
       "</tr>\n",
       "<tr>\n",
       "  <th>Df Model:</th>              <td>     1</td>      <th>                     </th>     <td> </td>   \n",
       "</tr>\n",
       "<tr>\n",
       "  <th>Covariance Type:</th>      <td>nonrobust</td>    <th>                     </th>     <td> </td>   \n",
       "</tr>\n",
       "</table>\n",
       "<table class=\"simpletable\">\n",
       "<tr>\n",
       "    <td></td>       <th>coef</th>     <th>std err</th>      <th>t</th>      <th>P>|t|</th>  <th>[0.025</th>    <th>0.975]</th>  \n",
       "</tr>\n",
       "<tr>\n",
       "  <th>const</th> <td>    0.2087</td> <td>    0.014</td> <td>   15.284</td> <td> 0.000</td> <td>    0.181</td> <td>    0.236</td>\n",
       "</tr>\n",
       "<tr>\n",
       "  <th>x1</th>    <td>   -0.1119</td> <td>    0.024</td> <td>   -4.680</td> <td> 0.000</td> <td>   -0.160</td> <td>   -0.063</td>\n",
       "</tr>\n",
       "</table>\n",
       "<table class=\"simpletable\">\n",
       "<tr>\n",
       "  <th>Omnibus:</th>       <td> 0.957</td> <th>  Durbin-Watson:     </th> <td>   1.403</td>\n",
       "</tr>\n",
       "<tr>\n",
       "  <th>Prob(Omnibus):</th> <td> 0.620</td> <th>  Jarque-Bera (JB):  </th> <td>   0.283</td>\n",
       "</tr>\n",
       "<tr>\n",
       "  <th>Skew:</th>          <td>-0.122</td> <th>  Prob(JB):          </th> <td>   0.868</td>\n",
       "</tr>\n",
       "<tr>\n",
       "  <th>Kurtosis:</th>      <td> 3.332</td> <th>  Cond. No.          </th> <td>    9.67</td>\n",
       "</tr>\n",
       "</table><br/><br/>Warnings:<br/>[1] Standard Errors assume that the covariance matrix of the errors is correctly specified."
      ],
      "text/plain": [
       "<class 'statsmodels.iolib.summary.Summary'>\n",
       "\"\"\"\n",
       "                            OLS Regression Results                            \n",
       "==============================================================================\n",
       "Dep. Variable:                      y   R-squared:                       0.366\n",
       "Model:                            OLS   Adj. R-squared:                  0.349\n",
       "Method:                 Least Squares   F-statistic:                     21.90\n",
       "Date:                Mon, 02 Sep 2019   Prob (F-statistic):           3.59e-05\n",
       "Time:                        19:13:09   Log-Likelihood:                 99.727\n",
       "No. Observations:                  40   AIC:                            -195.5\n",
       "Df Residuals:                      38   BIC:                            -192.1\n",
       "Df Model:                           1                                         \n",
       "Covariance Type:            nonrobust                                         \n",
       "==============================================================================\n",
       "                 coef    std err          t      P>|t|      [0.025      0.975]\n",
       "------------------------------------------------------------------------------\n",
       "const          0.2087      0.014     15.284      0.000       0.181       0.236\n",
       "x1            -0.1119      0.024     -4.680      0.000      -0.160      -0.063\n",
       "==============================================================================\n",
       "Omnibus:                        0.957   Durbin-Watson:                   1.403\n",
       "Prob(Omnibus):                  0.620   Jarque-Bera (JB):                0.283\n",
       "Skew:                          -0.122   Prob(JB):                        0.868\n",
       "Kurtosis:                       3.332   Cond. No.                         9.67\n",
       "==============================================================================\n",
       "\n",
       "Warnings:\n",
       "[1] Standard Errors assume that the covariance matrix of the errors is correctly specified.\n",
       "\"\"\""
      ]
     },
     "execution_count": 364,
     "metadata": {},
     "output_type": "execute_result"
    }
   ],
   "source": [
    "lr_sim = regression(\n",
    "    x=np.concatenate((df_sim_v3['similarity'], df_sim_v4['similarity'])),\n",
    "    y=np.concatenate((df_sim_v3['acc_change_in'], df_sim_v4['acc_change_in'])))\n",
    "lr_sim.summary()"
   ]
  },
  {
   "cell_type": "code",
   "execution_count": 402,
   "metadata": {},
   "outputs": [],
   "source": [
    "import matplotlib\n",
    "c0 = matplotlib.colors.colorConverter.to_rgba(colors[0], alpha=0.5)\n",
    "c1 = matplotlib.colors.colorConverter.to_rgba(colors[1], alpha=0.5)"
   ]
  },
  {
   "cell_type": "code",
   "execution_count": 537,
   "metadata": {},
   "outputs": [],
   "source": [
    "def plot_regression(ax, x, ytrue, model):\n",
    "    xminmax = [min(x), max(x)]\n",
    "    ypred = model.predict(sm.add_constant(xminmax)[:, None])\n",
    "#     fig, ax = plt.subplots()\n",
    "#     scatter_line(ax, x, ytrue, styles['0'])\n",
    "    ax.scatter(x, ytrue, color=colors[0])\n",
    "#     ax.scatter(x, ytrue, facecolors=c0, edgecolors=colors[0])\n",
    "#     ax.scatter(x, ytrue, facecolors=colors[0], edgecolors='w')\n",
    "    ax.plot(xminmax, ypred, '-', color=colors[1], label='least-squares')\n",
    "#     ax.set_ylabel('Accuracy change (in context)')\n",
    "#     plt.legend()\n",
    "#     ax.set_ylim(bottom=0)\n",
    "    return ax"
   ]
  },
  {
   "cell_type": "code",
   "execution_count": 539,
   "metadata": {},
   "outputs": [
    {
     "data": {
      "image/png": "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\n",
      "text/plain": [
       "<Figure size 720x216 with 3 Axes>"
      ]
     },
     "metadata": {
      "needs_background": "light"
     },
     "output_type": "display_data"
    }
   ],
   "source": [
    "fig, ax = plt.subplots(1, 3, sharey=True, figsize=(10, 3))\n",
    "\n",
    "ax[0] = plot_regression(\n",
    "    ax[0],\n",
    "    x=list(1-df_diff['acc_base_in']),\n",
    "    ytrue=df_diff['acc_change_in'],\n",
    "    model=lr_diff)\n",
    "ax[0].set_xlabel('Difficulty')\n",
    "ax[0].set_ylabel('Accuracy change')\n",
    "\n",
    "ax[1] = plot_regression(\n",
    "    ax[1],\n",
    "    x=np.log2(np.concatenate((df_size_v6['size'], df_size_v7['size']))),\n",
    "    ytrue=np.concatenate((df_size_v6['acc_change_in'], df_size_v7['acc_change_in'])),\n",
    "    model=lr_size)\n",
    "ax[1].set_xlabel('Size (log scale)')\n",
    "\n",
    "ax[2] = plot_regression(\n",
    "    ax[2],\n",
    "    x=list(df_sim['similarity']),\n",
    "    ytrue=df_sim['acc_change_in'],\n",
    "    model=lr_sim)\n",
    "ax[2].set_xlabel('Similarity')\n",
    "\n",
    "plt.tight_layout()\n",
    "# plt.savefig('regression.png', dpi=200, bbox_inches = 'tight')\n",
    "plt.savefig('regression.pdf')\n",
    "plt.show()"
   ]
  },
  {
   "cell_type": "code",
   "execution_count": 269,
   "metadata": {},
   "outputs": [
    {
     "data": {
      "text/plain": [
       "array([0. , 0.1, 0.2, 0.3, 0.4, 0.5, 0.6, 0.7, 0.8, 0.9, 1. ])"
      ]
     },
     "execution_count": 269,
     "metadata": {},
     "output_type": "execute_result"
    }
   ],
   "source": [
    "np.linspace(0, 1, 11)"
   ]
  },
  {
   "cell_type": "code",
   "execution_count": 272,
   "metadata": {},
   "outputs": [
    {
     "data": {
      "text/plain": [
       "array([0.0373462 , 0.06760594, 0.09786569, 0.12812543, 0.15838517,\n",
       "       0.18864491, 0.21890465, 0.2491644 , 0.27942414, 0.30968388,\n",
       "       0.33994362])"
      ]
     },
     "execution_count": 272,
     "metadata": {},
     "output_type": "execute_result"
    }
   ],
   "source": [
    "beta0, beta1 = lr_diff.params\n",
    "pred_diff = beta0 + beta1 * np.linspace(0, 1, 11)\n",
    "pred_diff"
   ]
  },
  {
   "cell_type": "code",
   "execution_count": 275,
   "metadata": {},
   "outputs": [
    {
     "data": {
      "text/plain": [
       "2.855179902843988"
      ]
     },
     "execution_count": 275,
     "metadata": {},
     "output_type": "execute_result"
    }
   ],
   "source": [
    "pred_diff[8]/pred_diff[2]"
   ]
  },
  {
   "cell_type": "code",
   "execution_count": 220,
   "metadata": {},
   "outputs": [
    {
     "data": {
      "image/png": "iVBORw0KGgoAAAANSUhEUgAAAagAAAEmCAYAAAA3CARoAAAABHNCSVQICAgIfAhkiAAAAAlwSFlzAAALEgAACxIB0t1+/AAAADl0RVh0U29mdHdhcmUAbWF0cGxvdGxpYiB2ZXJzaW9uIDIuMi4zLCBodHRwOi8vbWF0cGxvdGxpYi5vcmcvIxREBQAAIABJREFUeJzt3XecVNX5x/HPs51dejOxIGhAxRLQFY3GDooNsAJBo4kE9WeJiWDDaESxG0tEIyrGgoIaC8ZKEEs0GhclFgyKiIiNtgvLLmx9fn/MbBzWLXfL3bm7+32/XvPauXfunfkyLj6cc889x9wdERGRqElJdgAREZGaqECJiEgkqUCJiEgkqUCJiEgkqUCJiEgkqUCJiEgkqUCJiEgkqUCJiEgkqUCJiEgkpSU7QHPp2bOn9+3bN9kxRESkHgsWLFjt7r3qO67NFKi+ffuSl5eX7BgiIlIPM/siyHHq4hMRkUhSgRIRkUhSgRIRkUhSgRIRkUhSgRIRkUhSgRIRkUhSgRIRkUhSgRIRkUhSgRIRkUhSgRIRkc14aSml/3wz2TFUoERE5Hslz7/Emt32Iv+Qo6j4+pukZlGBEhERyj/5lPwjj6PgiGPBoeuTj5C65Y+TmqnNTBYrIiKNU7l6NWsG7YOlpdHxxqvJPucMLCMj2bFUoERE2iOvrKTs1dfJOOgAUnr2pPO908g4+ABSt9gi2dH+R118IiLtTOm/3mbtXgeSf/CRlOW9C0CHsSdGqjiBCpSISLtR8fU3rDt5PPn7HELl19/Q+cF7SNtjcLJj1UpdfCIi7YCXlbF2yAFUrlpN9sUTyblkIikdOyY7Vp1UoERE2ih3p2z+q6QfuD+Wnk7nO28hdeCOpG2/XbKjBaIuPhGRNqh80ccUHDaS/EOOouSJpwHIPPqIVlOcQAVKRKRNqSwooPC8C1iz296UvfMunW69nsyRRyU7VqOoi09EpA0pGH4MZf/Oo8OEX9Hxyj+Q0qtXsiM1mgqUiEgrV/rmW6QP2g3LzqbjdVOwzp1JH/zTZMdqMnXxiYi0UhVfrqBg7Knk7zuU4mnTAcg4YL82UZxALSgRkVbHN26k6MZbKbrmJnAn57KLyD5rQrJjNTsVKBGRVmbdr8+kZNbjZJ5wDJ1umErqtn2SHSkUoXbxmdlwM1tsZkvM7KIaXv+9mS0ys/fNbJ6ZbZvwWoWZLYw/5oSZU0Qk6sre/5CKb78DIOeSiXSb/xxdH32wzRYnCLFAmVkqMA04HBgIjDWzgdUOew/IdffdgMeB6xNe2+jug+KPEWHlFBGJsso1a1h/1u9YO3gfiqZcA0D6rruQceD+SU4WvjBbUEOAJe6+1N1LgVnAyMQD3H2+uxfHN98Ctg4xj4hIq+Hl5RTf/hdW9x/Exrtm0OH/fkPHqy5LdqwWFWaB2gr4MmF7RXxfbU4Dnk/YzjKzPDN7y8xG1XSCmU2IH5O3atWqpicWEYmIDX+4ksJzJpI+eDd6LHyTzn++iZTu3ZMdq0VFYpCEmZ0E5AIHJOze1t2/MrPtgJfN7AN3/yzxPHefDkwHyM3N9RYLLCISgorPl+FlZaQN6E/22aeTvufuZB4zAjNLdrSkCLMF9RWwTcL21vF9mzGzocBkYIS7l1Ttd/ev4j+XAq8A0Z0TXkSkCbyoiA1/mMLqnfag8LcXAJC61ZZkHTuy3RYnCLdAvQP0N7N+ZpYBjAE2G41nZoOBu4gVp5UJ+7uZWWb8eU9gX2BRiFlFJOJmzoW+oyHloNjPmXOTnajp3J2NjzzK6h13p+iq68k6biSd77492bEiI7QuPncvN7OzgReBVGCGu39kZlOAPHefA9wAdAQei/8rYXl8xN5OwF1mVkmsiF7r7ipQIu3UzLkw4UYojvexfPFdbBtg3LDk5WqqjXffR+Hp55K2+yC6zPorGfv+LNmRIsXc28alm9zcXM/Ly0t2DBEJQd/RsaJU3bZbwLLZLZ+nKSpXrqRixdek7z4ILypi0+NPkXXSGCw19QfHzpwLk++B5SuhT2+YOr51F+QqZrbA3XPrO05z8YlI5C1f2bD9UeRlZRTdfDurBwxm3Umn4ZWVWE4OHU4ZV2txmnBjrDC7f99qbAtdm0GpQIlI5PXp3bD9UVPy4j9Ys9tebPj9RaT/bAhdn3gYS6n7f7+T7/m+S7NKcUlsf3uhAiUikTd1PGRnbr4vOzO2vylaYuBFyUvzKBg+Csor6PrMY3R97gnSdtyh3vPaQquxqVSgRCTyxg2D6RNj15zMYj+nT2za9Zgwu9AqCwspfeNfAGQMPYjO995Bjw//TeZRhwceNh6FVmOyR05qkISItEthDLzwyko2PfgIGy66DC8ppdeX/8Vychr1XtVHLkKs1djUwlz13vUNvgjz8zVIQkSkDs3dhVb27zzy9zmE9aeeTkqfbej2/BONLk4QTqsRgrcco3ANLBJTHYmItLQ+vWtuQTWmC638v4tZu/dBpGzRm85/vYusk8fWOwgiiHHDmn9YeV2FJ/GzonANTC0oEWmXmjrwwktKKH35FQDSdtyBzg/cTY9PFvLEluPoNzYlsjNeBC08UbgGpgIlIu1SY7vQ3J2Svz/Pml2GkH/YKCqWxxZt6HDSGB55q1Pk710KWnjCGjnZECpQItJujRsWGxBROT/2s77iVP7fxRQccSwFR58Aaal0feYxUvt8Pyd2FK7b1Cdo4QnrGlhD6BqUiEgAlfn5rM3dH1JT6fina8k++3QsPX2zY6Jw3aY+VQUmyBRKYVwDawgVKBGRWnhFBaX/mE/mYUNJ6daNzvffRcZ++5DSu+Z+suYceBGmZBeeoNTFJyJSg9I3/sXaIQdQMHwUpW++BUDWcaNqLU4Qjes2bYkKlIhIgooVX7Fu3K/J//kwKr9bSeeHZ5D+s70CzaoQhes2bYm6+ERE4ry8nLU/H0blt9+Rc+kF5Fx0PpaT06D1qFpL91lroBaUiLRr7k7JC3PxigosLY3O0/9Mz48X0PHKy/43E0RrGJ3XFtVZoMzsZ2Y2zczeN7NVZrbczJ4zs7PMrEtLhRQRCUP5hx9RMPQoCg4/hk2zHgcg89BDSO3Xd7PjWsPovLao1gJlZs8D44kt2T4c+DEwELgUyAKeNrMRLRFSRKQ5Va5dy/pzzmfNoH0oe+99Ov35RrJGH1fr8VGYVaE9qusa1Mnuvrravg3Au/HHTWbWM7RkIiIhKRg5mrI336bDGafRccqlpPToUefxU8fXPLO3RueFq9YWVFVxMrPrqr9Wta+GAiYiEkmlr/2TysJCADreMJXu771J52k311ucQKPzkiXIIIma/hMc3txBRETCUPHFcgpOPJn8A4ZTfOsdAGTsPYT03XZp0Ps0dFokabpau/jM7Ezg/4Dtzez9hJc6AW+GHUxEpCm8uJii62+m6LqbwYycKyaTc/65yY4lDVDXNaiHgeeBa4CLEvYXuvvaUFOJiDTR+tPPZdNDs8gcfRydrr9qs0ldpXWotUC5+zpgnZnd6+5fJL5mZqe4+/2hpxMRaYCyhe+T0qM7qdtsTc7kSXT4zalk7P/zZMeSRgpyDeoyM7vTzHLMbAszewY4OuxgIhINQab4SbbK1atZf8a5rN19XzZccQ0QW0RQxal1CzLV0QHA+cDC+PZl7v5IeJFEJCoaMsVPMnhZGRvvvJsNl1+NFxaSfe6Z5Fx+cbJjSTMJ0oLqBgwBPgNKgG3NzEJNJSKREPUpfoquvJbC315A+p670+P9t+h0y/WkdOuW7FjSTIIUqLeAF9x9OLAnsCXwRqipRCQSojjFT/nSzyn/aBEA2eecQZenZtH1xadJG7hT8kJJKIIUqKHuPgPA3Te6+7lsPqpPRNqoKE3xU7lhA4WX/JE1O+1B4bmTAEjp1YuskUehTp22KUiB+tLMTjKzywDMrA+wKdxYIhIFUViAz93Z+NAs1uwwmOJrYnPmdX7g7pYLIEkTpEDdAfwMGBvfLgSmhZZIRCIjClP8bPrrQ6w/eTwpW/6Ybm/Oo8sDd5O61ZYtF0CSJsgovr3cfXczew/A3fPNLCPkXCISEclYgK/iu++oXLac9L32JGvsCZCZSdaY47GUH/6beubc2KCN5StjXY9Tx0djhKE0XZAWVJmZpQIOYGa9gMpQU4lIu+SlpRTdeCtr+g9i3bjTYosIZmXR4Rcn1lqcJtwYG/7u/v0w+CjeqyUNF6RA3QY8CfQ2s6nAP4lNfyQi0mxKnnuRNbvuxYZJk0nfbx+6Pvc3LDW1znOiPgxemqbeAuXuM4ELiBWlb4BR7v5okDc3s+FmttjMlpjZD0b+mdnvzWxRfMXeeWa2bcJrp5jZp/HHKcH/SCLS2pTOf5WCI2MLBnZ99m90e/ZvpA3oX+95URwGL82n3gJlZg+6+3/dfZq73+7uH5vZgwHOSyU2mOJwYivxjjWzgdUOew/IdffdgMeB6+PndgcuB/YidpPw5Wamu+9E2pDKdesonf8qAOkH7k/nh+6lxwdvk3nEYYHfI0rD4KX5Beni2zlxI1549ghw3hBgibsvdfdSYBYwMvEAd5/v7sXxzbeArePPDwPmuvtad88H5hJbdl5EWjmvrGTjjAdYM2AQBaPGUrl+PWZGh3GjsYyGjb+KwjB4CU+tBcrMLjazQmA3M1tvZoXx7ZXA0wHeeyvgy4TtFfF9tTmN2PIegc81swlmlmdmeatWrQoQSURaWuJks0cd8jaf7nQg60/7P1K3345u8/5OSufOjX7vKAyDl/DUtdzGNcA1ZnaNu4c6+6KZnQTkEpuYNjB3nw5MB8jNzfUQoolIEyRONttn4+fc/e+hrMz8EV9eeC8HX3Nis8wAkYxh8NIy6r0Pyt0vNrOtgG0Tj3f31+o59SsgcYWwreP7NmNmQ4HJwAHuXpJw7oHVzn2lvqwiEi1X3LWJvb9+jZd7HMryDv04feD9zOt+KL0+78gyzU4k9ai3QJnZtcAYYBFQEd/tQH0F6h2gv5n1I1ZwxgC/qPbeg4G7gOHunjju5kXg6oSBEYcCmkNfpJVwd0qe/jsPPnsJfTYtY+8h77O8Qz+e6XUsoFF2EkyQmSSOAXZIaN0E4u7lZnY2sWKTCsxw94/MbAqQ5+5zgBuAjsBj8ab+cncf4e5rzexKYkUOYIqWmRdpHcoXfUzheRdSOvdlKjvvyOgBc1jeod9mx2iUnQQRpEAtBdKJrQXVIO7+HPBctX2XJTwfWse5M4AZDf1MkdakrU3TU7l+PWv3PhhSU+l06/V83v83LLglfbP/e2iUnQQVpEAVAwvNbB4Jv2bxZTdEpJGivlptUF5RQcmzL5B59BGkdO5Ml4dnkL5XLim9evELwNPaVhGWlmPudQ9+q20WB3e/P5REjZSbm+t5eXnJjiESWN/RsaJU3bZbwLLZLZ+nMUpff4PCcydRvvB9us1/jowD9092JGkFzGyBu+fWd1yQUXz3x2cvHxDftdjdy5oaUKS9a83T9FR8uYLCSZMpmf03UrbZmi6z/kr6AfslO5a0MUFG8R0I3A8sAwzYxsxOCTDMXETq0Kd3zS2oqA8g8IoK8g86goqvvibnsovIufD3WHZ2smNJGxTkGtRNwKHuvhjAzAYAjxBsuiMRqcXU8Ztfg4LoDiBwd0qffYGMw4Zi6el0vud2Uvv1JXXbPsmOJm1YkLn40quKE4C7f0JsVJ+INEFrmaan7P0PyT/4CAqOPoFND80CIOPA/VWcJHRBWlB5ZnYP8FB8exyg0QgizSDK0/RUrlnDhj9cyca7ZmBdu9LpjpvJOnlssmNJOxKkQJ0JnAVUDSt/HbgjtEQiEgkFJ5xM2Wtv0OGsCXT84yWkdO+e7EjSzgQpUGnAre7+J/jfchuZdZ8iIq1R6cuvkDb4p6R060anG6/GMtJJ22Xn+k8UCUGQa1DzgA4J2x2Af4QTR0SSoeLzZRQcO5b8Q46i+JZpAKTvPkjFSZIqSIHKcvcNVRvx5xpTKlKLxPWP+o6ObUeVFxWx4dIrWL3THpS8OI+cqy4j5+KJyY4lAgQrUEVmtnvVhpntAWwML5JI61U1fdEX34H799MXNVeRau7it/7cSRRNvYGs40fR85OFdJx8AZaV1TxhRZooyFRHexJbrv1rYjfq/ggY7e4Lwo8XnKY6kigIc/qi6nP3Qey+qYYOTS97dyHWtQtp2/WjfOnnVH77HRn77N20cCINEHSqo3pbUO7+DrAjsdF8ZwA7Ra04iURFmNMXTb5n8+IEse3J9wQ7v3LlStb/5mzW5u5H0eVTAUjbrp+Kk0RWkC4+3L3M3T+MPzQPn0gtapumqDmmL2pM8Zs5F7Y/oYwzfnI7S7ceTNF9D5H9u7PpdPtNTQ8kErJABUpEgpk6Ptbtlqi5pi9qaPGr6hIckfcnrvjsIt7pOIRD936bOcOvIaVLl6YHEgmZCpRIMwpz+qKGFL/yT5dw/w3/obgE7ttyAifv8hi/2PUJPkzbIXCXoEiy1TtIAsDMtgK2JeHG3qjNZq5BEtIe1LcCb2VhIUVXXU/xzbfz7w65jBj8w2F+ZlA5vwVDi1TTbOtBmdl1wGhgEVAR3+1ApAqUSHtQ29x9XlnJpgcfYcNFl1H57XdknXoSl6+5Atb/8NioL+chUiXIVEejgB3cvaTeI0UkKTY98hjrTz2d9L32pOvTs0kfksv5tQxLj+JyHiI1CVKglhJbXkMFSiRCKr75looln5Gx375knXgslpFO5nGjsJTYpeWqllZdXYIiURbkRt2/AT8lNiff/4qUu59b60lJoGtQ0l54SQnFt95B0ZXXYT2603PJ+1hakH9rikRDs12DAubEHyKSRO5O6d+fp/D3F1Ox5DMyRxxJx5uuVnGSNqve32x3v78lgohI3crefIuCESeSuuMAur7wFJmHDU12JJFQ1VqgzOxRdz/RzD4gNmpvM+6+W6jJRITKggLK3s4j87ChpO+zN10efYDMUUdj6enJjiYSurpaUL+N/zyqJYKIyPe8ooKN9z3Ihkv+iBcV02vFYlK6dSPrhGOTHU2kxdRVoL4FcPcvajvAzMyD3OkrIoGVvvEvCs+dRPm7C0nf92d0uu0GUrp1S3YskRZX11RH883sHDPrk7jTzDLM7GAzux84Jdx4Iu1LxfIvyd//MCpXrqLzwzPo9vpLpO8+KNmxRJKirhbUcODXwCNm1g8oALKAVOAl4BZ3fy/8iCJtm2/cSMlL88gaeRSpfbahy5OPkHnIgVhOTrKjiSRVrQXK3TcBdwB3mFk60BPY6O4FLRVOpC1zd0qenEPh+ZdQuewL0v77Lmk7DCBrxJHJjiYSCQ1ZD+obFSeR5lH2wYcUDD2KdceNI6VjDt3m/Z20HQYkO5ZIpOgOP5EW5kVF5O8/HMzodPtNdDj9NN1sK1ID/a0QaQFeXk7Jk3PIPP4YLCeHLo8+QPruPyWlR49kRxOJrEBdfGa2rZkNjT/vYGadwo0l0naUvvIaa/f4OetO/CWlL80DIHPYwSpOIvWot0CZ2W+Ax4G74ru2Bp4K8uZmNtzMFpvZEjO7qIbX9zezd82s3MyOr/ZahZktjD80F6C0OhVfLKfghJPIP+gIKtetp8vjD5Fx6CHJjiXSagRpQZ0F7Et86TN3/xSod8kzM0sFpgGHAwOBsWY2sNphy4FTgYdreIuN7j4o/hgRIKdIg8ycC31HQ8pBsZ8zf7j4bKN5ZSX5h42k5NkXyZlyKT0/XkDWcaMws+b7EJE2Lsg1qBJ3L636i2VmadQwN18NhgBL3H1p/LxZwEhiK/MC4O7L4q9VNiy2SNPMrLaY3xffxbah8esluTslTz1D5uGHYllZdJ5xJ6nbbE3qNls3T2iRdiZIC+pVM7sE6GBmw4DHgGcCnLcV8GXC9or4vqCyzCzPzN4ys1E1HWBmE+LH5K1ataoBby3t3eR7Nl9pFmLbk+/54bFBWlpl7/2H/AMOY92xv2Dj/TMByNhnbxUnkSYIUqAuAlYBHwCnA88Bl4YZKm7b+IJWvwBuMbPtqx/g7tPdPdfdc3v16tUCkaStWL4y2P6qltYX34H79y2tqiJVuWoV608/h7V7/JzyjxfT6a7b6DD+1FCzi7QXQdaDqgTujj8a4itgm4TtreP7AnH3r+I/l5rZK8Bg4LMGZhCpUZ/esWJT0/5EdbW0xg2DdSf/htJ/zCf73DPJufxiTeoq0ozqLVC1rAe1DsgDrnL3NbWc+g7QPz6P31fAGGKtoXqZWTeg2N1LzKwnsUEa1wc5VySIqeM3vwYFkJ0Z25+oppbW/mtfZlHZLkBvOt5wFZaaStrAnULNK9IeBeniex54FhgXfzxDrDh9C/y1tpPcvRw4G3gR+Bh41N0/MrMpZjYCwMz2NLMVwAnAXWb2Ufz0nYA8M/sPMB+41t0X/fBTRBpn3DCYPhG23QLMYj+nT/zhAInEFtW2G5dy34djePSDEUxaOw2A9F13UXESCYnVt5yTmb3r7rvXtM/MPnD3XUNNGFBubq7n5eUlO4a0MTPnwnnXbuA3n97IGStuo9zSmbb9Bexx89n84sjMZMcTaZXMbEF8jEGdgrSgUs1sSMIb70lsyQ2A8kbmE2l2YdzXNG4YvJA9md9+eSNzeh/HiUcuZPdp56s4ibSAIC2oPYEZQEfAiN2wOx74CDjS3R8NO2QQakG1PTPnxgYjLF8Z62qbOr72e5Sq39cEsWtKNXXbBVH2zgKscyfSdhhAxZcrqPjqazL2HlL/iSJSr6AtqHoLVMIbdgFw93VNzBYKFai2paEFp+/omkflbbsFLJsd/HMrvv2ODZf8kU33PUjmicfSdfYDDQ8vInUKWqCCjOLLBI4D+gJpVTNKuPuUJmYUqVV9w7urC3pfU228tJTi2+6kaMq1+KZNZE86j5xLL2hYaBFpVkGmOnqa2LDyBUBJPceKNIuGFpyg9zXVpviWaWy48A9kHDmcTn+6hrQB/YOdKCKhCVKgtnb34aEnEUnQ0IIT9L6mROWLP8HXrSd9SC4d/u83pO22C5nDGzkRn4g0uyCj+N40s0gMJZf2Y+r4WIFJVFfBCXpfE0DlunUUTryENbsMYf05E3F3Ujp2VHESiZggLaifA6ea2efEuvgMcHffLdRk0q5VFZago/iqzqnrda+sZNNfH2LDxZdTuWo1Wb/+JR2nXqYlMEQiKkiBOjz0FCI1qK/gNFTJ40+y/rT/I32fven67N9Iz929/pNEJGmCTBb7BYCZ9QayQk8k0owqvvqa8o8Xkzn0IDKPG0WXp2aROeJItZpEWoEgS76PMLNPgc+BV4FlxObnE4ks37SJoqtvYM0Og1l/ygS8rAxLTSVr5FEqTiKtRJBBElcCewOfuHs/4BDgrVBTiTSSu7PpqWdYs/OebJh8BRnDDqLb6y9h6enJjiYiDRSkQJXFl9RIMbMUd58P1HsHsEgylOe9y7pjxkKHLLrOfYauT84ibbt+yY4lIo0QZJBEgZl1BF4DZprZSqAo3FgiwVXm51P6+ptkjTiS9D33oMvTs8k8/FC1mkRauSAtqJHARuB3wAvEVrU9OsxQIkF4RQXFd93L6gGDWDf6FCpXrwYga8SRKk4ibUCQUXyJraX7Q8wiEljpa/+k8LcXUL7wfdL335dOt95ASs+eyY4lIs0oyGSxxwLXAb2J3aRbdaNu55CzidSo4utvyB96NCk/2oIus+8n84RjNTJPpA0Kcg3qeuBod/847DAitfGNGymZ8yxZo48ndcsf0/WZx8jYbx8sOzvZ0UQkJEGuQX2n4iTJ4u5seuwJVu+4O+vGnEr5hx8BkHnYUBUnkTau1gJlZsfGu/fyzGy2mY2t2hffL9JgDVmWvez9D8k/6HDWnfhLUrp2odv850jbZeeWCysiSVVXF1/iSL1i4NCEbQeeCCWRtFnVV8n94rvYNvxwzj3fuJH8Q44EdzrdeQsdxp+KpQXpkRaRtiLwku9RpyXfo6++Zdm9vJxNs/9G1tgTsJQUSl99nbRddyale/eWDysioQm65HuQufjuN7OuCdvdzGxGUwNK+1PXKrkl8+azZtDPWH/SaZQ+/xIAGQfsp+Ik0o4FGSSxm7sXVG24ez4wOLxI0lbVtBpun43LePjTsRQMPRqKN9LlyUfIOOKwlg8nIpETpEClmFm3qg0z606w4ekim/nBKrnuPLBoNPuvnkfHqZfTY1EeWaOO1j1NIgIEKzQ3Af8ys8fi2ycAU8OLJG3VuGGAO/Mv/xuPpB9Orx/nsO7aO9li1I9I3WrLZMcTkYgJMtXRA2aWBxwc33Wsuy8KN5a0RWUL3uPwKyYx9K23uO22G8g+50xAq9qKSM0CddXFC5KKkjRK5cqVbJg8hY333k9Kr550vmcaWb86OdmxRCTidC1JQrdu/NmUPv8S2b87m5zLLiKlS5dkRxKRViDIIAmRBit58R9UfPU1AJ1uuIoeH7xNp5uuUXESkcCC3Ad1TuIoPpG6lH+6hPwRJ1IwfBTFf/ozAGk7DCBtxx2SnExEWpsgLagtgHfM7FEzG24aAyw1qCwspPDCP7Bm5z0pe+V1Ol5/FR2vuSLZsUSkFau3QLn7pUB/4F7gVOBTM7vazLYPOZu0IhsunULx9TeTNW40PT5ZSM6k87CMjGTHEpFWLOgoPjezb4FvgXKgG/C4mc119wvCDCjRVfb2O5DdgfRddyHn4ol0GDea9CH1Tq8lIhJIkGtQvzWzBcQWLnwD2NXdzwT2AI6r59zhZrbYzJaY2UU1vL6/mb1rZuVmdny1104xs0/jj1Ma9KeSUFV88y3rTj2dtXsfRNFlVwGQ+qMtVJxEpFkFaUF1J3Zz7heJO9290syOqu0kM0sFpgHDgBXErmPNqXaT73Ji3YYTq53bHbgcyCW2tMeC+Ln5AfJKSLykhOJbplF01fV4aSnZF/6enMmTkh1LRNqoIIMkngfWVm2YWWcz2wugnpV2hwBL3H2pu5cCs4CRiQe4+zJ3fx+orHbuYcBcd18bL0pzgeEBskqIiu+4mw0XXUbGwQfQ46N36HTtFFI6dWrQIoQiIkEFaUHdyebz0WyoYV9NtgK+TNheAewVMFdN524V8FxpRuUf/5fKNWvJ+Pk+ZJ9xGmm77kzm0IP+93pDFiEUEWmIIC0o84RVDd29kojMQGGg0PDYAAAR6ElEQVRmE8wsz8zyVq1alew4bUplQQGFv7uQNbvtTeG5k3B3rEOHzYoTwOR7vi9OVYpLYvtFRJoiSIFaambnmll6/PFbYGmA874CtknY3jq+L4hA57r7dHfPdffcXr16BXxrqYtXVFB8932sHjCI4lvvoMOvTqLbi0/VugRGXYsQiog0RZACdQawD7ECUdVNNyHAee8A/c2sn5llAGOAOQFzvQgcGl+9txtwaHyfhKzk789TOOEc0nboT/cF/6Tz9NtJqaP417QIYV37RUSCCnKj7kp3H+Puvd19C3f/hbvX++9jdy8HziZWWD4GHnX3j8xsipmNADCzPc1sBbE1pu4ys4/i564FriRW5N4BpsT3SQgqVnxFyXOx+p854ki6PvcE3V57ifTBP6333B8sQkhse+r4MJKKSHtiCZeXaj7ALAs4DdgZyKra7+6/Djdaw+Tm5npeXl6yY7QqvnEjRTfdRtE1N5HSqSM9v/gYy8ys/8RqZs6NXXNavjLWcpo6XgMkRKR2ZrbA3eu9cTJIF9+DwI+IDf1+ldj1oMKmxZNkcnc2PfE0qwfmUvSHK8k8fBjd35q/WXFqyNDxccNg2WyonB/7qeIkIs0hyGi8n7j7CWY20t3vN7OHgdfDDibhKX//Q9YdN460XQbS5eVnyTjogM1e19BxEYmCIC2osvjPAjPbBegC6BJ4K1O5di2bHnsCgPSf7krXF56i+3tv/qA4gYaOi0g0BClQ0+Mj6S4lNgpvEXBdqKmk2Xh5OcV3TGd1/0GsO2k8Fd9+B0DmYUOxtJob0Bo6LiJRUGeBMrMUYL2757v7a+6+XXw0310tlE+aoPSV11i7+74UnvV70n66C93zXiP1R1vUe56GjotIFNRZoOKzRmg5jVaocuVK8ocfQ+X6Qro8/hDd5j1L+q67BDpXQ8dFJAqCdPH9w8wmmtk2Zta96hF6MmkwLy5m44OPAJDSuzfdnn+Cnh8vIOu4UbXOBFGTccNg+kTYdgswi/2cPlEDJESkZQW5D+rzGna7u28XTqTGac/3Qbk7JbMfp3DSpVSu+Iru774R6CZbEZFkCHofVL3DzN29X/NEkjCUvfcfCn87ibLX3yRt8E/p8vAMFScRaRPqLVBm9sua9rv7A80fRxrCS0ooOOJYvLycTtP/TIdf/xJLTU12LBGRZhHkRt09E55nAYcA7wIqUEngZWVsemgWWSePxTIz6fLEw6TttAMpXbsmO5qISLMK0sV3TuK2mXUltjqutLCSl+ZReN4FVHy8GOvahaxjRpDxs6BrQIqItC5BRvFVVwToulQLKv9sKQUjR1Nw2EgoLaPL07PJHHV0smOJiIQqyDWoZ4CqoX4pwEDg0TBDyffcnXWjT6Fi8ad0vHYK2eed1agZx0VEWpsg16BuTHheDnzh7itCyiOAV1ayadbjZB55GCldutB5xp2k9OxB6pY/btTSFloOQ0RaoyBdfMuBt939VXd/A1hjZn1DTdWOlb2zgPx9h7J+3K/ZeG9sHEr6brv8rzhNuDE2u7j797OM17UURmPOERGJgiAF6jGgMmG7Ir5PmlHFt9+x7ldnsHbIAVR8vozO9/2F7PPO2uyYxswyrpnJRaS1CtLFl+bupVUb7l5qZhkhZmqXCs85n5KnnyX7gt+RM3kSKZ07/+CYxswyrpnJRaS1CtKCWmVmI6o2zGwksDq8SO1HybMvUPH5MgA6XnclPT56h07XXVljcYLGzTKumclFpLUKUqDOAC4xs+Vmthy4EDg93FhtW/niT8g/4lgKjjqeoj/9GYC07fqR1v8ndZ7XmFnGNTO5iLRWQW7U/QzY28w6xrc3hJ6qjapct46iK6+j+NY7sOxsOt50DdlnB6/1VSPvGjIirzHniIhEQZDZzK8Grnf3gvh2N+B8d7+0BfIF1hpmMy+cNJnim24j69e/pOPUy0jdov7FA0VE2pqgs5kH6eI7vKo4Abh7PnBEU8K1J6X/epuyBe8BkHPR7+n+zmt0uWeaipOISD2CFKhUM/vfVQwz6wBoKoN6VHz1NetOHk/+Poew4Y9XA5DSowfpewxOcjIRkdYhyDDzmcA8M7svvv0rNJN5rXzTJor/9GeKrr4RLy8nZ/Iksi86P9mxRERanSCDJK4zs/8AQ+O7rnT3F8ON1XptnPEAGyZfQeYxR9PxxqtJ207z6oqINEaQFhTu/gLwAoCZ/dzMprn7WfWc1m6UL/qYim++JfOQg+gw/lTSBu5IxoH7JzuWiEirFmi5DTMbbGbXm9ky4Ergv6GmaiUq8/NZ/9tJrNltbzacdyHujmVkqDiJiDSDWltQZjYAGBt/rAZmExuWflALZYssr6hg4933seHSKXh+AR0m/IqOV/4BM0t2NBGRNqOuLr7/Aq8DR7n7EgAz+12LpIq40pfmUXjmeaTvvy+dbruR9J/umuxIIiJtTl1dfMcC3wDzzexuMzsEaLdNhIrlX7LpyTkAZAwfRte5z9DtlRdUnEREQlJrgXL3p9x9DLAjMB84D+htZnea2aEtFTDZvLiYDVdczeodd2f9hHPw4mLMjMyhB6lLT0QkRPUOknD3Ind/2N2PBrYG3iM2YWyb5u5seuwJVu+0B0V/vJrMow+nx4J/YtnZyY4mItIuBBrFV8Xd8919ursfElagqKj4+L+sG30KKd260u2V5+k6+wFS+2yT7FgiIu1GgwpUQ5nZcDNbbGZLzOyiGl7PNLPZ8dffrlpK3sz6mtlGM1sYf/wlzJw1SRu4E91efpbuC/5JxgH7tfTHi4i0e4Fu1G0MM0sFpgHDgBXAO2Y2x90XJRx2GpDv7j8xszHAdcDo+GufufugsPIFofuZRESSJ8wW1BBgibsvjS8ZPwsYWe2YkcD98eePA4eYRh6IiAjhFqitgC8TtlfE99V4jLuXA+uAHvHX+pnZe2b2qpmpj01EpJ0JrYuvib4B+rj7GjPbA3jKzHZ29/WJB5nZBGACQJ8+fZIQU0REwhJmC+orIHHY29bxfTUeY2ZpQBdgjbuXuPsaAHdfAHwGDKj+AfERhbnunturV68Q/ggiIpIsYRaod4D+ZtbPzDKAMcCcasfMAU6JPz8eeNnd3cx6xQdZYGbbAf2BpSFmDd3MudB3NKQcFPs5c26yE4mIRFtoXXzuXm5mZwMvAqnADHf/yMymAHnuPge4F3jQzJYAa4kVMYD9gSlmVgZUAme4+9qwsoZt5lyYcCMUl8S2v/gutg0wbljycomIRJm5e7IzNIvc3FzPy8tLdowa9R0dK0rVbbsFLJvd8nlERJLJzBa4e259x4V6o67ELF/ZsP0iIqIC1SL69G7YfhERUYFqEVPHQ3bm5vuyM2P7RUSkZipQLWDcMJg+MXbNySz2c/pEDZAQEalLVG/UbXPGDVNBEhFpCLWgREQkklSgREQkklSgREQkklSgREQkklSgREQkklSgREQkklSgREQkklSgREQkklSgREQkklSgREQkklSgaqDVb0VEkk9z8VWj1W9FRKJBLahqJt/zfXGqUlwS2y8iIi1HBaoarX4rIhINKlDVaPVbEZFoUIGqRqvfiohEgwpUNVr9VkQkGjSKrwZa/VZEJPnUghIRkUhSgRIRkUhSgRIRkUhSgRIRkUhSgRIRkUhSgRIRkUhSgRIRkUhSgRIRkUhSgRIRkUhSgRIRkUhSgRIRkUhSgRIRkUgKtUCZ2XAzW2xmS8zsohpezzSz2fHX3zazvgmvXRzfv9jMDgszp4iIRE9oBcrMUoFpwOHAQGCsmQ2sdthpQL67/wS4Gbgufu5AYAywMzAcuCP+fiIi0k6E2YIaAixx96XuXgrMAkZWO2YkcH/8+ePAIWZm8f2z3L3E3T8HlsTfT0RE2okw14PaCvgyYXsFsFdtx7h7uZmtA3rE979V7dytqn+AmU0AJsQ3N5jZ4uaJHoqewOpkh2ggZW4ZytwylLllBMm8bZA3atULFrr7dGB6snMEYWZ57p6b7BwNocwtQ5lbhjK3jObMHGYX31fANgnbW8f31XiMmaUBXYA1Ac8VEZE2LMwC9Q7Q38z6mVkGsUEPc6odMwc4Jf78eOBld/f4/jHxUX79gP7Av0PMKiIiERNaF1/8mtLZwItAKjDD3T8ysylAnrvPAe4FHjSzJcBaYkWM+HGPAouAcuAsd68IK2sLaRVdkdUoc8tQ5pahzC2j2TJbrMEiIiISLZpJQkREIkkFSkREIkkFqpkFmN5pfzN718zKzez4ZGSsLkDm35vZIjN738zmmVmgexjCFCDzGWb2gZktNLN/1jCLSYurL3PCcceZmZtZ0ocXB/ieTzWzVfHveaGZjU9GzmqZ6v2ezezE+O/0R2b2cEtnrJalvu/45oTv9xMzK0hGzmqZ6svcx8zmm9l78f9vHNGoD3J3PZrpQWwwyGfAdkAG8B9gYLVj+gK7AQ8Ax7eSzAcB2fHnZwKzW0HmzgnPRwAvRD1z/LhOwGvEblTPjXpm4FTg9mTmbETm/sB7QLf4du8o5612/DnEBpxF/TueDpwZfz4QWNaYz1ILqnnVO72Tuy9z9/eBymQErEGQzPPdvTi++Rax+9KSKUjm9QmbOUCyRwMFmfoL4Epic1JuaslwtQiaOUqCZP4NMM3d8wHcfWULZ0zU0O94LPBIiySrXZDMDnSOP+8CfN2YD1KBal41Te/0gymaIqahmU8Dng81Uf0CZTazs8zsM+B64NwWylabejOb2e7ANu7+bEsGq0PQ343j4t04j5vZNjW83pKCZB4ADDCzN8zsLTMb3mLpfijw379413o/4OUWyFWXIJn/CJxkZiuA54i1/BpMBUoCM7OTgFzghmRnCcLdp7n79sCFwKXJzlMXM0sB/gScn+wsDfQM0NfddwPm8v3kz1GWRqyb70BiLZK7zaxrUhMFMwZ43FvHPaFjgb+6+9bAEcTud21wvVGBal6tcYqmQJnNbCgwGRjh7iUtlK02Df2eZwGjQk1Uv/oydwJ2AV4xs2XA3sCcJA+UqPd7dvc1Cb8P9wB7tFC22gT53VgBzHH3Mo+tlvAJsYKVDA35XR5D8rv3IFjm04BHAdz9X0AWsUlkGyaZF9va2oPYv8yWEmuGV1083LmWY/9KNAZJ1JsZGEzsomj/ZOdtQOb+Cc+PJjZ7SaQzVzv+FZI/SCLI9/zjhOfHAG+1gszDgfvjz3sS667qEdW88eN2BJYRn1yhFXzHzwOnxp/vROwaVIOzJ/UP2hYfxJqzn8T/hz45vm8KsZYHwJ7E/gVXRGxi3I9aQeZ/AN8BC+OPOa0g863AR/G88+sqBlHJXO3YpBeogN/zNfHv+T/x73nHVpDZiHWnLgI+AMZEOW98+4/Atcn+bhvwHQ8E3oj/XiwEDm3M52iqIxERiSRdgxIRkUhSgRIRkUhSgRIRkUhSgRIRkUhSgRIRkUhSgRJpJmZWEZ9x+iMz+4+ZnV9197yZ5ZrZbfHnmWb2j/ixo81sv/g5C81sKzN7vJGff6qZ3R5/PioKM7iLNEVoS76LtEMb3X0QgJn1Bh4mNmHm5e6eB+TFjxsMkHDsX4Br3P2h+OvNsQzLKODvxO71EWmV1IISCYHHZsieAJxtMQea2d/jheshYM94i+l04ETgSjObaWZ9zexDADNLNbMbzezD+GSs58T3LzOznvHnuWb2SuJnm9k+xJYYuSH+Gdub2bsJr/dP3BaJKrWgRELi7kvNLBXonbBvZXxRv4nufhSAmf0M+Lu7P25mfRPeYgKx9cMGuXu5mXUP+LlvmtmcqveMf8Y6Mxvk7guBXwH3Nf1PKBIutaBEomsocJe7lwO4+9omvNc9wK/iBXM0se5HkUhTgRIJiZltB1QAzb0gXjnf/93NCnjO34DDgaOABe6+ppkziTQ7FSiREJhZL+AvxJZDb+yEl3OB080sLf6eVV18y/h+WYvjajm3kNgSHgC4+ybgReBO1L0nrYQKlEjz6VA1zJzYDPAvAVc04f3uAZYD75vZf4BfxPdfAdxqZnnEWmg1mQVMMrP3zGz7+L6ZQGU8l0jkaTZzkXbCzCYCXdz9D8nOIhKERvGJtANm9iSwPXBwsrOIBKUWlIiIRJKuQYmISCSpQImISCSpQImISCSpQImISCSpQImISCT9P3dYCEBBBhN1AAAAAElFTkSuQmCC\n",
      "text/plain": [
       "<Figure size 432x288 with 1 Axes>"
      ]
     },
     "metadata": {
      "needs_background": "light"
     },
     "output_type": "display_data"
    }
   ],
   "source": [
    "fig, ax = plot_regression(\n",
    "    x=list(1-df_diff['acc_base_in']),\n",
    "    ytrue=df_diff['acc_change_in'],\n",
    "    model=lr_diff)\n",
    "plt.xlabel('Difficulty');\n",
    "\n",
    "# diff = list(1-df_diff['acc_base_in'])\n",
    "# x = [min(diff), max(diff)]\n",
    "# fig, ax = plot_change_acc(df_diff, diff)\n",
    "# plt.xlabel('Difficulty')\n",
    "# plt.plot(x, lr_diff.predict(sm.add_constant(x)[:, None]), '--', color=colors[2])\n",
    "# # plt.xlim((0, 1))\n",
    "# plt.tight_layout()\n",
    "# # plt.savefig('diffcontexts_acc_change.png', dpi=200)\n",
    "# plt.show()"
   ]
  },
  {
   "cell_type": "code",
   "execution_count": 221,
   "metadata": {},
   "outputs": [
    {
     "data": {
      "image/png": "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\n",
      "text/plain": [
       "<Figure size 432x288 with 1 Axes>"
      ]
     },
     "metadata": {
      "needs_background": "light"
     },
     "output_type": "display_data"
    }
   ],
   "source": [
    "fig, ax = plot_regression(\n",
    "    x=np.log2(np.concatenate((df_size_v6['size'], df_size_v7['size']))),\n",
    "    ytrue=np.concatenate((df_size_v6['acc_change_in'], df_size_v7['acc_change_in'])),\n",
    "    model=lr_size)\n",
    "plt.xlabel('Size (base-2 log scale)');\n",
    "\n",
    "# size = np.log2(list(df_size_v7['size']))\n",
    "# x = [min(size), max(size)]\n",
    "# fig, ax = plot_change_acc(df_size_v7, size)\n",
    "# plt.xlabel('Size (base-2 log scale)')\n",
    "# plt.plot(x, lr_size.predict(sm.add_constant(x)[:, None]), '--', color=colors[2])\n",
    "# plt.tight_layout()\n",
    "# # plt.ylim(bottom=0)\n",
    "# # plt.savefig('sizecontexts_acc_change.png', dpi=200)\n",
    "# plt.show()"
   ]
  },
  {
   "cell_type": "code",
   "execution_count": 222,
   "metadata": {},
   "outputs": [
    {
     "data": {
      "image/png": "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\n",
      "text/plain": [
       "<Figure size 432x288 with 1 Axes>"
      ]
     },
     "metadata": {
      "needs_background": "light"
     },
     "output_type": "display_data"
    }
   ],
   "source": [
    "fig, ax = plot_regression(\n",
    "    x=list(df_sim['similarity']),\n",
    "    ytrue=df_sim['acc_change_in'],\n",
    "    model=lr_sim)\n",
    "plt.xlabel('Similarity');\n",
    "\n",
    "# sim = list(df_sim['similarity'])\n",
    "# x = [min(sim), max(sim)]\n",
    "# fig, ax = plot_change_acc(df_sim, list(df_sim['similarity']))\n",
    "# plt.xlabel('Similarity')\n",
    "# plt.plot(x, lr_sim.predict(sm.add_constant(x)[:, None]), '--', color=colors[2])\n",
    "# plt.tight_layout()\n",
    "# plt.ylim(top=0.27)\n",
    "# # plt.savefig('sizecontexts_acc_change.png', dpi=200)\n",
    "# plt.show()"
   ]
  },
  {
   "cell_type": "code",
   "execution_count": null,
   "metadata": {},
   "outputs": [],
   "source": []
  }
 ],
 "metadata": {
  "kernelspec": {
   "display_name": "Python 3",
   "language": "python",
   "name": "python3"
  },
  "language_info": {
   "codemirror_mode": {
    "name": "ipython",
    "version": 3
   },
   "file_extension": ".py",
   "mimetype": "text/x-python",
   "name": "python",
   "nbconvert_exporter": "python",
   "pygments_lexer": "ipython3",
   "version": "3.7.0"
  }
 },
 "nbformat": 4,
 "nbformat_minor": 2
}
