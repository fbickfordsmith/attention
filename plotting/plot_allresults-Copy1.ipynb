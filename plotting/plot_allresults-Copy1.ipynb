{
 "cells": [
  {
   "cell_type": "code",
   "execution_count": 3,
   "metadata": {},
   "outputs": [],
   "source": [
    "import sys\n",
    "sys.path.insert(0, '/Users/fbickfordsmith/Google Drive/Project/attention')\n",
    "from contexts_statistics import *"
   ]
  },
  {
   "cell_type": "code",
   "execution_count": 4,
   "metadata": {},
   "outputs": [],
   "source": [
    "'''\n",
    "IPython extension to reload modules before executing user code.\n",
    "https://ipython.readthedocs.io/en/stable/config/extensions/autoreload.html\n",
    "'''\n",
    "%load_ext autoreload\n",
    "%autoreload 2"
   ]
  },
  {
   "cell_type": "code",
   "execution_count": 5,
   "metadata": {},
   "outputs": [],
   "source": [
    "import matplotlib.pyplot as plt\n",
    "plt.style.use('seaborn-bright')\n",
    "colors = plt.rcParams['axes.prop_cycle'].by_key()['color']\n",
    "markers = ['o', 'D', 's', 'X']\n",
    "styles = {\n",
    "    '0': dict(marker=markers[0], color=colors[0]),\n",
    "    '1': dict(marker=markers[1], color=colors[1]),\n",
    "    '2': dict(marker=markers[2], color=colors[2]),\n",
    "    '3': dict(marker=markers[3], color=colors[3]),\n",
    "    'in': dict(label='in context', marker=markers[0], color=colors[0]),\n",
    "    'out': dict(label='out of context', marker=markers[1], color=colors[1])}"
   ]
  },
  {
   "cell_type": "code",
   "execution_count": 6,
   "metadata": {},
   "outputs": [],
   "source": [
    "def scatter_line(ax, x, y, style):\n",
    "    ax.scatter(x, y, **style)\n",
    "    ax.vlines(x, ymin=0, ymax=y, color=style['color'])"
   ]
  },
  {
   "cell_type": "code",
   "execution_count": 20,
   "metadata": {},
   "outputs": [],
   "source": [
    "def plot_change_acc(df, x):\n",
    "    fig, ax = plt.subplots()\n",
    "    scatter_line(ax, x, df['acc_change_in'], styles['in'])\n",
    "    scatter_line(ax, x, df['acc_change_out'], styles['out'])\n",
    "    plt.ylabel('Accuracy change')\n",
    "    plt.legend(title='Source of test examples')\n",
    "    plt.axhline(y=0, color='k', linestyle='--', linewidth=0.8)\n",
    "    plt.tight_layout()\n",
    "    return fig, ax"
   ]
  },
  {
   "cell_type": "markdown",
   "metadata": {},
   "source": [
    "### Semantic contexts"
   ]
  },
  {
   "cell_type": "code",
   "execution_count": 22,
   "metadata": {},
   "outputs": [
    {
     "data": {
      "text/html": [
       "<div>\n",
       "<style scoped>\n",
       "    .dataframe tbody tr th:only-of-type {\n",
       "        vertical-align: middle;\n",
       "    }\n",
       "\n",
       "    .dataframe tbody tr th {\n",
       "        vertical-align: top;\n",
       "    }\n",
       "\n",
       "    .dataframe thead th {\n",
       "        text-align: right;\n",
       "    }\n",
       "</style>\n",
       "<table border=\"1\" class=\"dataframe\">\n",
       "  <thead>\n",
       "    <tr style=\"text-align: right;\">\n",
       "      <th></th>\n",
       "      <th>label</th>\n",
       "      <th>size</th>\n",
       "      <th>similarity</th>\n",
       "      <th>acc_base_in</th>\n",
       "      <th>acc_base_out</th>\n",
       "      <th>acc_trained_in</th>\n",
       "      <th>acc_trained_out</th>\n",
       "      <th>acc_change_in</th>\n",
       "      <th>acc_change_out</th>\n",
       "      <th>num_epochs</th>\n",
       "    </tr>\n",
       "  </thead>\n",
       "  <tbody>\n",
       "    <tr>\n",
       "      <th>0</th>\n",
       "      <td>kitchen</td>\n",
       "      <td>35</td>\n",
       "      <td>0.446404</td>\n",
       "      <td>0.512884</td>\n",
       "      <td>0.650968</td>\n",
       "      <td>0.670401</td>\n",
       "      <td>0.527051</td>\n",
       "      <td>0.157517</td>\n",
       "      <td>-0.123917</td>\n",
       "      <td>92</td>\n",
       "    </tr>\n",
       "    <tr>\n",
       "      <th>1</th>\n",
       "      <td>dogs</td>\n",
       "      <td>129</td>\n",
       "      <td>0.553892</td>\n",
       "      <td>0.661100</td>\n",
       "      <td>0.643919</td>\n",
       "      <td>0.684884</td>\n",
       "      <td>0.621002</td>\n",
       "      <td>0.023784</td>\n",
       "      <td>-0.022917</td>\n",
       "      <td>31</td>\n",
       "    </tr>\n",
       "    <tr>\n",
       "      <th>2</th>\n",
       "      <td>cats</td>\n",
       "      <td>13</td>\n",
       "      <td>0.854177</td>\n",
       "      <td>0.708477</td>\n",
       "      <td>0.645314</td>\n",
       "      <td>0.782407</td>\n",
       "      <td>0.582139</td>\n",
       "      <td>0.073930</td>\n",
       "      <td>-0.063175</td>\n",
       "      <td>134</td>\n",
       "    </tr>\n",
       "    <tr>\n",
       "      <th>3</th>\n",
       "      <td>wearable</td>\n",
       "      <td>56</td>\n",
       "      <td>0.432272</td>\n",
       "      <td>0.535303</td>\n",
       "      <td>0.652710</td>\n",
       "      <td>0.660537</td>\n",
       "      <td>0.543158</td>\n",
       "      <td>0.125234</td>\n",
       "      <td>-0.109552</td>\n",
       "      <td>71</td>\n",
       "    </tr>\n",
       "    <tr>\n",
       "      <th>4</th>\n",
       "      <td>transport</td>\n",
       "      <td>45</td>\n",
       "      <td>0.428524</td>\n",
       "      <td>0.715678</td>\n",
       "      <td>0.642858</td>\n",
       "      <td>0.773848</td>\n",
       "      <td>0.599449</td>\n",
       "      <td>0.058171</td>\n",
       "      <td>-0.043409</td>\n",
       "      <td>65</td>\n",
       "    </tr>\n",
       "    <tr>\n",
       "      <th>5</th>\n",
       "      <td>birds</td>\n",
       "      <td>60</td>\n",
       "      <td>0.534972</td>\n",
       "      <td>0.824636</td>\n",
       "      <td>0.634741</td>\n",
       "      <td>0.863222</td>\n",
       "      <td>0.605363</td>\n",
       "      <td>0.038586</td>\n",
       "      <td>-0.029379</td>\n",
       "      <td>53</td>\n",
       "    </tr>\n",
       "  </tbody>\n",
       "</table>\n",
       "</div>"
      ],
      "text/plain": [
       "       label  size  similarity  acc_base_in  acc_base_out  acc_trained_in  \\\n",
       "0    kitchen    35    0.446404     0.512884      0.650968        0.670401   \n",
       "1       dogs   129    0.553892     0.661100      0.643919        0.684884   \n",
       "2       cats    13    0.854177     0.708477      0.645314        0.782407   \n",
       "3   wearable    56    0.432272     0.535303      0.652710        0.660537   \n",
       "4  transport    45    0.428524     0.715678      0.642858        0.773848   \n",
       "5      birds    60    0.534972     0.824636      0.634741        0.863222   \n",
       "\n",
       "   acc_trained_out  acc_change_in  acc_change_out  num_epochs  \n",
       "0         0.527051       0.157517       -0.123917          92  \n",
       "1         0.621002       0.023784       -0.022917          31  \n",
       "2         0.582139       0.073930       -0.063175         134  \n",
       "3         0.543158       0.125234       -0.109552          71  \n",
       "4         0.599449       0.058171       -0.043409          65  \n",
       "5         0.605363       0.038586       -0.029379          53  "
      ]
     },
     "execution_count": 22,
     "metadata": {},
     "output_type": "execute_result"
    }
   ],
   "source": [
    "sem_labels = ['kitchen', 'dogs', 'cats', 'wearable', 'transport', 'birds']\n",
    "sem_labels_plot = ['', 'kitchen\\nitems', 'dogs', 'cats', 'wearable\\nitems', 'land\\ntransport', 'birds']\n",
    "df_sem = context_summary('sem', 2, 9)\n",
    "df_sem.insert(0, 'label', sem_labels)\n",
    "df_sem"
   ]
  },
  {
   "cell_type": "code",
   "execution_count": 23,
   "metadata": {},
   "outputs": [
    {
     "data": {
      "image/png": "[encoded data removed]",
      "text/plain": [
       "<Figure size 432x288 with 1 Axes>"
      ]
     },
     "metadata": {
      "needs_background": "light"
     },
     "output_type": "display_data"
    }
   ],
   "source": [
    "fig, ax = plot_change_acc(df_sem, range(len(df_sem)))\n",
    "ax.set_xticklabels(sem_labels_plot)\n",
    "plt.xlabel('Context')\n",
    "# plt.savefig('semcontexts_acc_change.png', dpi=200)\n",
    "plt.show()"
   ]
  },
  {
   "cell_type": "code",
   "execution_count": 8,
   "metadata": {},
   "outputs": [
    {
     "data": {
      "image/png": "[encoded data removed]",
      "text/plain": [
       "<Figure size 864x216 with 3 Axes>"
      ]
     },
     "metadata": {
      "needs_background": "light"
     },
     "output_type": "display_data"
    }
   ],
   "source": [
    "fig, ax = plt.subplots(1, 3, figsize=(12, 3))\n",
    "\n",
    "scatter_line(ax[0], range(len(df_sem)), df_sem['size'], styles['in'])\n",
    "scatter_line(ax[1], range(len(df_sem)), 1-df_sem['incontext_base'], styles['in'])\n",
    "scatter_line(ax[2], range(len(df_sem)), df_sem['similarity'], styles['in'])\n",
    "\n",
    "# ax[0].bar(range(len(df_sem)), df_sem['size'], alpha=0.7)\n",
    "# ax[1].bar(range(len(df_sem)), df_sem['incontext_base'], alpha=0.7)\n",
    "# ax[2].bar(range(len(df_sem)), df_sem['similarity'], alpha=0.7)\n",
    "\n",
    "ax[0].set_ylabel('Size')\n",
    "ax[1].set_ylabel('Difficulty')\n",
    "ax[2].set_ylabel('Similarity')\n",
    "\n",
    "for a in ax:\n",
    "    a.set_xticklabels(sem_labels_plot)\n",
    "    a.set_xlabel('Context')\n",
    "    a.set_ylim(bottom=0)\n",
    "    \n",
    "plt.tight_layout()\n",
    "# plt.savefig('semcontexts_stats.png', dpi=200)\n",
    "plt.show()"
   ]
  },
  {
   "cell_type": "markdown",
   "metadata": {},
   "source": [
    "### Difficulty contexts"
   ]
  },
  {
   "cell_type": "code",
   "execution_count": 9,
   "metadata": {},
   "outputs": [
    {
     "data": {
      "image/png": "[encoded data removed]",
      "text/plain": [
       "<Figure size 432x288 with 1 Axes>"
      ]
     },
     "metadata": {
      "needs_background": "light"
     },
     "output_type": "display_data"
    }
   ],
   "source": [
    "fig, ax = plt.subplots()\n",
    "plt.plot(range(1000), sorted(df_base['accuracy']))\n",
    "plt.xticks((0, 999))\n",
    "ax.set_xticklabels((1, 1000))\n",
    "# plt.ylim((0, 1))\n",
    "plt.ylim(bottom=0)\n",
    "plt.xlabel('Category')\n",
    "plt.ylabel('Accuracy')\n",
    "plt.tight_layout()\n",
    "# plt.savefig('baseline_classwise_acc_line.png', dpi=200)\n",
    "plt.show()"
   ]
  },
  {
   "cell_type": "code",
   "execution_count": 10,
   "metadata": {},
   "outputs": [
    {
     "data": {
      "image/png": "[encoded data removed]",
      "text/plain": [
       "<Figure size 432x288 with 1 Axes>"
      ]
     },
     "metadata": {
      "needs_background": "light"
     },
     "output_type": "display_data"
    }
   ],
   "source": [
    "plt.hist(df_base['accuracy'], bins=20, alpha=0.7)#, color='w', edgecolor='black') #alpha=0.5)\n",
    "plt.axvline(mean_acc, color='k', linestyle='--', label='mean')#, linewidth=1.2)\n",
    "# plt.axvline(mean_acc-std_acc, color='r', linestyle='--')\n",
    "# plt.axvline(mean_acc+std_acc, color='r', linestyle='--')\n",
    "plt.xlim((0, 1))\n",
    "plt.xlabel('Baseline accuracy')\n",
    "plt.ylabel('Number of categories')\n",
    "plt.legend()\n",
    "plt.tight_layout()\n",
    "# plt.savefig('baseline_classwise_acc_hist.png', dpi=200)\n",
    "plt.show()"
   ]
  },
  {
   "cell_type": "code",
   "execution_count": 11,
   "metadata": {},
   "outputs": [
    {
     "data": {
      "image/png": "[encoded data removed]",
      "text/plain": [
       "<Figure size 432x288 with 1 Axes>"
      ]
     },
     "metadata": {
      "needs_background": "light"
     },
     "output_type": "display_data"
    }
   ],
   "source": [
    "plt.hist(1-df_base['accuracy'], bins=20, alpha=0.7)#, color='w', edgecolor='black') #alpha=0.5)\n",
    "plt.axvline(np.mean(1-df_base['accuracy']), color='k', linestyle='--', label='mean')#, linewidth=1.2)\n",
    "# plt.axvline(mean_acc-std_acc, color='r', linestyle='--')\n",
    "# plt.axvline(mean_acc+std_acc, color='r', linestyle='--')\n",
    "plt.xlim((0, 1))\n",
    "plt.xlabel('Difficulty')\n",
    "plt.ylabel('Number of categories')\n",
    "plt.legend()\n",
    "plt.tight_layout()\n",
    "# plt.savefig('baseline_classwise_acc_hist.png', dpi=200)\n",
    "plt.show()"
   ]
  },
  {
   "cell_type": "code",
   "execution_count": 12,
   "metadata": {},
   "outputs": [],
   "source": [
    "df_diff = context_summary('diff')\n",
    "# df_diff.sort_values('incontext_base', inplace=True)"
   ]
  },
  {
   "cell_type": "code",
   "execution_count": 13,
   "metadata": {},
   "outputs": [
    {
     "data": {
      "image/png": "[encoded data removed]",
      "text/plain": [
       "<Figure size 432x288 with 1 Axes>"
      ]
     },
     "metadata": {
      "needs_background": "light"
     },
     "output_type": "display_data"
    }
   ],
   "source": [
    "plt.scatter(1-df_diff['incontext_base'][:20], np.ones(20), **styles['0'], label=r'$\\mathcal{A}_1 : \\mathcal{A}_{20}$')\n",
    "plt.scatter(1-df_diff['incontext_base'][20:], 2*np.ones(5), **styles['1'], label=r'$\\mathcal{A}_{21} : \\mathcal{A}_{25}$')\n",
    "plt.xlim(left=0)\n",
    "plt.ylim((0, 3))\n",
    "plt.xlabel('Difficulty')\n",
    "plt.gca().axes.get_yaxis().set_visible(False)\n",
    "plt.legend()#title='Contexts')\n",
    "plt.tight_layout()\n",
    "# plt.savefig('diffcontexts_baseline.png', dpi=200)\n",
    "plt.show()"
   ]
  },
  {
   "cell_type": "code",
   "execution_count": 14,
   "metadata": {},
   "outputs": [
    {
     "data": {
      "image/png": "[encoded data removed]",
      "text/plain": [
       "<Figure size 432x288 with 1 Axes>"
      ]
     },
     "metadata": {
      "needs_background": "light"
     },
     "output_type": "display_data"
    }
   ],
   "source": [
    "fig, ax = plot_change_acc(df_diff, list(1-df_diff['incontext_base']))\n",
    "plt.xlabel('Difficulty')\n",
    "plt.xlim(left=0)\n",
    "plt.tight_layout()\n",
    "# plt.savefig('diffcontexts_acc_change.png', dpi=200)\n",
    "plt.show()"
   ]
  },
  {
   "cell_type": "code",
   "execution_count": 15,
   "metadata": {},
   "outputs": [
    {
     "data": {
      "image/png": "[encoded data removed]",
      "text/plain": [
       "<Figure size 720x288 with 2 Axes>"
      ]
     },
     "metadata": {
      "needs_background": "light"
     },
     "output_type": "display_data"
    }
   ],
   "source": [
    "fig, ax = plt.subplots(1, 2, figsize=(10, 4))\n",
    "\n",
    "difficulty = 1-df_diff['incontext_base']\n",
    "x = list(1-df_diff['incontext_base'])\n",
    "\n",
    "scatter_line(ax[0], x, df_diff['incontext_change'], styles['in'])\n",
    "scatter_line(ax[0], x, df_diff['outofcontext_change'], styles['out'])\n",
    "scatter_line(ax[1], x, df_diff['incontext_change']/difficulty, styles['in'])\n",
    "scatter_line(ax[1], x, df_diff['outofcontext_change']/difficulty, styles['out'])\n",
    "\n",
    "ax[0].set_ylabel('Accuracy change (unnormalised)')\n",
    "ax[1].set_ylabel('Accuracy change (normalised)')\n",
    "ax[0].legend(title='Source of test examples')\n",
    "ax[1].legend(title='Source of test examples')\n",
    "ax[0].axhline(y=0, color='k', linestyle='--', linewidth=0.8)\n",
    "ax[1].axhline(y=0, color='k', linestyle='--', linewidth=0.8)\n",
    "\n",
    "# fig, ax = plot_change_acc(df_diff, list(1-df_diff['incontext_base']))\n",
    "\n",
    "for a in ax:\n",
    "    a.set_xlabel('Difficulty')\n",
    "    a.set_xlim(left=0)\n",
    "    \n",
    "plt.tight_layout()\n",
    "# plt.savefig('diffcontexts_acc_change_norm.png', dpi=200)\n",
    "plt.show()"
   ]
  },
  {
   "cell_type": "markdown",
   "metadata": {},
   "source": [
    "### Size contexts"
   ]
  },
  {
   "cell_type": "code",
   "execution_count": 16,
   "metadata": {},
   "outputs": [
    {
     "data": {
      "text/html": [
       "<div>\n",
       "<style scoped>\n",
       "    .dataframe tbody tr th:only-of-type {\n",
       "        vertical-align: middle;\n",
       "    }\n",
       "\n",
       "    .dataframe tbody tr th {\n",
       "        vertical-align: top;\n",
       "    }\n",
       "\n",
       "    .dataframe thead th {\n",
       "        text-align: right;\n",
       "    }\n",
       "</style>\n",
       "<table border=\"1\" class=\"dataframe\">\n",
       "  <thead>\n",
       "    <tr style=\"text-align: right;\">\n",
       "      <th></th>\n",
       "      <th>size</th>\n",
       "      <th>similarity</th>\n",
       "      <th>incontext_base</th>\n",
       "      <th>outofcontext_base</th>\n",
       "      <th>incontext_trained</th>\n",
       "      <th>outofcontext_trained</th>\n",
       "      <th>incontext_change</th>\n",
       "      <th>outofcontext_change</th>\n",
       "      <th>num_epochs</th>\n",
       "    </tr>\n",
       "  </thead>\n",
       "  <tbody>\n",
       "    <tr>\n",
       "      <th>0</th>\n",
       "      <td>1</td>\n",
       "      <td>1.000000</td>\n",
       "      <td>0.660000</td>\n",
       "      <td>0.646121</td>\n",
       "      <td>0.800000</td>\n",
       "      <td>0.642421</td>\n",
       "      <td>0.140000</td>\n",
       "      <td>-0.003700</td>\n",
       "      <td>100</td>\n",
       "    </tr>\n",
       "    <tr>\n",
       "      <th>1</th>\n",
       "      <td>2</td>\n",
       "      <td>0.338592</td>\n",
       "      <td>0.650000</td>\n",
       "      <td>0.646127</td>\n",
       "      <td>0.840000</td>\n",
       "      <td>0.636026</td>\n",
       "      <td>0.190000</td>\n",
       "      <td>-0.010102</td>\n",
       "      <td>100</td>\n",
       "    </tr>\n",
       "    <tr>\n",
       "      <th>2</th>\n",
       "      <td>4</td>\n",
       "      <td>0.603180</td>\n",
       "      <td>0.685707</td>\n",
       "      <td>0.645976</td>\n",
       "      <td>0.895288</td>\n",
       "      <td>0.617000</td>\n",
       "      <td>0.209581</td>\n",
       "      <td>-0.028976</td>\n",
       "      <td>100</td>\n",
       "    </tr>\n",
       "    <tr>\n",
       "      <th>3</th>\n",
       "      <td>8</td>\n",
       "      <td>0.414381</td>\n",
       "      <td>0.664634</td>\n",
       "      <td>0.645986</td>\n",
       "      <td>0.890863</td>\n",
       "      <td>0.581055</td>\n",
       "      <td>0.226229</td>\n",
       "      <td>-0.064931</td>\n",
       "      <td>100</td>\n",
       "    </tr>\n",
       "    <tr>\n",
       "      <th>4</th>\n",
       "      <td>16</td>\n",
       "      <td>0.462032</td>\n",
       "      <td>0.671334</td>\n",
       "      <td>0.645725</td>\n",
       "      <td>0.903394</td>\n",
       "      <td>0.518306</td>\n",
       "      <td>0.232060</td>\n",
       "      <td>-0.127420</td>\n",
       "      <td>100</td>\n",
       "    </tr>\n",
       "    <tr>\n",
       "      <th>5</th>\n",
       "      <td>32</td>\n",
       "      <td>0.407476</td>\n",
       "      <td>0.658227</td>\n",
       "      <td>0.645735</td>\n",
       "      <td>0.847840</td>\n",
       "      <td>0.495406</td>\n",
       "      <td>0.189613</td>\n",
       "      <td>-0.150330</td>\n",
       "      <td>100</td>\n",
       "    </tr>\n",
       "    <tr>\n",
       "      <th>6</th>\n",
       "      <td>64</td>\n",
       "      <td>0.418547</td>\n",
       "      <td>0.662271</td>\n",
       "      <td>0.645032</td>\n",
       "      <td>0.807429</td>\n",
       "      <td>0.527618</td>\n",
       "      <td>0.145158</td>\n",
       "      <td>-0.117413</td>\n",
       "      <td>100</td>\n",
       "    </tr>\n",
       "    <tr>\n",
       "      <th>7</th>\n",
       "      <td>128</td>\n",
       "      <td>0.427468</td>\n",
       "      <td>0.663694</td>\n",
       "      <td>0.643558</td>\n",
       "      <td>0.727816</td>\n",
       "      <td>0.620294</td>\n",
       "      <td>0.064123</td>\n",
       "      <td>-0.023263</td>\n",
       "      <td>23</td>\n",
       "    </tr>\n",
       "    <tr>\n",
       "      <th>8</th>\n",
       "      <td>256</td>\n",
       "      <td>0.421248</td>\n",
       "      <td>0.656843</td>\n",
       "      <td>0.642451</td>\n",
       "      <td>0.708441</td>\n",
       "      <td>0.620178</td>\n",
       "      <td>0.051598</td>\n",
       "      <td>-0.022273</td>\n",
       "      <td>41</td>\n",
       "    </tr>\n",
       "  </tbody>\n",
       "</table>\n",
       "</div>"
      ],
      "text/plain": [
       "   size  similarity  incontext_base  outofcontext_base  incontext_trained  \\\n",
       "0     1    1.000000        0.660000           0.646121           0.800000   \n",
       "1     2    0.338592        0.650000           0.646127           0.840000   \n",
       "2     4    0.603180        0.685707           0.645976           0.895288   \n",
       "3     8    0.414381        0.664634           0.645986           0.890863   \n",
       "4    16    0.462032        0.671334           0.645725           0.903394   \n",
       "5    32    0.407476        0.658227           0.645735           0.847840   \n",
       "6    64    0.418547        0.662271           0.645032           0.807429   \n",
       "7   128    0.427468        0.663694           0.643558           0.727816   \n",
       "8   256    0.421248        0.656843           0.642451           0.708441   \n",
       "\n",
       "   outofcontext_trained  incontext_change  outofcontext_change  num_epochs  \n",
       "0              0.642421          0.140000            -0.003700         100  \n",
       "1              0.636026          0.190000            -0.010102         100  \n",
       "2              0.617000          0.209581            -0.028976         100  \n",
       "3              0.581055          0.226229            -0.064931         100  \n",
       "4              0.518306          0.232060            -0.127420         100  \n",
       "5              0.495406          0.189613            -0.150330         100  \n",
       "6              0.527618          0.145158            -0.117413         100  \n",
       "7              0.620294          0.064123            -0.023263          23  \n",
       "8              0.620178          0.051598            -0.022273          41  "
      ]
     },
     "execution_count": 16,
     "metadata": {},
     "output_type": "execute_result"
    }
   ],
   "source": [
    "df_size = context_summary('size')\n",
    "df_size"
   ]
  },
  {
   "cell_type": "code",
   "execution_count": 17,
   "metadata": {},
   "outputs": [
    {
     "data": {
      "image/png": "[encoded data removed]",
      "text/plain": [
       "<Figure size 432x288 with 1 Axes>"
      ]
     },
     "metadata": {
      "needs_background": "light"
     },
     "output_type": "display_data"
    }
   ],
   "source": [
    "fig, ax = plot_change_acc(df_size, list(df_size['size']))\n",
    "plt.xlabel('Size')\n",
    "plt.tight_layout()\n",
    "# plt.savefig('sizecontexts_acc_change.png', dpi=200)\n",
    "plt.show()"
   ]
  },
  {
   "cell_type": "markdown",
   "metadata": {},
   "source": [
    "### Similarity contexts"
   ]
  },
  {
   "cell_type": "code",
   "execution_count": 18,
   "metadata": {},
   "outputs": [
    {
     "data": {
      "text/html": [
       "<div>\n",
       "<style scoped>\n",
       "    .dataframe tbody tr th:only-of-type {\n",
       "        vertical-align: middle;\n",
       "    }\n",
       "\n",
       "    .dataframe tbody tr th {\n",
       "        vertical-align: top;\n",
       "    }\n",
       "\n",
       "    .dataframe thead th {\n",
       "        text-align: right;\n",
       "    }\n",
       "</style>\n",
       "<table border=\"1\" class=\"dataframe\">\n",
       "  <thead>\n",
       "    <tr style=\"text-align: right;\">\n",
       "      <th></th>\n",
       "      <th>size</th>\n",
       "      <th>similarity</th>\n",
       "      <th>incontext_base</th>\n",
       "      <th>outofcontext_base</th>\n",
       "      <th>incontext_trained</th>\n",
       "      <th>outofcontext_trained</th>\n",
       "      <th>incontext_change</th>\n",
       "      <th>outofcontext_change</th>\n",
       "      <th>num_epochs</th>\n",
       "    </tr>\n",
       "  </thead>\n",
       "  <tbody>\n",
       "    <tr>\n",
       "      <th>0</th>\n",
       "      <td>50</td>\n",
       "      <td>0.722368</td>\n",
       "      <td>0.628814</td>\n",
       "      <td>0.647047</td>\n",
       "      <td>0.722500</td>\n",
       "      <td>0.621209</td>\n",
       "      <td>0.093686</td>\n",
       "      <td>-0.025837</td>\n",
       "      <td>29</td>\n",
       "    </tr>\n",
       "    <tr>\n",
       "      <th>1</th>\n",
       "      <td>50</td>\n",
       "      <td>0.530808</td>\n",
       "      <td>0.679750</td>\n",
       "      <td>0.644366</td>\n",
       "      <td>0.787464</td>\n",
       "      <td>0.600166</td>\n",
       "      <td>0.107713</td>\n",
       "      <td>-0.044200</td>\n",
       "      <td>36</td>\n",
       "    </tr>\n",
       "    <tr>\n",
       "      <th>2</th>\n",
       "      <td>50</td>\n",
       "      <td>0.475978</td>\n",
       "      <td>0.643354</td>\n",
       "      <td>0.646281</td>\n",
       "      <td>0.778054</td>\n",
       "      <td>0.560003</td>\n",
       "      <td>0.134700</td>\n",
       "      <td>-0.086279</td>\n",
       "      <td>45</td>\n",
       "    </tr>\n",
       "    <tr>\n",
       "      <th>3</th>\n",
       "      <td>50</td>\n",
       "      <td>0.450365</td>\n",
       "      <td>0.629162</td>\n",
       "      <td>0.647028</td>\n",
       "      <td>0.745275</td>\n",
       "      <td>0.603746</td>\n",
       "      <td>0.116113</td>\n",
       "      <td>-0.043282</td>\n",
       "      <td>38</td>\n",
       "    </tr>\n",
       "    <tr>\n",
       "      <th>4</th>\n",
       "      <td>50</td>\n",
       "      <td>0.782004</td>\n",
       "      <td>0.674659</td>\n",
       "      <td>0.644634</td>\n",
       "      <td>0.758761</td>\n",
       "      <td>0.605015</td>\n",
       "      <td>0.084102</td>\n",
       "      <td>-0.039619</td>\n",
       "      <td>33</td>\n",
       "    </tr>\n",
       "    <tr>\n",
       "      <th>5</th>\n",
       "      <td>50</td>\n",
       "      <td>0.573101</td>\n",
       "      <td>0.629006</td>\n",
       "      <td>0.647037</td>\n",
       "      <td>0.773175</td>\n",
       "      <td>0.575437</td>\n",
       "      <td>0.144169</td>\n",
       "      <td>-0.071600</td>\n",
       "      <td>48</td>\n",
       "    </tr>\n",
       "    <tr>\n",
       "      <th>6</th>\n",
       "      <td>50</td>\n",
       "      <td>0.472451</td>\n",
       "      <td>0.648156</td>\n",
       "      <td>0.646029</td>\n",
       "      <td>0.769294</td>\n",
       "      <td>0.586546</td>\n",
       "      <td>0.121138</td>\n",
       "      <td>-0.059482</td>\n",
       "      <td>45</td>\n",
       "    </tr>\n",
       "    <tr>\n",
       "      <th>7</th>\n",
       "      <td>50</td>\n",
       "      <td>0.422771</td>\n",
       "      <td>0.673201</td>\n",
       "      <td>0.644711</td>\n",
       "      <td>0.730398</td>\n",
       "      <td>0.638606</td>\n",
       "      <td>0.057198</td>\n",
       "      <td>-0.006105</td>\n",
       "      <td>17</td>\n",
       "    </tr>\n",
       "    <tr>\n",
       "      <th>8</th>\n",
       "      <td>50</td>\n",
       "      <td>0.673556</td>\n",
       "      <td>0.694332</td>\n",
       "      <td>0.643598</td>\n",
       "      <td>0.772522</td>\n",
       "      <td>0.609121</td>\n",
       "      <td>0.078189</td>\n",
       "      <td>-0.034477</td>\n",
       "      <td>33</td>\n",
       "    </tr>\n",
       "    <tr>\n",
       "      <th>9</th>\n",
       "      <td>50</td>\n",
       "      <td>0.506173</td>\n",
       "      <td>0.658442</td>\n",
       "      <td>0.645487</td>\n",
       "      <td>0.802092</td>\n",
       "      <td>0.560112</td>\n",
       "      <td>0.143650</td>\n",
       "      <td>-0.085376</td>\n",
       "      <td>52</td>\n",
       "    </tr>\n",
       "    <tr>\n",
       "      <th>10</th>\n",
       "      <td>50</td>\n",
       "      <td>0.465792</td>\n",
       "      <td>0.621953</td>\n",
       "      <td>0.647408</td>\n",
       "      <td>0.750412</td>\n",
       "      <td>0.583104</td>\n",
       "      <td>0.128459</td>\n",
       "      <td>-0.064304</td>\n",
       "      <td>44</td>\n",
       "    </tr>\n",
       "    <tr>\n",
       "      <th>11</th>\n",
       "      <td>50</td>\n",
       "      <td>0.422581</td>\n",
       "      <td>0.607569</td>\n",
       "      <td>0.648165</td>\n",
       "      <td>0.761069</td>\n",
       "      <td>0.541510</td>\n",
       "      <td>0.153500</td>\n",
       "      <td>-0.106654</td>\n",
       "      <td>74</td>\n",
       "    </tr>\n",
       "    <tr>\n",
       "      <th>12</th>\n",
       "      <td>50</td>\n",
       "      <td>0.808509</td>\n",
       "      <td>0.625640</td>\n",
       "      <td>0.647214</td>\n",
       "      <td>0.731424</td>\n",
       "      <td>0.617404</td>\n",
       "      <td>0.105784</td>\n",
       "      <td>-0.029810</td>\n",
       "      <td>31</td>\n",
       "    </tr>\n",
       "    <tr>\n",
       "      <th>13</th>\n",
       "      <td>50</td>\n",
       "      <td>0.607286</td>\n",
       "      <td>0.688284</td>\n",
       "      <td>0.643917</td>\n",
       "      <td>0.790190</td>\n",
       "      <td>0.606086</td>\n",
       "      <td>0.101906</td>\n",
       "      <td>-0.037831</td>\n",
       "      <td>33</td>\n",
       "    </tr>\n",
       "    <tr>\n",
       "      <th>14</th>\n",
       "      <td>50</td>\n",
       "      <td>0.474590</td>\n",
       "      <td>0.595989</td>\n",
       "      <td>0.648774</td>\n",
       "      <td>0.716283</td>\n",
       "      <td>0.603043</td>\n",
       "      <td>0.120294</td>\n",
       "      <td>-0.045731</td>\n",
       "      <td>35</td>\n",
       "    </tr>\n",
       "    <tr>\n",
       "      <th>15</th>\n",
       "      <td>50</td>\n",
       "      <td>0.441973</td>\n",
       "      <td>0.688502</td>\n",
       "      <td>0.643905</td>\n",
       "      <td>0.808589</td>\n",
       "      <td>0.574564</td>\n",
       "      <td>0.120087</td>\n",
       "      <td>-0.069341</td>\n",
       "      <td>51</td>\n",
       "    </tr>\n",
       "    <tr>\n",
       "      <th>16</th>\n",
       "      <td>50</td>\n",
       "      <td>0.868171</td>\n",
       "      <td>0.617169</td>\n",
       "      <td>0.647660</td>\n",
       "      <td>0.737344</td>\n",
       "      <td>0.603561</td>\n",
       "      <td>0.120175</td>\n",
       "      <td>-0.044098</td>\n",
       "      <td>40</td>\n",
       "    </tr>\n",
       "    <tr>\n",
       "      <th>17</th>\n",
       "      <td>50</td>\n",
       "      <td>0.552460</td>\n",
       "      <td>0.658248</td>\n",
       "      <td>0.645498</td>\n",
       "      <td>0.769483</td>\n",
       "      <td>0.602860</td>\n",
       "      <td>0.111235</td>\n",
       "      <td>-0.042637</td>\n",
       "      <td>32</td>\n",
       "    </tr>\n",
       "    <tr>\n",
       "      <th>18</th>\n",
       "      <td>50</td>\n",
       "      <td>0.495412</td>\n",
       "      <td>0.640277</td>\n",
       "      <td>0.646443</td>\n",
       "      <td>0.792678</td>\n",
       "      <td>0.564302</td>\n",
       "      <td>0.152401</td>\n",
       "      <td>-0.082141</td>\n",
       "      <td>48</td>\n",
       "    </tr>\n",
       "    <tr>\n",
       "      <th>19</th>\n",
       "      <td>50</td>\n",
       "      <td>0.410326</td>\n",
       "      <td>0.697879</td>\n",
       "      <td>0.643412</td>\n",
       "      <td>0.804649</td>\n",
       "      <td>0.593631</td>\n",
       "      <td>0.106770</td>\n",
       "      <td>-0.049780</td>\n",
       "      <td>41</td>\n",
       "    </tr>\n",
       "  </tbody>\n",
       "</table>\n",
       "</div>"
      ],
      "text/plain": [
       "    size  similarity  incontext_base  outofcontext_base  incontext_trained  \\\n",
       "0     50    0.722368        0.628814           0.647047           0.722500   \n",
       "1     50    0.530808        0.679750           0.644366           0.787464   \n",
       "2     50    0.475978        0.643354           0.646281           0.778054   \n",
       "3     50    0.450365        0.629162           0.647028           0.745275   \n",
       "4     50    0.782004        0.674659           0.644634           0.758761   \n",
       "5     50    0.573101        0.629006           0.647037           0.773175   \n",
       "6     50    0.472451        0.648156           0.646029           0.769294   \n",
       "7     50    0.422771        0.673201           0.644711           0.730398   \n",
       "8     50    0.673556        0.694332           0.643598           0.772522   \n",
       "9     50    0.506173        0.658442           0.645487           0.802092   \n",
       "10    50    0.465792        0.621953           0.647408           0.750412   \n",
       "11    50    0.422581        0.607569           0.648165           0.761069   \n",
       "12    50    0.808509        0.625640           0.647214           0.731424   \n",
       "13    50    0.607286        0.688284           0.643917           0.790190   \n",
       "14    50    0.474590        0.595989           0.648774           0.716283   \n",
       "15    50    0.441973        0.688502           0.643905           0.808589   \n",
       "16    50    0.868171        0.617169           0.647660           0.737344   \n",
       "17    50    0.552460        0.658248           0.645498           0.769483   \n",
       "18    50    0.495412        0.640277           0.646443           0.792678   \n",
       "19    50    0.410326        0.697879           0.643412           0.804649   \n",
       "\n",
       "    outofcontext_trained  incontext_change  outofcontext_change  num_epochs  \n",
       "0               0.621209          0.093686            -0.025837          29  \n",
       "1               0.600166          0.107713            -0.044200          36  \n",
       "2               0.560003          0.134700            -0.086279          45  \n",
       "3               0.603746          0.116113            -0.043282          38  \n",
       "4               0.605015          0.084102            -0.039619          33  \n",
       "5               0.575437          0.144169            -0.071600          48  \n",
       "6               0.586546          0.121138            -0.059482          45  \n",
       "7               0.638606          0.057198            -0.006105          17  \n",
       "8               0.609121          0.078189            -0.034477          33  \n",
       "9               0.560112          0.143650            -0.085376          52  \n",
       "10              0.583104          0.128459            -0.064304          44  \n",
       "11              0.541510          0.153500            -0.106654          74  \n",
       "12              0.617404          0.105784            -0.029810          31  \n",
       "13              0.606086          0.101906            -0.037831          33  \n",
       "14              0.603043          0.120294            -0.045731          35  \n",
       "15              0.574564          0.120087            -0.069341          51  \n",
       "16              0.603561          0.120175            -0.044098          40  \n",
       "17              0.602860          0.111235            -0.042637          32  \n",
       "18              0.564302          0.152401            -0.082141          48  \n",
       "19              0.593631          0.106770            -0.049780          41  "
      ]
     },
     "execution_count": 18,
     "metadata": {},
     "output_type": "execute_result"
    }
   ],
   "source": [
    "df_sim = context_summary('sim')\n",
    "df_sim"
   ]
  },
  {
   "cell_type": "code",
   "execution_count": 20,
   "metadata": {},
   "outputs": [
    {
     "data": {
      "image/png": "[encoded data removed]",
      "text/plain": [
       "<Figure size 432x288 with 1 Axes>"
      ]
     },
     "metadata": {
      "needs_background": "light"
     },
     "output_type": "display_data"
    }
   ],
   "source": [
    "fig, ax = plot_change_acc(df_sim, list(df_sim['similarity']))\n",
    "plt.xlabel('Similarity')\n",
    "plt.tight_layout()\n",
    "plt.savefig('simcontexts_acc_change.png', dpi=200)\n",
    "plt.show()"
   ]
  },
  {
   "cell_type": "code",
   "execution_count": null,
   "metadata": {},
   "outputs": [],
   "source": []
  }
 ],
 "metadata": {
  "kernelspec": {
   "display_name": "Python 3",
   "language": "python",
   "name": "python3"
  },
  "language_info": {
   "codemirror_mode": {
    "name": "ipython",
    "version": 3
   },
   "file_extension": ".py",
   "mimetype": "text/x-python",
   "name": "python",
   "nbconvert_exporter": "python",
   "pygments_lexer": "ipython3",
   "version": "3.7.0"
  }
 },
 "nbformat": 4,
 "nbformat_minor": 2
}
