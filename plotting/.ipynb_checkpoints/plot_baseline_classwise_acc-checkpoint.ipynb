{
 "cells": [
  {
   "cell_type": "code",
   "execution_count": 1,
   "metadata": {},
   "outputs": [],
   "source": [
    "import numpy as np\n",
    "import pandas as pd\n",
    "import matplotlib.pyplot as plt"
   ]
  },
  {
   "cell_type": "code",
   "execution_count": 2,
   "metadata": {},
   "outputs": [],
   "source": [
    "path = '/Users/fbickfordsmith/Google Drive/Project/'\n",
    "df = pd.read_csv(path+'attention/csv/baseline_classwise.csv', index_col=0)\n",
    "sorted_df = df.sort_values(by='accuracy', ascending=False)\n",
    "sets_df = pd.read_csv(path+'attention/csv/class_sets_definition.csv', index_col=0)"
   ]
  },
  {
   "cell_type": "code",
   "execution_count": 3,
   "metadata": {},
   "outputs": [
    {
     "data": {
      "text/html": [
       "<div>\n",
       "<style scoped>\n",
       "    .dataframe tbody tr th:only-of-type {\n",
       "        vertical-align: middle;\n",
       "    }\n",
       "\n",
       "    .dataframe tbody tr th {\n",
       "        vertical-align: top;\n",
       "    }\n",
       "\n",
       "    .dataframe thead th {\n",
       "        text-align: right;\n",
       "    }\n",
       "</style>\n",
       "<table border=\"1\" class=\"dataframe\">\n",
       "  <thead>\n",
       "    <tr style=\"text-align: right;\">\n",
       "      <th></th>\n",
       "      <th>wnid</th>\n",
       "      <th>num_examples</th>\n",
       "      <th>num_correct</th>\n",
       "      <th>accuracy</th>\n",
       "      <th>name</th>\n",
       "      <th>description</th>\n",
       "    </tr>\n",
       "  </thead>\n",
       "  <tbody>\n",
       "    <tr>\n",
       "      <th>985</th>\n",
       "      <td>n11939491</td>\n",
       "      <td>46</td>\n",
       "      <td>46</td>\n",
       "      <td>1.000000</td>\n",
       "      <td>daisy</td>\n",
       "      <td>any of numerous composite plants having flower...</td>\n",
       "    </tr>\n",
       "    <tr>\n",
       "      <th>995</th>\n",
       "      <td>n13044778</td>\n",
       "      <td>49</td>\n",
       "      <td>49</td>\n",
       "      <td>1.000000</td>\n",
       "      <td>earthstar</td>\n",
       "      <td>any fungus of the family Geastraceae; in form ...</td>\n",
       "    </tr>\n",
       "    <tr>\n",
       "      <th>986</th>\n",
       "      <td>n12057211</td>\n",
       "      <td>50</td>\n",
       "      <td>50</td>\n",
       "      <td>1.000000</td>\n",
       "      <td>yellow lady's slipper, yellow lady-slipper, Cy...</td>\n",
       "      <td>maroon to purple-brown orchid with yellow lip;...</td>\n",
       "    </tr>\n",
       "    <tr>\n",
       "      <th>139</th>\n",
       "      <td>n02025239</td>\n",
       "      <td>50</td>\n",
       "      <td>49</td>\n",
       "      <td>0.980000</td>\n",
       "      <td>ruddy turnstone, Arenaria interpres</td>\n",
       "      <td>common Arctic turnstone that winters in South ...</td>\n",
       "    </tr>\n",
       "    <tr>\n",
       "      <th>991</th>\n",
       "      <td>n12985857</td>\n",
       "      <td>49</td>\n",
       "      <td>48</td>\n",
       "      <td>0.979592</td>\n",
       "      <td>coral fungus</td>\n",
       "      <td>any of numerous fungi of the family Clavariace...</td>\n",
       "    </tr>\n",
       "  </tbody>\n",
       "</table>\n",
       "</div>"
      ],
      "text/plain": [
       "          wnid  num_examples  num_correct  accuracy  \\\n",
       "985  n11939491            46           46  1.000000   \n",
       "995  n13044778            49           49  1.000000   \n",
       "986  n12057211            50           50  1.000000   \n",
       "139  n02025239            50           49  0.980000   \n",
       "991  n12985857            49           48  0.979592   \n",
       "\n",
       "                                                  name  \\\n",
       "985                                              daisy   \n",
       "995                                          earthstar   \n",
       "986  yellow lady's slipper, yellow lady-slipper, Cy...   \n",
       "139                ruddy turnstone, Arenaria interpres   \n",
       "991                                       coral fungus   \n",
       "\n",
       "                                           description  \n",
       "985  any of numerous composite plants having flower...  \n",
       "995  any fungus of the family Geastraceae; in form ...  \n",
       "986  maroon to purple-brown orchid with yellow lip;...  \n",
       "139  common Arctic turnstone that winters in South ...  \n",
       "991  any of numerous fungi of the family Clavariace...  "
      ]
     },
     "execution_count": 3,
     "metadata": {},
     "output_type": "execute_result"
    }
   ],
   "source": [
    "sorted_df.head(5)"
   ]
  },
  {
   "cell_type": "code",
   "execution_count": 4,
   "metadata": {},
   "outputs": [
    {
     "data": {
      "text/html": [
       "<div>\n",
       "<style scoped>\n",
       "    .dataframe tbody tr th:only-of-type {\n",
       "        vertical-align: middle;\n",
       "    }\n",
       "\n",
       "    .dataframe tbody tr th {\n",
       "        vertical-align: top;\n",
       "    }\n",
       "\n",
       "    .dataframe thead th {\n",
       "        text-align: right;\n",
       "    }\n",
       "</style>\n",
       "<table border=\"1\" class=\"dataframe\">\n",
       "  <thead>\n",
       "    <tr style=\"text-align: right;\">\n",
       "      <th></th>\n",
       "      <th>wnid</th>\n",
       "      <th>num_examples</th>\n",
       "      <th>num_correct</th>\n",
       "      <th>accuracy</th>\n",
       "      <th>name</th>\n",
       "      <th>description</th>\n",
       "    </tr>\n",
       "  </thead>\n",
       "  <tbody>\n",
       "    <tr>\n",
       "      <th>836</th>\n",
       "      <td>n04355933</td>\n",
       "      <td>50</td>\n",
       "      <td>7</td>\n",
       "      <td>0.140000</td>\n",
       "      <td>sunglass</td>\n",
       "      <td>a convex lens that focuses the rays of the sun...</td>\n",
       "    </tr>\n",
       "    <tr>\n",
       "      <th>784</th>\n",
       "      <td>n04154565</td>\n",
       "      <td>47</td>\n",
       "      <td>6</td>\n",
       "      <td>0.127660</td>\n",
       "      <td>screwdriver</td>\n",
       "      <td>a hand tool for driving screws; has a tip that...</td>\n",
       "    </tr>\n",
       "    <tr>\n",
       "      <th>885</th>\n",
       "      <td>n04525038</td>\n",
       "      <td>50</td>\n",
       "      <td>6</td>\n",
       "      <td>0.120000</td>\n",
       "      <td>velvet</td>\n",
       "      <td>a silky densely piled fabric with a plain back</td>\n",
       "    </tr>\n",
       "    <tr>\n",
       "      <th>664</th>\n",
       "      <td>n03782006</td>\n",
       "      <td>49</td>\n",
       "      <td>5</td>\n",
       "      <td>0.102041</td>\n",
       "      <td>monitor</td>\n",
       "      <td>electronic equipment that is used to check the...</td>\n",
       "    </tr>\n",
       "    <tr>\n",
       "      <th>638</th>\n",
       "      <td>n03710637</td>\n",
       "      <td>50</td>\n",
       "      <td>4</td>\n",
       "      <td>0.080000</td>\n",
       "      <td>maillot</td>\n",
       "      <td>tights for dancers or gymnasts</td>\n",
       "    </tr>\n",
       "  </tbody>\n",
       "</table>\n",
       "</div>"
      ],
      "text/plain": [
       "          wnid  num_examples  num_correct  accuracy         name  \\\n",
       "836  n04355933            50            7  0.140000     sunglass   \n",
       "784  n04154565            47            6  0.127660  screwdriver   \n",
       "885  n04525038            50            6  0.120000       velvet   \n",
       "664  n03782006            49            5  0.102041      monitor   \n",
       "638  n03710637            50            4  0.080000      maillot   \n",
       "\n",
       "                                           description  \n",
       "836  a convex lens that focuses the rays of the sun...  \n",
       "784  a hand tool for driving screws; has a tip that...  \n",
       "885     a silky densely piled fabric with a plain back  \n",
       "664  electronic equipment that is used to check the...  \n",
       "638                     tights for dancers or gymnasts  "
      ]
     },
     "execution_count": 4,
     "metadata": {},
     "output_type": "execute_result"
    }
   ],
   "source": [
    "sorted_df.tail(5)"
   ]
  },
  {
   "cell_type": "code",
   "execution_count": 5,
   "metadata": {
    "scrolled": true
   },
   "outputs": [
    {
     "data": {
      "image/png": "[encoded data removed]",
      "text/plain": [
       "<Figure size 432x288 with 1 Axes>"
      ]
     },
     "metadata": {
      "needs_background": "light"
     },
     "output_type": "display_data"
    }
   ],
   "source": [
    "plt.plot(range(1000), sorted_df['accuracy'])\n",
    "plt.xlabel('Class')\n",
    "plt.tick_params(\n",
    "    axis='x',          # changes apply to the x-axis\n",
    "    which='both',      # both major and minor ticks are affected\n",
    "    bottom=False,      # ticks along the bottom edge are off\n",
    "    top=False,         # ticks along the top edge are off\n",
    "    labelbottom=False) # labels along the bottom edge are off\n",
    "plt.ylabel('Top-1 accuracy')\n",
    "# plt.savefig('figs/baseline_classwise_acc.png', dpi=600)\n",
    "plt.show()\n",
    "# plt.clf()"
   ]
  },
  {
   "cell_type": "code",
   "execution_count": 6,
   "metadata": {},
   "outputs": [
    {
     "data": {
      "image/png": "[encoded data removed]",
      "text/plain": [
       "<Figure size 432x288 with 1 Axes>"
      ]
     },
     "metadata": {
      "needs_background": "light"
     },
     "output_type": "display_data"
    }
   ],
   "source": [
    "plt.plot(sets_df['inset_accuracy'], label='in-set')\n",
    "plt.plot(sets_df['outofset_accuracy'], label='out-of-set')\n",
    "plt.xlabel('Set')\n",
    "plt.ylabel('Top-1 accuracy')\n",
    "plt.xticks(range(0, 20))\n",
    "plt.legend()\n",
    "# plt.savefig('figs/class_sets_acc.png', dpi=600)\n",
    "plt.show()"
   ]
  }
 ],
 "metadata": {
  "kernelspec": {
   "display_name": "Python 3",
   "language": "python",
   "name": "python3"
  },
  "language_info": {
   "codemirror_mode": {
    "name": "ipython",
    "version": 3
   },
   "file_extension": ".py",
   "mimetype": "text/x-python",
   "name": "python",
   "nbconvert_exporter": "python",
   "pygments_lexer": "ipython3",
   "version": "3.7.0"
  }
 },
 "nbformat": 4,
 "nbformat_minor": 2
}
