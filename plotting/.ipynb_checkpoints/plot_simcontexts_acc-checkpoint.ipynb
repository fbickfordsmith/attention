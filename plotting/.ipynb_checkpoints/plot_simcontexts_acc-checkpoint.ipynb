{
 "cells": [
  {
   "cell_type": "code",
   "execution_count": 1,
   "metadata": {},
   "outputs": [],
   "source": [
    "import numpy as np\n",
    "import pandas as pd\n",
    "import matplotlib.pyplot as plt"
   ]
  },
  {
   "cell_type": "code",
   "execution_count": 2,
   "metadata": {
    "scrolled": false
   },
   "outputs": [
    {
     "data": {
      "text/html": [
       "<div>\n",
       "<style scoped>\n",
       "    .dataframe tbody tr th:only-of-type {\n",
       "        vertical-align: middle;\n",
       "    }\n",
       "\n",
       "    .dataframe tbody tr th {\n",
       "        vertical-align: top;\n",
       "    }\n",
       "\n",
       "    .dataframe thead th {\n",
       "        text-align: right;\n",
       "    }\n",
       "</style>\n",
       "<table border=\"1\" class=\"dataframe\">\n",
       "  <thead>\n",
       "    <tr style=\"text-align: right;\">\n",
       "      <th></th>\n",
       "      <th>wnids</th>\n",
       "      <th>num_examples</th>\n",
       "      <th>num_correct</th>\n",
       "      <th>incontext_acc</th>\n",
       "      <th>outofcontext_acc</th>\n",
       "      <th>incontext_meandistance</th>\n",
       "      <th>incontext_stddistance</th>\n",
       "    </tr>\n",
       "  </thead>\n",
       "  <tbody>\n",
       "    <tr>\n",
       "      <th>0</th>\n",
       "      <td>['n03743016', 'n01968897', 'n02085936', 'n0379...</td>\n",
       "      <td>2403</td>\n",
       "      <td>1553</td>\n",
       "      <td>0.646275</td>\n",
       "      <td>0.634423</td>\n",
       "      <td>54.411762</td>\n",
       "      <td>17.829769</td>\n",
       "    </tr>\n",
       "    <tr>\n",
       "      <th>1</th>\n",
       "      <td>['n03743016', 'n01855032', 'n03804744', 'n0208...</td>\n",
       "      <td>2410</td>\n",
       "      <td>1600</td>\n",
       "      <td>0.663900</td>\n",
       "      <td>0.633971</td>\n",
       "      <td>70.044609</td>\n",
       "      <td>17.620207</td>\n",
       "    </tr>\n",
       "    <tr>\n",
       "      <th>2</th>\n",
       "      <td>['n03743016', 'n02640242', 'n03476684', 'n0352...</td>\n",
       "      <td>2384</td>\n",
       "      <td>1417</td>\n",
       "      <td>0.594379</td>\n",
       "      <td>0.635737</td>\n",
       "      <td>69.142471</td>\n",
       "      <td>16.232023</td>\n",
       "    </tr>\n",
       "    <tr>\n",
       "      <th>3</th>\n",
       "      <td>['n03743016', 'n02086646', 'n02017213', 'n0422...</td>\n",
       "      <td>2414</td>\n",
       "      <td>1539</td>\n",
       "      <td>0.637531</td>\n",
       "      <td>0.634645</td>\n",
       "      <td>73.596451</td>\n",
       "      <td>17.055941</td>\n",
       "    </tr>\n",
       "    <tr>\n",
       "      <th>4</th>\n",
       "      <td>['n07734744', 'n07860988', 'n02085620', 'n0769...</td>\n",
       "      <td>2317</td>\n",
       "      <td>1560</td>\n",
       "      <td>0.673284</td>\n",
       "      <td>0.633771</td>\n",
       "      <td>50.759323</td>\n",
       "      <td>17.365021</td>\n",
       "    </tr>\n",
       "  </tbody>\n",
       "</table>\n",
       "</div>"
      ],
      "text/plain": [
       "                                               wnids  num_examples  \\\n",
       "0  ['n03743016', 'n01968897', 'n02085936', 'n0379...          2403   \n",
       "1  ['n03743016', 'n01855032', 'n03804744', 'n0208...          2410   \n",
       "2  ['n03743016', 'n02640242', 'n03476684', 'n0352...          2384   \n",
       "3  ['n03743016', 'n02086646', 'n02017213', 'n0422...          2414   \n",
       "4  ['n07734744', 'n07860988', 'n02085620', 'n0769...          2317   \n",
       "\n",
       "   num_correct  incontext_acc  outofcontext_acc  incontext_meandistance  \\\n",
       "0         1553       0.646275          0.634423               54.411762   \n",
       "1         1600       0.663900          0.633971               70.044609   \n",
       "2         1417       0.594379          0.635737               69.142471   \n",
       "3         1539       0.637531          0.634645               73.596451   \n",
       "4         1560       0.673284          0.633771               50.759323   \n",
       "\n",
       "   incontext_stddistance  \n",
       "0              17.829769  \n",
       "1              17.620207  \n",
       "2              16.232023  \n",
       "3              17.055941  \n",
       "4              17.365021  "
      ]
     },
     "execution_count": 2,
     "metadata": {},
     "output_type": "execute_result"
    }
   ],
   "source": [
    "path = '/Users/fbickfordsmith/Google Drive/Project/'\n",
    "df0 = pd.read_csv(path+'attention/contexts/simcontexts_stats.csv', index_col=0)\n",
    "df0.head(5)"
   ]
  },
  {
   "cell_type": "code",
   "execution_count": 3,
   "metadata": {},
   "outputs": [
    {
     "data": {
      "text/html": [
       "<div>\n",
       "<style scoped>\n",
       "    .dataframe tbody tr th:only-of-type {\n",
       "        vertical-align: middle;\n",
       "    }\n",
       "\n",
       "    .dataframe tbody tr th {\n",
       "        vertical-align: top;\n",
       "    }\n",
       "\n",
       "    .dataframe thead th {\n",
       "        text-align: right;\n",
       "    }\n",
       "</style>\n",
       "<table border=\"1\" class=\"dataframe\">\n",
       "  <thead>\n",
       "    <tr style=\"text-align: right;\">\n",
       "      <th></th>\n",
       "      <th>incontext_loss</th>\n",
       "      <th>incontext_acc</th>\n",
       "      <th>incontext_top5_acc</th>\n",
       "      <th>outofcontext_loss</th>\n",
       "      <th>outofcontext_acc</th>\n",
       "      <th>outofcontext_top5_acc</th>\n",
       "    </tr>\n",
       "  </thead>\n",
       "  <tbody>\n",
       "    <tr>\n",
       "      <th>0</th>\n",
       "      <td>1.439233</td>\n",
       "      <td>0.659592</td>\n",
       "      <td>0.863920</td>\n",
       "      <td>1.533890</td>\n",
       "      <td>0.635728</td>\n",
       "      <td>0.853085</td>\n",
       "    </tr>\n",
       "    <tr>\n",
       "      <th>1</th>\n",
       "      <td>1.211848</td>\n",
       "      <td>0.703734</td>\n",
       "      <td>0.900000</td>\n",
       "      <td>1.542507</td>\n",
       "      <td>0.634013</td>\n",
       "      <td>0.850981</td>\n",
       "    </tr>\n",
       "    <tr>\n",
       "      <th>2</th>\n",
       "      <td>1.478048</td>\n",
       "      <td>0.648909</td>\n",
       "      <td>0.868289</td>\n",
       "      <td>1.530375</td>\n",
       "      <td>0.635680</td>\n",
       "      <td>0.853011</td>\n",
       "    </tr>\n",
       "    <tr>\n",
       "      <th>3</th>\n",
       "      <td>1.361415</td>\n",
       "      <td>0.651201</td>\n",
       "      <td>0.875311</td>\n",
       "      <td>1.540443</td>\n",
       "      <td>0.634684</td>\n",
       "      <td>0.852647</td>\n",
       "    </tr>\n",
       "    <tr>\n",
       "      <th>4</th>\n",
       "      <td>1.343904</td>\n",
       "      <td>0.684506</td>\n",
       "      <td>0.885196</td>\n",
       "      <td>1.537756</td>\n",
       "      <td>0.634387</td>\n",
       "      <td>0.852436</td>\n",
       "    </tr>\n",
       "  </tbody>\n",
       "</table>\n",
       "</div>"
      ],
      "text/plain": [
       "   incontext_loss  incontext_acc  incontext_top5_acc  outofcontext_loss  \\\n",
       "0        1.439233       0.659592            0.863920           1.533890   \n",
       "1        1.211848       0.703734            0.900000           1.542507   \n",
       "2        1.478048       0.648909            0.868289           1.530375   \n",
       "3        1.361415       0.651201            0.875311           1.540443   \n",
       "4        1.343904       0.684506            0.885196           1.537756   \n",
       "\n",
       "   outofcontext_acc  outofcontext_top5_acc  \n",
       "0          0.635728               0.853085  \n",
       "1          0.634013               0.850981  \n",
       "2          0.635680               0.853011  \n",
       "3          0.634684               0.852647  \n",
       "4          0.634387               0.852436  "
      ]
     },
     "execution_count": 3,
     "metadata": {},
     "output_type": "execute_result"
    }
   ],
   "source": [
    "df1 = pd.read_csv(path+'attention/results/simcontexts_trained_metrics.csv', index_col=0)\n",
    "df1.head(5)"
   ]
  },
  {
   "cell_type": "code",
   "execution_count": 4,
   "metadata": {},
   "outputs": [],
   "source": [
    "df2 = pd.DataFrame()\n",
    "df2['x'] = df0['incontext_meandistance']\n",
    "df2['y_in'] = df1['incontext_acc'] - df0['incontext_acc']\n",
    "df2['y_out'] = df1['outofcontext_acc'] - df0['outofcontext_acc']\n",
    "df2.sort_values(by='x', inplace=True)"
   ]
  },
  {
   "cell_type": "code",
   "execution_count": 5,
   "metadata": {},
   "outputs": [
    {
     "data": {
      "image/png": "[encoded data removed]",
      "text/plain": [
       "<Figure size 432x288 with 1 Axes>"
      ]
     },
     "metadata": {
      "needs_background": "light"
     },
     "output_type": "display_data"
    }
   ],
   "source": [
    "plt.plot(df2['x'], df2['y_in'], label='in context')\n",
    "plt.plot(df2['x'], df2['y_out'], label='out of context')\n",
    "plt.xlabel('Mean Euclidean distance of representations in training context')\n",
    "plt.ylabel('Change in top-1 accuracy')\n",
    "plt.legend(title='Source of test examples')\n",
    "plt.savefig('simcontexts_acc_change.png', dpi=600)\n",
    "plt.show()"
   ]
  },
  {
   "cell_type": "code",
   "execution_count": null,
   "metadata": {},
   "outputs": [],
   "source": []
  }
 ],
 "metadata": {
  "kernelspec": {
   "display_name": "Python 3",
   "language": "python",
   "name": "python3"
  },
  "language_info": {
   "codemirror_mode": {
    "name": "ipython",
    "version": 3
   },
   "file_extension": ".py",
   "mimetype": "text/x-python",
   "name": "python",
   "nbconvert_exporter": "python",
   "pygments_lexer": "ipython3",
   "version": "3.7.0"
  }
 },
 "nbformat": 4,
 "nbformat_minor": 2
}
