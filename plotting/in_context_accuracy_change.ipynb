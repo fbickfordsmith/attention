{
 "cells": [
  {
   "cell_type": "code",
   "execution_count": 1,
   "metadata": {},
   "outputs": [],
   "source": [
    "import sys\n",
    "sys.path.append('..')\n",
    "from utils.results import *"
   ]
  },
  {
   "cell_type": "code",
   "execution_count": 2,
   "metadata": {},
   "outputs": [],
   "source": [
    "'''\n",
    "IPython extension to reload modules before executing user code.\n",
    "https://ipython.readthedocs.io/en/stable/config/extensions/autoreload.html\n",
    "'''\n",
    "%load_ext autoreload\n",
    "%autoreload 2"
   ]
  },
  {
   "cell_type": "code",
   "execution_count": 3,
   "metadata": {},
   "outputs": [],
   "source": [
    "import pathlib\n",
    "import matplotlib\n",
    "import matplotlib.pyplot as plt\n",
    "from matplotlib.ticker import FormatStrFormatter"
   ]
  },
  {
   "cell_type": "code",
   "execution_count": 4,
   "metadata": {},
   "outputs": [],
   "source": [
    "plt.style.use('seaborn-bright')\n",
    "colors = plt.rcParams['axes.prop_cycle'].by_key()['color']\n",
    "cfills = [matplotlib.colors.colorConverter.to_rgba(c, alpha=0.5) for c in colors]\n",
    "markers = ['o', 'D', 's', 'X']\n",
    "styles = {\n",
    "    '0': dict(marker=markers[0], color=colors[0]),# cfill=cfills[0]),\n",
    "    '1': dict(marker=markers[1], color=colors[1]),# cfill=cfills[1]),\n",
    "    '2': dict(marker=markers[2], color=colors[2]),# cfill=cfills[2]),\n",
    "    '3': dict(marker=markers[3], color=colors[3]),# cfill=cfills[3]),\n",
    "    'in': dict(label='in-set categories', marker=markers[0], color=colors[0]),# cfill=cfills[0]),\n",
    "    'out': dict(label='out-of-set categories', marker=markers[1], color=colors[1])}#, cfill=cfills[1])}\n",
    "\n",
    "SMALL_SIZE = 8\n",
    "MEDIUM_SIZE = 10\n",
    "BIGGER_SIZE = 12\n",
    "\n",
    "plt.rc('font', size=MEDIUM_SIZE)          # controls default text sizes\n",
    "plt.rc('axes', titlesize=BIGGER_SIZE)     # fontsize of the axes title\n",
    "plt.rc('axes', labelsize=BIGGER_SIZE)    # fontsize of the x and y labels\n",
    "plt.rc('xtick', labelsize=BIGGER_SIZE)    # fontsize of the tick labels\n",
    "plt.rc('ytick', labelsize=BIGGER_SIZE)    # fontsize of the tick labels\n",
    "plt.rc('legend', fontsize=MEDIUM_SIZE)    # legend fontsize\n",
    "# plt.rc('figure', titlesize=BIGGER_SIZE)  # fontsize of the figure title\n",
    "\n",
    "c0 = matplotlib.colors.colorConverter.to_rgba(colors[0], alpha=0.5)\n",
    "c1 = matplotlib.colors.colorConverter.to_rgba(colors[1], alpha=0.5)"
   ]
  },
  {
   "cell_type": "code",
   "execution_count": 5,
   "metadata": {},
   "outputs": [],
   "source": [
    "path_save = pathlib.Path('/Users/fbickfordsmith/Google Drive/Project/attention/data/figures/')"
   ]
  },
  {
   "cell_type": "code",
   "execution_count": 6,
   "metadata": {},
   "outputs": [],
   "source": [
    "def scatter_line(ax, x, y, style):\n",
    "    ax.scatter(x, y, **style)\n",
    "    ax.vlines(x, ymin=0, ymax=y, color=style['color'])"
   ]
  },
  {
   "cell_type": "code",
   "execution_count": 7,
   "metadata": {},
   "outputs": [],
   "source": [
    "def plot_change_acc(df, x):\n",
    "    fig, ax = plt.subplots()\n",
    "    scatter_line(ax, x, df['acc_change_in'], styles['in'])\n",
    "    scatter_line(ax, x, df['acc_change_out'], styles['out'])\n",
    "    plt.ylabel('Accuracy change')\n",
    "    plt.legend(title='Source of test examples')\n",
    "    plt.axhline(y=0, color='k', linestyle='--', linewidth=0.8)\n",
    "    plt.tight_layout()\n",
    "    return fig, ax"
   ]
  },
  {
   "cell_type": "markdown",
   "metadata": {},
   "source": [
    "### Semantic contexts"
   ]
  },
  {
   "cell_type": "code",
   "execution_count": 8,
   "metadata": {},
   "outputs": [
    {
     "data": {
      "text/html": [
       "<div>\n",
       "<style scoped>\n",
       "    .dataframe tbody tr th:only-of-type {\n",
       "        vertical-align: middle;\n",
       "    }\n",
       "\n",
       "    .dataframe tbody tr th {\n",
       "        vertical-align: top;\n",
       "    }\n",
       "\n",
       "    .dataframe thead th {\n",
       "        text-align: right;\n",
       "    }\n",
       "</style>\n",
       "<table border=\"1\" class=\"dataframe\">\n",
       "  <thead>\n",
       "    <tr style=\"text-align: right;\">\n",
       "      <th></th>\n",
       "      <th>label</th>\n",
       "      <th>size</th>\n",
       "      <th>similarity</th>\n",
       "      <th>acc_base_in</th>\n",
       "      <th>acc_base_out</th>\n",
       "      <th>acc_trained_in</th>\n",
       "      <th>acc_trained_out</th>\n",
       "      <th>acc_change_in</th>\n",
       "      <th>acc_change_out</th>\n",
       "      <th>num_epochs</th>\n",
       "    </tr>\n",
       "  </thead>\n",
       "  <tbody>\n",
       "    <tr>\n",
       "      <th>0</th>\n",
       "      <td>kitchen</td>\n",
       "      <td>35</td>\n",
       "      <td>0.446404</td>\n",
       "      <td>0.512884</td>\n",
       "      <td>0.650968</td>\n",
       "      <td>0.670401</td>\n",
       "      <td>0.527051</td>\n",
       "      <td>0.157517</td>\n",
       "      <td>-0.123917</td>\n",
       "      <td>92</td>\n",
       "    </tr>\n",
       "    <tr>\n",
       "      <th>1</th>\n",
       "      <td>dogs</td>\n",
       "      <td>129</td>\n",
       "      <td>0.553892</td>\n",
       "      <td>0.661100</td>\n",
       "      <td>0.643919</td>\n",
       "      <td>0.684884</td>\n",
       "      <td>0.621002</td>\n",
       "      <td>0.023784</td>\n",
       "      <td>-0.022917</td>\n",
       "      <td>31</td>\n",
       "    </tr>\n",
       "    <tr>\n",
       "      <th>2</th>\n",
       "      <td>cats</td>\n",
       "      <td>13</td>\n",
       "      <td>0.854177</td>\n",
       "      <td>0.708477</td>\n",
       "      <td>0.645314</td>\n",
       "      <td>0.782407</td>\n",
       "      <td>0.582139</td>\n",
       "      <td>0.073930</td>\n",
       "      <td>-0.063175</td>\n",
       "      <td>134</td>\n",
       "    </tr>\n",
       "    <tr>\n",
       "      <th>3</th>\n",
       "      <td>wearable</td>\n",
       "      <td>56</td>\n",
       "      <td>0.432272</td>\n",
       "      <td>0.535303</td>\n",
       "      <td>0.652710</td>\n",
       "      <td>0.660537</td>\n",
       "      <td>0.543158</td>\n",
       "      <td>0.125234</td>\n",
       "      <td>-0.109552</td>\n",
       "      <td>71</td>\n",
       "    </tr>\n",
       "    <tr>\n",
       "      <th>4</th>\n",
       "      <td>transport</td>\n",
       "      <td>45</td>\n",
       "      <td>0.428524</td>\n",
       "      <td>0.715678</td>\n",
       "      <td>0.642858</td>\n",
       "      <td>0.773848</td>\n",
       "      <td>0.599449</td>\n",
       "      <td>0.058171</td>\n",
       "      <td>-0.043409</td>\n",
       "      <td>65</td>\n",
       "    </tr>\n",
       "    <tr>\n",
       "      <th>5</th>\n",
       "      <td>birds</td>\n",
       "      <td>60</td>\n",
       "      <td>0.534972</td>\n",
       "      <td>0.824636</td>\n",
       "      <td>0.634741</td>\n",
       "      <td>0.863222</td>\n",
       "      <td>0.605363</td>\n",
       "      <td>0.038586</td>\n",
       "      <td>-0.029379</td>\n",
       "      <td>53</td>\n",
       "    </tr>\n",
       "  </tbody>\n",
       "</table>\n",
       "</div>"
      ],
      "text/plain": [
       "       label  size  similarity  acc_base_in  acc_base_out  acc_trained_in  \\\n",
       "0    kitchen    35    0.446404     0.512884      0.650968        0.670401   \n",
       "1       dogs   129    0.553892     0.661100      0.643919        0.684884   \n",
       "2       cats    13    0.854177     0.708477      0.645314        0.782407   \n",
       "3   wearable    56    0.432272     0.535303      0.652710        0.660537   \n",
       "4  transport    45    0.428524     0.715678      0.642858        0.773848   \n",
       "5      birds    60    0.534972     0.824636      0.634741        0.863222   \n",
       "\n",
       "   acc_trained_out  acc_change_in  acc_change_out  num_epochs  \n",
       "0         0.527051       0.157517       -0.123917          92  \n",
       "1         0.621002       0.023784       -0.022917          31  \n",
       "2         0.582139       0.073930       -0.063175         134  \n",
       "3         0.543158       0.125234       -0.109552          71  \n",
       "4         0.599449       0.058171       -0.043409          65  \n",
       "5         0.605363       0.038586       -0.029379          53  "
      ]
     },
     "execution_count": 8,
     "metadata": {},
     "output_type": "execute_result"
    }
   ],
   "source": [
    "sem_labels = ['kitchen', 'dogs', 'cats', 'wearable', 'transport', 'birds']\n",
    "sem_labels_plot = ['', 'kitchen\\nitems', 'dogs', 'cats', 'wearable\\nitems', 'land\\ntransport', 'birds']\n",
    "df_sem = context_summary(type_context='sem', version_wnids=2, version_weights=9)\n",
    "df_sem.insert(0, 'label', sem_labels)\n",
    "df_sem"
   ]
  },
  {
   "cell_type": "code",
   "execution_count": 9,
   "metadata": {},
   "outputs": [],
   "source": [
    "df_sem_sorted = df_sem.sort_values(by='acc_change_in', ascending=False)"
   ]
  },
  {
   "cell_type": "code",
   "execution_count": 10,
   "metadata": {},
   "outputs": [
    {
     "data": {
      "image/png": "[encoded data removed]",
      "text/plain": [
       "<Figure size 432x288 with 1 Axes>"
      ]
     },
     "metadata": {
      "needs_background": "light"
     },
     "output_type": "display_data"
    }
   ],
   "source": [
    "fig, ax = plot_change_acc(df_sem_sorted, range(len(df_sem_sorted)))\n",
    "labels_sorted = list(df_sem_sorted['label'])\n",
    "labels_sorted_plot = ['', 'kitchen\\nitems', 'wearable\\nitems', 'cats', 'land\\ntransport', 'birds', 'dogs']\n",
    "ax.set_xticklabels(labels_sorted_plot)\n",
    "plt.xlabel('Category set', labelpad=10)\n",
    "ax.yaxis.set_major_formatter(FormatStrFormatter('%.2f'))\n",
    "plt.tight_layout()\n",
    "# plt.savefig(path_save/'sem_acc.pdf')\n",
    "plt.show()"
   ]
  },
  {
   "cell_type": "code",
   "execution_count": 11,
   "metadata": {},
   "outputs": [
    {
     "data": {
      "text/plain": [
       "0.04733281561612179"
      ]
     },
     "execution_count": 11,
     "metadata": {},
     "output_type": "execute_result"
    }
   ],
   "source": [
    "np.std(df_sem['acc_change_in'])"
   ]
  },
  {
   "cell_type": "code",
   "execution_count": 12,
   "metadata": {},
   "outputs": [
    {
     "data": {
      "image/png": "[encoded data removed]",
      "text/plain": [
       "<Figure size 1008x252 with 3 Axes>"
      ]
     },
     "metadata": {
      "needs_background": "light"
     },
     "output_type": "display_data"
    }
   ],
   "source": [
    "fig, ax = plt.subplots(1, 3, figsize=(14, 3.5))\n",
    "\n",
    "scatter_line(ax[1], range(len(df_sem_sorted)), df_sem_sorted['size'], styles['in'])\n",
    "scatter_line(ax[0], range(len(df_sem_sorted)), 1-df_sem_sorted['acc_base_in'], styles['in'])\n",
    "scatter_line(ax[2], range(len(df_sem_sorted)), df_sem_sorted['similarity'], styles['in'])\n",
    "\n",
    "size_lims = (0, 150)\n",
    "diff_lims = (0, 0.6)\n",
    "sim_lims = (0, 1)\n",
    "\n",
    "ax[1].set_ylabel('Size', labelpad=-15)\n",
    "ax[1].set_yticks(size_lims)\n",
    "ax[1].set_ylim(size_lims)\n",
    "ax[0].set_ylabel('Difficulty', labelpad=-15)\n",
    "ax[0].set_yticks(diff_lims)\n",
    "ax[0].set_ylim(diff_lims)\n",
    "ax[2].set_ylabel('Similarity', labelpad=-5)\n",
    "ax[2].set_yticks(sim_lims)\n",
    "ax[2].set_ylim(sim_lims)\n",
    "\n",
    "for a in ax:\n",
    "    a.set_xticklabels(labels_sorted_plot)\n",
    "    a.set_xlabel('Category set', labelpad=10)\n",
    "    \n",
    "plt.tight_layout()\n",
    "# plt.savefig(path_save/'sem_stats.pdf')\n",
    "plt.show()"
   ]
  },
  {
   "cell_type": "markdown",
   "metadata": {},
   "source": [
    "### Difficulty contexts"
   ]
  },
  {
   "cell_type": "code",
   "execution_count": 13,
   "metadata": {},
   "outputs": [
    {
     "data": {
      "image/png": "[encoded data removed]",
      "text/plain": [
       "<Figure size 432x288 with 1 Axes>"
      ]
     },
     "metadata": {
      "needs_background": "light"
     },
     "output_type": "display_data"
    }
   ],
   "source": [
    "fig, ax = plt.subplots()\n",
    "plt.plot(range(1000), sorted(df_baseline['accuracy']))\n",
    "plt.xticks((0, 999))\n",
    "ax.set_xticklabels((1, 1000))\n",
    "# plt.ylim((0, 1))\n",
    "plt.ylim(bottom=0)\n",
    "plt.xlabel('Category')\n",
    "plt.ylabel('Accuracy')\n",
    "plt.tight_layout()\n",
    "plt.show()"
   ]
  },
  {
   "cell_type": "code",
   "execution_count": 14,
   "metadata": {},
   "outputs": [
    {
     "data": {
      "image/png": "[encoded data removed]",
      "text/plain": [
       "<Figure size 432x288 with 1 Axes>"
      ]
     },
     "metadata": {
      "needs_background": "light"
     },
     "output_type": "display_data"
    }
   ],
   "source": [
    "plt.hist(1-df_baseline['accuracy'], bins=20, alpha=0.7)\n",
    "plt.axvline(np.mean(1-df_baseline['accuracy']), color='k', linestyle='--', label='mean')\n",
    "plt.xlim((0, 1))\n",
    "plt.xlabel('Difficulty')\n",
    "plt.ylabel('Number of categories')\n",
    "plt.legend()\n",
    "plt.tight_layout()\n",
    "plt.show()"
   ]
  },
  {
   "cell_type": "code",
   "execution_count": 15,
   "metadata": {},
   "outputs": [],
   "source": [
    "df_diff = context_summary(type_context='diff', version_wnids=2, version_weights=3)"
   ]
  },
  {
   "cell_type": "code",
   "execution_count": 16,
   "metadata": {},
   "outputs": [
    {
     "data": {
      "image/png": "[encoded data removed]",
      "text/plain": [
       "<Figure size 324x180 with 1 Axes>"
      ]
     },
     "metadata": {
      "needs_background": "light"
     },
     "output_type": "display_data"
    }
   ],
   "source": [
    "fig, ax = plt.subplots(figsize=(4.5, 2.5))\n",
    "plt.scatter(\n",
    "    1-df_diff['acc_base_in'][:20],\n",
    "    np.ones(20),\n",
    "    **styles['0'],\n",
    "#     facecolors=c0, edgecolors=colors[0],\n",
    "    label=r'$\\mathcal{A}_1, \\dots, \\mathcal{A}_{20}$')\n",
    "plt.scatter(\n",
    "    1-df_diff['acc_base_in'][20:],\n",
    "    2*np.ones(5),\n",
    "    **styles['1'],\n",
    "#     facecolors=c1, edgecolors=colors[1], marker=markers[1],\n",
    "    label=r'$\\mathcal{A}_{21}, \\dots, \\mathcal{A}_{25}$')\n",
    "plt.xlim(left=0)\n",
    "plt.ylim((0, 3))\n",
    "plt.xlabel('Difficulty')\n",
    "plt.gca().axes.get_yaxis().set_visible(False)\n",
    "plt.legend(loc='upper left')\n",
    "plt.tight_layout()\n",
    "# plt.savefig(path_save/'diff_coverage.pdf')\n",
    "plt.show()"
   ]
  },
  {
   "cell_type": "code",
   "execution_count": 17,
   "metadata": {},
   "outputs": [
    {
     "data": {
      "image/png": "[encoded data removed]",
      "text/plain": [
       "<Figure size 792x288 with 2 Axes>"
      ]
     },
     "metadata": {
      "needs_background": "light"
     },
     "output_type": "display_data"
    }
   ],
   "source": [
    "fig, ax = plt.subplots(1, 2, figsize=(11, 4))\n",
    "\n",
    "x = list(1-df_diff['acc_base_in'])\n",
    "\n",
    "ax[0].scatter(x, df_diff['acc_base_in'], **styles['0'], label='before training')\n",
    "ax[0].scatter(x, df_diff['acc_trained_in'], **styles['1'], label='after training')\n",
    "scatter_line(ax[1], x, df_diff['acc_change_in'], styles['in'])\n",
    "scatter_line(ax[1], x, df_diff['acc_change_out'], styles['out'])\n",
    "\n",
    "ax[1].set_ylabel('Accuracy change', labelpad=-5)\n",
    "ax[0].set_ylabel('Accuracy (in-set categories)')\n",
    "ax[1].legend(title='Source of test examples')\n",
    "ax[0].legend()\n",
    "ax[1].axhline(y=0, color='k', linestyle='--', linewidth=0.8)\n",
    "ax[0].set_ylim(bottom=0)\n",
    "\n",
    "for a in ax:\n",
    "    a.set_xlabel('Difficulty')\n",
    "    a.set_xlim(left=0)\n",
    "    \n",
    "plt.tight_layout()\n",
    "# plt.savefig(path_save/'diff_acc.pdf')\n",
    "plt.show()"
   ]
  },
  {
   "cell_type": "markdown",
   "metadata": {},
   "source": [
    "### Size contexts"
   ]
  },
  {
   "cell_type": "code",
   "execution_count": 18,
   "metadata": {},
   "outputs": [
    {
     "data": {
      "text/html": [
       "<div>\n",
       "<style scoped>\n",
       "    .dataframe tbody tr th:only-of-type {\n",
       "        vertical-align: middle;\n",
       "    }\n",
       "\n",
       "    .dataframe tbody tr th {\n",
       "        vertical-align: top;\n",
       "    }\n",
       "\n",
       "    .dataframe thead th {\n",
       "        text-align: right;\n",
       "    }\n",
       "</style>\n",
       "<table border=\"1\" class=\"dataframe\">\n",
       "  <thead>\n",
       "    <tr style=\"text-align: right;\">\n",
       "      <th></th>\n",
       "      <th>size</th>\n",
       "      <th>similarity</th>\n",
       "      <th>acc_base_in</th>\n",
       "      <th>acc_base_out</th>\n",
       "      <th>acc_trained_in</th>\n",
       "      <th>acc_trained_out</th>\n",
       "      <th>acc_change_in</th>\n",
       "      <th>acc_change_out</th>\n",
       "      <th>num_epochs</th>\n",
       "    </tr>\n",
       "  </thead>\n",
       "  <tbody>\n",
       "    <tr>\n",
       "      <th>1</th>\n",
       "      <td>2</td>\n",
       "      <td>0.471780</td>\n",
       "      <td>0.627551</td>\n",
       "      <td>0.646172</td>\n",
       "      <td>0.949495</td>\n",
       "      <td>0.586551</td>\n",
       "      <td>0.321944</td>\n",
       "      <td>-0.059621</td>\n",
       "      <td>300</td>\n",
       "    </tr>\n",
       "    <tr>\n",
       "      <th>2</th>\n",
       "      <td>4</td>\n",
       "      <td>0.460416</td>\n",
       "      <td>0.628451</td>\n",
       "      <td>0.646206</td>\n",
       "      <td>0.973545</td>\n",
       "      <td>0.517930</td>\n",
       "      <td>0.345094</td>\n",
       "      <td>-0.128276</td>\n",
       "      <td>300</td>\n",
       "    </tr>\n",
       "    <tr>\n",
       "      <th>3</th>\n",
       "      <td>8</td>\n",
       "      <td>0.402342</td>\n",
       "      <td>0.645502</td>\n",
       "      <td>0.646140</td>\n",
       "      <td>0.951872</td>\n",
       "      <td>0.387327</td>\n",
       "      <td>0.306370</td>\n",
       "      <td>-0.258814</td>\n",
       "      <td>300</td>\n",
       "    </tr>\n",
       "    <tr>\n",
       "      <th>4</th>\n",
       "      <td>16</td>\n",
       "      <td>0.382833</td>\n",
       "      <td>0.664092</td>\n",
       "      <td>0.645843</td>\n",
       "      <td>0.898417</td>\n",
       "      <td>0.444692</td>\n",
       "      <td>0.234324</td>\n",
       "      <td>-0.201151</td>\n",
       "      <td>174</td>\n",
       "    </tr>\n",
       "    <tr>\n",
       "      <th>5</th>\n",
       "      <td>32</td>\n",
       "      <td>0.424631</td>\n",
       "      <td>0.655852</td>\n",
       "      <td>0.645814</td>\n",
       "      <td>0.845651</td>\n",
       "      <td>0.469524</td>\n",
       "      <td>0.189798</td>\n",
       "      <td>-0.176290</td>\n",
       "      <td>137</td>\n",
       "    </tr>\n",
       "  </tbody>\n",
       "</table>\n",
       "</div>"
      ],
      "text/plain": [
       "   size  similarity  acc_base_in  acc_base_out  acc_trained_in  \\\n",
       "1     2    0.471780     0.627551      0.646172        0.949495   \n",
       "2     4    0.460416     0.628451      0.646206        0.973545   \n",
       "3     8    0.402342     0.645502      0.646140        0.951872   \n",
       "4    16    0.382833     0.664092      0.645843        0.898417   \n",
       "5    32    0.424631     0.655852      0.645814        0.845651   \n",
       "\n",
       "   acc_trained_out  acc_change_in  acc_change_out  num_epochs  \n",
       "1         0.586551       0.321944       -0.059621         300  \n",
       "2         0.517930       0.345094       -0.128276         300  \n",
       "3         0.387327       0.306370       -0.258814         300  \n",
       "4         0.444692       0.234324       -0.201151         174  \n",
       "5         0.469524       0.189798       -0.176290         137  "
      ]
     },
     "execution_count": 18,
     "metadata": {},
     "output_type": "execute_result"
    }
   ],
   "source": [
    "df_size_v6 = context_summary(type_context='size', version_wnids=4, version_weights=6).iloc[1:]\n",
    "df_size_v6.head()"
   ]
  },
  {
   "cell_type": "code",
   "execution_count": 19,
   "metadata": {},
   "outputs": [
    {
     "data": {
      "text/html": [
       "<div>\n",
       "<style scoped>\n",
       "    .dataframe tbody tr th:only-of-type {\n",
       "        vertical-align: middle;\n",
       "    }\n",
       "\n",
       "    .dataframe tbody tr th {\n",
       "        vertical-align: top;\n",
       "    }\n",
       "\n",
       "    .dataframe thead th {\n",
       "        text-align: right;\n",
       "    }\n",
       "</style>\n",
       "<table border=\"1\" class=\"dataframe\">\n",
       "  <thead>\n",
       "    <tr style=\"text-align: right;\">\n",
       "      <th></th>\n",
       "      <th>size</th>\n",
       "      <th>similarity</th>\n",
       "      <th>acc_base_in</th>\n",
       "      <th>acc_base_out</th>\n",
       "      <th>acc_trained_in</th>\n",
       "      <th>acc_trained_out</th>\n",
       "      <th>acc_change_in</th>\n",
       "      <th>acc_change_out</th>\n",
       "      <th>num_epochs</th>\n",
       "    </tr>\n",
       "  </thead>\n",
       "  <tbody>\n",
       "    <tr>\n",
       "      <th>1</th>\n",
       "      <td>2</td>\n",
       "      <td>0.298697</td>\n",
       "      <td>0.670000</td>\n",
       "      <td>0.646087</td>\n",
       "      <td>0.940000</td>\n",
       "      <td>0.589368</td>\n",
       "      <td>0.270000</td>\n",
       "      <td>-0.056719</td>\n",
       "      <td>300</td>\n",
       "    </tr>\n",
       "    <tr>\n",
       "      <th>2</th>\n",
       "      <td>4</td>\n",
       "      <td>0.345680</td>\n",
       "      <td>0.620833</td>\n",
       "      <td>0.646237</td>\n",
       "      <td>0.956989</td>\n",
       "      <td>0.455257</td>\n",
       "      <td>0.336156</td>\n",
       "      <td>-0.190980</td>\n",
       "      <td>300</td>\n",
       "    </tr>\n",
       "    <tr>\n",
       "      <th>3</th>\n",
       "      <td>8</td>\n",
       "      <td>0.473047</td>\n",
       "      <td>0.659316</td>\n",
       "      <td>0.646029</td>\n",
       "      <td>0.945736</td>\n",
       "      <td>0.461182</td>\n",
       "      <td>0.286421</td>\n",
       "      <td>-0.184847</td>\n",
       "      <td>300</td>\n",
       "    </tr>\n",
       "    <tr>\n",
       "      <th>4</th>\n",
       "      <td>16</td>\n",
       "      <td>0.441069</td>\n",
       "      <td>0.657371</td>\n",
       "      <td>0.645952</td>\n",
       "      <td>0.886889</td>\n",
       "      <td>0.425643</td>\n",
       "      <td>0.229519</td>\n",
       "      <td>-0.220310</td>\n",
       "      <td>197</td>\n",
       "    </tr>\n",
       "    <tr>\n",
       "      <th>5</th>\n",
       "      <td>32</td>\n",
       "      <td>0.440449</td>\n",
       "      <td>0.658734</td>\n",
       "      <td>0.645719</td>\n",
       "      <td>0.847413</td>\n",
       "      <td>0.476740</td>\n",
       "      <td>0.188679</td>\n",
       "      <td>-0.168979</td>\n",
       "      <td>127</td>\n",
       "    </tr>\n",
       "  </tbody>\n",
       "</table>\n",
       "</div>"
      ],
      "text/plain": [
       "   size  similarity  acc_base_in  acc_base_out  acc_trained_in  \\\n",
       "1     2    0.298697     0.670000      0.646087        0.940000   \n",
       "2     4    0.345680     0.620833      0.646237        0.956989   \n",
       "3     8    0.473047     0.659316      0.646029        0.945736   \n",
       "4    16    0.441069     0.657371      0.645952        0.886889   \n",
       "5    32    0.440449     0.658734      0.645719        0.847413   \n",
       "\n",
       "   acc_trained_out  acc_change_in  acc_change_out  num_epochs  \n",
       "1         0.589368       0.270000       -0.056719         300  \n",
       "2         0.455257       0.336156       -0.190980         300  \n",
       "3         0.461182       0.286421       -0.184847         300  \n",
       "4         0.425643       0.229519       -0.220310         197  \n",
       "5         0.476740       0.188679       -0.168979         127  "
      ]
     },
     "execution_count": 19,
     "metadata": {},
     "output_type": "execute_result"
    }
   ],
   "source": [
    "df_size_v7 = context_summary(type_context='size', version_wnids=5, version_weights=7).iloc[1:]\n",
    "df_size_v7.head()"
   ]
  },
  {
   "cell_type": "code",
   "execution_count": 20,
   "metadata": {},
   "outputs": [
    {
     "data": {
      "image/png": "[encoded data removed]",
      "text/plain": [
       "<Figure size 792x288 with 2 Axes>"
      ]
     },
     "metadata": {
      "needs_background": "light"
     },
     "output_type": "display_data"
    }
   ],
   "source": [
    "fig, ax = plt.subplots(1, 2, sharey=True, figsize=(11, 4))\n",
    "\n",
    "x = list(df_size_v6['size'])\n",
    "\n",
    "scatter_line(ax[0], x, df_size_v6['acc_change_in'], styles['in'])\n",
    "scatter_line(ax[0], x, df_size_v6['acc_change_out'], styles['out'])\n",
    "scatter_line(ax[1], x, df_size_v7['acc_change_in'], styles['in'])\n",
    "scatter_line(ax[1], x, df_size_v7['acc_change_out'], styles['out'])\n",
    "\n",
    "ax[0].set_ylabel('Accuracy change')\n",
    "ax[0].legend(title='Source of test examples')\n",
    "ax[1].legend(title='Source of test examples')\n",
    "ax[0].axhline(y=0, color='k', linestyle='--', linewidth=0.8)\n",
    "ax[1].axhline(y=0, color='k', linestyle='--', linewidth=0.8)\n",
    "\n",
    "for a in ax:\n",
    "    a.set_xlabel('Size')\n",
    "    \n",
    "plt.tight_layout()\n",
    "# plt.savefig(path_save/'size_acc.pdf')\n",
    "plt.show()"
   ]
  },
  {
   "cell_type": "markdown",
   "metadata": {},
   "source": [
    "### Similarity contexts"
   ]
  },
  {
   "cell_type": "code",
   "execution_count": 21,
   "metadata": {},
   "outputs": [
    {
     "data": {
      "text/html": [
       "<div>\n",
       "<style scoped>\n",
       "    .dataframe tbody tr th:only-of-type {\n",
       "        vertical-align: middle;\n",
       "    }\n",
       "\n",
       "    .dataframe tbody tr th {\n",
       "        vertical-align: top;\n",
       "    }\n",
       "\n",
       "    .dataframe thead th {\n",
       "        text-align: right;\n",
       "    }\n",
       "</style>\n",
       "<table border=\"1\" class=\"dataframe\">\n",
       "  <thead>\n",
       "    <tr style=\"text-align: right;\">\n",
       "      <th></th>\n",
       "      <th>size</th>\n",
       "      <th>similarity</th>\n",
       "      <th>acc_base_in</th>\n",
       "      <th>acc_base_out</th>\n",
       "      <th>acc_trained_in</th>\n",
       "      <th>acc_trained_out</th>\n",
       "      <th>acc_change_in</th>\n",
       "      <th>acc_change_out</th>\n",
       "      <th>num_epochs</th>\n",
       "    </tr>\n",
       "  </thead>\n",
       "  <tbody>\n",
       "    <tr>\n",
       "      <th>0</th>\n",
       "      <td>50</td>\n",
       "      <td>0.716746</td>\n",
       "      <td>0.600097</td>\n",
       "      <td>0.648558</td>\n",
       "      <td>0.760448</td>\n",
       "      <td>0.525034</td>\n",
       "      <td>0.160351</td>\n",
       "      <td>-0.123524</td>\n",
       "      <td>89</td>\n",
       "    </tr>\n",
       "    <tr>\n",
       "      <th>1</th>\n",
       "      <td>50</td>\n",
       "      <td>0.512130</td>\n",
       "      <td>0.611801</td>\n",
       "      <td>0.647942</td>\n",
       "      <td>0.802811</td>\n",
       "      <td>0.507715</td>\n",
       "      <td>0.191010</td>\n",
       "      <td>-0.140227</td>\n",
       "      <td>93</td>\n",
       "    </tr>\n",
       "    <tr>\n",
       "      <th>2</th>\n",
       "      <td>50</td>\n",
       "      <td>0.453881</td>\n",
       "      <td>0.648754</td>\n",
       "      <td>0.645997</td>\n",
       "      <td>0.802083</td>\n",
       "      <td>0.536498</td>\n",
       "      <td>0.153329</td>\n",
       "      <td>-0.109499</td>\n",
       "      <td>90</td>\n",
       "    </tr>\n",
       "    <tr>\n",
       "      <th>3</th>\n",
       "      <td>50</td>\n",
       "      <td>0.427748</td>\n",
       "      <td>0.674334</td>\n",
       "      <td>0.644651</td>\n",
       "      <td>0.832715</td>\n",
       "      <td>0.516972</td>\n",
       "      <td>0.158382</td>\n",
       "      <td>-0.127679</td>\n",
       "      <td>93</td>\n",
       "    </tr>\n",
       "    <tr>\n",
       "      <th>4</th>\n",
       "      <td>50</td>\n",
       "      <td>0.671111</td>\n",
       "      <td>0.686732</td>\n",
       "      <td>0.643998</td>\n",
       "      <td>0.800494</td>\n",
       "      <td>0.524112</td>\n",
       "      <td>0.113761</td>\n",
       "      <td>-0.119886</td>\n",
       "      <td>94</td>\n",
       "    </tr>\n",
       "  </tbody>\n",
       "</table>\n",
       "</div>"
      ],
      "text/plain": [
       "   size  similarity  acc_base_in  acc_base_out  acc_trained_in  \\\n",
       "0    50    0.716746     0.600097      0.648558        0.760448   \n",
       "1    50    0.512130     0.611801      0.647942        0.802811   \n",
       "2    50    0.453881     0.648754      0.645997        0.802083   \n",
       "3    50    0.427748     0.674334      0.644651        0.832715   \n",
       "4    50    0.671111     0.686732      0.643998        0.800494   \n",
       "\n",
       "   acc_trained_out  acc_change_in  acc_change_out  num_epochs  \n",
       "0         0.525034       0.160351       -0.123524          89  \n",
       "1         0.507715       0.191010       -0.140227          93  \n",
       "2         0.536498       0.153329       -0.109499          90  \n",
       "3         0.516972       0.158382       -0.127679          93  \n",
       "4         0.524112       0.113761       -0.119886          94  "
      ]
     },
     "execution_count": 21,
     "metadata": {},
     "output_type": "execute_result"
    }
   ],
   "source": [
    "df_sim_v3 = context_summary(type_context='sim', version_wnids=3, version_weights=3)\n",
    "df_sim_v3.head()"
   ]
  },
  {
   "cell_type": "code",
   "execution_count": 22,
   "metadata": {},
   "outputs": [
    {
     "data": {
      "text/html": [
       "<div>\n",
       "<style scoped>\n",
       "    .dataframe tbody tr th:only-of-type {\n",
       "        vertical-align: middle;\n",
       "    }\n",
       "\n",
       "    .dataframe tbody tr th {\n",
       "        vertical-align: top;\n",
       "    }\n",
       "\n",
       "    .dataframe thead th {\n",
       "        text-align: right;\n",
       "    }\n",
       "</style>\n",
       "<table border=\"1\" class=\"dataframe\">\n",
       "  <thead>\n",
       "    <tr style=\"text-align: right;\">\n",
       "      <th></th>\n",
       "      <th>size</th>\n",
       "      <th>similarity</th>\n",
       "      <th>acc_base_in</th>\n",
       "      <th>acc_base_out</th>\n",
       "      <th>acc_trained_in</th>\n",
       "      <th>acc_trained_out</th>\n",
       "      <th>acc_change_in</th>\n",
       "      <th>acc_change_out</th>\n",
       "      <th>num_epochs</th>\n",
       "    </tr>\n",
       "  </thead>\n",
       "  <tbody>\n",
       "    <tr>\n",
       "      <th>0</th>\n",
       "      <td>50</td>\n",
       "      <td>0.719259</td>\n",
       "      <td>0.584325</td>\n",
       "      <td>0.649388</td>\n",
       "      <td>0.745228</td>\n",
       "      <td>0.510016</td>\n",
       "      <td>0.160903</td>\n",
       "      <td>-0.139373</td>\n",
       "      <td>88</td>\n",
       "    </tr>\n",
       "    <tr>\n",
       "      <th>1</th>\n",
       "      <td>50</td>\n",
       "      <td>0.568134</td>\n",
       "      <td>0.664104</td>\n",
       "      <td>0.645189</td>\n",
       "      <td>0.814936</td>\n",
       "      <td>0.521299</td>\n",
       "      <td>0.150832</td>\n",
       "      <td>-0.123891</td>\n",
       "      <td>94</td>\n",
       "    </tr>\n",
       "    <tr>\n",
       "      <th>2</th>\n",
       "      <td>50</td>\n",
       "      <td>0.489926</td>\n",
       "      <td>0.661631</td>\n",
       "      <td>0.645319</td>\n",
       "      <td>0.817018</td>\n",
       "      <td>0.512321</td>\n",
       "      <td>0.155387</td>\n",
       "      <td>-0.132999</td>\n",
       "      <td>99</td>\n",
       "    </tr>\n",
       "    <tr>\n",
       "      <th>3</th>\n",
       "      <td>50</td>\n",
       "      <td>0.425019</td>\n",
       "      <td>0.649648</td>\n",
       "      <td>0.645950</td>\n",
       "      <td>0.796205</td>\n",
       "      <td>0.519950</td>\n",
       "      <td>0.146557</td>\n",
       "      <td>-0.126000</td>\n",
       "      <td>98</td>\n",
       "    </tr>\n",
       "    <tr>\n",
       "      <th>4</th>\n",
       "      <td>50</td>\n",
       "      <td>0.811888</td>\n",
       "      <td>0.714175</td>\n",
       "      <td>0.642554</td>\n",
       "      <td>0.778363</td>\n",
       "      <td>0.572821</td>\n",
       "      <td>0.064188</td>\n",
       "      <td>-0.069733</td>\n",
       "      <td>74</td>\n",
       "    </tr>\n",
       "  </tbody>\n",
       "</table>\n",
       "</div>"
      ],
      "text/plain": [
       "   size  similarity  acc_base_in  acc_base_out  acc_trained_in  \\\n",
       "0    50    0.719259     0.584325      0.649388        0.745228   \n",
       "1    50    0.568134     0.664104      0.645189        0.814936   \n",
       "2    50    0.489926     0.661631      0.645319        0.817018   \n",
       "3    50    0.425019     0.649648      0.645950        0.796205   \n",
       "4    50    0.811888     0.714175      0.642554        0.778363   \n",
       "\n",
       "   acc_trained_out  acc_change_in  acc_change_out  num_epochs  \n",
       "0         0.510016       0.160903       -0.139373          88  \n",
       "1         0.521299       0.150832       -0.123891          94  \n",
       "2         0.512321       0.155387       -0.132999          99  \n",
       "3         0.519950       0.146557       -0.126000          98  \n",
       "4         0.572821       0.064188       -0.069733          74  "
      ]
     },
     "execution_count": 22,
     "metadata": {},
     "output_type": "execute_result"
    }
   ],
   "source": [
    "df_sim_v4 = context_summary(type_context='sim', version_wnids=4, version_weights=4)\n",
    "df_sim_v4.head()"
   ]
  },
  {
   "cell_type": "code",
   "execution_count": 23,
   "metadata": {},
   "outputs": [
    {
     "data": {
      "image/png": "[encoded data removed]",
      "text/plain": [
       "<Figure size 792x288 with 2 Axes>"
      ]
     },
     "metadata": {
      "needs_background": "light"
     },
     "output_type": "display_data"
    }
   ],
   "source": [
    "fig, ax = plt.subplots(1, 2, sharex=True, sharey=True, figsize=(11, 4))\n",
    "\n",
    "x3 = list(df_sim_v3['similarity'])\n",
    "x4 = list(df_sim_v4['similarity'])\n",
    "\n",
    "scatter_line(ax[0], x3, df_sim_v3['acc_change_in'], styles['in'])\n",
    "scatter_line(ax[0], x3, df_sim_v3['acc_change_out'], styles['out'])\n",
    "scatter_line(ax[1], x4, df_sim_v4['acc_change_in'], styles['in'])\n",
    "scatter_line(ax[1], x4, df_sim_v4['acc_change_out'], styles['out'])\n",
    "\n",
    "ax[0].set_ylabel('Accuracy change')\n",
    "ax[0].legend(title='Source of test examples')\n",
    "ax[1].legend(title='Source of test examples')\n",
    "ax[0].axhline(y=0, color='k', linestyle='--', linewidth=0.8)\n",
    "ax[1].axhline(y=0, color='k', linestyle='--', linewidth=0.8)\n",
    "\n",
    "for a in ax:\n",
    "    a.set_xlabel('Similarity')\n",
    "    a.set_ylim(top=0.3)\n",
    "    \n",
    "plt.tight_layout()\n",
    "# plt.savefig(path_save/'sim_acc.pdf')\n",
    "plt.show()"
   ]
  },
  {
   "cell_type": "markdown",
   "metadata": {},
   "source": [
    "### Regression"
   ]
  },
  {
   "cell_type": "code",
   "execution_count": 24,
   "metadata": {},
   "outputs": [],
   "source": [
    "import statsmodels.api as sm\n",
    "from sklearn.linear_model import LinearRegression\n",
    "\n",
    "def regression(x, y):\n",
    "    x0 = np.array(x)[:, None]\n",
    "    x1 = sm.add_constant(x0)\n",
    "    y = np.array(y)[:, None]\n",
    "    lr_skl = LinearRegression().fit(x0, y)\n",
    "    lr_sm = sm.OLS(y, x1).fit()\n",
    "    \n",
    "    print('SKL: beta0, beta1, R2')\n",
    "    print([round(a, 4) for a in [lr_skl.intercept_[0], lr_skl.coef_[0][0], lr_skl.score(x0, y)]])\n",
    "\n",
    "    print('SM: beta0, beta1, R2')\n",
    "    print([round(a, 4) for a in lr_sm.params], round(lr_sm.rsquared, 4))\n",
    "    \n",
    "    print('SM: p0, p1')\n",
    "    print([f'{a:.5f}' for a in lr_sm.pvalues])\n",
    "    \n",
    "    return lr_sm"
   ]
  },
  {
   "cell_type": "code",
   "execution_count": 25,
   "metadata": {},
   "outputs": [
    {
     "name": "stdout",
     "output_type": "stream",
     "text": [
      "SKL: beta0, beta1, R2\n",
      "[0.0373, 0.3026, 0.9162]\n",
      "SM: beta0, beta1, R2\n",
      "[0.0373, 0.3026] 0.9162\n",
      "SM: p0, p1\n",
      "['0.00033', '0.00000']\n"
     ]
    },
    {
     "name": "stderr",
     "output_type": "stream",
     "text": [
      "/Library/Frameworks/Python.framework/Versions/3.7/lib/python3.7/site-packages/sklearn/linear_model/base.py:485: RuntimeWarning: internal gelsd driver lwork query error, required iwork dimension not returned. This is likely the result of LAPACK bug 0038, fixed in LAPACK 3.2.2 (released July 21, 2010). Falling back to 'gelss' driver.\n",
      "  linalg.lstsq(X, y)\n"
     ]
    },
    {
     "data": {
      "text/html": [
       "<table class=\"simpletable\">\n",
       "<caption>OLS Regression Results</caption>\n",
       "<tr>\n",
       "  <th>Dep. Variable:</th>            <td>y</td>        <th>  R-squared:         </th> <td>   0.916</td>\n",
       "</tr>\n",
       "<tr>\n",
       "  <th>Model:</th>                   <td>OLS</td>       <th>  Adj. R-squared:    </th> <td>   0.913</td>\n",
       "</tr>\n",
       "<tr>\n",
       "  <th>Method:</th>             <td>Least Squares</td>  <th>  F-statistic:       </th> <td>   251.3</td>\n",
       "</tr>\n",
       "<tr>\n",
       "  <th>Date:</th>             <td>Mon, 27 Jan 2020</td> <th>  Prob (F-statistic):</th> <td>7.14e-14</td>\n",
       "</tr>\n",
       "<tr>\n",
       "  <th>Time:</th>                 <td>18:30:43</td>     <th>  Log-Likelihood:    </th> <td>  63.745</td>\n",
       "</tr>\n",
       "<tr>\n",
       "  <th>No. Observations:</th>      <td>    25</td>      <th>  AIC:               </th> <td>  -123.5</td>\n",
       "</tr>\n",
       "<tr>\n",
       "  <th>Df Residuals:</th>          <td>    23</td>      <th>  BIC:               </th> <td>  -121.1</td>\n",
       "</tr>\n",
       "<tr>\n",
       "  <th>Df Model:</th>              <td>     1</td>      <th>                     </th>     <td> </td>   \n",
       "</tr>\n",
       "<tr>\n",
       "  <th>Covariance Type:</th>      <td>nonrobust</td>    <th>                     </th>     <td> </td>   \n",
       "</tr>\n",
       "</table>\n",
       "<table class=\"simpletable\">\n",
       "<tr>\n",
       "    <td></td>       <th>coef</th>     <th>std err</th>      <th>t</th>      <th>P>|t|</th>  <th>[0.025</th>    <th>0.975]</th>  \n",
       "</tr>\n",
       "<tr>\n",
       "  <th>const</th> <td>    0.0373</td> <td>    0.009</td> <td>    4.214</td> <td> 0.000</td> <td>    0.019</td> <td>    0.056</td>\n",
       "</tr>\n",
       "<tr>\n",
       "  <th>x1</th>    <td>    0.3026</td> <td>    0.019</td> <td>   15.854</td> <td> 0.000</td> <td>    0.263</td> <td>    0.342</td>\n",
       "</tr>\n",
       "</table>\n",
       "<table class=\"simpletable\">\n",
       "<tr>\n",
       "  <th>Omnibus:</th>       <td> 0.305</td> <th>  Durbin-Watson:     </th> <td>   0.951</td>\n",
       "</tr>\n",
       "<tr>\n",
       "  <th>Prob(Omnibus):</th> <td> 0.859</td> <th>  Jarque-Bera (JB):  </th> <td>   0.477</td>\n",
       "</tr>\n",
       "<tr>\n",
       "  <th>Skew:</th>          <td>-0.046</td> <th>  Prob(JB):          </th> <td>   0.788</td>\n",
       "</tr>\n",
       "<tr>\n",
       "  <th>Kurtosis:</th>      <td> 2.330</td> <th>  Cond. No.          </th> <td>    5.71</td>\n",
       "</tr>\n",
       "</table><br/><br/>Warnings:<br/>[1] Standard Errors assume that the covariance matrix of the errors is correctly specified."
      ],
      "text/plain": [
       "<class 'statsmodels.iolib.summary.Summary'>\n",
       "\"\"\"\n",
       "                            OLS Regression Results                            \n",
       "==============================================================================\n",
       "Dep. Variable:                      y   R-squared:                       0.916\n",
       "Model:                            OLS   Adj. R-squared:                  0.913\n",
       "Method:                 Least Squares   F-statistic:                     251.3\n",
       "Date:                Mon, 27 Jan 2020   Prob (F-statistic):           7.14e-14\n",
       "Time:                        18:30:43   Log-Likelihood:                 63.745\n",
       "No. Observations:                  25   AIC:                            -123.5\n",
       "Df Residuals:                      23   BIC:                            -121.1\n",
       "Df Model:                           1                                         \n",
       "Covariance Type:            nonrobust                                         \n",
       "==============================================================================\n",
       "                 coef    std err          t      P>|t|      [0.025      0.975]\n",
       "------------------------------------------------------------------------------\n",
       "const          0.0373      0.009      4.214      0.000       0.019       0.056\n",
       "x1             0.3026      0.019     15.854      0.000       0.263       0.342\n",
       "==============================================================================\n",
       "Omnibus:                        0.305   Durbin-Watson:                   0.951\n",
       "Prob(Omnibus):                  0.859   Jarque-Bera (JB):                0.477\n",
       "Skew:                          -0.046   Prob(JB):                        0.788\n",
       "Kurtosis:                       2.330   Cond. No.                         5.71\n",
       "==============================================================================\n",
       "\n",
       "Warnings:\n",
       "[1] Standard Errors assume that the covariance matrix of the errors is correctly specified.\n",
       "\"\"\""
      ]
     },
     "execution_count": 25,
     "metadata": {},
     "output_type": "execute_result"
    }
   ],
   "source": [
    "lr_diff = regression(\n",
    "    x=1-df_diff['acc_base_in'],\n",
    "    y=df_diff['acc_change_in'])\n",
    "lr_diff.summary()"
   ]
  },
  {
   "cell_type": "code",
   "execution_count": 26,
   "metadata": {},
   "outputs": [
    {
     "name": "stdout",
     "output_type": "stream",
     "text": [
      "SKL: beta0, beta1, R2\n",
      "[0.3945, -0.0429, 0.9371]\n",
      "SM: beta0, beta1, R2\n",
      "[0.3945, -0.0429] 0.9371\n",
      "SM: p0, p1\n",
      "['0.00000', '0.00000']\n"
     ]
    },
    {
     "data": {
      "text/html": [
       "<table class=\"simpletable\">\n",
       "<caption>OLS Regression Results</caption>\n",
       "<tr>\n",
       "  <th>Dep. Variable:</th>            <td>y</td>        <th>  R-squared:         </th> <td>   0.937</td>\n",
       "</tr>\n",
       "<tr>\n",
       "  <th>Model:</th>                   <td>OLS</td>       <th>  Adj. R-squared:    </th> <td>   0.934</td>\n",
       "</tr>\n",
       "<tr>\n",
       "  <th>Method:</th>             <td>Least Squares</td>  <th>  F-statistic:       </th> <td>   268.0</td>\n",
       "</tr>\n",
       "<tr>\n",
       "  <th>Date:</th>             <td>Mon, 27 Jan 2020</td> <th>  Prob (F-statistic):</th> <td>2.96e-12</td>\n",
       "</tr>\n",
       "<tr>\n",
       "  <th>Time:</th>                 <td>18:30:43</td>     <th>  Log-Likelihood:    </th> <td>  44.906</td>\n",
       "</tr>\n",
       "<tr>\n",
       "  <th>No. Observations:</th>      <td>    20</td>      <th>  AIC:               </th> <td>  -85.81</td>\n",
       "</tr>\n",
       "<tr>\n",
       "  <th>Df Residuals:</th>          <td>    18</td>      <th>  BIC:               </th> <td>  -83.82</td>\n",
       "</tr>\n",
       "<tr>\n",
       "  <th>Df Model:</th>              <td>     1</td>      <th>                     </th>     <td> </td>   \n",
       "</tr>\n",
       "<tr>\n",
       "  <th>Covariance Type:</th>      <td>nonrobust</td>    <th>                     </th>     <td> </td>   \n",
       "</tr>\n",
       "</table>\n",
       "<table class=\"simpletable\">\n",
       "<tr>\n",
       "    <td></td>       <th>coef</th>     <th>std err</th>      <th>t</th>      <th>P>|t|</th>  <th>[0.025</th>    <th>0.975]</th>  \n",
       "</tr>\n",
       "<tr>\n",
       "  <th>const</th> <td>    0.3945</td> <td>    0.014</td> <td>   27.285</td> <td> 0.000</td> <td>    0.364</td> <td>    0.425</td>\n",
       "</tr>\n",
       "<tr>\n",
       "  <th>x1</th>    <td>   -0.0429</td> <td>    0.003</td> <td>  -16.371</td> <td> 0.000</td> <td>   -0.048</td> <td>   -0.037</td>\n",
       "</tr>\n",
       "</table>\n",
       "<table class=\"simpletable\">\n",
       "<tr>\n",
       "  <th>Omnibus:</th>       <td>13.171</td> <th>  Durbin-Watson:     </th> <td>   1.921</td>\n",
       "</tr>\n",
       "<tr>\n",
       "  <th>Prob(Omnibus):</th> <td> 0.001</td> <th>  Jarque-Bera (JB):  </th> <td>  12.470</td>\n",
       "</tr>\n",
       "<tr>\n",
       "  <th>Skew:</th>          <td>-1.289</td> <th>  Prob(JB):          </th> <td> 0.00196</td>\n",
       "</tr>\n",
       "<tr>\n",
       "  <th>Kurtosis:</th>      <td> 5.885</td> <th>  Cond. No.          </th> <td>    13.6</td>\n",
       "</tr>\n",
       "</table><br/><br/>Warnings:<br/>[1] Standard Errors assume that the covariance matrix of the errors is correctly specified."
      ],
      "text/plain": [
       "<class 'statsmodels.iolib.summary.Summary'>\n",
       "\"\"\"\n",
       "                            OLS Regression Results                            \n",
       "==============================================================================\n",
       "Dep. Variable:                      y   R-squared:                       0.937\n",
       "Model:                            OLS   Adj. R-squared:                  0.934\n",
       "Method:                 Least Squares   F-statistic:                     268.0\n",
       "Date:                Mon, 27 Jan 2020   Prob (F-statistic):           2.96e-12\n",
       "Time:                        18:30:43   Log-Likelihood:                 44.906\n",
       "No. Observations:                  20   AIC:                            -85.81\n",
       "Df Residuals:                      18   BIC:                            -83.82\n",
       "Df Model:                           1                                         \n",
       "Covariance Type:            nonrobust                                         \n",
       "==============================================================================\n",
       "                 coef    std err          t      P>|t|      [0.025      0.975]\n",
       "------------------------------------------------------------------------------\n",
       "const          0.3945      0.014     27.285      0.000       0.364       0.425\n",
       "x1            -0.0429      0.003    -16.371      0.000      -0.048      -0.037\n",
       "==============================================================================\n",
       "Omnibus:                       13.171   Durbin-Watson:                   1.921\n",
       "Prob(Omnibus):                  0.001   Jarque-Bera (JB):               12.470\n",
       "Skew:                          -1.289   Prob(JB):                      0.00196\n",
       "Kurtosis:                       5.885   Cond. No.                         13.6\n",
       "==============================================================================\n",
       "\n",
       "Warnings:\n",
       "[1] Standard Errors assume that the covariance matrix of the errors is correctly specified.\n",
       "\"\"\""
      ]
     },
     "execution_count": 26,
     "metadata": {},
     "output_type": "execute_result"
    }
   ],
   "source": [
    "lr_size = regression(\n",
    "    x=np.log2(np.concatenate((df_size_v6['size'], df_size_v7['size']))),\n",
    "    y=np.concatenate((df_size_v6['acc_change_in'], df_size_v7['acc_change_in'])))\n",
    "lr_size.summary()"
   ]
  },
  {
   "cell_type": "code",
   "execution_count": 27,
   "metadata": {
    "scrolled": false
   },
   "outputs": [
    {
     "name": "stdout",
     "output_type": "stream",
     "text": [
      "SKL: beta0, beta1, R2\n",
      "[0.2087, -0.1119, 0.3656]\n",
      "SM: beta0, beta1, R2\n",
      "[0.2087, -0.1119] 0.3656\n",
      "SM: p0, p1\n",
      "['0.00000', '0.00004']\n"
     ]
    },
    {
     "data": {
      "text/html": [
       "<table class=\"simpletable\">\n",
       "<caption>OLS Regression Results</caption>\n",
       "<tr>\n",
       "  <th>Dep. Variable:</th>            <td>y</td>        <th>  R-squared:         </th> <td>   0.366</td>\n",
       "</tr>\n",
       "<tr>\n",
       "  <th>Model:</th>                   <td>OLS</td>       <th>  Adj. R-squared:    </th> <td>   0.349</td>\n",
       "</tr>\n",
       "<tr>\n",
       "  <th>Method:</th>             <td>Least Squares</td>  <th>  F-statistic:       </th> <td>   21.90</td>\n",
       "</tr>\n",
       "<tr>\n",
       "  <th>Date:</th>             <td>Mon, 27 Jan 2020</td> <th>  Prob (F-statistic):</th> <td>3.59e-05</td>\n",
       "</tr>\n",
       "<tr>\n",
       "  <th>Time:</th>                 <td>18:30:43</td>     <th>  Log-Likelihood:    </th> <td>  99.727</td>\n",
       "</tr>\n",
       "<tr>\n",
       "  <th>No. Observations:</th>      <td>    40</td>      <th>  AIC:               </th> <td>  -195.5</td>\n",
       "</tr>\n",
       "<tr>\n",
       "  <th>Df Residuals:</th>          <td>    38</td>      <th>  BIC:               </th> <td>  -192.1</td>\n",
       "</tr>\n",
       "<tr>\n",
       "  <th>Df Model:</th>              <td>     1</td>      <th>                     </th>     <td> </td>   \n",
       "</tr>\n",
       "<tr>\n",
       "  <th>Covariance Type:</th>      <td>nonrobust</td>    <th>                     </th>     <td> </td>   \n",
       "</tr>\n",
       "</table>\n",
       "<table class=\"simpletable\">\n",
       "<tr>\n",
       "    <td></td>       <th>coef</th>     <th>std err</th>      <th>t</th>      <th>P>|t|</th>  <th>[0.025</th>    <th>0.975]</th>  \n",
       "</tr>\n",
       "<tr>\n",
       "  <th>const</th> <td>    0.2087</td> <td>    0.014</td> <td>   15.284</td> <td> 0.000</td> <td>    0.181</td> <td>    0.236</td>\n",
       "</tr>\n",
       "<tr>\n",
       "  <th>x1</th>    <td>   -0.1119</td> <td>    0.024</td> <td>   -4.680</td> <td> 0.000</td> <td>   -0.160</td> <td>   -0.063</td>\n",
       "</tr>\n",
       "</table>\n",
       "<table class=\"simpletable\">\n",
       "<tr>\n",
       "  <th>Omnibus:</th>       <td> 0.957</td> <th>  Durbin-Watson:     </th> <td>   1.403</td>\n",
       "</tr>\n",
       "<tr>\n",
       "  <th>Prob(Omnibus):</th> <td> 0.620</td> <th>  Jarque-Bera (JB):  </th> <td>   0.283</td>\n",
       "</tr>\n",
       "<tr>\n",
       "  <th>Skew:</th>          <td>-0.122</td> <th>  Prob(JB):          </th> <td>   0.868</td>\n",
       "</tr>\n",
       "<tr>\n",
       "  <th>Kurtosis:</th>      <td> 3.332</td> <th>  Cond. No.          </th> <td>    9.67</td>\n",
       "</tr>\n",
       "</table><br/><br/>Warnings:<br/>[1] Standard Errors assume that the covariance matrix of the errors is correctly specified."
      ],
      "text/plain": [
       "<class 'statsmodels.iolib.summary.Summary'>\n",
       "\"\"\"\n",
       "                            OLS Regression Results                            \n",
       "==============================================================================\n",
       "Dep. Variable:                      y   R-squared:                       0.366\n",
       "Model:                            OLS   Adj. R-squared:                  0.349\n",
       "Method:                 Least Squares   F-statistic:                     21.90\n",
       "Date:                Mon, 27 Jan 2020   Prob (F-statistic):           3.59e-05\n",
       "Time:                        18:30:43   Log-Likelihood:                 99.727\n",
       "No. Observations:                  40   AIC:                            -195.5\n",
       "Df Residuals:                      38   BIC:                            -192.1\n",
       "Df Model:                           1                                         \n",
       "Covariance Type:            nonrobust                                         \n",
       "==============================================================================\n",
       "                 coef    std err          t      P>|t|      [0.025      0.975]\n",
       "------------------------------------------------------------------------------\n",
       "const          0.2087      0.014     15.284      0.000       0.181       0.236\n",
       "x1            -0.1119      0.024     -4.680      0.000      -0.160      -0.063\n",
       "==============================================================================\n",
       "Omnibus:                        0.957   Durbin-Watson:                   1.403\n",
       "Prob(Omnibus):                  0.620   Jarque-Bera (JB):                0.283\n",
       "Skew:                          -0.122   Prob(JB):                        0.868\n",
       "Kurtosis:                       3.332   Cond. No.                         9.67\n",
       "==============================================================================\n",
       "\n",
       "Warnings:\n",
       "[1] Standard Errors assume that the covariance matrix of the errors is correctly specified.\n",
       "\"\"\""
      ]
     },
     "execution_count": 27,
     "metadata": {},
     "output_type": "execute_result"
    }
   ],
   "source": [
    "lr_sim = regression(\n",
    "    x=np.concatenate((df_sim_v3['similarity'], df_sim_v4['similarity'])),\n",
    "    y=np.concatenate((df_sim_v3['acc_change_in'], df_sim_v4['acc_change_in'])))\n",
    "lr_sim.summary()"
   ]
  },
  {
   "cell_type": "code",
   "execution_count": 28,
   "metadata": {},
   "outputs": [],
   "source": [
    "def plot_regression(ax, x, ytrue, model):\n",
    "    xminmax = [min(x), max(x)]\n",
    "    ypred = model.predict(sm.add_constant(xminmax)[:, None])\n",
    "    ax.scatter(x, ytrue, color=colors[0])\n",
    "    ax.plot(xminmax, ypred, '-', color=colors[1], label='least-squares')\n",
    "    return ax"
   ]
  },
  {
   "cell_type": "code",
   "execution_count": 29,
   "metadata": {},
   "outputs": [
    {
     "data": {
      "image/png": "[encoded data removed]",
      "text/plain": [
       "<Figure size 720x216 with 3 Axes>"
      ]
     },
     "metadata": {
      "needs_background": "light"
     },
     "output_type": "display_data"
    }
   ],
   "source": [
    "fig, ax = plt.subplots(1, 3, sharey=True, figsize=(10, 3))\n",
    "\n",
    "ax[0] = plot_regression(\n",
    "    ax[0],\n",
    "    x=list(1-df_diff['acc_base_in']),\n",
    "    ytrue=df_diff['acc_change_in'],\n",
    "    model=lr_diff)\n",
    "ax[0].set_xlabel('Difficulty')\n",
    "ax[0].set_ylabel('Accuracy change')\n",
    "\n",
    "ax[1] = plot_regression(\n",
    "    ax[1],\n",
    "    x=np.log2(np.concatenate((df_size_v6['size'], df_size_v7['size']))),\n",
    "    ytrue=np.concatenate((df_size_v6['acc_change_in'], df_size_v7['acc_change_in'])),\n",
    "    model=lr_size)\n",
    "ax[1].set_xlabel('Size (log scale)')\n",
    "\n",
    "ax[2] = plot_regression(\n",
    "    ax[2],\n",
    "    x=np.concatenate((df_sim_v3['similarity'], df_sim_v4['similarity'])),\n",
    "    ytrue=np.concatenate((df_sim_v3['acc_change_in'], df_sim_v4['acc_change_in'])),\n",
    "    model=lr_sim)\n",
    "ax[2].set_xlabel('Similarity')\n",
    "\n",
    "plt.tight_layout()\n",
    "# plt.savefig(path_save/'regression.pdf')\n",
    "plt.show()"
   ]
  }
 ],
 "metadata": {
  "kernelspec": {
   "display_name": "Python 3",
   "language": "python",
   "name": "python3"
  },
  "language_info": {
   "codemirror_mode": {
    "name": "ipython",
    "version": 3
   },
   "file_extension": ".py",
   "mimetype": "text/x-python",
   "name": "python",
   "nbconvert_exporter": "python",
   "pygments_lexer": "ipython3",
   "version": "3.7.0"
  }
 },
 "nbformat": 4,
 "nbformat_minor": 2
}
