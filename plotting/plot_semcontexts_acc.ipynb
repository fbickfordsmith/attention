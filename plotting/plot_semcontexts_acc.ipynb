{
 "cells": [
  {
   "cell_type": "code",
   "execution_count": 1,
   "metadata": {},
   "outputs": [],
   "source": [
    "import numpy as np\n",
    "import pandas as pd\n",
    "import matplotlib.pyplot as plt\n",
    "import csv"
   ]
  },
  {
   "cell_type": "code",
   "execution_count": 22,
   "metadata": {},
   "outputs": [],
   "source": [
    "path = '/Users/fbickfordsmith/Google Drive/Project/attention/'\n",
    "path_baseline = path+'results/baseline_classwise_acc.csv'\n",
    "path_trained = path+'results/semcontexts_trained_metrics.csv'\n",
    "path_contexts = path+'contexts/semcontexts_wnids.csv'\n",
    "path_synsets = path+'metadata/synsets.txt'"
   ]
  },
  {
   "cell_type": "code",
   "execution_count": 14,
   "metadata": {},
   "outputs": [],
   "source": [
    "wnids = [line.rstrip('\\n') for line in open(path_synsets)]\n",
    "wnid2ind = {wnid:ind for ind, wnid in enumerate(wnids)}"
   ]
  },
  {
   "cell_type": "code",
   "execution_count": 15,
   "metadata": {},
   "outputs": [],
   "source": [
    "with open(path_contexts) as f:\n",
    "    contexts = [row for row in csv.reader(f, delimiter=',')]"
   ]
  },
  {
   "cell_type": "code",
   "execution_count": 16,
   "metadata": {},
   "outputs": [],
   "source": [
    "df0 = pd.read_csv(path_baseline, index_col=0)"
   ]
  },
  {
   "cell_type": "code",
   "execution_count": 17,
   "metadata": {},
   "outputs": [],
   "source": [
    "acc0 = []\n",
    "for c in contexts:\n",
    "    inds_in = [wnid2ind[w] for w in c]\n",
    "    inds_out = list(set(range(1000)) - set(inds_in))\n",
    "    acc0.append([np.mean(df0['accuracy'][inds_in]), np.mean(df0['accuracy'][inds_out])])\n",
    "acc0 = np.array(acc0)"
   ]
  },
  {
   "cell_type": "code",
   "execution_count": 23,
   "metadata": {},
   "outputs": [
    {
     "data": {
      "text/html": [
       "<div>\n",
       "<style scoped>\n",
       "    .dataframe tbody tr th:only-of-type {\n",
       "        vertical-align: middle;\n",
       "    }\n",
       "\n",
       "    .dataframe tbody tr th {\n",
       "        vertical-align: top;\n",
       "    }\n",
       "\n",
       "    .dataframe thead th {\n",
       "        text-align: right;\n",
       "    }\n",
       "</style>\n",
       "<table border=\"1\" class=\"dataframe\">\n",
       "  <thead>\n",
       "    <tr style=\"text-align: right;\">\n",
       "      <th></th>\n",
       "      <th>incontext_loss</th>\n",
       "      <th>incontext_acc</th>\n",
       "      <th>incontext_top_k_categorical_accuracy</th>\n",
       "      <th>outofcontext_loss</th>\n",
       "      <th>outofcontext_acc</th>\n",
       "      <th>outofcontext_top_k_categorical_accuracy</th>\n",
       "    </tr>\n",
       "  </thead>\n",
       "  <tbody>\n",
       "    <tr>\n",
       "      <th>0</th>\n",
       "      <td>1.982066</td>\n",
       "      <td>0.535377</td>\n",
       "      <td>0.790684</td>\n",
       "      <td>1.269470</td>\n",
       "      <td>0.689376</td>\n",
       "      <td>0.890744</td>\n",
       "    </tr>\n",
       "    <tr>\n",
       "      <th>1</th>\n",
       "      <td>1.177483</td>\n",
       "      <td>0.677077</td>\n",
       "      <td>0.914897</td>\n",
       "      <td>1.442579</td>\n",
       "      <td>0.656369</td>\n",
       "      <td>0.865032</td>\n",
       "    </tr>\n",
       "    <tr>\n",
       "      <th>2</th>\n",
       "      <td>1.126235</td>\n",
       "      <td>0.722222</td>\n",
       "      <td>0.932099</td>\n",
       "      <td>1.457855</td>\n",
       "      <td>0.652010</td>\n",
       "      <td>0.861337</td>\n",
       "    </tr>\n",
       "    <tr>\n",
       "      <th>3</th>\n",
       "      <td>1.650957</td>\n",
       "      <td>0.610329</td>\n",
       "      <td>0.840376</td>\n",
       "      <td>1.317797</td>\n",
       "      <td>0.679359</td>\n",
       "      <td>0.887297</td>\n",
       "    </tr>\n",
       "    <tr>\n",
       "      <th>4</th>\n",
       "      <td>1.013840</td>\n",
       "      <td>0.732434</td>\n",
       "      <td>0.924151</td>\n",
       "      <td>1.487528</td>\n",
       "      <td>0.649133</td>\n",
       "      <td>0.862196</td>\n",
       "    </tr>\n",
       "    <tr>\n",
       "      <th>5</th>\n",
       "      <td>0.638271</td>\n",
       "      <td>0.839581</td>\n",
       "      <td>0.947653</td>\n",
       "      <td>1.545734</td>\n",
       "      <td>0.630388</td>\n",
       "      <td>0.859394</td>\n",
       "    </tr>\n",
       "  </tbody>\n",
       "</table>\n",
       "</div>"
      ],
      "text/plain": [
       "   incontext_loss  incontext_acc  incontext_top_k_categorical_accuracy  \\\n",
       "0        1.982066       0.535377                              0.790684   \n",
       "1        1.177483       0.677077                              0.914897   \n",
       "2        1.126235       0.722222                              0.932099   \n",
       "3        1.650957       0.610329                              0.840376   \n",
       "4        1.013840       0.732434                              0.924151   \n",
       "5        0.638271       0.839581                              0.947653   \n",
       "\n",
       "   outofcontext_loss  outofcontext_acc  \\\n",
       "0           1.269470          0.689376   \n",
       "1           1.442579          0.656369   \n",
       "2           1.457855          0.652010   \n",
       "3           1.317797          0.679359   \n",
       "4           1.487528          0.649133   \n",
       "5           1.545734          0.630388   \n",
       "\n",
       "   outofcontext_top_k_categorical_accuracy  \n",
       "0                                 0.890744  \n",
       "1                                 0.865032  \n",
       "2                                 0.861337  \n",
       "3                                 0.887297  \n",
       "4                                 0.862196  \n",
       "5                                 0.859394  "
      ]
     },
     "execution_count": 23,
     "metadata": {},
     "output_type": "execute_result"
    }
   ],
   "source": [
    "df1 = pd.read_csv(path_trained, index_col=0) \n",
    "df1"
   ]
  },
  {
   "cell_type": "code",
   "execution_count": 24,
   "metadata": {},
   "outputs": [
    {
     "name": "stdout",
     "output_type": "stream",
     "text": [
      "Found 35 classes in imagenet_kitchen.csv\n",
      "Found 129 classes in imagenet_dogs.csv\n",
      "Found 13 classes in imagenet_cats.csv\n",
      "Found 57 classes in imagenet_wearable.csv\n",
      "Found 45 classes in imagenet_landtransport.csv\n",
      "Found 60 classes in imagenet_birds.csv\n"
     ]
    }
   ],
   "source": [
    "import os\n",
    "path = '/Users/fbickfordsmith/Google Drive/Project/attention/contexts/'\n",
    "filenames = [f for f in os.listdir(path) if 'imagenet' in f]\n",
    "for f in filenames:\n",
    "    df = pd.read_csv(path+f)\n",
    "    print(f'Found {df.shape[0]} classes in {f}')"
   ]
  },
  {
   "cell_type": "code",
   "execution_count": 25,
   "metadata": {},
   "outputs": [
    {
     "data": {
      "text/plain": [
       "array([0.51288391, 0.66109994, 0.70847724, 0.53538568, 0.71567764,\n",
       "       0.82463616])"
      ]
     },
     "execution_count": 25,
     "metadata": {},
     "output_type": "execute_result"
    }
   ],
   "source": [
    "acc0[:, 0]"
   ]
  },
  {
   "cell_type": "code",
   "execution_count": 26,
   "metadata": {},
   "outputs": [
    {
     "data": {
      "image/png": "[encoded data removed]",
      "text/plain": [
       "<Figure size 432x288 with 1 Axes>"
      ]
     },
     "metadata": {
      "needs_background": "light"
     },
     "output_type": "display_data"
    }
   ],
   "source": [
    "labels = ['kitchen', 'dogs', 'cats', 'wearable', 'transport', 'birds']\n",
    "plt.bar(labels, df1['incontext_acc']-acc0[:, 0], color='w', edgecolor='black')\n",
    "plt.ylabel('Change in in-context top-1 accuracy')\n",
    "# plt.savefig('semcontexts_acc_change.png', dpi=600)\n",
    "plt.show()"
   ]
  },
  {
   "cell_type": "code",
   "execution_count": 10,
   "metadata": {},
   "outputs": [
    {
     "data": {
      "text/plain": [
       "0    0.038408\n",
       "1    0.012451\n",
       "2    0.006696\n",
       "3    0.026530\n",
       "4    0.006275\n",
       "5   -0.004353\n",
       "Name: outofcontext_acc, dtype: float64"
      ]
     },
     "execution_count": 10,
     "metadata": {},
     "output_type": "execute_result"
    }
   ],
   "source": [
    "df1['outofcontext_acc']-acc0[:, 1]"
   ]
  },
  {
   "cell_type": "code",
   "execution_count": 11,
   "metadata": {},
   "outputs": [
    {
     "data": {
      "text/plain": [
       "[3, 4, 3, 8, 3, 5]"
      ]
     },
     "execution_count": 11,
     "metadata": {},
     "output_type": "execute_result"
    }
   ],
   "source": [
    "path_training = '/Users/fbickfordsmith/Google Drive/Project/attention/training/'\n",
    "num_epochs = [len(pd.read_csv(path_training+f'semcontext{i:02}_training.csv', index_col=0)) for i in range(6)]\n",
    "num_epochs"
   ]
  },
  {
   "cell_type": "code",
   "execution_count": 12,
   "metadata": {},
   "outputs": [
    {
     "data": {
      "image/png": "[encoded data removed]",
      "text/plain": [
       "<Figure size 432x288 with 1 Axes>"
      ]
     },
     "metadata": {
      "needs_background": "light"
     },
     "output_type": "display_data"
    }
   ],
   "source": [
    "plt.scatter(num_epochs, df1['incontext_acc']-acc0[:, 0])\n",
    "plt.xlabel('Number of epochs')\n",
    "plt.ylabel('Change in top-1 accuracy')\n",
    "plt.show()"
   ]
  },
  {
   "cell_type": "code",
   "execution_count": 57,
   "metadata": {
    "scrolled": true
   },
   "outputs": [],
   "source": [
    "pcpt_distances = np.array([[4, 5, 4], [0, 0, 0], [0, 0, 0]])\n",
    "ind_empty = np.transpose(np.nonzero(\n",
    "    (pcpt_distances-np.tril(np.ones_like(pcpt_distances), k=-1))==0))"
   ]
  },
  {
   "cell_type": "code",
   "execution_count": 58,
   "metadata": {},
   "outputs": [
    {
     "data": {
      "text/plain": [
       "array([[1, 1],\n",
       "       [1, 2],\n",
       "       [2, 2]])"
      ]
     },
     "execution_count": 58,
     "metadata": {},
     "output_type": "execute_result"
    }
   ],
   "source": [
    "ind_empty"
   ]
  },
  {
   "cell_type": "code",
   "execution_count": 59,
   "metadata": {},
   "outputs": [],
   "source": [
    "i0, j0 = ind_empty[0]"
   ]
  },
  {
   "cell_type": "code",
   "execution_count": 61,
   "metadata": {},
   "outputs": [
    {
     "data": {
      "text/plain": [
       "1"
      ]
     },
     "execution_count": 61,
     "metadata": {},
     "output_type": "execute_result"
    }
   ],
   "source": [
    "j0"
   ]
  },
  {
   "cell_type": "code",
   "execution_count": null,
   "metadata": {},
   "outputs": [],
   "source": []
  }
 ],
 "metadata": {
  "kernelspec": {
   "display_name": "Python 3",
   "language": "python",
   "name": "python3"
  },
  "language_info": {
   "codemirror_mode": {
    "name": "ipython",
    "version": 3
   },
   "file_extension": ".py",
   "mimetype": "text/x-python",
   "name": "python",
   "nbconvert_exporter": "python",
   "pygments_lexer": "ipython3",
   "version": "3.7.0"
  }
 },
 "nbformat": 4,
 "nbformat_minor": 2
}
