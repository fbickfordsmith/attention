{
 "cells": [
  {
   "cell_type": "code",
   "execution_count": 1,
   "metadata": {},
   "outputs": [],
   "source": [
    "import numpy as np\n",
    "import pandas as pd\n",
    "import matplotlib.pyplot as plt\n",
    "import csv"
   ]
  },
  {
   "cell_type": "code",
   "execution_count": 2,
   "metadata": {},
   "outputs": [],
   "source": [
    "path = '/Users/fbickfordsmith/Google Drive/Project/attention/'\n",
    "path_baseline = path+'results/baseline_classwise_acc.csv'\n",
    "path_trained = path+'results/semcontexts_trained_metrics.csv'\n",
    "path_contexts = path+'contexts/semcontexts_wnids.csv'\n",
    "path_synsets = path+'metadata/synsets.txt'"
   ]
  },
  {
   "cell_type": "code",
   "execution_count": 3,
   "metadata": {},
   "outputs": [],
   "source": [
    "wnids = [line.rstrip('\\n') for line in open(path_synsets)]\n",
    "wnid2ind = {wnid:ind for ind, wnid in enumerate(wnids)}"
   ]
  },
  {
   "cell_type": "code",
   "execution_count": 4,
   "metadata": {},
   "outputs": [],
   "source": [
    "with open(path_contexts) as f:\n",
    "    contexts = [row for row in csv.reader(f, delimiter=',')]"
   ]
  },
  {
   "cell_type": "code",
   "execution_count": 5,
   "metadata": {},
   "outputs": [],
   "source": [
    "df0 = pd.read_csv(path_baseline, index_col=0)"
   ]
  },
  {
   "cell_type": "code",
   "execution_count": 27,
   "metadata": {},
   "outputs": [],
   "source": [
    "acc0 = []\n",
    "for c in contexts:\n",
    "    inds_in = [wnid2ind[w] for w in c]\n",
    "    inds_out = list(set(range(1000)) - set(inds_in))\n",
    "    acc0.append([np.mean(df0['accuracy'][inds_in]), np.mean(df0['accuracy'][inds_out])])\n",
    "acc0 = np.array(acc0)"
   ]
  },
  {
   "cell_type": "code",
   "execution_count": 8,
   "metadata": {},
   "outputs": [
    {
     "data": {
      "text/html": [
       "<div>\n",
       "<style scoped>\n",
       "    .dataframe tbody tr th:only-of-type {\n",
       "        vertical-align: middle;\n",
       "    }\n",
       "\n",
       "    .dataframe tbody tr th {\n",
       "        vertical-align: top;\n",
       "    }\n",
       "\n",
       "    .dataframe thead th {\n",
       "        text-align: right;\n",
       "    }\n",
       "</style>\n",
       "<table border=\"1\" class=\"dataframe\">\n",
       "  <thead>\n",
       "    <tr style=\"text-align: right;\">\n",
       "      <th></th>\n",
       "      <th>incontext_loss</th>\n",
       "      <th>incontext_acc</th>\n",
       "      <th>incontext_top_k_categorical_accuracy</th>\n",
       "      <th>outofcontext_loss</th>\n",
       "      <th>outofcontext_acc</th>\n",
       "      <th>outofcontext_top_k_categorical_accuracy</th>\n",
       "    </tr>\n",
       "  </thead>\n",
       "  <tbody>\n",
       "    <tr>\n",
       "      <th>0</th>\n",
       "      <td>1.900781</td>\n",
       "      <td>0.547170</td>\n",
       "      <td>0.803656</td>\n",
       "      <td>1.265890</td>\n",
       "      <td>0.689699</td>\n",
       "      <td>0.891219</td>\n",
       "    </tr>\n",
       "    <tr>\n",
       "      <th>1</th>\n",
       "      <td>1.160351</td>\n",
       "      <td>0.679888</td>\n",
       "      <td>0.915834</td>\n",
       "      <td>1.440840</td>\n",
       "      <td>0.656232</td>\n",
       "      <td>0.863322</td>\n",
       "    </tr>\n",
       "    <tr>\n",
       "      <th>2</th>\n",
       "      <td>1.138718</td>\n",
       "      <td>0.716049</td>\n",
       "      <td>0.929012</td>\n",
       "      <td>1.457666</td>\n",
       "      <td>0.650912</td>\n",
       "      <td>0.861071</td>\n",
       "    </tr>\n",
       "    <tr>\n",
       "      <th>3</th>\n",
       "      <td>1.808436</td>\n",
       "      <td>0.577826</td>\n",
       "      <td>0.819068</td>\n",
       "      <td>1.279818</td>\n",
       "      <td>0.684073</td>\n",
       "      <td>0.890861</td>\n",
       "    </tr>\n",
       "    <tr>\n",
       "      <th>4</th>\n",
       "      <td>0.986548</td>\n",
       "      <td>0.736156</td>\n",
       "      <td>0.924616</td>\n",
       "      <td>1.482645</td>\n",
       "      <td>0.647739</td>\n",
       "      <td>0.863248</td>\n",
       "    </tr>\n",
       "    <tr>\n",
       "      <th>5</th>\n",
       "      <td>0.674625</td>\n",
       "      <td>0.831476</td>\n",
       "      <td>0.942587</td>\n",
       "      <td>1.546980</td>\n",
       "      <td>0.627825</td>\n",
       "      <td>0.859571</td>\n",
       "    </tr>\n",
       "  </tbody>\n",
       "</table>\n",
       "</div>"
      ],
      "text/plain": [
       "   incontext_loss  incontext_acc  incontext_top_k_categorical_accuracy  \\\n",
       "0        1.900781       0.547170                              0.803656   \n",
       "1        1.160351       0.679888                              0.915834   \n",
       "2        1.138718       0.716049                              0.929012   \n",
       "3        1.808436       0.577826                              0.819068   \n",
       "4        0.986548       0.736156                              0.924616   \n",
       "5        0.674625       0.831476                              0.942587   \n",
       "\n",
       "   outofcontext_loss  outofcontext_acc  \\\n",
       "0           1.265890          0.689699   \n",
       "1           1.440840          0.656232   \n",
       "2           1.457666          0.650912   \n",
       "3           1.279818          0.684073   \n",
       "4           1.482645          0.647739   \n",
       "5           1.546980          0.627825   \n",
       "\n",
       "   outofcontext_top_k_categorical_accuracy  \n",
       "0                                 0.891219  \n",
       "1                                 0.863322  \n",
       "2                                 0.861071  \n",
       "3                                 0.890861  \n",
       "4                                 0.863248  \n",
       "5                                 0.859571  "
      ]
     },
     "execution_count": 8,
     "metadata": {},
     "output_type": "execute_result"
    }
   ],
   "source": [
    "df1 = pd.read_csv(path_trained, index_col=0) \n",
    "df1"
   ]
  },
  {
   "cell_type": "code",
   "execution_count": 31,
   "metadata": {},
   "outputs": [
    {
     "name": "stdout",
     "output_type": "stream",
     "text": [
      "Found 35 classes in imagenet_kitchen.csv\n",
      "Found 129 classes in imagenet_dogs.csv\n",
      "Found 13 classes in imagenet_cats.csv\n",
      "Found 57 classes in imagenet_wearable.csv\n",
      "Found 45 classes in imagenet_landtransport.csv\n",
      "Found 60 classes in imagenet_birds.csv\n"
     ]
    }
   ],
   "source": [
    "import os\n",
    "path = '/Users/fbickfordsmith/Google Drive/Project/attention/contexts/'\n",
    "filenames = [f for f in os.listdir(path) if 'imagenet' in f]\n",
    "for f in filenames:\n",
    "    df = pd.read_csv(path+f)\n",
    "    print(f'Found {df.shape[0]} classes in {f}')"
   ]
  },
  {
   "cell_type": "code",
   "execution_count": 36,
   "metadata": {},
   "outputs": [
    {
     "data": {
      "text/plain": [
       "array([0.51288391, 0.66109994, 0.70847724, 0.53538568, 0.71567764,\n",
       "       0.82463616])"
      ]
     },
     "execution_count": 36,
     "metadata": {},
     "output_type": "execute_result"
    }
   ],
   "source": [
    "acc0[:, 0]"
   ]
  },
  {
   "cell_type": "code",
   "execution_count": null,
   "metadata": {},
   "outputs": [],
   "source": []
  },
  {
   "cell_type": "code",
   "execution_count": 38,
   "metadata": {},
   "outputs": [
    {
     "data": {
      "image/png": "[encoded data removed]",
      "text/plain": [
       "<Figure size 432x288 with 1 Axes>"
      ]
     },
     "metadata": {
      "needs_background": "light"
     },
     "output_type": "display_data"
    }
   ],
   "source": [
    "labels = ['kitchen', 'dogs', 'cats', 'wearable', 'transport', 'birds']\n",
    "plt.bar(labels, df1['incontext_acc']-acc0[:, 0], color='w', edgecolor='black')\n",
    "plt.ylabel('Change in in-context top-1 accuracy')\n",
    "plt.savefig('semcontexts_acc_change.png', dpi=600)\n",
    "plt.show()"
   ]
  },
  {
   "cell_type": "code",
   "execution_count": 29,
   "metadata": {},
   "outputs": [
    {
     "data": {
      "text/plain": [
       "0    0.038731\n",
       "1    0.012313\n",
       "2    0.005598\n",
       "3    0.031244\n",
       "4    0.004881\n",
       "5   -0.006917\n",
       "Name: outofcontext_acc, dtype: float64"
      ]
     },
     "execution_count": 29,
     "metadata": {},
     "output_type": "execute_result"
    }
   ],
   "source": [
    "df1['outofcontext_acc']-acc0[:, 1]"
   ]
  },
  {
   "cell_type": "code",
   "execution_count": 33,
   "metadata": {},
   "outputs": [
    {
     "data": {
      "text/plain": [
       "[4, 5, 2, 3, 4, 2]"
      ]
     },
     "execution_count": 33,
     "metadata": {},
     "output_type": "execute_result"
    }
   ],
   "source": [
    "path_training = '/Users/fbickfordsmith/Google Drive/Project/attention/training/'\n",
    "num_epochs = [len(pd.read_csv(path_training+f'semcontext{i:02}_training.csv', index_col=0)) for i in range(6)]\n",
    "num_epochs"
   ]
  },
  {
   "cell_type": "code",
   "execution_count": 35,
   "metadata": {},
   "outputs": [
    {
     "data": {
      "image/png": "[encoded data removed]",
      "text/plain": [
       "<Figure size 432x288 with 1 Axes>"
      ]
     },
     "metadata": {
      "needs_background": "light"
     },
     "output_type": "display_data"
    }
   ],
   "source": [
    "plt.scatter(num_epochs, df1['incontext_acc']-acc0[:, 0])\n",
    "plt.xlabel('Number of epochs')\n",
    "plt.ylabel('Change in top-1 accuracy')\n",
    "plt.show()"
   ]
  },
  {
   "cell_type": "code",
   "execution_count": null,
   "metadata": {},
   "outputs": [],
   "source": []
  }
 ],
 "metadata": {
  "kernelspec": {
   "display_name": "Python 3",
   "language": "python",
   "name": "python3"
  },
  "language_info": {
   "codemirror_mode": {
    "name": "ipython",
    "version": 3
   },
   "file_extension": ".py",
   "mimetype": "text/x-python",
   "name": "python",
   "nbconvert_exporter": "python",
   "pygments_lexer": "ipython3",
   "version": "3.7.0"
  }
 },
 "nbformat": 4,
 "nbformat_minor": 2
}
