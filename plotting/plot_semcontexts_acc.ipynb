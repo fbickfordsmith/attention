{
 "cells": [
  {
   "cell_type": "code",
   "execution_count": 3,
   "metadata": {},
   "outputs": [],
   "source": [
    "import numpy as np\n",
    "import pandas as pd\n",
    "import matplotlib.pyplot as plt\n",
    "import csv"
   ]
  },
  {
   "cell_type": "code",
   "execution_count": 13,
   "metadata": {},
   "outputs": [],
   "source": [
    "path = '/Users/fbickfordsmith/Google Drive/Project/attention/'\n",
    "path_baseline = path+'results/baseline_classwise_acc.csv'\n",
    "path_trained = path+'results/'\n",
    "path_contexts = path+'contexts/semcontexts_wnids.csv'\n",
    "path_synsets = path+'metadata/synsets.txt'"
   ]
  },
  {
   "cell_type": "code",
   "execution_count": 14,
   "metadata": {},
   "outputs": [],
   "source": [
    "wnids = [line.rstrip('\\n') for line in open(path_synsets)]\n",
    "wnid2ind = {wnid:ind for ind, wnid in enumerate(wnids)}"
   ]
  },
  {
   "cell_type": "code",
   "execution_count": 15,
   "metadata": {},
   "outputs": [],
   "source": [
    "with open(path_contexts) as f:\n",
    "    contexts = [row for row in csv.reader(f, delimiter=',')]"
   ]
  },
  {
   "cell_type": "code",
   "execution_count": 16,
   "metadata": {},
   "outputs": [],
   "source": [
    "df0 = pd.read_csv(path_baseline, index_col=0)"
   ]
  },
  {
   "cell_type": "code",
   "execution_count": 17,
   "metadata": {},
   "outputs": [],
   "source": [
    "accuracy = []\n",
    "for c in contexts:\n",
    "    inds = [wnid2ind[w] for w in c]\n",
    "    accuracy.append(np.mean(df0['accuracy'][inds]))"
   ]
  },
  {
   "cell_type": "code",
   "execution_count": 18,
   "metadata": {},
   "outputs": [
    {
     "data": {
      "text/plain": [
       "[0.5128839057601087,\n",
       " 0.6610999359334696,\n",
       " 0.7084772370486655,\n",
       " 0.5353856790615733,\n",
       " 0.715677644130332,\n",
       " 0.8246361620705739]"
      ]
     },
     "execution_count": 18,
     "metadata": {},
     "output_type": "execute_result"
    }
   ],
   "source": [
    "accuracy"
   ]
  },
  {
   "cell_type": "code",
   "execution_count": null,
   "metadata": {},
   "outputs": [],
   "source": []
  }
 ],
 "metadata": {
  "kernelspec": {
   "display_name": "Python 3",
   "language": "python",
   "name": "python3"
  },
  "language_info": {
   "codemirror_mode": {
    "name": "ipython",
    "version": 3
   },
   "file_extension": ".py",
   "mimetype": "text/x-python",
   "name": "python",
   "nbconvert_exporter": "python",
   "pygments_lexer": "ipython3",
   "version": "3.7.0"
  }
 },
 "nbformat": 4,
 "nbformat_minor": 2
}
