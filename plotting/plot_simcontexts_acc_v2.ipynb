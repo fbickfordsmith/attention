{
 "cells": [
  {
   "cell_type": "code",
   "execution_count": 21,
   "metadata": {},
   "outputs": [],
   "source": [
    "import numpy as np\n",
    "import pandas as pd\n",
    "import matplotlib.pyplot as plt\n",
    "import csv"
   ]
  },
  {
   "cell_type": "code",
   "execution_count": 22,
   "metadata": {},
   "outputs": [],
   "source": [
    "path = '/Users/fbickfordsmith/Google Drive/Project/attention/'\n",
    "path_contexts = path+'contexts/simcontexts_wnids.csv'\n",
    "path_synsets = path+'metadata/synsets.txt'"
   ]
  },
  {
   "cell_type": "code",
   "execution_count": 23,
   "metadata": {
    "scrolled": false
   },
   "outputs": [
    {
     "data": {
      "text/html": [
       "<div>\n",
       "<style scoped>\n",
       "    .dataframe tbody tr th:only-of-type {\n",
       "        vertical-align: middle;\n",
       "    }\n",
       "\n",
       "    .dataframe tbody tr th {\n",
       "        vertical-align: top;\n",
       "    }\n",
       "\n",
       "    .dataframe thead th {\n",
       "        text-align: right;\n",
       "    }\n",
       "</style>\n",
       "<table border=\"1\" class=\"dataframe\">\n",
       "  <thead>\n",
       "    <tr style=\"text-align: right;\">\n",
       "      <th></th>\n",
       "      <th>wnids</th>\n",
       "      <th>num_examples</th>\n",
       "      <th>num_correct</th>\n",
       "      <th>incontext_acc</th>\n",
       "      <th>outofcontext_acc</th>\n",
       "      <th>incontext_meandistance</th>\n",
       "      <th>incontext_stddistance</th>\n",
       "    </tr>\n",
       "  </thead>\n",
       "  <tbody>\n",
       "    <tr>\n",
       "      <th>0</th>\n",
       "      <td>['n03743016', 'n01968897', 'n02085936', 'n0379...</td>\n",
       "      <td>2403</td>\n",
       "      <td>1553</td>\n",
       "      <td>0.646275</td>\n",
       "      <td>0.634423</td>\n",
       "      <td>54.411762</td>\n",
       "      <td>17.829769</td>\n",
       "    </tr>\n",
       "    <tr>\n",
       "      <th>1</th>\n",
       "      <td>['n03743016', 'n01855032', 'n03804744', 'n0208...</td>\n",
       "      <td>2410</td>\n",
       "      <td>1600</td>\n",
       "      <td>0.663900</td>\n",
       "      <td>0.633971</td>\n",
       "      <td>70.044609</td>\n",
       "      <td>17.620207</td>\n",
       "    </tr>\n",
       "    <tr>\n",
       "      <th>2</th>\n",
       "      <td>['n03743016', 'n02640242', 'n03476684', 'n0352...</td>\n",
       "      <td>2384</td>\n",
       "      <td>1417</td>\n",
       "      <td>0.594379</td>\n",
       "      <td>0.635737</td>\n",
       "      <td>69.142471</td>\n",
       "      <td>16.232023</td>\n",
       "    </tr>\n",
       "    <tr>\n",
       "      <th>3</th>\n",
       "      <td>['n03743016', 'n02086646', 'n02017213', 'n0422...</td>\n",
       "      <td>2414</td>\n",
       "      <td>1539</td>\n",
       "      <td>0.637531</td>\n",
       "      <td>0.634645</td>\n",
       "      <td>73.596451</td>\n",
       "      <td>17.055941</td>\n",
       "    </tr>\n",
       "    <tr>\n",
       "      <th>4</th>\n",
       "      <td>['n07734744', 'n07860988', 'n02085620', 'n0769...</td>\n",
       "      <td>2317</td>\n",
       "      <td>1560</td>\n",
       "      <td>0.673284</td>\n",
       "      <td>0.633771</td>\n",
       "      <td>50.759323</td>\n",
       "      <td>17.365021</td>\n",
       "    </tr>\n",
       "    <tr>\n",
       "      <th>5</th>\n",
       "      <td>['n07734744', 'n01685808', 'n03447721', 'n1056...</td>\n",
       "      <td>2420</td>\n",
       "      <td>1506</td>\n",
       "      <td>0.622314</td>\n",
       "      <td>0.635036</td>\n",
       "      <td>60.267277</td>\n",
       "      <td>14.426609</td>\n",
       "    </tr>\n",
       "    <tr>\n",
       "      <th>6</th>\n",
       "      <td>['n07734744', 'n03788365', 'n02113023', 'n0439...</td>\n",
       "      <td>2426</td>\n",
       "      <td>1545</td>\n",
       "      <td>0.636851</td>\n",
       "      <td>0.634663</td>\n",
       "      <td>66.545822</td>\n",
       "      <td>15.885822</td>\n",
       "    </tr>\n",
       "    <tr>\n",
       "      <th>7</th>\n",
       "      <td>['n07734744', 'n03089624', 'n02640242', 'n0168...</td>\n",
       "      <td>2391</td>\n",
       "      <td>1515</td>\n",
       "      <td>0.633626</td>\n",
       "      <td>0.634745</td>\n",
       "      <td>73.702171</td>\n",
       "      <td>18.676928</td>\n",
       "    </tr>\n",
       "    <tr>\n",
       "      <th>8</th>\n",
       "      <td>['n01740131', 'n01729322', 'n03594734', 'n0208...</td>\n",
       "      <td>2429</td>\n",
       "      <td>1537</td>\n",
       "      <td>0.632771</td>\n",
       "      <td>0.634768</td>\n",
       "      <td>45.602005</td>\n",
       "      <td>16.410582</td>\n",
       "    </tr>\n",
       "    <tr>\n",
       "      <th>9</th>\n",
       "      <td>['n01740131', 'n01770081', 'n01755581', 'n0279...</td>\n",
       "      <td>2420</td>\n",
       "      <td>1532</td>\n",
       "      <td>0.633058</td>\n",
       "      <td>0.634760</td>\n",
       "      <td>65.880898</td>\n",
       "      <td>15.481185</td>\n",
       "    </tr>\n",
       "  </tbody>\n",
       "</table>\n",
       "</div>"
      ],
      "text/plain": [
       "                                               wnids  num_examples  \\\n",
       "0  ['n03743016', 'n01968897', 'n02085936', 'n0379...          2403   \n",
       "1  ['n03743016', 'n01855032', 'n03804744', 'n0208...          2410   \n",
       "2  ['n03743016', 'n02640242', 'n03476684', 'n0352...          2384   \n",
       "3  ['n03743016', 'n02086646', 'n02017213', 'n0422...          2414   \n",
       "4  ['n07734744', 'n07860988', 'n02085620', 'n0769...          2317   \n",
       "5  ['n07734744', 'n01685808', 'n03447721', 'n1056...          2420   \n",
       "6  ['n07734744', 'n03788365', 'n02113023', 'n0439...          2426   \n",
       "7  ['n07734744', 'n03089624', 'n02640242', 'n0168...          2391   \n",
       "8  ['n01740131', 'n01729322', 'n03594734', 'n0208...          2429   \n",
       "9  ['n01740131', 'n01770081', 'n01755581', 'n0279...          2420   \n",
       "\n",
       "   num_correct  incontext_acc  outofcontext_acc  incontext_meandistance  \\\n",
       "0         1553       0.646275          0.634423               54.411762   \n",
       "1         1600       0.663900          0.633971               70.044609   \n",
       "2         1417       0.594379          0.635737               69.142471   \n",
       "3         1539       0.637531          0.634645               73.596451   \n",
       "4         1560       0.673284          0.633771               50.759323   \n",
       "5         1506       0.622314          0.635036               60.267277   \n",
       "6         1545       0.636851          0.634663               66.545822   \n",
       "7         1515       0.633626          0.634745               73.702171   \n",
       "8         1537       0.632771          0.634768               45.602005   \n",
       "9         1532       0.633058          0.634760               65.880898   \n",
       "\n",
       "   incontext_stddistance  \n",
       "0              17.829769  \n",
       "1              17.620207  \n",
       "2              16.232023  \n",
       "3              17.055941  \n",
       "4              17.365021  \n",
       "5              14.426609  \n",
       "6              15.885822  \n",
       "7              18.676928  \n",
       "8              16.410582  \n",
       "9              15.481185  "
      ]
     },
     "execution_count": 23,
     "metadata": {},
     "output_type": "execute_result"
    }
   ],
   "source": [
    "# df0: context stats using baseline model\n",
    "df0 = pd.read_csv(path+'contexts/simcontexts_stats.csv', index_col=0)\n",
    "df0.head(10)"
   ]
  },
  {
   "cell_type": "code",
   "execution_count": 24,
   "metadata": {},
   "outputs": [
    {
     "data": {
      "text/html": [
       "<div>\n",
       "<style scoped>\n",
       "    .dataframe tbody tr th:only-of-type {\n",
       "        vertical-align: middle;\n",
       "    }\n",
       "\n",
       "    .dataframe tbody tr th {\n",
       "        vertical-align: top;\n",
       "    }\n",
       "\n",
       "    .dataframe thead th {\n",
       "        text-align: right;\n",
       "    }\n",
       "</style>\n",
       "<table border=\"1\" class=\"dataframe\">\n",
       "  <thead>\n",
       "    <tr style=\"text-align: right;\">\n",
       "      <th></th>\n",
       "      <th>incontext_loss</th>\n",
       "      <th>incontext_acc</th>\n",
       "      <th>incontext_top5_acc</th>\n",
       "      <th>outofcontext_loss</th>\n",
       "      <th>outofcontext_acc</th>\n",
       "      <th>outofcontext_top5_acc</th>\n",
       "    </tr>\n",
       "  </thead>\n",
       "  <tbody>\n",
       "    <tr>\n",
       "      <th>0</th>\n",
       "      <td>1.439233</td>\n",
       "      <td>0.659592</td>\n",
       "      <td>0.863920</td>\n",
       "      <td>1.533890</td>\n",
       "      <td>0.635728</td>\n",
       "      <td>0.853085</td>\n",
       "    </tr>\n",
       "    <tr>\n",
       "      <th>1</th>\n",
       "      <td>1.211848</td>\n",
       "      <td>0.703734</td>\n",
       "      <td>0.900000</td>\n",
       "      <td>1.542507</td>\n",
       "      <td>0.634013</td>\n",
       "      <td>0.850981</td>\n",
       "    </tr>\n",
       "    <tr>\n",
       "      <th>2</th>\n",
       "      <td>1.478048</td>\n",
       "      <td>0.648909</td>\n",
       "      <td>0.868289</td>\n",
       "      <td>1.530375</td>\n",
       "      <td>0.635680</td>\n",
       "      <td>0.853011</td>\n",
       "    </tr>\n",
       "    <tr>\n",
       "      <th>3</th>\n",
       "      <td>1.361415</td>\n",
       "      <td>0.651201</td>\n",
       "      <td>0.875311</td>\n",
       "      <td>1.540443</td>\n",
       "      <td>0.634684</td>\n",
       "      <td>0.852647</td>\n",
       "    </tr>\n",
       "    <tr>\n",
       "      <th>4</th>\n",
       "      <td>1.343904</td>\n",
       "      <td>0.684506</td>\n",
       "      <td>0.885196</td>\n",
       "      <td>1.537756</td>\n",
       "      <td>0.634387</td>\n",
       "      <td>0.852436</td>\n",
       "    </tr>\n",
       "    <tr>\n",
       "      <th>5</th>\n",
       "      <td>1.462090</td>\n",
       "      <td>0.652066</td>\n",
       "      <td>0.866116</td>\n",
       "      <td>1.523472</td>\n",
       "      <td>0.638673</td>\n",
       "      <td>0.854026</td>\n",
       "    </tr>\n",
       "    <tr>\n",
       "      <th>6</th>\n",
       "      <td>1.339772</td>\n",
       "      <td>0.664468</td>\n",
       "      <td>0.882110</td>\n",
       "      <td>1.525449</td>\n",
       "      <td>0.636787</td>\n",
       "      <td>0.854053</td>\n",
       "    </tr>\n",
       "    <tr>\n",
       "      <th>7</th>\n",
       "      <td>1.478032</td>\n",
       "      <td>0.645337</td>\n",
       "      <td>0.861564</td>\n",
       "      <td>1.531583</td>\n",
       "      <td>0.636160</td>\n",
       "      <td>0.853150</td>\n",
       "    </tr>\n",
       "    <tr>\n",
       "      <th>8</th>\n",
       "      <td>1.486829</td>\n",
       "      <td>0.648003</td>\n",
       "      <td>0.867435</td>\n",
       "      <td>1.534418</td>\n",
       "      <td>0.635229</td>\n",
       "      <td>0.853010</td>\n",
       "    </tr>\n",
       "    <tr>\n",
       "      <th>9</th>\n",
       "      <td>1.415416</td>\n",
       "      <td>0.664050</td>\n",
       "      <td>0.870661</td>\n",
       "      <td>1.531277</td>\n",
       "      <td>0.637224</td>\n",
       "      <td>0.853422</td>\n",
       "    </tr>\n",
       "  </tbody>\n",
       "</table>\n",
       "</div>"
      ],
      "text/plain": [
       "   incontext_loss  incontext_acc  incontext_top5_acc  outofcontext_loss  \\\n",
       "0        1.439233       0.659592            0.863920           1.533890   \n",
       "1        1.211848       0.703734            0.900000           1.542507   \n",
       "2        1.478048       0.648909            0.868289           1.530375   \n",
       "3        1.361415       0.651201            0.875311           1.540443   \n",
       "4        1.343904       0.684506            0.885196           1.537756   \n",
       "5        1.462090       0.652066            0.866116           1.523472   \n",
       "6        1.339772       0.664468            0.882110           1.525449   \n",
       "7        1.478032       0.645337            0.861564           1.531583   \n",
       "8        1.486829       0.648003            0.867435           1.534418   \n",
       "9        1.415416       0.664050            0.870661           1.531277   \n",
       "\n",
       "   outofcontext_acc  outofcontext_top5_acc  \n",
       "0          0.635728               0.853085  \n",
       "1          0.634013               0.850981  \n",
       "2          0.635680               0.853011  \n",
       "3          0.634684               0.852647  \n",
       "4          0.634387               0.852436  \n",
       "5          0.638673               0.854026  \n",
       "6          0.636787               0.854053  \n",
       "7          0.636160               0.853150  \n",
       "8          0.635229               0.853010  \n",
       "9          0.637224               0.853422  "
      ]
     },
     "execution_count": 24,
     "metadata": {},
     "output_type": "execute_result"
    }
   ],
   "source": [
    "# df1: context stats using trained models\n",
    "df1 = pd.read_csv(path+'results/simcontexts_trained_metrics.csv', index_col=0)\n",
    "df1.head(10)"
   ]
  },
  {
   "cell_type": "code",
   "execution_count": 25,
   "metadata": {},
   "outputs": [],
   "source": [
    "# df2: points to plot\n",
    "df2 = pd.DataFrame()\n",
    "df2['x'] = df0['incontext_meandistance']\n",
    "df2['y'] = df0['incontext_acc']\n",
    "df2['z_in'] = df1['incontext_acc'] - df0['incontext_acc']\n",
    "df2['z_out'] = df1['outofcontext_acc'] - df0['outofcontext_acc']"
   ]
  },
  {
   "cell_type": "code",
   "execution_count": 26,
   "metadata": {},
   "outputs": [
    {
     "data": {
      "image/png": "[encoded data removed]",
      "text/plain": [
       "<Figure size 432x288 with 1 Axes>"
      ]
     },
     "metadata": {
      "needs_background": "light"
     },
     "output_type": "display_data"
    }
   ],
   "source": [
    "plt.scatter(df2['x'], df2['z_in'], label='in context')\n",
    "plt.scatter(df2['x'], df2['z_out'], label='out of context')\n",
    "plt.xlabel('Mean Euclidean distance of representations in training context')\n",
    "plt.ylabel('Change in top-1 accuracy')\n",
    "plt.legend(title='Source of test examples')\n",
    "# plt.savefig('simcontexts_acc_change.png', dpi=600)\n",
    "plt.show()"
   ]
  },
  {
   "cell_type": "code",
   "execution_count": 27,
   "metadata": {},
   "outputs": [
    {
     "data": {
      "image/png": "[encoded data removed]",
      "text/plain": [
       "<Figure size 432x288 with 2 Axes>"
      ]
     },
     "metadata": {
      "needs_background": "light"
     },
     "output_type": "display_data"
    }
   ],
   "source": [
    "plt.scatter(x=df2['x'], y=df2['y'], c=df2['z_in'], cmap='Spectral')\n",
    "plt.colorbar()\n",
    "plt.xlabel('Mean Euclidean distance of representations in training context')\n",
    "plt.ylabel('Baseline top-1 accuracy on in-context examples')\n",
    "plt.title('Colour indicates change in in-context top-1 accuracy')\n",
    "# plt.savefig('simcontexts_acc_change.png', dpi=600)\n",
    "plt.show()"
   ]
  },
  {
   "cell_type": "code",
   "execution_count": 28,
   "metadata": {},
   "outputs": [],
   "source": [
    "wnids = [line.rstrip('\\n') for line in open(path_synsets)]\n",
    "wnid2ind = {wnid:ind for ind, wnid in enumerate(wnids)}"
   ]
  },
  {
   "cell_type": "code",
   "execution_count": 29,
   "metadata": {},
   "outputs": [],
   "source": [
    "with open(path_contexts) as f:\n",
    "    contexts = [row for row in csv.reader(f, delimiter=',')]"
   ]
  },
  {
   "cell_type": "code",
   "execution_count": 30,
   "metadata": {},
   "outputs": [],
   "source": [
    "from sklearn.metrics.pairwise import cosine_similarity\n",
    "path = '/Users/fbickfordsmith/Google Drive/Project/attention/'\n",
    "Xraw = np.load(path+'npy/mean_activations.npy')\n",
    "# Xsim = cosine_similarity(Xraw)"
   ]
  },
  {
   "cell_type": "code",
   "execution_count": 36,
   "metadata": {},
   "outputs": [],
   "source": [
    "cos_distances = []\n",
    "for c in contexts:\n",
    "    inds = [wnid2ind[w] for w in c]\n",
    "    cos_distances.append(1-np.mean(cosine_similarity(Xraw[inds])))"
   ]
  },
  {
   "cell_type": "code",
   "execution_count": 38,
   "metadata": {},
   "outputs": [
    {
     "data": {
      "image/png": "[encoded data removed]",
      "text/plain": [
       "<Figure size 432x288 with 1 Axes>"
      ]
     },
     "metadata": {
      "needs_background": "light"
     },
     "output_type": "display_data"
    }
   ],
   "source": [
    "plt.scatter(cos_distances, df2['z_in'], label='in context', marker='o', facecolors='none', edgecolors='k')\n",
    "plt.scatter(cos_distances, df2['z_out'], label='out of context', c='r', marker='x')\n",
    "plt.xlabel('Mean cosine distance of representations in training context')\n",
    "plt.ylabel('Change in top-1 accuracy')\n",
    "plt.legend(title='Source of test examples')\n",
    "plt.savefig('simcontexts_acc_change.png', dpi=600)\n",
    "plt.show()"
   ]
  },
  {
   "cell_type": "code",
   "execution_count": null,
   "metadata": {},
   "outputs": [],
   "source": []
  }
 ],
 "metadata": {
  "kernelspec": {
   "display_name": "Python 3",
   "language": "python",
   "name": "python3"
  },
  "language_info": {
   "codemirror_mode": {
    "name": "ipython",
    "version": 3
   },
   "file_extension": ".py",
   "mimetype": "text/x-python",
   "name": "python",
   "nbconvert_exporter": "python",
   "pygments_lexer": "ipython3",
   "version": "3.7.0"
  }
 },
 "nbformat": 4,
 "nbformat_minor": 2
}
