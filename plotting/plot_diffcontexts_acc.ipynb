{
 "cells": [
  {
   "cell_type": "code",
   "execution_count": 1,
   "metadata": {},
   "outputs": [],
   "source": [
    "import numpy as np\n",
    "import pandas as pd\n",
    "import matplotlib.pyplot as plt"
   ]
  },
  {
   "cell_type": "code",
   "execution_count": 2,
   "metadata": {},
   "outputs": [
    {
     "data": {
      "text/html": [
       "<div>\n",
       "<style scoped>\n",
       "    .dataframe tbody tr th:only-of-type {\n",
       "        vertical-align: middle;\n",
       "    }\n",
       "\n",
       "    .dataframe tbody tr th {\n",
       "        vertical-align: top;\n",
       "    }\n",
       "\n",
       "    .dataframe thead th {\n",
       "        text-align: right;\n",
       "    }\n",
       "</style>\n",
       "<table border=\"1\" class=\"dataframe\">\n",
       "  <thead>\n",
       "    <tr style=\"text-align: right;\">\n",
       "      <th></th>\n",
       "      <th>wnids</th>\n",
       "      <th>num_examples</th>\n",
       "      <th>num_correct</th>\n",
       "      <th>incontext_acc</th>\n",
       "      <th>outofcontext_acc</th>\n",
       "    </tr>\n",
       "  </thead>\n",
       "  <tbody>\n",
       "    <tr>\n",
       "      <th>0</th>\n",
       "      <td>['n11939491', 'n13044778', 'n12057211', 'n0202...</td>\n",
       "      <td>2416</td>\n",
       "      <td>2279</td>\n",
       "      <td>0.943295</td>\n",
       "      <td>0.630854</td>\n",
       "    </tr>\n",
       "    <tr>\n",
       "      <th>1</th>\n",
       "      <td>['n02606052', 'n01518878', 'n03888257', 'n0238...</td>\n",
       "      <td>2422</td>\n",
       "      <td>2171</td>\n",
       "      <td>0.896367</td>\n",
       "      <td>0.633294</td>\n",
       "    </tr>\n",
       "    <tr>\n",
       "      <th>2</th>\n",
       "      <td>['n12267677', 'n02422106', 'n02417914', 'n0433...</td>\n",
       "      <td>2416</td>\n",
       "      <td>2067</td>\n",
       "      <td>0.855546</td>\n",
       "      <td>0.635481</td>\n",
       "    </tr>\n",
       "    <tr>\n",
       "      <th>3</th>\n",
       "      <td>['n02128757', 'n02447366', 'n01531178', 'n0248...</td>\n",
       "      <td>2445</td>\n",
       "      <td>2024</td>\n",
       "      <td>0.827812</td>\n",
       "      <td>0.636822</td>\n",
       "    </tr>\n",
       "    <tr>\n",
       "      <th>4</th>\n",
       "      <td>['n02110806', 'n02074367', 'n02051845', 'n0170...</td>\n",
       "      <td>2393</td>\n",
       "      <td>1912</td>\n",
       "      <td>0.798997</td>\n",
       "      <td>0.638543</td>\n",
       "    </tr>\n",
       "  </tbody>\n",
       "</table>\n",
       "</div>"
      ],
      "text/plain": [
       "                                               wnids  num_examples  \\\n",
       "0  ['n11939491', 'n13044778', 'n12057211', 'n0202...          2416   \n",
       "1  ['n02606052', 'n01518878', 'n03888257', 'n0238...          2422   \n",
       "2  ['n12267677', 'n02422106', 'n02417914', 'n0433...          2416   \n",
       "3  ['n02128757', 'n02447366', 'n01531178', 'n0248...          2445   \n",
       "4  ['n02110806', 'n02074367', 'n02051845', 'n0170...          2393   \n",
       "\n",
       "   num_correct  incontext_acc  outofcontext_acc  \n",
       "0         2279       0.943295          0.630854  \n",
       "1         2171       0.896367          0.633294  \n",
       "2         2067       0.855546          0.635481  \n",
       "3         2024       0.827812          0.636822  \n",
       "4         1912       0.798997          0.638543  "
      ]
     },
     "execution_count": 2,
     "metadata": {},
     "output_type": "execute_result"
    }
   ],
   "source": [
    "path = '/Users/fbickfordsmith/Google Drive/Project/'\n",
    "df0 = pd.read_csv(path+'attention/contexts/diffcontexts_stats.csv', index_col=0)\n",
    "df0.head(5)"
   ]
  },
  {
   "cell_type": "code",
   "execution_count": 3,
   "metadata": {},
   "outputs": [
    {
     "data": {
      "text/html": [
       "<div>\n",
       "<style scoped>\n",
       "    .dataframe tbody tr th:only-of-type {\n",
       "        vertical-align: middle;\n",
       "    }\n",
       "\n",
       "    .dataframe tbody tr th {\n",
       "        vertical-align: top;\n",
       "    }\n",
       "\n",
       "    .dataframe thead th {\n",
       "        text-align: right;\n",
       "    }\n",
       "</style>\n",
       "<table border=\"1\" class=\"dataframe\">\n",
       "  <thead>\n",
       "    <tr style=\"text-align: right;\">\n",
       "      <th></th>\n",
       "      <th>incontext_loss</th>\n",
       "      <th>incontext_acc</th>\n",
       "      <th>incontext_top_k_categorical_accuracy</th>\n",
       "      <th>outofcontext_loss</th>\n",
       "      <th>outofcontext_acc</th>\n",
       "      <th>outofcontext_top_k_categorical_accuracy</th>\n",
       "      <th>alldata_loss</th>\n",
       "      <th>alldata_acc</th>\n",
       "      <th>alldata_top_k_categorical_accuracy</th>\n",
       "    </tr>\n",
       "  </thead>\n",
       "  <tbody>\n",
       "    <tr>\n",
       "      <th>0</th>\n",
       "      <td>0.295810</td>\n",
       "      <td>0.945364</td>\n",
       "      <td>0.977235</td>\n",
       "      <td>1.555920</td>\n",
       "      <td>0.630808</td>\n",
       "      <td>0.851078</td>\n",
       "      <td>1.491493</td>\n",
       "      <td>0.646876</td>\n",
       "      <td>0.857540</td>\n",
       "    </tr>\n",
       "    <tr>\n",
       "      <th>1</th>\n",
       "      <td>0.440089</td>\n",
       "      <td>0.902560</td>\n",
       "      <td>0.964905</td>\n",
       "      <td>1.548336</td>\n",
       "      <td>0.632572</td>\n",
       "      <td>0.851595</td>\n",
       "      <td>1.491496</td>\n",
       "      <td>0.646420</td>\n",
       "      <td>0.857415</td>\n",
       "    </tr>\n",
       "    <tr>\n",
       "      <th>2</th>\n",
       "      <td>0.610536</td>\n",
       "      <td>0.860513</td>\n",
       "      <td>0.947020</td>\n",
       "      <td>1.537564</td>\n",
       "      <td>0.634963</td>\n",
       "      <td>0.852537</td>\n",
       "      <td>1.489797</td>\n",
       "      <td>0.646586</td>\n",
       "      <td>0.857415</td>\n",
       "    </tr>\n",
       "    <tr>\n",
       "      <th>3</th>\n",
       "      <td>0.644338</td>\n",
       "      <td>0.851125</td>\n",
       "      <td>0.944785</td>\n",
       "      <td>1.538662</td>\n",
       "      <td>0.635266</td>\n",
       "      <td>0.852928</td>\n",
       "      <td>1.492434</td>\n",
       "      <td>0.646420</td>\n",
       "      <td>0.857685</td>\n",
       "    </tr>\n",
       "    <tr>\n",
       "      <th>4</th>\n",
       "      <td>0.832869</td>\n",
       "      <td>0.810698</td>\n",
       "      <td>0.928542</td>\n",
       "      <td>1.519773</td>\n",
       "      <td>0.638745</td>\n",
       "      <td>0.854211</td>\n",
       "      <td>1.484036</td>\n",
       "      <td>0.647684</td>\n",
       "      <td>0.858079</td>\n",
       "    </tr>\n",
       "  </tbody>\n",
       "</table>\n",
       "</div>"
      ],
      "text/plain": [
       "   incontext_loss  incontext_acc  incontext_top_k_categorical_accuracy  \\\n",
       "0        0.295810       0.945364                              0.977235   \n",
       "1        0.440089       0.902560                              0.964905   \n",
       "2        0.610536       0.860513                              0.947020   \n",
       "3        0.644338       0.851125                              0.944785   \n",
       "4        0.832869       0.810698                              0.928542   \n",
       "\n",
       "   outofcontext_loss  outofcontext_acc  \\\n",
       "0           1.555920          0.630808   \n",
       "1           1.548336          0.632572   \n",
       "2           1.537564          0.634963   \n",
       "3           1.538662          0.635266   \n",
       "4           1.519773          0.638745   \n",
       "\n",
       "   outofcontext_top_k_categorical_accuracy  alldata_loss  alldata_acc  \\\n",
       "0                                 0.851078      1.491493     0.646876   \n",
       "1                                 0.851595      1.491496     0.646420   \n",
       "2                                 0.852537      1.489797     0.646586   \n",
       "3                                 0.852928      1.492434     0.646420   \n",
       "4                                 0.854211      1.484036     0.647684   \n",
       "\n",
       "   alldata_top_k_categorical_accuracy  \n",
       "0                            0.857540  \n",
       "1                            0.857415  \n",
       "2                            0.857415  \n",
       "3                            0.857685  \n",
       "4                            0.858079  "
      ]
     },
     "execution_count": 3,
     "metadata": {},
     "output_type": "execute_result"
    }
   ],
   "source": [
    "df1 = pd.read_csv(path+'attention/results/diffcontexts_trained_metrics.csv', index_col=0)\n",
    "df1.head(5)"
   ]
  },
  {
   "cell_type": "code",
   "execution_count": 4,
   "metadata": {},
   "outputs": [],
   "source": [
    "df2 = pd.DataFrame()\n",
    "df2['x'] = df0['incontext_acc']\n",
    "df2['y_in'] = df1['incontext_acc'] - df0['incontext_acc']\n",
    "df2['y_out'] = df1['outofcontext_acc'] - df0['outofcontext_acc']\n",
    "df2.sort_values(by='x', inplace=True)"
   ]
  },
  {
   "cell_type": "code",
   "execution_count": 21,
   "metadata": {},
   "outputs": [
    {
     "data": {
      "image/png": "[encoded data removed]",
      "text/plain": [
       "<Figure size 432x288 with 1 Axes>"
      ]
     },
     "metadata": {
      "needs_background": "light"
     },
     "output_type": "display_data"
    }
   ],
   "source": [
    "plt.scatter(df2['x'], df2['y_in'], label='in context', marker='o', facecolors='none', edgecolors='k')\n",
    "plt.scatter(df2['x'], df2['y_out'], label='out of context', c='r', marker='x')\n",
    "plt.xlabel('Base-model accuracy in training context')\n",
    "plt.ylabel('Change in top-1 accuracy')\n",
    "plt.legend(title='Source of test examples')\n",
    "plt.savefig('diffcontexts_acc_change_br.png', dpi=600)\n",
    "plt.show()"
   ]
  },
  {
   "cell_type": "code",
   "execution_count": 16,
   "metadata": {},
   "outputs": [
    {
     "data": {
      "text/plain": [
       "[3, 2, 2, 6, 2, 5, 4, 2, 3, 3, 3, 10, 3, 3, 5, 4, 4, 5, 2, 3]"
      ]
     },
     "execution_count": 16,
     "metadata": {},
     "output_type": "execute_result"
    }
   ],
   "source": [
    "path_training = '/Users/fbickfordsmith/Google Drive/Project/attention/training/'\n",
    "num_epochs = [len(pd.read_csv(path_training+f'diffcontext{i:02}_training.csv', index_col=0)) for i in range(20)]\n",
    "num_epochs"
   ]
  },
  {
   "cell_type": "code",
   "execution_count": 17,
   "metadata": {},
   "outputs": [
    {
     "data": {
      "image/png": "[encoded data removed]",
      "text/plain": [
       "<Figure size 432x288 with 1 Axes>"
      ]
     },
     "metadata": {
      "needs_background": "light"
     },
     "output_type": "display_data"
    }
   ],
   "source": [
    "plt.scatter(num_epochs, df2['y_in'])\n",
    "plt.xlabel('Number of epochs')\n",
    "plt.ylabel('Change in top-1 accuracy')\n",
    "plt.show()"
   ]
  },
  {
   "cell_type": "code",
   "execution_count": null,
   "metadata": {},
   "outputs": [],
   "source": []
  }
 ],
 "metadata": {
  "kernelspec": {
   "display_name": "Python 3",
   "language": "python",
   "name": "python3"
  },
  "language_info": {
   "codemirror_mode": {
    "name": "ipython",
    "version": 3
   },
   "file_extension": ".py",
   "mimetype": "text/x-python",
   "name": "python",
   "nbconvert_exporter": "python",
   "pygments_lexer": "ipython3",
   "version": "3.7.0"
  }
 },
 "nbformat": 4,
 "nbformat_minor": 2
}
