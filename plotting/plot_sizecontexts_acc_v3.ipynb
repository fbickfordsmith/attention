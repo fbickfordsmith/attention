{
 "cells": [
  {
   "cell_type": "code",
   "execution_count": 1,
   "metadata": {},
   "outputs": [],
   "source": [
    "import csv\n",
    "import numpy as np\n",
    "import pandas as pd\n",
    "import matplotlib.pyplot as plt\n",
    "from sklearn.metrics.pairwise import euclidean_distances, cosine_distances\n",
    "from scipy.spatial.distance import squareform"
   ]
  },
  {
   "cell_type": "code",
   "execution_count": 2,
   "metadata": {},
   "outputs": [],
   "source": [
    "path = '/Users/fbickfordsmith/Google Drive/Project/attention/'\n",
    "path_baseline = f'{path}results/baseline_classwise_acc.csv'\n",
    "path_synsets = f'{path}metadata/synsets.txt'\n",
    "path_activations = f'{path}activations/activations_mean.npy'"
   ]
  },
  {
   "cell_type": "code",
   "execution_count": 3,
   "metadata": {},
   "outputs": [],
   "source": [
    "df_baseline = pd.read_csv(path_baseline, index_col=0)\n",
    "wnids = open(path_synsets).read().splitlines()\n",
    "wnid2ind = {wnid:ind for ind, wnid in enumerate(wnids)}\n",
    "X = np.load(path_activations)"
   ]
  },
  {
   "cell_type": "code",
   "execution_count": 4,
   "metadata": {},
   "outputs": [],
   "source": [
    "def context_size(type_context):\n",
    "    with open(f'{path}contexts/{type_context}contexts_wnids.csv') as f:\n",
    "        contexts = [row for row in csv.reader(f, delimiter=',')]\n",
    "    return [len(c) for c in contexts]\n",
    "\n",
    "def context_baseline_accuracy(type_context):\n",
    "    with open(f'{path}contexts/{type_context}contexts_wnids.csv') as f:\n",
    "        contexts = [row for row in csv.reader(f, delimiter=',')]\n",
    "    stats = []\n",
    "    for c in contexts:\n",
    "        inds_in = [wnid2ind[w] for w in c]\n",
    "        inds_out = list(set(range(1000)) - set(inds_in))\n",
    "        stats.append([\n",
    "            np.mean(df_baseline['accuracy'][inds_in]),\n",
    "            np.mean(df_baseline['accuracy'][inds_out])])\n",
    "    return pd.DataFrame(stats, columns=('incontext_base', 'outofcontext_base'))\n",
    "\n",
    "def average_distance(Xdist):\n",
    "    if Xdist.shape == (1, 1):\n",
    "        return 0\n",
    "    else:\n",
    "        return np.mean(squareform(Xdist, checks=False))\n",
    "\n",
    "def context_distance(type_context, measure='euclidean'):\n",
    "    with open(f'{path}contexts/{type_context}contexts_wnids.csv') as f:\n",
    "        contexts = [row for row in csv.reader(f, delimiter=',')]\n",
    "\n",
    "    if measure == 'euclidean':\n",
    "        distance = euclidean_distances\n",
    "    else:\n",
    "        distance = cosine_distances\n",
    "    \n",
    "    stats = []\n",
    "    for c in contexts:\n",
    "        inds_in = [wnid2ind[w] for w in c]\n",
    "        stats.append(average_distance(distance(X[inds_in])))\n",
    "\n",
    "    return pd.Series(stats, name=f'mean_{measure}_distance')"
   ]
  },
  {
   "cell_type": "code",
   "execution_count": 5,
   "metadata": {},
   "outputs": [
    {
     "data": {
      "text/plain": [
       "[1, 2, 4, 8, 16, 32, 64, 128, 256]"
      ]
     },
     "execution_count": 5,
     "metadata": {},
     "output_type": "execute_result"
    }
   ],
   "source": [
    "context_size('size')"
   ]
  },
  {
   "cell_type": "code",
   "execution_count": 6,
   "metadata": {},
   "outputs": [
    {
     "data": {
      "text/html": [
       "<div>\n",
       "<style scoped>\n",
       "    .dataframe tbody tr th:only-of-type {\n",
       "        vertical-align: middle;\n",
       "    }\n",
       "\n",
       "    .dataframe tbody tr th {\n",
       "        vertical-align: top;\n",
       "    }\n",
       "\n",
       "    .dataframe thead th {\n",
       "        text-align: right;\n",
       "    }\n",
       "</style>\n",
       "<table border=\"1\" class=\"dataframe\">\n",
       "  <thead>\n",
       "    <tr style=\"text-align: right;\">\n",
       "      <th></th>\n",
       "      <th>incontext_base</th>\n",
       "      <th>outofcontext_base</th>\n",
       "    </tr>\n",
       "  </thead>\n",
       "  <tbody>\n",
       "    <tr>\n",
       "      <th>0</th>\n",
       "      <td>0.660000</td>\n",
       "      <td>0.646121</td>\n",
       "    </tr>\n",
       "    <tr>\n",
       "      <th>1</th>\n",
       "      <td>0.650000</td>\n",
       "      <td>0.646127</td>\n",
       "    </tr>\n",
       "    <tr>\n",
       "      <th>2</th>\n",
       "      <td>0.685707</td>\n",
       "      <td>0.645976</td>\n",
       "    </tr>\n",
       "    <tr>\n",
       "      <th>3</th>\n",
       "      <td>0.664634</td>\n",
       "      <td>0.645986</td>\n",
       "    </tr>\n",
       "    <tr>\n",
       "      <th>4</th>\n",
       "      <td>0.671334</td>\n",
       "      <td>0.645725</td>\n",
       "    </tr>\n",
       "    <tr>\n",
       "      <th>5</th>\n",
       "      <td>0.658227</td>\n",
       "      <td>0.645735</td>\n",
       "    </tr>\n",
       "    <tr>\n",
       "      <th>6</th>\n",
       "      <td>0.662271</td>\n",
       "      <td>0.645032</td>\n",
       "    </tr>\n",
       "    <tr>\n",
       "      <th>7</th>\n",
       "      <td>0.663694</td>\n",
       "      <td>0.643558</td>\n",
       "    </tr>\n",
       "    <tr>\n",
       "      <th>8</th>\n",
       "      <td>0.656843</td>\n",
       "      <td>0.642451</td>\n",
       "    </tr>\n",
       "  </tbody>\n",
       "</table>\n",
       "</div>"
      ],
      "text/plain": [
       "   incontext_base  outofcontext_base\n",
       "0        0.660000           0.646121\n",
       "1        0.650000           0.646127\n",
       "2        0.685707           0.645976\n",
       "3        0.664634           0.645986\n",
       "4        0.671334           0.645725\n",
       "5        0.658227           0.645735\n",
       "6        0.662271           0.645032\n",
       "7        0.663694           0.643558\n",
       "8        0.656843           0.642451"
      ]
     },
     "execution_count": 6,
     "metadata": {},
     "output_type": "execute_result"
    }
   ],
   "source": [
    "df0 = context_baseline_accuracy('size')\n",
    "df0"
   ]
  },
  {
   "cell_type": "code",
   "execution_count": 7,
   "metadata": {},
   "outputs": [
    {
     "data": {
      "text/html": [
       "<div>\n",
       "<style scoped>\n",
       "    .dataframe tbody tr th:only-of-type {\n",
       "        vertical-align: middle;\n",
       "    }\n",
       "\n",
       "    .dataframe tbody tr th {\n",
       "        vertical-align: top;\n",
       "    }\n",
       "\n",
       "    .dataframe thead th {\n",
       "        text-align: right;\n",
       "    }\n",
       "</style>\n",
       "<table border=\"1\" class=\"dataframe\">\n",
       "  <thead>\n",
       "    <tr style=\"text-align: right;\">\n",
       "      <th></th>\n",
       "      <th>incontext_loss</th>\n",
       "      <th>incontext_acc_top1</th>\n",
       "      <th>incontext_acc_top5</th>\n",
       "      <th>outofcontext_loss</th>\n",
       "      <th>outofcontext_acc_top1</th>\n",
       "      <th>outofcontext_acc_top5</th>\n",
       "    </tr>\n",
       "  </thead>\n",
       "  <tbody>\n",
       "    <tr>\n",
       "      <th>0</th>\n",
       "      <td>0.692736</td>\n",
       "      <td>0.800000</td>\n",
       "      <td>0.960000</td>\n",
       "      <td>1.513886</td>\n",
       "      <td>0.642421</td>\n",
       "      <td>0.854839</td>\n",
       "    </tr>\n",
       "    <tr>\n",
       "      <th>1</th>\n",
       "      <td>0.721023</td>\n",
       "      <td>0.840000</td>\n",
       "      <td>0.930000</td>\n",
       "      <td>1.538555</td>\n",
       "      <td>0.636026</td>\n",
       "      <td>0.852154</td>\n",
       "    </tr>\n",
       "    <tr>\n",
       "      <th>2</th>\n",
       "      <td>0.397371</td>\n",
       "      <td>0.895288</td>\n",
       "      <td>0.984293</td>\n",
       "      <td>1.632216</td>\n",
       "      <td>0.617000</td>\n",
       "      <td>0.840718</td>\n",
       "    </tr>\n",
       "    <tr>\n",
       "      <th>3</th>\n",
       "      <td>0.571786</td>\n",
       "      <td>0.890863</td>\n",
       "      <td>0.959391</td>\n",
       "      <td>1.846502</td>\n",
       "      <td>0.581055</td>\n",
       "      <td>0.820166</td>\n",
       "    </tr>\n",
       "    <tr>\n",
       "      <th>4</th>\n",
       "      <td>0.480532</td>\n",
       "      <td>0.903394</td>\n",
       "      <td>0.964752</td>\n",
       "      <td>2.238949</td>\n",
       "      <td>0.518306</td>\n",
       "      <td>0.779049</td>\n",
       "    </tr>\n",
       "    <tr>\n",
       "      <th>5</th>\n",
       "      <td>0.638553</td>\n",
       "      <td>0.847840</td>\n",
       "      <td>0.953578</td>\n",
       "      <td>2.292889</td>\n",
       "      <td>0.495406</td>\n",
       "      <td>0.769379</td>\n",
       "    </tr>\n",
       "    <tr>\n",
       "      <th>6</th>\n",
       "      <td>0.832527</td>\n",
       "      <td>0.807429</td>\n",
       "      <td>0.928967</td>\n",
       "      <td>2.085719</td>\n",
       "      <td>0.527618</td>\n",
       "      <td>0.794549</td>\n",
       "    </tr>\n",
       "    <tr>\n",
       "      <th>7</th>\n",
       "      <td>1.126315</td>\n",
       "      <td>0.727816</td>\n",
       "      <td>0.903022</td>\n",
       "      <td>1.592861</td>\n",
       "      <td>0.620294</td>\n",
       "      <td>0.848161</td>\n",
       "    </tr>\n",
       "    <tr>\n",
       "      <th>8</th>\n",
       "      <td>1.231286</td>\n",
       "      <td>0.708441</td>\n",
       "      <td>0.890625</td>\n",
       "      <td>1.581649</td>\n",
       "      <td>0.620178</td>\n",
       "      <td>0.851125</td>\n",
       "    </tr>\n",
       "  </tbody>\n",
       "</table>\n",
       "</div>"
      ],
      "text/plain": [
       "   incontext_loss  incontext_acc_top1  incontext_acc_top5  outofcontext_loss  \\\n",
       "0        0.692736            0.800000            0.960000           1.513886   \n",
       "1        0.721023            0.840000            0.930000           1.538555   \n",
       "2        0.397371            0.895288            0.984293           1.632216   \n",
       "3        0.571786            0.890863            0.959391           1.846502   \n",
       "4        0.480532            0.903394            0.964752           2.238949   \n",
       "5        0.638553            0.847840            0.953578           2.292889   \n",
       "6        0.832527            0.807429            0.928967           2.085719   \n",
       "7        1.126315            0.727816            0.903022           1.592861   \n",
       "8        1.231286            0.708441            0.890625           1.581649   \n",
       "\n",
       "   outofcontext_acc_top1  outofcontext_acc_top5  \n",
       "0               0.642421               0.854839  \n",
       "1               0.636026               0.852154  \n",
       "2               0.617000               0.840718  \n",
       "3               0.581055               0.820166  \n",
       "4               0.518306               0.779049  \n",
       "5               0.495406               0.769379  \n",
       "6               0.527618               0.794549  \n",
       "7               0.620294               0.848161  \n",
       "8               0.620178               0.851125  "
      ]
     },
     "execution_count": 7,
     "metadata": {},
     "output_type": "execute_result"
    }
   ],
   "source": [
    "df1 = pd.read_csv(f'{path}results/sizecontexts_trained_metrics.csv', index_col=0)\n",
    "df1"
   ]
  },
  {
   "cell_type": "code",
   "execution_count": 8,
   "metadata": {},
   "outputs": [
    {
     "data": {
      "text/plain": [
       "['seaborn-dark',\n",
       " 'seaborn-darkgrid',\n",
       " 'seaborn-ticks',\n",
       " 'fivethirtyeight',\n",
       " 'seaborn-whitegrid',\n",
       " 'classic',\n",
       " '_classic_test',\n",
       " 'fast',\n",
       " 'seaborn-talk',\n",
       " 'seaborn-dark-palette',\n",
       " 'seaborn-bright',\n",
       " 'seaborn-pastel',\n",
       " 'grayscale',\n",
       " 'seaborn-notebook',\n",
       " 'ggplot',\n",
       " 'seaborn-colorblind',\n",
       " 'seaborn-muted',\n",
       " 'seaborn',\n",
       " 'Solarize_Light2',\n",
       " 'seaborn-paper',\n",
       " 'bmh',\n",
       " 'tableau-colorblind10',\n",
       " 'seaborn-white',\n",
       " 'dark_background',\n",
       " 'seaborn-poster',\n",
       " 'seaborn-deep']"
      ]
     },
     "execution_count": 8,
     "metadata": {},
     "output_type": "execute_result"
    }
   ],
   "source": [
    "plt.style.available\n",
    "# https://matplotlib.org/3.1.1/gallery/style_sheets/style_sheets_reference.html"
   ]
  },
  {
   "cell_type": "code",
   "execution_count": 9,
   "metadata": {},
   "outputs": [],
   "source": [
    "scatter_styles = {\n",
    "    'in': dict(label='in context'),#, marker='o', facecolors='none', edgecolors='b'),\n",
    "    'out': dict(label='out of context')}#, facecolors='none', edgecolors='r')}#marker='x', facecolors='k')}"
   ]
  },
  {
   "cell_type": "code",
   "execution_count": 10,
   "metadata": {},
   "outputs": [],
   "source": [
    "plt.style.use('seaborn-bright')"
   ]
  },
  {
   "cell_type": "code",
   "execution_count": 11,
   "metadata": {},
   "outputs": [
    {
     "data": {
      "image/png": "[encoded data removed]",
      "text/plain": [
       "<Figure size 432x288 with 1 Axes>"
      ]
     },
     "metadata": {
      "needs_background": "light"
     },
     "output_type": "display_data"
    }
   ],
   "source": [
    "# fig = plt.figure()\n",
    "plt.scatter(context_size('size'), df1['incontext_acc_top1']-df0['incontext_base'], **scatter_styles['in'])\n",
    "plt.scatter(context_size('size'), df1['outofcontext_acc_top1']-df0['outofcontext_base'], **scatter_styles['out'])\n",
    "plt.legend(title='Source of test examples')\n",
    "plt.xlabel('Context size (number of classes)')\n",
    "plt.ylabel(r'$\\Delta$ accuracy')\n",
    "plt.show()"
   ]
  },
  {
   "cell_type": "code",
   "execution_count": null,
   "metadata": {},
   "outputs": [],
   "source": []
  }
 ],
 "metadata": {
  "kernelspec": {
   "display_name": "Python 3",
   "language": "python",
   "name": "python3"
  },
  "language_info": {
   "codemirror_mode": {
    "name": "ipython",
    "version": 3
   },
   "file_extension": ".py",
   "mimetype": "text/x-python",
   "name": "python",
   "nbconvert_exporter": "python",
   "pygments_lexer": "ipython3",
   "version": "3.7.0"
  }
 },
 "nbformat": 4,
 "nbformat_minor": 2
}
