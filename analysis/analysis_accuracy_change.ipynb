{
 "cells": [
  {
   "cell_type": "code",
   "execution_count": 1,
   "metadata": {},
   "outputs": [],
   "source": [
    "import numpy as np\n",
    "import pandas as pd\n",
    "import matplotlib\n",
    "import matplotlib.pyplot as plt\n",
    "from matplotlib.ticker import FormatStrFormatter\n",
    "\n",
    "import sys\n",
    "sys.path.append('..')\n",
    "from attention.utils.metadata import df_baseline\n",
    "from attention.utils.analysis import category_set_summary"
   ]
  },
  {
   "cell_type": "code",
   "execution_count": 2,
   "metadata": {},
   "outputs": [],
   "source": [
    "plt.style.use('seaborn-bright')\n",
    "colors = plt.rcParams['axes.prop_cycle'].by_key()['color']\n",
    "markers = ['o', 'D', 's', 'X']\n",
    "\n",
    "styles = {\n",
    "    '0': dict(marker=markers[0], color=colors[0]),\n",
    "    '1': dict(marker=markers[1], color=colors[1]),\n",
    "    'in': dict(label='in-set categories', marker=markers[0], color=colors[0]),\n",
    "    'out': dict(label='out-of-set categories', marker=markers[1], color=colors[1])}\n",
    "\n",
    "small = 8\n",
    "medium = 10\n",
    "big = 12\n",
    "\n",
    "plt.rc('font', size=medium) # default fontsize\n",
    "plt.rc('axes', titlesize=big) # fontsize of the axes title\n",
    "plt.rc('axes', labelsize=big) # fontsize of the x and y labels\n",
    "plt.rc('xtick', labelsize=big) # fontsize of the tick labels\n",
    "plt.rc('ytick', labelsize=big) # fontsize of the tick labels\n",
    "plt.rc('legend', fontsize=medium) # legend fontsize\n",
    "plt.rc('figure', titlesize=big) # fontsize of the figure title"
   ]
  },
  {
   "cell_type": "code",
   "execution_count": 3,
   "metadata": {},
   "outputs": [],
   "source": [
    "def scatter_line(ax, x, y, style):\n",
    "    ax.scatter(x, y, **style)\n",
    "    ax.vlines(x, ymin=0, ymax=y, color=style['color'])\n",
    "    \n",
    "def plot_change_acc(df, x):\n",
    "    fig, ax = plt.subplots()\n",
    "    scatter_line(ax, x, df['acc_change_in'], styles['in'])\n",
    "    scatter_line(ax, x, df['acc_change_out'], styles['out'])\n",
    "    plt.ylabel('Accuracy change')\n",
    "    plt.legend(title='Source of test examples')\n",
    "    plt.axhline(y=0, color='k', linestyle='--', linewidth=0.8)\n",
    "    plt.tight_layout()\n",
    "    return fig, ax"
   ]
  },
  {
   "cell_type": "markdown",
   "metadata": {},
   "source": [
    "### Semantic category sets"
   ]
  },
  {
   "cell_type": "code",
   "execution_count": 4,
   "metadata": {},
   "outputs": [
    {
     "data": {
      "text/html": [
       "<div>\n",
       "<style scoped>\n",
       "    .dataframe tbody tr th:only-of-type {\n",
       "        vertical-align: middle;\n",
       "    }\n",
       "\n",
       "    .dataframe tbody tr th {\n",
       "        vertical-align: top;\n",
       "    }\n",
       "\n",
       "    .dataframe thead th {\n",
       "        text-align: right;\n",
       "    }\n",
       "</style>\n",
       "<table border=\"1\" class=\"dataframe\">\n",
       "  <thead>\n",
       "    <tr style=\"text-align: right;\">\n",
       "      <th></th>\n",
       "      <th>label</th>\n",
       "      <th>size</th>\n",
       "      <th>similarity</th>\n",
       "      <th>acc_base_in</th>\n",
       "      <th>acc_base_out</th>\n",
       "      <th>acc_trained_in</th>\n",
       "      <th>acc_trained_out</th>\n",
       "      <th>acc_change_in</th>\n",
       "      <th>acc_change_out</th>\n",
       "      <th>num_epochs</th>\n",
       "    </tr>\n",
       "  </thead>\n",
       "  <tbody>\n",
       "    <tr>\n",
       "      <th>0</th>\n",
       "      <td>kitchen</td>\n",
       "      <td>35</td>\n",
       "      <td>0.446404</td>\n",
       "      <td>0.512857</td>\n",
       "      <td>0.650902</td>\n",
       "      <td>0.670401</td>\n",
       "      <td>0.527051</td>\n",
       "      <td>0.157544</td>\n",
       "      <td>-0.123851</td>\n",
       "      <td>92</td>\n",
       "    </tr>\n",
       "    <tr>\n",
       "      <th>1</th>\n",
       "      <td>dogs</td>\n",
       "      <td>129</td>\n",
       "      <td>0.553892</td>\n",
       "      <td>0.661008</td>\n",
       "      <td>0.643858</td>\n",
       "      <td>0.684884</td>\n",
       "      <td>0.621002</td>\n",
       "      <td>0.023877</td>\n",
       "      <td>-0.022856</td>\n",
       "      <td>31</td>\n",
       "    </tr>\n",
       "    <tr>\n",
       "      <th>2</th>\n",
       "      <td>cats</td>\n",
       "      <td>13</td>\n",
       "      <td>0.854177</td>\n",
       "      <td>0.708462</td>\n",
       "      <td>0.645248</td>\n",
       "      <td>0.782407</td>\n",
       "      <td>0.582139</td>\n",
       "      <td>0.073946</td>\n",
       "      <td>-0.063109</td>\n",
       "      <td>134</td>\n",
       "    </tr>\n",
       "    <tr>\n",
       "      <th>3</th>\n",
       "      <td>wearable</td>\n",
       "      <td>56</td>\n",
       "      <td>0.432272</td>\n",
       "      <td>0.535536</td>\n",
       "      <td>0.652627</td>\n",
       "      <td>0.660537</td>\n",
       "      <td>0.543158</td>\n",
       "      <td>0.125001</td>\n",
       "      <td>-0.109469</td>\n",
       "      <td>71</td>\n",
       "    </tr>\n",
       "    <tr>\n",
       "      <th>4</th>\n",
       "      <td>transport</td>\n",
       "      <td>45</td>\n",
       "      <td>0.428524</td>\n",
       "      <td>0.716000</td>\n",
       "      <td>0.642775</td>\n",
       "      <td>0.773848</td>\n",
       "      <td>0.599449</td>\n",
       "      <td>0.057848</td>\n",
       "      <td>-0.043326</td>\n",
       "      <td>65</td>\n",
       "    </tr>\n",
       "    <tr>\n",
       "      <th>5</th>\n",
       "      <td>birds</td>\n",
       "      <td>60</td>\n",
       "      <td>0.534972</td>\n",
       "      <td>0.824833</td>\n",
       "      <td>0.634660</td>\n",
       "      <td>0.863222</td>\n",
       "      <td>0.605363</td>\n",
       "      <td>0.038389</td>\n",
       "      <td>-0.029297</td>\n",
       "      <td>53</td>\n",
       "    </tr>\n",
       "  </tbody>\n",
       "</table>\n",
       "</div>"
      ],
      "text/plain": [
       "       label  size  similarity  acc_base_in  acc_base_out  acc_trained_in  \\\n",
       "0    kitchen    35    0.446404     0.512857      0.650902        0.670401   \n",
       "1       dogs   129    0.553892     0.661008      0.643858        0.684884   \n",
       "2       cats    13    0.854177     0.708462      0.645248        0.782407   \n",
       "3   wearable    56    0.432272     0.535536      0.652627        0.660537   \n",
       "4  transport    45    0.428524     0.716000      0.642775        0.773848   \n",
       "5      birds    60    0.534972     0.824833      0.634660        0.863222   \n",
       "\n",
       "   acc_trained_out  acc_change_in  acc_change_out  num_epochs  \n",
       "0         0.527051       0.157544       -0.123851          92  \n",
       "1         0.621002       0.023877       -0.022856          31  \n",
       "2         0.582139       0.073946       -0.063109         134  \n",
       "3         0.543158       0.125001       -0.109469          71  \n",
       "4         0.599449       0.057848       -0.043326          65  \n",
       "5         0.605363       0.038389       -0.029297          53  "
      ]
     },
     "execution_count": 4,
     "metadata": {},
     "output_type": "execute_result"
    }
   ],
   "source": [
    "sem_labels = ['kitchen', 'dogs', 'cats', 'wearable', 'transport', 'birds']\n",
    "sem_labels_plot = ['', 'kitchen\\nitems', 'dogs', 'cats', 'wearable\\nitems', 'land\\ntransport', 'birds']\n",
    "df_sem = category_set_summary(type_category_set='sem', version_wnids=2, version_weights=9)\n",
    "df_sem.insert(0, 'label', sem_labels)\n",
    "df_sem"
   ]
  },
  {
   "cell_type": "code",
   "execution_count": 5,
   "metadata": {},
   "outputs": [],
   "source": [
    "df_sem_sorted = df_sem.sort_values(by='acc_change_in', ascending=False)"
   ]
  },
  {
   "cell_type": "code",
   "execution_count": 6,
   "metadata": {},
   "outputs": [
    {
     "data": {
      "image/png": "[encoded data removed]",
      "text/plain": [
       "<Figure size 432x288 with 1 Axes>"
      ]
     },
     "metadata": {
      "needs_background": "light"
     },
     "output_type": "display_data"
    }
   ],
   "source": [
    "fig, ax = plot_change_acc(df_sem_sorted, range(len(df_sem_sorted)))\n",
    "labels_sorted = list(df_sem_sorted['label'])\n",
    "labels_sorted_plot = ['', 'kitchen\\nitems', 'wearable\\nitems', 'cats', 'land\\ntransport', 'birds', 'dogs']\n",
    "ax.set_xticklabels(labels_sorted_plot)\n",
    "plt.xlabel('Category set', labelpad=10)\n",
    "ax.yaxis.set_major_formatter(FormatStrFormatter('%.2f'))\n",
    "plt.tight_layout()\n",
    "# plt.savefig('sem_acc.pdf')\n",
    "plt.show()"
   ]
  },
  {
   "cell_type": "code",
   "execution_count": 7,
   "metadata": {},
   "outputs": [
    {
     "data": {
      "text/plain": [
       "0.047337291994678045"
      ]
     },
     "execution_count": 7,
     "metadata": {},
     "output_type": "execute_result"
    }
   ],
   "source": [
    "np.std(df_sem['acc_change_in'])"
   ]
  },
  {
   "cell_type": "code",
   "execution_count": 8,
   "metadata": {},
   "outputs": [
    {
     "data": {
      "image/png": "[encoded data removed]",
      "text/plain": [
       "<Figure size 1008x252 with 3 Axes>"
      ]
     },
     "metadata": {
      "needs_background": "light"
     },
     "output_type": "display_data"
    }
   ],
   "source": [
    "fig, ax = plt.subplots(1, 3, figsize=(14, 3.5))\n",
    "\n",
    "scatter_line(ax[1], range(len(df_sem_sorted)), df_sem_sorted['size'], styles['in'])\n",
    "scatter_line(ax[0], range(len(df_sem_sorted)), 1-df_sem_sorted['acc_base_in'], styles['in'])\n",
    "scatter_line(ax[2], range(len(df_sem_sorted)), df_sem_sorted['similarity'], styles['in'])\n",
    "\n",
    "size_lims = (0, 150)\n",
    "diff_lims = (0, 0.6)\n",
    "sim_lims = (0, 1)\n",
    "\n",
    "ax[1].set_ylabel('Size', labelpad=-15)\n",
    "ax[1].set_yticks(size_lims)\n",
    "ax[1].set_ylim(size_lims)\n",
    "ax[0].set_ylabel('Difficulty', labelpad=-15)\n",
    "ax[0].set_yticks(diff_lims)\n",
    "ax[0].set_ylim(diff_lims)\n",
    "ax[2].set_ylabel('Similarity', labelpad=-5)\n",
    "ax[2].set_yticks(sim_lims)\n",
    "ax[2].set_ylim(sim_lims)\n",
    "\n",
    "for a in ax:\n",
    "    a.set_xticklabels(labels_sorted_plot)\n",
    "    a.set_xlabel('Category set', labelpad=10)\n",
    "    \n",
    "plt.tight_layout()\n",
    "# plt.savefig('sem_stats.pdf')\n",
    "plt.show()"
   ]
  },
  {
   "cell_type": "markdown",
   "metadata": {},
   "source": [
    "### Difficulty-based category sets"
   ]
  },
  {
   "cell_type": "code",
   "execution_count": 9,
   "metadata": {},
   "outputs": [
    {
     "data": {
      "image/png": "[encoded data removed]",
      "text/plain": [
       "<Figure size 432x288 with 1 Axes>"
      ]
     },
     "metadata": {
      "needs_background": "light"
     },
     "output_type": "display_data"
    }
   ],
   "source": [
    "fig, ax = plt.subplots()\n",
    "plt.plot(range(1000), sorted(df_baseline['accuracy']))\n",
    "plt.xticks((0, 999))\n",
    "ax.set_xticklabels((1, 1000))\n",
    "# plt.ylim((0, 1))\n",
    "plt.ylim(bottom=0)\n",
    "plt.xlabel('Category')\n",
    "plt.ylabel('Accuracy')\n",
    "plt.tight_layout()\n",
    "plt.show()"
   ]
  },
  {
   "cell_type": "code",
   "execution_count": 10,
   "metadata": {},
   "outputs": [
    {
     "data": {
      "image/png": "[encoded data removed]",
      "text/plain": [
       "<Figure size 432x288 with 1 Axes>"
      ]
     },
     "metadata": {
      "needs_background": "light"
     },
     "output_type": "display_data"
    }
   ],
   "source": [
    "plt.hist(1-df_baseline['accuracy'], bins=20, alpha=0.7)\n",
    "plt.axvline(np.mean(1-df_baseline['accuracy']), color='k', linestyle='--', label='mean')\n",
    "plt.xlim((0, 1))\n",
    "plt.xlabel('Difficulty')\n",
    "plt.ylabel('Number of categories')\n",
    "plt.legend()\n",
    "plt.tight_layout()\n",
    "plt.show()"
   ]
  },
  {
   "cell_type": "code",
   "execution_count": 11,
   "metadata": {},
   "outputs": [],
   "source": [
    "df_diff = category_set_summary(type_category_set='diff', version_wnids=2, version_weights=3)"
   ]
  },
  {
   "cell_type": "code",
   "execution_count": 12,
   "metadata": {},
   "outputs": [
    {
     "data": {
      "image/png": "[encoded data removed]",
      "text/plain": [
       "<Figure size 324x180 with 1 Axes>"
      ]
     },
     "metadata": {
      "needs_background": "light"
     },
     "output_type": "display_data"
    }
   ],
   "source": [
    "fig, ax = plt.subplots(figsize=(4.5, 2.5))\n",
    "plt.scatter(\n",
    "    1-df_diff['acc_base_in'][:20],\n",
    "    np.ones(20),\n",
    "    **styles['0'],\n",
    "    label=r'$\\mathcal{A}_1, \\dots, \\mathcal{A}_{20}$')\n",
    "plt.scatter(\n",
    "    1-df_diff['acc_base_in'][20:],\n",
    "    2*np.ones(5),\n",
    "    **styles['1'],\n",
    "    label=r'$\\mathcal{A}_{21}, \\dots, \\mathcal{A}_{25}$')\n",
    "plt.xlim(left=0)\n",
    "plt.ylim((0, 3))\n",
    "plt.xlabel('Difficulty')\n",
    "plt.gca().axes.get_yaxis().set_visible(False)\n",
    "plt.legend(loc='upper left')\n",
    "plt.tight_layout()\n",
    "# plt.savefig('diff_coverage.pdf')\n",
    "plt.show()"
   ]
  },
  {
   "cell_type": "code",
   "execution_count": 13,
   "metadata": {},
   "outputs": [
    {
     "data": {
      "image/png": "[encoded data removed]",
      "text/plain": [
       "<Figure size 792x288 with 2 Axes>"
      ]
     },
     "metadata": {
      "needs_background": "light"
     },
     "output_type": "display_data"
    }
   ],
   "source": [
    "fig, ax = plt.subplots(1, 2, figsize=(11, 4))\n",
    "\n",
    "x = list(1-df_diff['acc_base_in'])\n",
    "\n",
    "ax[0].scatter(x, df_diff['acc_base_in'], **styles['0'], label='before training')\n",
    "ax[0].scatter(x, df_diff['acc_trained_in'], **styles['1'], label='after training')\n",
    "scatter_line(ax[1], x, df_diff['acc_change_in'], styles['in'])\n",
    "scatter_line(ax[1], x, df_diff['acc_change_out'], styles['out'])\n",
    "\n",
    "ax[1].set_ylabel('Accuracy change', labelpad=-5)\n",
    "ax[0].set_ylabel('Accuracy (in-set categories)')\n",
    "ax[1].legend(title='Source of test examples')\n",
    "ax[0].legend()\n",
    "ax[1].axhline(y=0, color='k', linestyle='--', linewidth=0.8)\n",
    "ax[0].set_ylim(bottom=0)\n",
    "\n",
    "for a in ax:\n",
    "    a.set_xlabel('Difficulty')\n",
    "    a.set_xlim(left=0)\n",
    "    \n",
    "plt.tight_layout()\n",
    "# plt.savefig('diff_acc.pdf')\n",
    "plt.show()"
   ]
  },
  {
   "cell_type": "markdown",
   "metadata": {},
   "source": [
    "### Size-based category sets"
   ]
  },
  {
   "cell_type": "code",
   "execution_count": 14,
   "metadata": {},
   "outputs": [
    {
     "data": {
      "text/html": [
       "<div>\n",
       "<style scoped>\n",
       "    .dataframe tbody tr th:only-of-type {\n",
       "        vertical-align: middle;\n",
       "    }\n",
       "\n",
       "    .dataframe tbody tr th {\n",
       "        vertical-align: top;\n",
       "    }\n",
       "\n",
       "    .dataframe thead th {\n",
       "        text-align: right;\n",
       "    }\n",
       "</style>\n",
       "<table border=\"1\" class=\"dataframe\">\n",
       "  <thead>\n",
       "    <tr style=\"text-align: right;\">\n",
       "      <th></th>\n",
       "      <th>size</th>\n",
       "      <th>similarity</th>\n",
       "      <th>acc_base_in</th>\n",
       "      <th>acc_base_out</th>\n",
       "      <th>acc_trained_in</th>\n",
       "      <th>acc_trained_out</th>\n",
       "      <th>acc_change_in</th>\n",
       "      <th>acc_change_out</th>\n",
       "      <th>num_epochs</th>\n",
       "    </tr>\n",
       "  </thead>\n",
       "  <tbody>\n",
       "    <tr>\n",
       "      <th>1</th>\n",
       "      <td>2</td>\n",
       "      <td>0.471780</td>\n",
       "      <td>0.630000</td>\n",
       "      <td>0.646102</td>\n",
       "      <td>0.949495</td>\n",
       "      <td>0.586551</td>\n",
       "      <td>0.319495</td>\n",
       "      <td>-0.059551</td>\n",
       "      <td>300</td>\n",
       "    </tr>\n",
       "    <tr>\n",
       "      <th>2</th>\n",
       "      <td>4</td>\n",
       "      <td>0.460416</td>\n",
       "      <td>0.627500</td>\n",
       "      <td>0.646145</td>\n",
       "      <td>0.973545</td>\n",
       "      <td>0.517930</td>\n",
       "      <td>0.346045</td>\n",
       "      <td>-0.128215</td>\n",
       "      <td>300</td>\n",
       "    </tr>\n",
       "    <tr>\n",
       "      <th>3</th>\n",
       "      <td>8</td>\n",
       "      <td>0.402342</td>\n",
       "      <td>0.645000</td>\n",
       "      <td>0.646079</td>\n",
       "      <td>0.951872</td>\n",
       "      <td>0.387327</td>\n",
       "      <td>0.306872</td>\n",
       "      <td>-0.258752</td>\n",
       "      <td>300</td>\n",
       "    </tr>\n",
       "    <tr>\n",
       "      <th>4</th>\n",
       "      <td>16</td>\n",
       "      <td>0.382833</td>\n",
       "      <td>0.665000</td>\n",
       "      <td>0.645762</td>\n",
       "      <td>0.898417</td>\n",
       "      <td>0.444692</td>\n",
       "      <td>0.233417</td>\n",
       "      <td>-0.201070</td>\n",
       "      <td>174</td>\n",
       "    </tr>\n",
       "    <tr>\n",
       "      <th>5</th>\n",
       "      <td>32</td>\n",
       "      <td>0.424631</td>\n",
       "      <td>0.655625</td>\n",
       "      <td>0.645754</td>\n",
       "      <td>0.845651</td>\n",
       "      <td>0.469524</td>\n",
       "      <td>0.190026</td>\n",
       "      <td>-0.176230</td>\n",
       "      <td>137</td>\n",
       "    </tr>\n",
       "  </tbody>\n",
       "</table>\n",
       "</div>"
      ],
      "text/plain": [
       "   size  similarity  acc_base_in  acc_base_out  acc_trained_in  \\\n",
       "1     2    0.471780     0.630000      0.646102        0.949495   \n",
       "2     4    0.460416     0.627500      0.646145        0.973545   \n",
       "3     8    0.402342     0.645000      0.646079        0.951872   \n",
       "4    16    0.382833     0.665000      0.645762        0.898417   \n",
       "5    32    0.424631     0.655625      0.645754        0.845651   \n",
       "\n",
       "   acc_trained_out  acc_change_in  acc_change_out  num_epochs  \n",
       "1         0.586551       0.319495       -0.059551         300  \n",
       "2         0.517930       0.346045       -0.128215         300  \n",
       "3         0.387327       0.306872       -0.258752         300  \n",
       "4         0.444692       0.233417       -0.201070         174  \n",
       "5         0.469524       0.190026       -0.176230         137  "
      ]
     },
     "execution_count": 14,
     "metadata": {},
     "output_type": "execute_result"
    }
   ],
   "source": [
    "df_size_v6 = category_set_summary(type_category_set='size', version_wnids=4, version_weights=6).iloc[1:]\n",
    "df_size_v6.head()"
   ]
  },
  {
   "cell_type": "code",
   "execution_count": 15,
   "metadata": {},
   "outputs": [
    {
     "data": {
      "text/html": [
       "<div>\n",
       "<style scoped>\n",
       "    .dataframe tbody tr th:only-of-type {\n",
       "        vertical-align: middle;\n",
       "    }\n",
       "\n",
       "    .dataframe tbody tr th {\n",
       "        vertical-align: top;\n",
       "    }\n",
       "\n",
       "    .dataframe thead th {\n",
       "        text-align: right;\n",
       "    }\n",
       "</style>\n",
       "<table border=\"1\" class=\"dataframe\">\n",
       "  <thead>\n",
       "    <tr style=\"text-align: right;\">\n",
       "      <th></th>\n",
       "      <th>size</th>\n",
       "      <th>similarity</th>\n",
       "      <th>acc_base_in</th>\n",
       "      <th>acc_base_out</th>\n",
       "      <th>acc_trained_in</th>\n",
       "      <th>acc_trained_out</th>\n",
       "      <th>acc_change_in</th>\n",
       "      <th>acc_change_out</th>\n",
       "      <th>num_epochs</th>\n",
       "    </tr>\n",
       "  </thead>\n",
       "  <tbody>\n",
       "    <tr>\n",
       "      <th>1</th>\n",
       "      <td>2</td>\n",
       "      <td>0.298697</td>\n",
       "      <td>0.670000</td>\n",
       "      <td>0.646022</td>\n",
       "      <td>0.940000</td>\n",
       "      <td>0.589368</td>\n",
       "      <td>0.270000</td>\n",
       "      <td>-0.056654</td>\n",
       "      <td>300</td>\n",
       "    </tr>\n",
       "    <tr>\n",
       "      <th>2</th>\n",
       "      <td>4</td>\n",
       "      <td>0.345680</td>\n",
       "      <td>0.622500</td>\n",
       "      <td>0.646165</td>\n",
       "      <td>0.956989</td>\n",
       "      <td>0.455257</td>\n",
       "      <td>0.334489</td>\n",
       "      <td>-0.190908</td>\n",
       "      <td>300</td>\n",
       "    </tr>\n",
       "    <tr>\n",
       "      <th>3</th>\n",
       "      <td>8</td>\n",
       "      <td>0.473047</td>\n",
       "      <td>0.658750</td>\n",
       "      <td>0.645968</td>\n",
       "      <td>0.945736</td>\n",
       "      <td>0.461182</td>\n",
       "      <td>0.286986</td>\n",
       "      <td>-0.184786</td>\n",
       "      <td>300</td>\n",
       "    </tr>\n",
       "    <tr>\n",
       "      <th>4</th>\n",
       "      <td>16</td>\n",
       "      <td>0.441069</td>\n",
       "      <td>0.657500</td>\n",
       "      <td>0.645884</td>\n",
       "      <td>0.886889</td>\n",
       "      <td>0.425643</td>\n",
       "      <td>0.229389</td>\n",
       "      <td>-0.220242</td>\n",
       "      <td>197</td>\n",
       "    </tr>\n",
       "    <tr>\n",
       "      <th>5</th>\n",
       "      <td>32</td>\n",
       "      <td>0.440449</td>\n",
       "      <td>0.658438</td>\n",
       "      <td>0.645661</td>\n",
       "      <td>0.847413</td>\n",
       "      <td>0.476740</td>\n",
       "      <td>0.188976</td>\n",
       "      <td>-0.168921</td>\n",
       "      <td>127</td>\n",
       "    </tr>\n",
       "  </tbody>\n",
       "</table>\n",
       "</div>"
      ],
      "text/plain": [
       "   size  similarity  acc_base_in  acc_base_out  acc_trained_in  \\\n",
       "1     2    0.298697     0.670000      0.646022        0.940000   \n",
       "2     4    0.345680     0.622500      0.646165        0.956989   \n",
       "3     8    0.473047     0.658750      0.645968        0.945736   \n",
       "4    16    0.441069     0.657500      0.645884        0.886889   \n",
       "5    32    0.440449     0.658438      0.645661        0.847413   \n",
       "\n",
       "   acc_trained_out  acc_change_in  acc_change_out  num_epochs  \n",
       "1         0.589368       0.270000       -0.056654         300  \n",
       "2         0.455257       0.334489       -0.190908         300  \n",
       "3         0.461182       0.286986       -0.184786         300  \n",
       "4         0.425643       0.229389       -0.220242         197  \n",
       "5         0.476740       0.188976       -0.168921         127  "
      ]
     },
     "execution_count": 15,
     "metadata": {},
     "output_type": "execute_result"
    }
   ],
   "source": [
    "df_size_v7 = category_set_summary(type_category_set='size', version_wnids=5, version_weights=7).iloc[1:]\n",
    "df_size_v7.head()"
   ]
  },
  {
   "cell_type": "code",
   "execution_count": 16,
   "metadata": {},
   "outputs": [
    {
     "data": {
      "image/png": "[encoded data removed]",
      "text/plain": [
       "<Figure size 792x288 with 2 Axes>"
      ]
     },
     "metadata": {
      "needs_background": "light"
     },
     "output_type": "display_data"
    }
   ],
   "source": [
    "fig, ax = plt.subplots(1, 2, sharey=True, figsize=(11, 4))\n",
    "\n",
    "x = list(df_size_v6['size'])\n",
    "\n",
    "scatter_line(ax[0], x, df_size_v6['acc_change_in'], styles['in'])\n",
    "scatter_line(ax[0], x, df_size_v6['acc_change_out'], styles['out'])\n",
    "scatter_line(ax[1], x, df_size_v7['acc_change_in'], styles['in'])\n",
    "scatter_line(ax[1], x, df_size_v7['acc_change_out'], styles['out'])\n",
    "\n",
    "ax[0].set_ylabel('Accuracy change')\n",
    "ax[0].legend(title='Source of test examples')\n",
    "ax[1].legend(title='Source of test examples')\n",
    "ax[0].axhline(y=0, color='k', linestyle='--', linewidth=0.8)\n",
    "ax[1].axhline(y=0, color='k', linestyle='--', linewidth=0.8)\n",
    "\n",
    "for a in ax:\n",
    "    a.set_xlabel('Size')\n",
    "    \n",
    "plt.tight_layout()\n",
    "# plt.savefig('size_acc.pdf')\n",
    "plt.show()"
   ]
  },
  {
   "cell_type": "markdown",
   "metadata": {},
   "source": [
    "### Similarity-based category sets"
   ]
  },
  {
   "cell_type": "code",
   "execution_count": 17,
   "metadata": {},
   "outputs": [
    {
     "data": {
      "text/html": [
       "<div>\n",
       "<style scoped>\n",
       "    .dataframe tbody tr th:only-of-type {\n",
       "        vertical-align: middle;\n",
       "    }\n",
       "\n",
       "    .dataframe tbody tr th {\n",
       "        vertical-align: top;\n",
       "    }\n",
       "\n",
       "    .dataframe thead th {\n",
       "        text-align: right;\n",
       "    }\n",
       "</style>\n",
       "<table border=\"1\" class=\"dataframe\">\n",
       "  <thead>\n",
       "    <tr style=\"text-align: right;\">\n",
       "      <th></th>\n",
       "      <th>size</th>\n",
       "      <th>similarity</th>\n",
       "      <th>acc_base_in</th>\n",
       "      <th>acc_base_out</th>\n",
       "      <th>acc_trained_in</th>\n",
       "      <th>acc_trained_out</th>\n",
       "      <th>acc_change_in</th>\n",
       "      <th>acc_change_out</th>\n",
       "      <th>num_epochs</th>\n",
       "    </tr>\n",
       "  </thead>\n",
       "  <tbody>\n",
       "    <tr>\n",
       "      <th>0</th>\n",
       "      <td>50</td>\n",
       "      <td>0.716746</td>\n",
       "      <td>0.6000</td>\n",
       "      <td>0.648495</td>\n",
       "      <td>0.760448</td>\n",
       "      <td>0.525034</td>\n",
       "      <td>0.160448</td>\n",
       "      <td>-0.123460</td>\n",
       "      <td>89</td>\n",
       "    </tr>\n",
       "    <tr>\n",
       "      <th>1</th>\n",
       "      <td>50</td>\n",
       "      <td>0.512130</td>\n",
       "      <td>0.6112</td>\n",
       "      <td>0.647905</td>\n",
       "      <td>0.802811</td>\n",
       "      <td>0.507715</td>\n",
       "      <td>0.191611</td>\n",
       "      <td>-0.140190</td>\n",
       "      <td>93</td>\n",
       "    </tr>\n",
       "    <tr>\n",
       "      <th>2</th>\n",
       "      <td>50</td>\n",
       "      <td>0.453881</td>\n",
       "      <td>0.6492</td>\n",
       "      <td>0.645905</td>\n",
       "      <td>0.802083</td>\n",
       "      <td>0.536498</td>\n",
       "      <td>0.152883</td>\n",
       "      <td>-0.109407</td>\n",
       "      <td>90</td>\n",
       "    </tr>\n",
       "    <tr>\n",
       "      <th>3</th>\n",
       "      <td>50</td>\n",
       "      <td>0.427748</td>\n",
       "      <td>0.6744</td>\n",
       "      <td>0.644579</td>\n",
       "      <td>0.832715</td>\n",
       "      <td>0.516972</td>\n",
       "      <td>0.158315</td>\n",
       "      <td>-0.127607</td>\n",
       "      <td>93</td>\n",
       "    </tr>\n",
       "    <tr>\n",
       "      <th>4</th>\n",
       "      <td>50</td>\n",
       "      <td>0.671111</td>\n",
       "      <td>0.6872</td>\n",
       "      <td>0.643905</td>\n",
       "      <td>0.800494</td>\n",
       "      <td>0.524112</td>\n",
       "      <td>0.113294</td>\n",
       "      <td>-0.119793</td>\n",
       "      <td>94</td>\n",
       "    </tr>\n",
       "  </tbody>\n",
       "</table>\n",
       "</div>"
      ],
      "text/plain": [
       "   size  similarity  acc_base_in  acc_base_out  acc_trained_in  \\\n",
       "0    50    0.716746       0.6000      0.648495        0.760448   \n",
       "1    50    0.512130       0.6112      0.647905        0.802811   \n",
       "2    50    0.453881       0.6492      0.645905        0.802083   \n",
       "3    50    0.427748       0.6744      0.644579        0.832715   \n",
       "4    50    0.671111       0.6872      0.643905        0.800494   \n",
       "\n",
       "   acc_trained_out  acc_change_in  acc_change_out  num_epochs  \n",
       "0         0.525034       0.160448       -0.123460          89  \n",
       "1         0.507715       0.191611       -0.140190          93  \n",
       "2         0.536498       0.152883       -0.109407          90  \n",
       "3         0.516972       0.158315       -0.127607          93  \n",
       "4         0.524112       0.113294       -0.119793          94  "
      ]
     },
     "execution_count": 17,
     "metadata": {},
     "output_type": "execute_result"
    }
   ],
   "source": [
    "df_sim_v3 = category_set_summary(type_category_set='sim', version_wnids=3, version_weights=3)\n",
    "df_sim_v3.head()"
   ]
  },
  {
   "cell_type": "code",
   "execution_count": 18,
   "metadata": {},
   "outputs": [
    {
     "data": {
      "text/html": [
       "<div>\n",
       "<style scoped>\n",
       "    .dataframe tbody tr th:only-of-type {\n",
       "        vertical-align: middle;\n",
       "    }\n",
       "\n",
       "    .dataframe tbody tr th {\n",
       "        vertical-align: top;\n",
       "    }\n",
       "\n",
       "    .dataframe thead th {\n",
       "        text-align: right;\n",
       "    }\n",
       "</style>\n",
       "<table border=\"1\" class=\"dataframe\">\n",
       "  <thead>\n",
       "    <tr style=\"text-align: right;\">\n",
       "      <th></th>\n",
       "      <th>size</th>\n",
       "      <th>similarity</th>\n",
       "      <th>acc_base_in</th>\n",
       "      <th>acc_base_out</th>\n",
       "      <th>acc_trained_in</th>\n",
       "      <th>acc_trained_out</th>\n",
       "      <th>acc_change_in</th>\n",
       "      <th>acc_change_out</th>\n",
       "      <th>num_epochs</th>\n",
       "    </tr>\n",
       "  </thead>\n",
       "  <tbody>\n",
       "    <tr>\n",
       "      <th>0</th>\n",
       "      <td>50</td>\n",
       "      <td>0.719259</td>\n",
       "      <td>0.5840</td>\n",
       "      <td>0.649337</td>\n",
       "      <td>0.745228</td>\n",
       "      <td>0.510016</td>\n",
       "      <td>0.161228</td>\n",
       "      <td>-0.139321</td>\n",
       "      <td>88</td>\n",
       "    </tr>\n",
       "    <tr>\n",
       "      <th>1</th>\n",
       "      <td>50</td>\n",
       "      <td>0.568134</td>\n",
       "      <td>0.6642</td>\n",
       "      <td>0.645116</td>\n",
       "      <td>0.814936</td>\n",
       "      <td>0.521299</td>\n",
       "      <td>0.150736</td>\n",
       "      <td>-0.123817</td>\n",
       "      <td>94</td>\n",
       "    </tr>\n",
       "    <tr>\n",
       "      <th>2</th>\n",
       "      <td>50</td>\n",
       "      <td>0.489926</td>\n",
       "      <td>0.6620</td>\n",
       "      <td>0.645232</td>\n",
       "      <td>0.817018</td>\n",
       "      <td>0.512321</td>\n",
       "      <td>0.155018</td>\n",
       "      <td>-0.132911</td>\n",
       "      <td>99</td>\n",
       "    </tr>\n",
       "    <tr>\n",
       "      <th>3</th>\n",
       "      <td>50</td>\n",
       "      <td>0.425019</td>\n",
       "      <td>0.6496</td>\n",
       "      <td>0.645884</td>\n",
       "      <td>0.796205</td>\n",
       "      <td>0.519950</td>\n",
       "      <td>0.146605</td>\n",
       "      <td>-0.125934</td>\n",
       "      <td>98</td>\n",
       "    </tr>\n",
       "    <tr>\n",
       "      <th>4</th>\n",
       "      <td>50</td>\n",
       "      <td>0.811888</td>\n",
       "      <td>0.7142</td>\n",
       "      <td>0.642484</td>\n",
       "      <td>0.778363</td>\n",
       "      <td>0.572821</td>\n",
       "      <td>0.064163</td>\n",
       "      <td>-0.069664</td>\n",
       "      <td>74</td>\n",
       "    </tr>\n",
       "  </tbody>\n",
       "</table>\n",
       "</div>"
      ],
      "text/plain": [
       "   size  similarity  acc_base_in  acc_base_out  acc_trained_in  \\\n",
       "0    50    0.719259       0.5840      0.649337        0.745228   \n",
       "1    50    0.568134       0.6642      0.645116        0.814936   \n",
       "2    50    0.489926       0.6620      0.645232        0.817018   \n",
       "3    50    0.425019       0.6496      0.645884        0.796205   \n",
       "4    50    0.811888       0.7142      0.642484        0.778363   \n",
       "\n",
       "   acc_trained_out  acc_change_in  acc_change_out  num_epochs  \n",
       "0         0.510016       0.161228       -0.139321          88  \n",
       "1         0.521299       0.150736       -0.123817          94  \n",
       "2         0.512321       0.155018       -0.132911          99  \n",
       "3         0.519950       0.146605       -0.125934          98  \n",
       "4         0.572821       0.064163       -0.069664          74  "
      ]
     },
     "execution_count": 18,
     "metadata": {},
     "output_type": "execute_result"
    }
   ],
   "source": [
    "df_sim_v4 = category_set_summary(type_category_set='sim', version_wnids=4, version_weights=4)\n",
    "df_sim_v4.head()"
   ]
  },
  {
   "cell_type": "code",
   "execution_count": 19,
   "metadata": {},
   "outputs": [
    {
     "data": {
      "image/png": "[encoded data removed]",
      "text/plain": [
       "<Figure size 792x288 with 2 Axes>"
      ]
     },
     "metadata": {
      "needs_background": "light"
     },
     "output_type": "display_data"
    }
   ],
   "source": [
    "fig, ax = plt.subplots(1, 2, sharex=True, sharey=True, figsize=(11, 4))\n",
    "\n",
    "x3 = list(df_sim_v3['similarity'])\n",
    "x4 = list(df_sim_v4['similarity'])\n",
    "\n",
    "scatter_line(ax[0], x3, df_sim_v3['acc_change_in'], styles['in'])\n",
    "scatter_line(ax[0], x3, df_sim_v3['acc_change_out'], styles['out'])\n",
    "scatter_line(ax[1], x4, df_sim_v4['acc_change_in'], styles['in'])\n",
    "scatter_line(ax[1], x4, df_sim_v4['acc_change_out'], styles['out'])\n",
    "\n",
    "ax[0].set_ylabel('Accuracy change')\n",
    "ax[0].legend(title='Source of test examples')\n",
    "ax[1].legend(title='Source of test examples')\n",
    "ax[0].axhline(y=0, color='k', linestyle='--', linewidth=0.8)\n",
    "ax[1].axhline(y=0, color='k', linestyle='--', linewidth=0.8)\n",
    "\n",
    "for a in ax:\n",
    "    a.set_xlabel('Similarity')\n",
    "    a.set_ylim(top=0.3)\n",
    "    \n",
    "plt.tight_layout()\n",
    "# plt.savefig('sim_acc.pdf')\n",
    "plt.show()"
   ]
  },
  {
   "cell_type": "markdown",
   "metadata": {},
   "source": [
    "### Regression"
   ]
  },
  {
   "cell_type": "code",
   "execution_count": 20,
   "metadata": {},
   "outputs": [],
   "source": [
    "df_size = pd.concat((df_size_v6, df_size_v7), axis=0)\n",
    "df_sim = pd.concat((df_sim_v3, df_sim_v4), axis=0)"
   ]
  },
  {
   "cell_type": "code",
   "execution_count": 21,
   "metadata": {},
   "outputs": [],
   "source": [
    "import statsmodels.api as sm\n",
    "from sklearn.linear_model import LinearRegression\n",
    "\n",
    "def regression(x, y):\n",
    "    x0 = np.array(x)[:, None]\n",
    "    x1 = sm.add_constant(x0)\n",
    "    y = np.array(y)[:, None]\n",
    "    lr_skl = LinearRegression().fit(x0, y)\n",
    "    lr_sm = sm.OLS(y, x1).fit()\n",
    "    \n",
    "    print('SKL: beta0, beta1, R2')\n",
    "    print([round(a, 4) for a in [lr_skl.intercept_[0], lr_skl.coef_[0][0], lr_skl.score(x0, y)]])\n",
    "\n",
    "    print('SM: beta0, beta1, R2')\n",
    "    print([round(a, 4) for a in lr_sm.params], round(lr_sm.rsquared, 4))\n",
    "    \n",
    "    print('SM: p0, p1')\n",
    "    print([f'{a:.5f}' for a in lr_sm.pvalues])\n",
    "    \n",
    "    return lr_sm\n",
    "\n",
    "def plot_regression(ax, x, ytrue, model):\n",
    "    xminmax = [min(x), max(x)]\n",
    "    ypred = model.predict(sm.add_constant(xminmax)[:, None])\n",
    "    ax.scatter(x, ytrue, color=colors[0])\n",
    "    ax.plot(xminmax, ypred, '-', color=colors[1], label='least-squares')\n",
    "    return ax"
   ]
  },
  {
   "cell_type": "code",
   "execution_count": 22,
   "metadata": {},
   "outputs": [
    {
     "name": "stdout",
     "output_type": "stream",
     "text": [
      "SKL: beta0, beta1, R2\n",
      "[0.0374, 0.3025, 0.9143]\n",
      "SM: beta0, beta1, R2\n",
      "[0.0374, 0.3025] 0.9143\n",
      "SM: p0, p1\n",
      "['0.00037', '0.00000']\n"
     ]
    },
    {
     "data": {
      "text/html": [
       "<table class=\"simpletable\">\n",
       "<caption>OLS Regression Results</caption>\n",
       "<tr>\n",
       "  <th>Dep. Variable:</th>            <td>y</td>        <th>  R-squared:         </th> <td>   0.914</td>\n",
       "</tr>\n",
       "<tr>\n",
       "  <th>Model:</th>                   <td>OLS</td>       <th>  Adj. R-squared:    </th> <td>   0.911</td>\n",
       "</tr>\n",
       "<tr>\n",
       "  <th>Method:</th>             <td>Least Squares</td>  <th>  F-statistic:       </th> <td>   245.5</td>\n",
       "</tr>\n",
       "<tr>\n",
       "  <th>Date:</th>             <td>Tue, 07 Apr 2020</td> <th>  Prob (F-statistic):</th> <td>9.16e-14</td>\n",
       "</tr>\n",
       "<tr>\n",
       "  <th>Time:</th>                 <td>17:27:52</td>     <th>  Log-Likelihood:    </th> <td>  63.469</td>\n",
       "</tr>\n",
       "<tr>\n",
       "  <th>No. Observations:</th>      <td>    25</td>      <th>  AIC:               </th> <td>  -122.9</td>\n",
       "</tr>\n",
       "<tr>\n",
       "  <th>Df Residuals:</th>          <td>    23</td>      <th>  BIC:               </th> <td>  -120.5</td>\n",
       "</tr>\n",
       "<tr>\n",
       "  <th>Df Model:</th>              <td>     1</td>      <th>                     </th>     <td> </td>   \n",
       "</tr>\n",
       "<tr>\n",
       "  <th>Covariance Type:</th>      <td>nonrobust</td>    <th>                     </th>     <td> </td>   \n",
       "</tr>\n",
       "</table>\n",
       "<table class=\"simpletable\">\n",
       "<tr>\n",
       "    <td></td>       <th>coef</th>     <th>std err</th>      <th>t</th>      <th>P>|t|</th>  <th>[0.025</th>    <th>0.975]</th>  \n",
       "</tr>\n",
       "<tr>\n",
       "  <th>const</th> <td>    0.0374</td> <td>    0.009</td> <td>    4.169</td> <td> 0.000</td> <td>    0.019</td> <td>    0.056</td>\n",
       "</tr>\n",
       "<tr>\n",
       "  <th>x1</th>    <td>    0.3025</td> <td>    0.019</td> <td>   15.668</td> <td> 0.000</td> <td>    0.263</td> <td>    0.342</td>\n",
       "</tr>\n",
       "</table>\n",
       "<table class=\"simpletable\">\n",
       "<tr>\n",
       "  <th>Omnibus:</th>       <td> 0.387</td> <th>  Durbin-Watson:     </th> <td>   0.940</td>\n",
       "</tr>\n",
       "<tr>\n",
       "  <th>Prob(Omnibus):</th> <td> 0.824</td> <th>  Jarque-Bera (JB):  </th> <td>   0.524</td>\n",
       "</tr>\n",
       "<tr>\n",
       "  <th>Skew:</th>          <td>-0.024</td> <th>  Prob(JB):          </th> <td>   0.770</td>\n",
       "</tr>\n",
       "<tr>\n",
       "  <th>Kurtosis:</th>      <td> 2.293</td> <th>  Cond. No.          </th> <td>    5.72</td>\n",
       "</tr>\n",
       "</table><br/><br/>Warnings:<br/>[1] Standard Errors assume that the covariance matrix of the errors is correctly specified."
      ],
      "text/plain": [
       "<class 'statsmodels.iolib.summary.Summary'>\n",
       "\"\"\"\n",
       "                            OLS Regression Results                            \n",
       "==============================================================================\n",
       "Dep. Variable:                      y   R-squared:                       0.914\n",
       "Model:                            OLS   Adj. R-squared:                  0.911\n",
       "Method:                 Least Squares   F-statistic:                     245.5\n",
       "Date:                Tue, 07 Apr 2020   Prob (F-statistic):           9.16e-14\n",
       "Time:                        17:27:52   Log-Likelihood:                 63.469\n",
       "No. Observations:                  25   AIC:                            -122.9\n",
       "Df Residuals:                      23   BIC:                            -120.5\n",
       "Df Model:                           1                                         \n",
       "Covariance Type:            nonrobust                                         \n",
       "==============================================================================\n",
       "                 coef    std err          t      P>|t|      [0.025      0.975]\n",
       "------------------------------------------------------------------------------\n",
       "const          0.0374      0.009      4.169      0.000       0.019       0.056\n",
       "x1             0.3025      0.019     15.668      0.000       0.263       0.342\n",
       "==============================================================================\n",
       "Omnibus:                        0.387   Durbin-Watson:                   0.940\n",
       "Prob(Omnibus):                  0.824   Jarque-Bera (JB):                0.524\n",
       "Skew:                          -0.024   Prob(JB):                        0.770\n",
       "Kurtosis:                       2.293   Cond. No.                         5.72\n",
       "==============================================================================\n",
       "\n",
       "Warnings:\n",
       "[1] Standard Errors assume that the covariance matrix of the errors is correctly specified.\n",
       "\"\"\""
      ]
     },
     "execution_count": 22,
     "metadata": {},
     "output_type": "execute_result"
    }
   ],
   "source": [
    "lr_diff = regression(\n",
    "    x=1-df_diff['acc_base_in'],\n",
    "    y=df_diff['acc_change_in'])\n",
    "lr_diff.summary()"
   ]
  },
  {
   "cell_type": "code",
   "execution_count": 23,
   "metadata": {},
   "outputs": [
    {
     "name": "stdout",
     "output_type": "stream",
     "text": [
      "SKL: beta0, beta1, R2\n",
      "[0.3938, -0.0427, 0.936]\n",
      "SM: beta0, beta1, R2\n",
      "[0.3938, -0.0427] 0.936\n",
      "SM: p0, p1\n",
      "['0.00000', '0.00000']\n"
     ]
    },
    {
     "data": {
      "text/html": [
       "<table class=\"simpletable\">\n",
       "<caption>OLS Regression Results</caption>\n",
       "<tr>\n",
       "  <th>Dep. Variable:</th>            <td>y</td>        <th>  R-squared:         </th> <td>   0.936</td>\n",
       "</tr>\n",
       "<tr>\n",
       "  <th>Model:</th>                   <td>OLS</td>       <th>  Adj. R-squared:    </th> <td>   0.932</td>\n",
       "</tr>\n",
       "<tr>\n",
       "  <th>Method:</th>             <td>Least Squares</td>  <th>  F-statistic:       </th> <td>   263.2</td>\n",
       "</tr>\n",
       "<tr>\n",
       "  <th>Date:</th>             <td>Tue, 07 Apr 2020</td> <th>  Prob (F-statistic):</th> <td>3.45e-12</td>\n",
       "</tr>\n",
       "<tr>\n",
       "  <th>Time:</th>                 <td>17:27:52</td>     <th>  Log-Likelihood:    </th> <td>  44.789</td>\n",
       "</tr>\n",
       "<tr>\n",
       "  <th>No. Observations:</th>      <td>    20</td>      <th>  AIC:               </th> <td>  -85.58</td>\n",
       "</tr>\n",
       "<tr>\n",
       "  <th>Df Residuals:</th>          <td>    18</td>      <th>  BIC:               </th> <td>  -83.59</td>\n",
       "</tr>\n",
       "<tr>\n",
       "  <th>Df Model:</th>              <td>     1</td>      <th>                     </th>     <td> </td>   \n",
       "</tr>\n",
       "<tr>\n",
       "  <th>Covariance Type:</th>      <td>nonrobust</td>    <th>                     </th>     <td> </td>   \n",
       "</tr>\n",
       "</table>\n",
       "<table class=\"simpletable\">\n",
       "<tr>\n",
       "    <td></td>       <th>coef</th>     <th>std err</th>      <th>t</th>      <th>P>|t|</th>  <th>[0.025</th>    <th>0.975]</th>  \n",
       "</tr>\n",
       "<tr>\n",
       "  <th>const</th> <td>    0.3938</td> <td>    0.015</td> <td>   27.077</td> <td> 0.000</td> <td>    0.363</td> <td>    0.424</td>\n",
       "</tr>\n",
       "<tr>\n",
       "  <th>x1</th>    <td>   -0.0427</td> <td>    0.003</td> <td>  -16.224</td> <td> 0.000</td> <td>   -0.048</td> <td>   -0.037</td>\n",
       "</tr>\n",
       "</table>\n",
       "<table class=\"simpletable\">\n",
       "<tr>\n",
       "  <th>Omnibus:</th>       <td>12.215</td> <th>  Durbin-Watson:     </th> <td>   1.897</td>\n",
       "</tr>\n",
       "<tr>\n",
       "  <th>Prob(Omnibus):</th> <td> 0.002</td> <th>  Jarque-Bera (JB):  </th> <td>  10.980</td>\n",
       "</tr>\n",
       "<tr>\n",
       "  <th>Skew:</th>          <td>-1.224</td> <th>  Prob(JB):          </th> <td> 0.00413</td>\n",
       "</tr>\n",
       "<tr>\n",
       "  <th>Kurtosis:</th>      <td> 5.680</td> <th>  Cond. No.          </th> <td>    13.6</td>\n",
       "</tr>\n",
       "</table><br/><br/>Warnings:<br/>[1] Standard Errors assume that the covariance matrix of the errors is correctly specified."
      ],
      "text/plain": [
       "<class 'statsmodels.iolib.summary.Summary'>\n",
       "\"\"\"\n",
       "                            OLS Regression Results                            \n",
       "==============================================================================\n",
       "Dep. Variable:                      y   R-squared:                       0.936\n",
       "Model:                            OLS   Adj. R-squared:                  0.932\n",
       "Method:                 Least Squares   F-statistic:                     263.2\n",
       "Date:                Tue, 07 Apr 2020   Prob (F-statistic):           3.45e-12\n",
       "Time:                        17:27:52   Log-Likelihood:                 44.789\n",
       "No. Observations:                  20   AIC:                            -85.58\n",
       "Df Residuals:                      18   BIC:                            -83.59\n",
       "Df Model:                           1                                         \n",
       "Covariance Type:            nonrobust                                         \n",
       "==============================================================================\n",
       "                 coef    std err          t      P>|t|      [0.025      0.975]\n",
       "------------------------------------------------------------------------------\n",
       "const          0.3938      0.015     27.077      0.000       0.363       0.424\n",
       "x1            -0.0427      0.003    -16.224      0.000      -0.048      -0.037\n",
       "==============================================================================\n",
       "Omnibus:                       12.215   Durbin-Watson:                   1.897\n",
       "Prob(Omnibus):                  0.002   Jarque-Bera (JB):               10.980\n",
       "Skew:                          -1.224   Prob(JB):                      0.00413\n",
       "Kurtosis:                       5.680   Cond. No.                         13.6\n",
       "==============================================================================\n",
       "\n",
       "Warnings:\n",
       "[1] Standard Errors assume that the covariance matrix of the errors is correctly specified.\n",
       "\"\"\""
      ]
     },
     "execution_count": 23,
     "metadata": {},
     "output_type": "execute_result"
    }
   ],
   "source": [
    "lr_size = regression(\n",
    "    x=np.log2(df_size['size']),\n",
    "    y=df_size['acc_change_in'])\n",
    "lr_size.summary()"
   ]
  },
  {
   "cell_type": "code",
   "execution_count": 24,
   "metadata": {
    "scrolled": false
   },
   "outputs": [
    {
     "name": "stdout",
     "output_type": "stream",
     "text": [
      "SKL: beta0, beta1, R2\n",
      "[0.2087, -0.1118, 0.3641]\n",
      "SM: beta0, beta1, R2\n",
      "[0.2087, -0.1118] 0.3641\n",
      "SM: p0, p1\n",
      "['0.00000', '0.00004']\n"
     ]
    },
    {
     "data": {
      "text/html": [
       "<table class=\"simpletable\">\n",
       "<caption>OLS Regression Results</caption>\n",
       "<tr>\n",
       "  <th>Dep. Variable:</th>            <td>y</td>        <th>  R-squared:         </th> <td>   0.364</td>\n",
       "</tr>\n",
       "<tr>\n",
       "  <th>Model:</th>                   <td>OLS</td>       <th>  Adj. R-squared:    </th> <td>   0.347</td>\n",
       "</tr>\n",
       "<tr>\n",
       "  <th>Method:</th>             <td>Least Squares</td>  <th>  F-statistic:       </th> <td>   21.76</td>\n",
       "</tr>\n",
       "<tr>\n",
       "  <th>Date:</th>             <td>Tue, 07 Apr 2020</td> <th>  Prob (F-statistic):</th> <td>3.76e-05</td>\n",
       "</tr>\n",
       "<tr>\n",
       "  <th>Time:</th>                 <td>17:27:52</td>     <th>  Log-Likelihood:    </th> <td>  99.612</td>\n",
       "</tr>\n",
       "<tr>\n",
       "  <th>No. Observations:</th>      <td>    40</td>      <th>  AIC:               </th> <td>  -195.2</td>\n",
       "</tr>\n",
       "<tr>\n",
       "  <th>Df Residuals:</th>          <td>    38</td>      <th>  BIC:               </th> <td>  -191.8</td>\n",
       "</tr>\n",
       "<tr>\n",
       "  <th>Df Model:</th>              <td>     1</td>      <th>                     </th>     <td> </td>   \n",
       "</tr>\n",
       "<tr>\n",
       "  <th>Covariance Type:</th>      <td>nonrobust</td>    <th>                     </th>     <td> </td>   \n",
       "</tr>\n",
       "</table>\n",
       "<table class=\"simpletable\">\n",
       "<tr>\n",
       "    <td></td>       <th>coef</th>     <th>std err</th>      <th>t</th>      <th>P>|t|</th>  <th>[0.025</th>    <th>0.975]</th>  \n",
       "</tr>\n",
       "<tr>\n",
       "  <th>const</th> <td>    0.2087</td> <td>    0.014</td> <td>   15.242</td> <td> 0.000</td> <td>    0.181</td> <td>    0.236</td>\n",
       "</tr>\n",
       "<tr>\n",
       "  <th>x1</th>    <td>   -0.1118</td> <td>    0.024</td> <td>   -4.665</td> <td> 0.000</td> <td>   -0.160</td> <td>   -0.063</td>\n",
       "</tr>\n",
       "</table>\n",
       "<table class=\"simpletable\">\n",
       "<tr>\n",
       "  <th>Omnibus:</th>       <td> 0.934</td> <th>  Durbin-Watson:     </th> <td>   1.409</td>\n",
       "</tr>\n",
       "<tr>\n",
       "  <th>Prob(Omnibus):</th> <td> 0.627</td> <th>  Jarque-Bera (JB):  </th> <td>   0.267</td>\n",
       "</tr>\n",
       "<tr>\n",
       "  <th>Skew:</th>          <td>-0.114</td> <th>  Prob(JB):          </th> <td>   0.875</td>\n",
       "</tr>\n",
       "<tr>\n",
       "  <th>Kurtosis:</th>      <td> 3.329</td> <th>  Cond. No.          </th> <td>    9.67</td>\n",
       "</tr>\n",
       "</table><br/><br/>Warnings:<br/>[1] Standard Errors assume that the covariance matrix of the errors is correctly specified."
      ],
      "text/plain": [
       "<class 'statsmodels.iolib.summary.Summary'>\n",
       "\"\"\"\n",
       "                            OLS Regression Results                            \n",
       "==============================================================================\n",
       "Dep. Variable:                      y   R-squared:                       0.364\n",
       "Model:                            OLS   Adj. R-squared:                  0.347\n",
       "Method:                 Least Squares   F-statistic:                     21.76\n",
       "Date:                Tue, 07 Apr 2020   Prob (F-statistic):           3.76e-05\n",
       "Time:                        17:27:52   Log-Likelihood:                 99.612\n",
       "No. Observations:                  40   AIC:                            -195.2\n",
       "Df Residuals:                      38   BIC:                            -191.8\n",
       "Df Model:                           1                                         \n",
       "Covariance Type:            nonrobust                                         \n",
       "==============================================================================\n",
       "                 coef    std err          t      P>|t|      [0.025      0.975]\n",
       "------------------------------------------------------------------------------\n",
       "const          0.2087      0.014     15.242      0.000       0.181       0.236\n",
       "x1            -0.1118      0.024     -4.665      0.000      -0.160      -0.063\n",
       "==============================================================================\n",
       "Omnibus:                        0.934   Durbin-Watson:                   1.409\n",
       "Prob(Omnibus):                  0.627   Jarque-Bera (JB):                0.267\n",
       "Skew:                          -0.114   Prob(JB):                        0.875\n",
       "Kurtosis:                       3.329   Cond. No.                         9.67\n",
       "==============================================================================\n",
       "\n",
       "Warnings:\n",
       "[1] Standard Errors assume that the covariance matrix of the errors is correctly specified.\n",
       "\"\"\""
      ]
     },
     "execution_count": 24,
     "metadata": {},
     "output_type": "execute_result"
    }
   ],
   "source": [
    "lr_sim = regression(\n",
    "    x=df_sim['similarity'],\n",
    "    y=df_sim['acc_change_in'])\n",
    "lr_sim.summary()"
   ]
  },
  {
   "cell_type": "code",
   "execution_count": 25,
   "metadata": {},
   "outputs": [
    {
     "data": {
      "image/png": "[encoded data removed]",
      "text/plain": [
       "<Figure size 720x216 with 3 Axes>"
      ]
     },
     "metadata": {
      "needs_background": "light"
     },
     "output_type": "display_data"
    }
   ],
   "source": [
    "fig, ax = plt.subplots(1, 3, sharey=True, figsize=(10, 3))\n",
    "\n",
    "ax[0] = plot_regression(\n",
    "    ax[0],\n",
    "    x=list(1-df_diff['acc_base_in']),\n",
    "    ytrue=df_diff['acc_change_in'],\n",
    "    model=lr_diff)\n",
    "ax[0].set_xlabel('Difficulty')\n",
    "ax[0].set_ylabel('Accuracy change')\n",
    "\n",
    "ax[1] = plot_regression(\n",
    "    ax[1],\n",
    "    x=np.log2(df_size['size']),\n",
    "    ytrue=df_size['acc_change_in'],\n",
    "    model=lr_size)\n",
    "ax[1].set_xlabel('Size (log scale)')\n",
    "\n",
    "ax[2] = plot_regression(\n",
    "    ax[2],\n",
    "    x=df_sim['similarity'],\n",
    "    ytrue=df_sim['acc_change_in'],\n",
    "    model=lr_sim)\n",
    "ax[2].set_xlabel('Similarity')\n",
    "\n",
    "plt.tight_layout()\n",
    "# plt.savefig('regression.pdf')\n",
    "plt.show()"
   ]
  },
  {
   "cell_type": "code",
   "execution_count": 26,
   "metadata": {},
   "outputs": [
    {
     "data": {
      "text/plain": [
       "(25, 20, 40)"
      ]
     },
     "execution_count": 26,
     "metadata": {},
     "output_type": "execute_result"
    }
   ],
   "source": [
    "len(df_diff), len(df_size), len(df_sim)"
   ]
  },
  {
   "cell_type": "markdown",
   "metadata": {},
   "source": [
    "### Rank correlation coefficients"
   ]
  },
  {
   "cell_type": "code",
   "execution_count": 27,
   "metadata": {},
   "outputs": [],
   "source": [
    "from scipy.stats import spearmanr, kendalltau"
   ]
  },
  {
   "cell_type": "code",
   "execution_count": 28,
   "metadata": {},
   "outputs": [
    {
     "data": {
      "text/html": [
       "<div>\n",
       "<style scoped>\n",
       "    .dataframe tbody tr th:only-of-type {\n",
       "        vertical-align: middle;\n",
       "    }\n",
       "\n",
       "    .dataframe tbody tr th {\n",
       "        vertical-align: top;\n",
       "    }\n",
       "\n",
       "    .dataframe thead th {\n",
       "        text-align: right;\n",
       "    }\n",
       "</style>\n",
       "<table border=\"1\" class=\"dataframe\">\n",
       "  <thead>\n",
       "    <tr style=\"text-align: right;\">\n",
       "      <th></th>\n",
       "      <th>property</th>\n",
       "      <th>rho_spearman</th>\n",
       "      <th>pval_spearman</th>\n",
       "      <th>tau_kendall</th>\n",
       "      <th>pval_kendall</th>\n",
       "    </tr>\n",
       "  </thead>\n",
       "  <tbody>\n",
       "    <tr>\n",
       "      <th>0</th>\n",
       "      <td>difficulty</td>\n",
       "      <td>0.657</td>\n",
       "      <td>0.156</td>\n",
       "      <td>0.6</td>\n",
       "      <td>0.136</td>\n",
       "    </tr>\n",
       "    <tr>\n",
       "      <th>1</th>\n",
       "      <td>size</td>\n",
       "      <td>-0.714</td>\n",
       "      <td>0.111</td>\n",
       "      <td>-0.6</td>\n",
       "      <td>0.136</td>\n",
       "    </tr>\n",
       "    <tr>\n",
       "      <th>2</th>\n",
       "      <td>similarity</td>\n",
       "      <td>-0.314</td>\n",
       "      <td>0.544</td>\n",
       "      <td>-0.2</td>\n",
       "      <td>0.719</td>\n",
       "    </tr>\n",
       "  </tbody>\n",
       "</table>\n",
       "</div>"
      ],
      "text/plain": [
       "     property  rho_spearman  pval_spearman  tau_kendall  pval_kendall\n",
       "0  difficulty         0.657          0.156          0.6         0.136\n",
       "1        size        -0.714          0.111         -0.6         0.136\n",
       "2  similarity        -0.314          0.544         -0.2         0.719"
      ]
     },
     "execution_count": 28,
     "metadata": {},
     "output_type": "execute_result"
    }
   ],
   "source": [
    "x = [1-df_sem['acc_base_in'], df_sem['size'], df_sem['similarity']]\n",
    "y = df_sem['acc_change_in']\n",
    "df_corr = pd.DataFrame({\n",
    "    'property': ['difficulty', 'size', 'similarity'],\n",
    "    'rho_spearman': [spearmanr(x_i, y).correlation for x_i in x],\n",
    "    'pval_spearman': [spearmanr(x_i, y).pvalue for x_i in x],\n",
    "    'tau_kendall': [kendalltau(x_i, y).correlation for x_i in x],\n",
    "    'pval_kendall': [kendalltau(x_i, y).pvalue for x_i in x]})\n",
    "df_corr.round(decimals=3)"
   ]
  },
  {
   "cell_type": "code",
   "execution_count": 29,
   "metadata": {},
   "outputs": [
    {
     "data": {
      "text/html": [
       "<div>\n",
       "<style scoped>\n",
       "    .dataframe tbody tr th:only-of-type {\n",
       "        vertical-align: middle;\n",
       "    }\n",
       "\n",
       "    .dataframe tbody tr th {\n",
       "        vertical-align: top;\n",
       "    }\n",
       "\n",
       "    .dataframe thead th {\n",
       "        text-align: right;\n",
       "    }\n",
       "</style>\n",
       "<table border=\"1\" class=\"dataframe\">\n",
       "  <thead>\n",
       "    <tr style=\"text-align: right;\">\n",
       "      <th></th>\n",
       "      <th>property</th>\n",
       "      <th>rho_spearman</th>\n",
       "      <th>pval_spearman</th>\n",
       "      <th>tau_kendall</th>\n",
       "      <th>pval_kendall</th>\n",
       "    </tr>\n",
       "  </thead>\n",
       "  <tbody>\n",
       "    <tr>\n",
       "      <th>0</th>\n",
       "      <td>difficulty</td>\n",
       "      <td>0.9546</td>\n",
       "      <td>0.0000</td>\n",
       "      <td>0.8467</td>\n",
       "      <td>0.0000</td>\n",
       "    </tr>\n",
       "    <tr>\n",
       "      <th>1</th>\n",
       "      <td>size</td>\n",
       "      <td>-0.9721</td>\n",
       "      <td>0.0000</td>\n",
       "      <td>-0.9084</td>\n",
       "      <td>0.0000</td>\n",
       "    </tr>\n",
       "    <tr>\n",
       "      <th>2</th>\n",
       "      <td>similarity</td>\n",
       "      <td>-0.5096</td>\n",
       "      <td>0.0008</td>\n",
       "      <td>-0.3692</td>\n",
       "      <td>0.0008</td>\n",
       "    </tr>\n",
       "  </tbody>\n",
       "</table>\n",
       "</div>"
      ],
      "text/plain": [
       "     property  rho_spearman  pval_spearman  tau_kendall  pval_kendall\n",
       "0  difficulty        0.9546         0.0000       0.8467        0.0000\n",
       "1        size       -0.9721         0.0000      -0.9084        0.0000\n",
       "2  similarity       -0.5096         0.0008      -0.3692        0.0008"
      ]
     },
     "execution_count": 29,
     "metadata": {},
     "output_type": "execute_result"
    }
   ],
   "source": [
    "x = [1-df_diff['acc_base_in'], df_size['size'], df_sim['similarity']]\n",
    "y = [df_diff['acc_change_in'], df_size['acc_change_in'], df_sim['acc_change_in']]\n",
    "df_corr = pd.DataFrame({\n",
    "    'property': ['difficulty', 'size', 'similarity'],\n",
    "    'rho_spearman': [spearmanr(x_i, y_i).correlation for (x_i, y_i) in zip(x, y)],\n",
    "    'pval_spearman': [spearmanr(x_i, y_i).pvalue for (x_i, y_i) in zip(x, y)],\n",
    "    'tau_kendall': [kendalltau(x_i, y_i).correlation for (x_i, y_i) in zip(x, y)],\n",
    "    'pval_kendall': [kendalltau(x_i, y_i).pvalue for (x_i, y_i) in zip(x, y)]})\n",
    "df_corr.round(decimals=4)"
   ]
  }
 ],
 "metadata": {
  "kernelspec": {
   "display_name": "Python 3",
   "language": "python",
   "name": "python3"
  },
  "language_info": {
   "codemirror_mode": {
    "name": "ipython",
    "version": 3
   },
   "file_extension": ".py",
   "mimetype": "text/x-python",
   "name": "python",
   "nbconvert_exporter": "python",
   "pygments_lexer": "ipython3",
   "version": "3.7.7"
  }
 },
 "nbformat": 4,
 "nbformat_minor": 2
}
